{
  "cells": [
    {
      "cell_type": "code",
      "execution_count": 1,
      "metadata": {
        "colab": {
          "base_uri": "https://localhost:8080/"
        },
        "collapsed": true,
        "id": "_9_g0w7RnHf3",
        "outputId": "a40eb7c3-fcc5-4ca9-c3d9-a42d88def5a3"
      },
      "outputs": [],
      "source": [
        "# !pip install mlquantify\n",
        "\n",
        "import os\n",
        "import numpy as np\n",
        "import pandas as pd\n",
        "import pdb\n",
        "import statistics"
      ]
    },
    {
      "cell_type": "markdown",
      "metadata": {
        "id": "oPeAxRo7qVnf"
      },
      "source": [
        "### Quantifiers"
      ]
    },
    {
      "cell_type": "code",
      "execution_count": 2,
      "metadata": {
        "id": "3dJ55pwXqXuU"
      },
      "outputs": [],
      "source": [
        "def CC(test, thr=0.5):\n",
        "    result = np.sum(test >= thr) / len(test)\n",
        "    result = max(0, min(result, 1))\n",
        "\n",
        "    return np.array([result, 1 - result], dtype=float)\n",
        "\n",
        "def ACC(test, TprFpr, thr=0.5):\n",
        "    dC = CC(test)  # Implement CC function separately\n",
        "\n",
        "    tpr_fpr_row = TprFpr[TprFpr[:, 0] == thr, 1:3].astype(float)\n",
        "    if tpr_fpr_row.size == 0:\n",
        "        raise ValueError(\"Threshold value not found in TprFpr.\")\n",
        "\n",
        "    tpr, fpr = tpr_fpr_row[0]\n",
        "\n",
        "    result = (dC[0] - fpr) / (tpr - fpr) if (tpr - fpr) != 0 else 0\n",
        "    result = max(0, min(result, 1))\n",
        "\n",
        "    return np.array([result, 1 - result], dtype=float)\n",
        "\n",
        "\n",
        "def DyS(p_score, n_score, test, measure=\"topsoe\", bins=np.arange(2, 22, 2), err=1e-5):\n",
        "    results = []\n",
        "\n",
        "    for b_size in bins:\n",
        "        Sty_1 = getHist(p_score, b_size)  # Implement getHist separately\n",
        "        Sty_2 = getHist(n_score, b_size)\n",
        "        Uy = getHist(test, b_size)\n",
        "\n",
        "        def f(x):\n",
        "            return DySyn_distance(np.vstack([(Sty_1 * x) + (Sty_2 * (1 - x)), Uy]), method=measure)  # Implement DyS_distance separately\n",
        "\n",
        "        best_alpha = TernarySearch(0, 1, f, err)  # Implement TernarySearch separately\n",
        "        results.append(best_alpha)\n",
        "\n",
        "    result = statistics.median(results)\n",
        "    result = max(0, min(result, 1))\n",
        "\n",
        "    return np.array([result, 1 - result])"
      ]
    },
    {
      "cell_type": "code",
      "execution_count": null,
      "metadata": {
        "id": "CgklvHSbra_z"
      },
      "outputs": [],
      "source": [
        "def DySyn(ts, measure, MF=np.arange(0.1, 1.0, 0.2)):\n",
        "    # MF = np.arange(0.2, 0.7, 0.2) # mudar de 0.2 a 0.7\n",
        "    MF = np.round(MF, 2)\n",
        "\n",
        "    results = []\n",
        "    distances = []\n",
        "\n",
        "    for mf in MF:\n",
        "        scores = MoSS(1000, 0.5, mf)  # Implement MoSS function separately\n",
        "        test_p = scores[scores[:, 2] == 1, 0]\n",
        "        test_n = scores[scores[:, 2] == 2, 0]\n",
        "\n",
        "        if measure == \"sord\":\n",
        "            rQnt = DySyn_SORD(test_p, test_n, ts)  # Implement DySyn_SORD separately\n",
        "        else:\n",
        "            rQnt = DySyn_DyS(test_p, test_n, ts, measure, [10])  # Implement DySyn_DyS separately\n",
        "\n",
        "        distances.append(rQnt[1])\n",
        "        results.append(rQnt[0][0])\n",
        "\n",
        "    best_result = round(results[np.argmin(distances)], 2)\n",
        "    return [np.array([best_result, 1 - best_result]), min(distances), MF[np.argmin(distances)]]\n",
        "\n",
        "def DySyn_DyS(p_score, n_score, test, measure=\"hellinger\", b_sizes = list(range(2, 21, 2)) + [30]):\n",
        "    results = []\n",
        "    vDistAll = []\n",
        "\n",
        "    for b_size in b_sizes:\n",
        "        Sty_1 = getHist(p_score, b_size)  # Implement getHist separately\n",
        "        Sty_2 = getHist(n_score, b_size)\n",
        "        Uy = getHist(test, b_size)\n",
        "\n",
        "        def f(x):\n",
        "            return DySyn_distance(np.vstack([(Sty_1 * x) + (Sty_2 * (1 - x)), Uy]), method=measure)  # Implement DySyn_distance separately\n",
        "\n",
        "        best_alpha = TernarySearch(0, 1, f, 1e-2)  # Implement TernarySearch separately\n",
        "        results.append(best_alpha)\n",
        "        vDistAll.append(f(best_alpha))\n",
        "\n",
        "    median_result = np.median(results)\n",
        "    return [np.array([round(median_result, 2), 1 - round(median_result, 2)]), min(vDistAll)]\n",
        "\n",
        "def PNTDiff(pos, neg, test, pos_prop):\n",
        "    p_w = pos_prop / len(pos)\n",
        "    n_w = (1 - pos_prop) / len(neg)\n",
        "    t_w = -1 / len(test)\n",
        "\n",
        "    p = np.column_stack((pos, np.full(len(pos), p_w)))\n",
        "    n = np.column_stack((neg, np.full(len(neg), n_w)))\n",
        "    t = np.column_stack((test, np.full(len(test), t_w)))\n",
        "\n",
        "    v = np.vstack((p, n, t))\n",
        "    v = v[v[:, 0].argsort()]\n",
        "\n",
        "    acc = v[0, 1]\n",
        "    total_cost = 0\n",
        "\n",
        "    for i in range(1, len(v)):\n",
        "        cost_mul = v[i, 0] - v[i - 1, 0]\n",
        "        total_cost += abs(cost_mul * acc)\n",
        "        acc += v[i, 1]\n",
        "\n",
        "    return total_cost\n",
        "\n",
        "def DySyn_SORD(p_score, n_score, test):\n",
        "    def f(x):\n",
        "        return PNTDiff(p_score, n_score, test, x)\n",
        "\n",
        "    best_alpha = TernarySearch(0, 1, f, 1e-5)  # Implement TernarySearch separately\n",
        "    vDist = f(best_alpha)\n",
        "\n",
        "    return [np.array([round(best_alpha, 2), 1 - round(best_alpha, 2)]), vDist]"
      ]
    },
    {
      "cell_type": "markdown",
      "metadata": {
        "id": "kS0GiAs2r3xi"
      },
      "source": [
        "### Utils"
      ]
    },
    {
      "cell_type": "code",
      "execution_count": 4,
      "metadata": {
        "id": "IDcpqUDhnEcG"
      },
      "outputs": [],
      "source": [
        "def getTPRandFPRbyThreshold(validation_scores):\n",
        "    unique_scores = np.arange(0.01, 1.00, 0.01)\n",
        "    arrayOfTPRandFPRByTr = []\n",
        "\n",
        "    total_positive = np.sum(validation_scores[:, 2] == 1)\n",
        "    total_negative = np.sum(validation_scores[:, 2] == 2)\n",
        "\n",
        "    for threshold in unique_scores:\n",
        "        fp = np.sum((validation_scores[:, 0] > threshold) & (validation_scores[:, 2] == 2))\n",
        "        tp = np.sum((validation_scores[:, 0] > threshold) & (validation_scores[:, 2] == 1))\n",
        "        tpr = tp / total_positive if total_positive > 0 else 0\n",
        "        fpr = fp / total_negative if total_negative > 0 else 0\n",
        "\n",
        "        arrayOfTPRandFPRByTr.append([round(threshold, 2), tpr, fpr])\n",
        "\n",
        "    return np.array(arrayOfTPRandFPRByTr, dtype=object)"
      ]
    },
    {
      "cell_type": "code",
      "execution_count": 5,
      "metadata": {
        "id": "y1dKRWp6r69v"
      },
      "outputs": [],
      "source": [
        "import numpy as np\n",
        "\n",
        "def DySyn_distance(x, method=\"hellinger\"):\n",
        "    if method == \"ord\":\n",
        "        x_dif = x[0, :] - x[1, :]\n",
        "        acum = 0\n",
        "        aux = 0\n",
        "        for val in x_dif:\n",
        "            aux += val\n",
        "            acum += aux\n",
        "        return abs(acum)\n",
        "\n",
        "    if method == \"topsoe\":\n",
        "        return sum(x[0, i] * np.log((2 * x[0, i]) / (x[0, i] + x[1, i])) +\n",
        "                   x[1, i] * np.log((2 * x[1, i]) / (x[1, i] + x[0, i])) for i in range(x.shape[1]))\n",
        "\n",
        "    if method == \"jensen_difference\":\n",
        "        return sum(((x[0, i] * np.log(x[0, i]) + x[1, i] * np.log(x[1, i])) / 2) -\n",
        "                   ((x[0, i] + x[1, i]) / 2) * np.log((x[0, i] + x[1, i]) / 2) for i in range(x.shape[1]))\n",
        "\n",
        "    if method == \"taneja\":\n",
        "        return sum(((x[0, i] + x[1, i]) / 2) * np.log((x[0, i] + x[1, i]) / (2 * np.sqrt(x[0, i] * x[1, i])))\n",
        "                   for i in range(x.shape[1]))\n",
        "\n",
        "    if method == \"hellinger\":\n",
        "        return 2 * np.sqrt(1 - sum(np.sqrt(x[0, i] * x[1, i]) for i in range(x.shape[1])))\n",
        "\n",
        "    if method == \"prob_symm\":\n",
        "        return 2 * sum(((x[0, i] - x[1, i]) ** 2) / (x[0, i] + x[1, i]) for i in range(x.shape[1]))\n",
        "\n",
        "    raise ValueError(\"measure argument must be a valid option\")\n",
        "\n",
        "def getHist(scores, nbins):\n",
        "    breaks = np.linspace(0, 1, nbins + 1)\n",
        "    breaks[-1] = 1.1\n",
        "    re = np.full(len(breaks) - 1, 1 / (len(breaks) - 1))\n",
        "\n",
        "    for i in range(1, len(breaks)):\n",
        "        re[i - 1] = (re[i - 1] + np.sum((scores >= breaks[i - 1]) & (scores < breaks[i]))) / (len(scores) + 1)\n",
        "\n",
        "    return re\n",
        "\n",
        "def TernarySearch(left, right, f, eps=1e-4):\n",
        "    while True:\n",
        "        if abs(left - right) < eps:\n",
        "            return (left + right) / 2\n",
        "\n",
        "        leftThird = left + (right - left) / 3\n",
        "        rightThird = right - (right - left) / 3\n",
        "\n",
        "        if f(leftThird) > f(rightThird):\n",
        "            left = leftThird\n",
        "        else:\n",
        "            right = rightThird\n"
      ]
    },
    {
      "cell_type": "code",
      "execution_count": 6,
      "metadata": {
        "id": "euC8rIxbnXly"
      },
      "outputs": [],
      "source": [
        "def MoSS(n, alpha, m):\n",
        "    p_score = np.random.uniform(size=int(n * alpha)) ** m\n",
        "    n_score = 1 - (np.random.uniform(size=int(round(n * (1 - alpha), 0))) ** m)\n",
        "    scores = np.column_stack((np.concatenate((p_score, n_score)), np.concatenate((p_score, n_score)), np.concatenate((np.ones(len(p_score)), np.full(len(n_score), 2)))))\n",
        "    # pdb.set_trace()\n",
        "    return scores"
      ]
    },
    {
      "cell_type": "code",
      "execution_count": 7,
      "metadata": {
        "colab": {
          "base_uri": "https://localhost:8080/"
        },
        "collapsed": true,
        "id": "JPpRCrLxYeiL",
        "outputId": "0e0782de-27df-484f-ddb1-730ad96b13f6"
      },
      "outputs": [
        {
          "data": {
            "text/plain": [
              "array([[1., 1., 1.],\n",
              "       [0., 0., 2.]])"
            ]
          },
          "execution_count": 7,
          "metadata": {},
          "output_type": "execute_result"
        }
      ],
      "source": [
        "scrs = MoSS(2, 0.5, 0.0)\n",
        "scrs"
      ]
    },
    {
      "cell_type": "code",
      "execution_count": 21,
      "metadata": {
        "id": "gN422rG7oC6R"
      },
      "outputs": [],
      "source": [
        "def apply_qntMethod(qntMethod, p_score, n_score, test, TprFpr=None, thr=None, measure=\"hellinger\", MF_dysyn=np.arange(0.1, 1.0, 0.2)):\n",
        "    import mlquantify  # Ensure the mlquantify package is available\n",
        "    \n",
        "    if qntMethod == \"CC\":\n",
        "        return CC(test=test, thr=thr)\n",
        "\n",
        "    if qntMethod == \"ACCSyn\":\n",
        "        return ACCSyn(ts=test, measure=measure, MF_dysyn=MF_dysyn)\n",
        "\n",
        "    if qntMethod == \"XSyn\":\n",
        "        return XSyn(ts=test, measure=measure, MF_dysyn=MF_dysyn)\n",
        "\n",
        "    if qntMethod == \"MAXSyn\":\n",
        "        return MAXSyn(ts=test, measure=measure, MF_dysyn=MF_dysyn)\n",
        "\n",
        "    if qntMethod == \"T50Syn\":\n",
        "        return T50Syn(ts=test, measure=measure, MF_dysyn=MF_dysyn)\n",
        "\n",
        "    if qntMethod == \"MSSyn\":\n",
        "        return MSSyn(ts=test, measure=measure, MF_dysyn=MF_dysyn)\n",
        "\n",
        "    if qntMethod == \"MS2Syn\":\n",
        "        return MS2Syn(ts=test, measure=measure, MF_dysyn=MF_dysyn)\n",
        "\n",
        "    if qntMethod == \"SMMSyn\":\n",
        "        return SMMSyn(ts=test, measure=measure, MF_dysyn=MF_dysyn)\n",
        "\n",
        "    if qntMethod == \"PCC\":\n",
        "        return mlquantify.PCC(test)\n",
        "\n",
        "    if qntMethod == \"ACC\":\n",
        "        return ACC(test=test, TprFpr=TprFpr, thr=thr)\n",
        "\n",
        "    if qntMethod == \"T50\":\n",
        "        return T50(ts=test, TprFpr=TprFpr)\n",
        "\n",
        "    if qntMethod == \"X\":\n",
        "        return X(ts=test, TprFpr=TprFpr)\n",
        "\n",
        "    if qntMethod == \"MAX\":\n",
        "        return MAX(ts=test, TprFpr=TprFpr)\n",
        "\n",
        "    if qntMethod == \"PACC\":\n",
        "        return mlquantify.methods.PACC(ts=test, TprFpr=TprFpr, thr=thr)\n",
        "\n",
        "    if qntMethod == \"DySyn\":\n",
        "        return DySyn(ts=test, measure=measure, MF=MF_dysyn)\n",
        "\n",
        "    if qntMethod == \"HDy-LP\":\n",
        "        return mlquantify.HDy_LP(p_score=p_score, n_score=n_score, test=test)\n",
        "\n",
        "    if qntMethod == \"DyS\":\n",
        "        return DyS(p_score=p_score, n_score=n_score, test=test, measure=measure)\n",
        "\n",
        "    if qntMethod == \"SORD\":\n",
        "        return mlquantify.SORD(p_score=p_score, n_score=n_score, test=test)\n",
        "\n",
        "    if qntMethod == \"MS\":\n",
        "        return MS(ts=test, TprFpr=TprFpr)\n",
        "\n",
        "    if qntMethod == \"MS2\":\n",
        "        return MS2(ts=test, TprFpr=TprFpr)\n",
        "\n",
        "    if qntMethod == \"SMM\":\n",
        "        return SMM(p_scores=p_score, n_scores=n_score, t_scores=test)\n",
        "\n",
        "    print(\"ERROR - Quantification method was not applied!\")\n",
        "    return None"
      ]
    },
    {
      "cell_type": "markdown",
      "metadata": {
        "id": "R_uxH3y8YTQC"
      },
      "source": [
        "### Proposal"
      ]
    },
    {
      "cell_type": "code",
      "execution_count": 9,
      "metadata": {
        "id": "5099ig3BYTn0"
      },
      "outputs": [],
      "source": [
        "def ACCSyn(ts, measure, MF_dysyn):\n",
        "    rQnt = DySyn(ts, measure, MF_dysyn)\n",
        "    TprFpr = np.array(getTPRandFPRbyThreshold(MoSS(1000, 0.5, rQnt[2]))).astype(float)  # Implement getTPRandFPRbyThreshold\n",
        "\n",
        "    dC = CC(ts)  # Implement CC function separately\n",
        "\n",
        "    tpr_fpr_row = TprFpr[TprFpr[:, 0] == 0.5, 1:3].astype(float)\n",
        "    if tpr_fpr_row.size == 0:\n",
        "        raise ValueError(\"Threshold value not found in TprFpr.\")\n",
        "\n",
        "    tpr, fpr = tpr_fpr_row[0]\n",
        "\n",
        "    result = (dC[0] - fpr) / (tpr - fpr) if (tpr - fpr) != 0 else 0\n",
        "    result = max(0, min(result, 1))\n",
        "\n",
        "    return np.array([result, 1 - result], dtype=float)"
      ]
    },
    {
      "cell_type": "code",
      "execution_count": 10,
      "metadata": {
        "collapsed": true,
        "id": "AKDi-sAnP6j6"
      },
      "outputs": [],
      "source": [
        "def X(ts, TprFpr):\n",
        "    dC = CC(ts)  # Implement CC function separately\n",
        "\n",
        "    min_index = abs((1 - TprFpr[:, 1]) - TprFpr[:, 2])\n",
        "    min_index = np.argmin(min_index)\n",
        "\n",
        "    tpr_fpr_row = TprFpr[min_index, 1:3].astype(float)\n",
        "    if tpr_fpr_row.size == 0:\n",
        "        raise ValueError(\"Threshold value not found in TprFpr.\")\n",
        "\n",
        "    tpr, fpr = tpr_fpr_row\n",
        "\n",
        "    result = (dC[0] - fpr) / (tpr - fpr) if (tpr - fpr) != 0 else 0\n",
        "    result = max(0, min(result, 1))\n",
        "\n",
        "    return np.array([result, 1 - result], dtype=float)\n",
        "\n",
        "def XSyn(ts, measure, MF_dysyn):\n",
        "    rQnt = DySyn(ts, measure, MF_dysyn)\n",
        "    TprFpr = np.array(getTPRandFPRbyThreshold(MoSS(1000, 0.5, rQnt[2]))).astype(float)\n",
        "    \n",
        "    dC = CC(ts)  # Implement CC function separately\n",
        "\n",
        "    # Usual X implementation\n",
        "    min_index = abs((1 - TprFpr[:, 1]) - TprFpr[:, 2])\n",
        "    min_index = np.argmin(min_index)\n",
        "\n",
        "    tpr_fpr_row = TprFpr[min_index, 1:3].astype(float)\n",
        "    # if tpr_fpr_row.size == 0:\n",
        "    #   raise ValueError(\"Threshold value not found in TprFpr.\")\n",
        "\n",
        "    tpr, fpr = tpr_fpr_row\n",
        "\n",
        "    result = (dC[0] - fpr) / (tpr - fpr) if (tpr - fpr) != 0 else 0\n",
        "    result = max(0, min(result, 1))\n",
        "\n",
        "    return np.array([result, 1 - result], dtype=float)"
      ]
    },
    {
      "cell_type": "code",
      "execution_count": 11,
      "metadata": {
        "id": "kOQOkpeceyN9"
      },
      "outputs": [],
      "source": [
        "def MAX(ts, TprFpr):\n",
        "    dC = CC(ts)  # Implement CC function separately\n",
        "\n",
        "    # Usual MAX implementation\n",
        "    max_index = abs(TprFpr[:, 1] - TprFpr[:, 2])\n",
        "    max_index = np.argmax(max_index)\n",
        "\n",
        "    tpr_fpr_row = TprFpr[max_index, 1:3].astype(float)\n",
        "\n",
        "    tpr, fpr = tpr_fpr_row\n",
        "\n",
        "    result = (dC[0] - fpr) / (tpr - fpr) if (tpr - fpr) != 0 else 0\n",
        "    result = max(0, min(result, 1))\n",
        "\n",
        "    return np.array([result, 1 - result], dtype=float)\n",
        "\n",
        "def MAXSyn(ts, measure, MF_dysyn):\n",
        "    rQnt = DySyn(ts, measure, MF_dysyn)\n",
        "    TprFpr = np.array(getTPRandFPRbyThreshold(MoSS(1000, 0.5, rQnt[2]))).astype(float)\n",
        "    \n",
        "    dC = CC(ts)  # Implement CC function separately\n",
        "\n",
        "    # Usual MAX implementation\n",
        "    max_index = abs(TprFpr[:, 1] - TprFpr[:, 2])\n",
        "    max_index = np.argmax(max_index)\n",
        "\n",
        "    tpr_fpr_row = TprFpr[max_index, 1:3].astype(float)\n",
        "\n",
        "    tpr, fpr = tpr_fpr_row\n",
        "\n",
        "    result = (dC[0] - fpr) / (tpr - fpr) if (tpr - fpr) != 0 else 0\n",
        "    result = max(0, min(result, 1))\n",
        "\n",
        "    return np.array([result, 1 - result], dtype=float)"
      ]
    },
    {
      "cell_type": "code",
      "execution_count": 12,
      "metadata": {
        "id": "soFDu5Nfjr95"
      },
      "outputs": [],
      "source": [
        "def T50(ts, TprFpr):\n",
        "    dC = CC(ts)  # Implement CC function separately\n",
        "\n",
        "    # Usual T50 implementation\n",
        "    min_index = abs(TprFpr[:, 1] - 0.5)\n",
        "    min_index = np.argmin(min_index)\n",
        "\n",
        "    tpr_fpr_row = TprFpr[min_index, 1:3].astype(float)\n",
        "\n",
        "    tpr, fpr = tpr_fpr_row\n",
        "\n",
        "    result = (dC[0] - fpr) / (tpr - fpr) if (tpr - fpr) != 0 else 0\n",
        "    result = max(0, min(result, 1))\n",
        "\n",
        "    return np.array([result, 1 - result], dtype=float)\n",
        "\n",
        "def T50Syn(ts, measure, MF_dysyn):\n",
        "    rQnt = DySyn(ts, measure, MF_dysyn)\n",
        "    TprFpr = np.array(getTPRandFPRbyThreshold(MoSS(1000, 0.5, rQnt[2]))).astype(float)\n",
        "\n",
        "    dC = CC(ts)  # Implement CC function separately\n",
        "\n",
        "    # Usual T50 implementation\n",
        "    min_index = abs(TprFpr[:, 1] - 0.5)\n",
        "    min_index = np.argmin(min_index)\n",
        "\n",
        "    tpr_fpr_row = TprFpr[min_index, 1:3].astype(float)\n",
        "\n",
        "    tpr, fpr = tpr_fpr_row\n",
        "\n",
        "    result = (dC[0] - fpr) / (tpr - fpr) if (tpr - fpr) != 0 else 0\n",
        "    result = max(0, min(result, 1))\n",
        "\n",
        "    return np.array([result, 1 - result], dtype=float)"
      ]
    },
    {
      "cell_type": "code",
      "execution_count": 13,
      "metadata": {
        "id": "BTvfC2Z0Dxhk"
      },
      "outputs": [],
      "source": [
        "# x=MoSS(500, 0.5, 0.6)\n",
        "# x = pd.DataFrame(x)\n",
        "# x.columns = ['x', 'y', 'col1']\n",
        "# x\n",
        "\n",
        "# # prompt: plot density graph using KDE in x variable, create different color for each value in 3 column\n",
        "\n",
        "# import seaborn as sns\n",
        "# import matplotlib.pyplot as plt\n",
        "\n",
        "# # Assuming your dataframe is named 'df' and the columns are 'x', 'col1', 'col2', 'col3'\n",
        "# # Replace 'df' with your actual dataframe name and column names if different\n",
        "\n",
        "# # Create the density plot\n",
        "# plt.figure(figsize=(10, 6))\n",
        "# sns.kdeplot(data=x, x='x', hue='col1', fill=True)\n",
        "# sns.kdeplot(data=x, x='x', hue='col2', fill=True)\n",
        "# sns.kdeplot(data=x, x='x', hue='col3', fill=True)\n",
        "\n",
        "# plt.title('Density Plot of x with different colors for columns')\n",
        "# plt.xlabel('x')\n",
        "# plt.ylabel('Density')\n",
        "# plt.show()\n"
      ]
    },
    {
      "cell_type": "code",
      "execution_count": 14,
      "metadata": {
        "id": "VCSNgBfr3MxQ"
      },
      "outputs": [],
      "source": [
        "def MS(ts, TprFpr):\n",
        "  results = []\n",
        "  dC = CC(ts)  # Implement CC function separately\n",
        "\n",
        "  # Usual MS implementation\n",
        "  threshold_set = np.arange(0.01, 1.00, 0.01)\n",
        "\n",
        "  for threshold in threshold_set:\n",
        "    threshold = round(threshold, 2) # 0.060000003 shenanigans\n",
        "    tpr, fpr = TprFpr[TprFpr[:, 0] == threshold, 1:3].astype(float)[0]\n",
        "\n",
        "    result = (dC[0] - fpr) / (tpr - fpr) if (tpr - fpr) != 0 else 0\n",
        "    result = max(0, min(result, 1))\n",
        "\n",
        "    results.append(result)\n",
        "\n",
        "    result = np.median(results)\n",
        "  return np.array([result, 1 - result], dtype=float)\n",
        "\n",
        "def MS2(ts, TprFpr):\n",
        "    results = []\n",
        "\n",
        "    dC = CC(ts)  # Implement CC function separately\n",
        "\n",
        "    # Usual MS2 implementation\n",
        "    index = np.where(abs(TprFpr[:,1]-TprFpr[:,2]) > (1/4))[0].tolist()\n",
        "    threshold_set = TprFpr[index,0]\n",
        "    if threshold_set.shape[0] == 0:\n",
        "      threshold_set = np.arange(0.01, 1.00, 0.01)\n",
        "\n",
        "    # else usual MS\n",
        "    for threshold in threshold_set:\n",
        "      threshold = round(threshold, 2) # 0.060000003 shenanigans\n",
        "      tpr, fpr = TprFpr[TprFpr[:, 0] == threshold, 1:3].astype(float)[0]\n",
        "\n",
        "      result = (dC[0] - fpr) / (tpr - fpr) if (tpr - fpr) != 0 else 0\n",
        "      result = max(0, min(result, 1))\n",
        "\n",
        "      results.append(result)\n",
        "\n",
        "    result = np.median(results)\n",
        "    return np.array([result, 1 - result], dtype=float)"
      ]
    },
    {
      "cell_type": "code",
      "execution_count": 15,
      "metadata": {
        "id": "Ew6s9CNAWg9z"
      },
      "outputs": [],
      "source": [
        "def MSSyn(ts, measure, MF_dysyn):\n",
        "    results = []\n",
        "\n",
        "    rQnt = DySyn(ts, measure, MF_dysyn)\n",
        "    TprFpr = np.array(getTPRandFPRbyThreshold(MoSS(1000, 0.5, rQnt[2]))).astype(float)\n",
        "\n",
        "    dC = CC(ts)  # Implement CC function separately\n",
        "\n",
        "    # Usual MS implementation\n",
        "    threshold_set = np.arange(0.01, 1.00, 0.01)\n",
        "\n",
        "    for threshold in threshold_set:\n",
        "      threshold = round(threshold, 2) # 0.060000003 shenanigans\n",
        "      tpr, fpr = TprFpr[TprFpr[:, 0] == threshold, 1:3].astype(float)[0]\n",
        "\n",
        "      result = (dC[0] - fpr) / (tpr - fpr) if (tpr - fpr) != 0 else 0\n",
        "      result = max(0, min(result, 1))\n",
        "\n",
        "      results.append(result)\n",
        "\n",
        "    result = np.median(results)\n",
        "    return np.array([result, 1 - result], dtype=float)"
      ]
    },
    {
      "cell_type": "code",
      "execution_count": 16,
      "metadata": {
        "collapsed": true,
        "id": "NFkJSRge_oFB"
      },
      "outputs": [],
      "source": [
        "def MS2Syn(ts, measure, MF_dysyn):\n",
        "    results = []\n",
        "\n",
        "    rQnt = DySyn(ts, measure, MF_dysyn)\n",
        "    TprFpr = np.array(getTPRandFPRbyThreshold(MoSS(1000, 0.5, rQnt[2]))).astype(float)\n",
        "    \n",
        "    dC = CC(ts)  # Implement CC function separately\n",
        "\n",
        "    # Usual MS2 implementation\n",
        "    index = np.where(abs(TprFpr[:,1]-TprFpr[:,2]) > (1/4))[0].tolist()\n",
        "    threshold_set = TprFpr[index,0]\n",
        "    if threshold_set.shape[0] == 0:\n",
        "      threshold_set = np.arange(0.01, 1.00, 0.01)\n",
        "\n",
        "    # else usual MS\n",
        "    for threshold in threshold_set:\n",
        "      threshold = round(threshold, 2) # 0.060000003 shenanigans\n",
        "      tpr, fpr = TprFpr[TprFpr[:, 0] == threshold, 1:3].astype(float)[0]\n",
        "\n",
        "      result = (dC[0] - fpr) / (tpr - fpr) if (tpr - fpr) != 0 else 0\n",
        "      result = max(0, min(result, 1))\n",
        "\n",
        "      results.append(result)\n",
        "\n",
        "    result = np.median(results)\n",
        "    return np.array([result, 1 - result], dtype=float)"
      ]
    },
    {
      "cell_type": "code",
      "execution_count": 17,
      "metadata": {
        "id": "lh5sE1WmH_AO"
      },
      "outputs": [],
      "source": [
        "def SMM(p_scores, n_scores, t_scores):\n",
        "  mean_p_scores = np.mean(p_scores)\n",
        "  mean_n_scores = np.mean(n_scores)\n",
        "  mean_t_scores = np.mean(t_scores)\n",
        "\n",
        "  alpha = (mean_t_scores - mean_n_scores) / (mean_p_scores - mean_n_scores)\n",
        "  alpha = max(0, min(alpha, 1))\n",
        "\n",
        "  return np.round([alpha, abs(1-alpha)], 2)"
      ]
    },
    {
      "cell_type": "code",
      "execution_count": 18,
      "metadata": {
        "colab": {
          "base_uri": "https://localhost:8080/"
        },
        "id": "-bdkEDsE0WTD",
        "outputId": "d55f235d-c200-4637-d44e-2785b599d604"
      },
      "outputs": [],
      "source": [
        "def SMMSyn(ts, measure, MF_dysyn):\n",
        "    rQnt = DySyn(ts, measure, MF_dysyn)\n",
        "    best_scores = MoSS(1000, 0.5, rQnt[2]) # sempre NaN em 0 de distances\n",
        "\n",
        "    best_p = best_scores[best_scores[:, 2] == 1, 0]\n",
        "    best_n = best_scores[best_scores[:, 2] == 2, 0]\n",
        "    result = SMM(best_p, best_n, ts)\n",
        "\n",
        "    return result"
      ]
    },
    {
      "cell_type": "markdown",
      "metadata": {
        "id": "aMS1X1sOX287"
      },
      "source": [
        "## Main"
      ]
    },
    {
      "cell_type": "code",
      "execution_count": 19,
      "metadata": {
        "id": "3MunXmyumf2c"
      },
      "outputs": [],
      "source": [
        "def exec_eval_complexity(MFtr, MF_dysyn):\n",
        "\n",
        "    vdist = {\"TS\": \"topsoe\", \"JD\": \"jensen_difference\", \"PS\": \"prob_symm\", \"ORD\": \"ord\", \"SORD\": \"sord\", \"TN\": \"taneja\", \"HD\": \"hellinger\"}\n",
        "\n",
        "    var_perc = np.arange(0, 1.05, 0.05)  # class distribution\n",
        "    var_size = [500]  # test set size\n",
        "    n_tests = 3  # replication\n",
        "    MF = np.arange(0.05, 1.00, 0.1)  # m parameter for MoSS model\n",
        "    MF = np.round(MF, 2) # 0.1500000003 shenanigans\n",
        "\n",
        "    # PC RAFAEL\n",
        "    # qnt = ['ACCSyn-TS', 'ACC',\n",
        "    #     #    'XSyn-TS',\n",
        "    #     #    'MAXSyn-TS',\n",
        "    #     #    'T50Syn-TS',\n",
        "    #     #    'MS2Syn-TS',\n",
        "    #     #    'SMMSyn-TS',\n",
        "    #        'DySyn-TS']\n",
        "\n",
        "    # PC LUIZ\n",
        "    # qnt = ['T50', 'MS', 'MS2', 'SMM', 'DyS-TS', 'X', 'MAX', 'ACC', 'CC']\n",
        "\n",
        "    qnt = ['T50', 'T50Syn-TS',\n",
        "           'MS', 'MSSyn-TS',\n",
        "           'MS2', 'MS2Syn-TS',\n",
        "           'SMM', 'SMMSyn-TS',\n",
        "           'DyS-TS', 'DySyn-TS',\n",
        "           'X', 'XSyn-TS',\n",
        "           'MAX', 'MAXSyn-TS',\n",
        "           'ACC', 'ACCSyn-TS',\n",
        "           'CC']\n",
        "\n",
        "    results = []\n",
        "\n",
        "    for mi in range(len(MFtr)):\n",
        "        scores = MoSS(1000, 0.5, MFtr[mi])  # Implement MoSS function\n",
        "        # pdb.set_trace()\n",
        "        TprFpr = np.array(getTPRandFPRbyThreshold(scores)).astype(float)  # Implement getTPRandFPRbyThreshold\n",
        "\n",
        "        for k in range(len(var_size)):\n",
        "            for i in range(len(var_perc)):\n",
        "                # print(f\"Class distr. {var_perc[i]}\")\n",
        "                for j in range(n_tests):\n",
        "                    for ti in range(len(MF)):\n",
        "                        for qi in qnt:\n",
        "\n",
        "                            # pdb.set_trace()\n",
        "\n",
        "                            test_set = MoSS(var_size[k], var_perc[i], MF[ti])\n",
        "                            freq_REAL = pd.Series(test_set[:, 2]).value_counts(normalize=True).reindex([1, 2], fill_value=0)\n",
        "                            qntMethod = qi.split(\"-\")[0] if \"-\" in qi else qi\n",
        "\n",
        "                            if qntMethod != \"HDy-LP\":\n",
        "                                try:\n",
        "                                    nk = int(qntMethod.split(\"_\")[0])\n",
        "                                except ValueError:\n",
        "                                    nk = 1\n",
        "                                qntMethod = \"DySyn\" if nk != 1 else qntMethod\n",
        "\n",
        "                            measure = None\n",
        "                            if len(qi.split(\"-\")) > 1:\n",
        "                                measure = vdist.get(qi.split(\"-\")[1])\n",
        "\n",
        "                            # pdb.set_trace()\n",
        "                            qnt_re = apply_qntMethod(\n",
        "                                qntMethod=qntMethod,\n",
        "                                p_score=scores[scores[:, 2] == 1, 0],\n",
        "                                n_score=scores[scores[:, 2] == 2, 0],\n",
        "                                test=test_set[:, 0],\n",
        "                                TprFpr=TprFpr,\n",
        "                                thr=0.5,\n",
        "                                measure=measure,\n",
        "                                MF_dysyn=MF_dysyn,\n",
        "                            )  # Implement apply_qntMethod\n",
        "\n",
        "                            freq_PRE = np.round(qnt_re[0],3)\n",
        "\n",
        "                            results.append([\n",
        "                                MFtr[mi],\n",
        "                                MF[ti],\n",
        "                                freq_REAL.get(1, 0),\n",
        "                                freq_PRE,\n",
        "                                np.round(abs(freq_REAL.get(1, 0) - freq_PRE), 2),\n",
        "                                measure,\n",
        "                                qnt_re[1],\n",
        "                                qi,\n",
        "                                MF_dysyn\n",
        "                            ])\n",
        "\n",
        "\n",
        "    results_df = pd.DataFrame(results, columns=[\"MFtr\", \"MFte\", \"R_1\", \"P_1\", \"AE\", \"Distance\", \"Value.dist\", \"Qnt\", \"MF_dysyn\"]) # Before AE was MAE, keep in mind!\n",
        "\n",
        "    return results_df"
      ]
    },
    {
      "cell_type": "markdown",
      "metadata": {
        "id": "neztl7BVbNDw"
      },
      "source": [
        "## RUN"
      ]
    },
    {
      "cell_type": "code",
      "execution_count": 26,
      "metadata": {
        "colab": {
          "base_uri": "https://localhost:8080/",
          "height": 1000
        },
        "collapsed": true,
        "id": "yk8d4uCrbNOd",
        "outputId": "331148f7-ce13-4746-f3b2-9e68995109bb"
      },
      "outputs": [
        {
          "name": "stdout",
          "output_type": "stream",
          "text": [
            "############ - It will take a couple of minutes! - ############\n",
            "Running for MF_dysyn [0.2 0.4 0.6]\n",
            "Running for MF 0.05\n"
          ]
        },
        {
          "ename": "KeyboardInterrupt",
          "evalue": "",
          "output_type": "error",
          "traceback": [
            "\u001b[1;31m---------------------------------------------------------------------------\u001b[0m",
            "\u001b[1;31mKeyboardInterrupt\u001b[0m                         Traceback (most recent call last)",
            "Cell \u001b[1;32mIn[26], line 29\u001b[0m\n\u001b[0;32m     27\u001b[0m \u001b[38;5;28;01mfor\u001b[39;00m i \u001b[38;5;129;01min\u001b[39;00m m_Tr:\n\u001b[0;32m     28\u001b[0m     \u001b[38;5;28mprint\u001b[39m(\u001b[38;5;124mf\u001b[39m\u001b[38;5;124m\"\u001b[39m\u001b[38;5;124mRunning for MF \u001b[39m\u001b[38;5;132;01m{\u001b[39;00mi\u001b[38;5;132;01m}\u001b[39;00m\u001b[38;5;124m\"\u001b[39m)\n\u001b[1;32m---> 29\u001b[0m     re \u001b[38;5;241m=\u001b[39m \u001b[43mexec_eval_complexity\u001b[49m\u001b[43m(\u001b[49m\u001b[43m[\u001b[49m\u001b[43mi\u001b[49m\u001b[43m]\u001b[49m\u001b[43m,\u001b[49m\u001b[43m \u001b[49m\u001b[43mMF\u001b[49m\u001b[43m)\u001b[49m\n\u001b[0;32m     30\u001b[0m     result \u001b[38;5;241m=\u001b[39m pd\u001b[38;5;241m.\u001b[39mconcat([result, re])\n\u001b[0;32m     31\u001b[0m     result\u001b[38;5;241m.\u001b[39mto_csv(\u001b[38;5;124m\"\u001b[39m\u001b[38;5;124mresults_test.csv\u001b[39m\u001b[38;5;124m\"\u001b[39m, index\u001b[38;5;241m=\u001b[39m\u001b[38;5;28;01mFalse\u001b[39;00m)\n",
            "Cell \u001b[1;32mIn[19], line 65\u001b[0m, in \u001b[0;36mexec_eval_complexity\u001b[1;34m(MFtr, MF_dysyn)\u001b[0m\n\u001b[0;32m     62\u001b[0m     measure \u001b[38;5;241m=\u001b[39m vdist\u001b[38;5;241m.\u001b[39mget(qi\u001b[38;5;241m.\u001b[39msplit(\u001b[38;5;124m\"\u001b[39m\u001b[38;5;124m-\u001b[39m\u001b[38;5;124m\"\u001b[39m)[\u001b[38;5;241m1\u001b[39m])\n\u001b[0;32m     64\u001b[0m \u001b[38;5;66;03m# pdb.set_trace()\u001b[39;00m\n\u001b[1;32m---> 65\u001b[0m qnt_re \u001b[38;5;241m=\u001b[39m \u001b[43mapply_qntMethod\u001b[49m\u001b[43m(\u001b[49m\n\u001b[0;32m     66\u001b[0m \u001b[43m    \u001b[49m\u001b[43mqntMethod\u001b[49m\u001b[38;5;241;43m=\u001b[39;49m\u001b[43mqntMethod\u001b[49m\u001b[43m,\u001b[49m\n\u001b[0;32m     67\u001b[0m \u001b[43m    \u001b[49m\u001b[43mp_score\u001b[49m\u001b[38;5;241;43m=\u001b[39;49m\u001b[43mscores\u001b[49m\u001b[43m[\u001b[49m\u001b[43mscores\u001b[49m\u001b[43m[\u001b[49m\u001b[43m:\u001b[49m\u001b[43m,\u001b[49m\u001b[43m \u001b[49m\u001b[38;5;241;43m2\u001b[39;49m\u001b[43m]\u001b[49m\u001b[43m \u001b[49m\u001b[38;5;241;43m==\u001b[39;49m\u001b[43m \u001b[49m\u001b[38;5;241;43m1\u001b[39;49m\u001b[43m,\u001b[49m\u001b[43m \u001b[49m\u001b[38;5;241;43m0\u001b[39;49m\u001b[43m]\u001b[49m\u001b[43m,\u001b[49m\n\u001b[0;32m     68\u001b[0m \u001b[43m    \u001b[49m\u001b[43mn_score\u001b[49m\u001b[38;5;241;43m=\u001b[39;49m\u001b[43mscores\u001b[49m\u001b[43m[\u001b[49m\u001b[43mscores\u001b[49m\u001b[43m[\u001b[49m\u001b[43m:\u001b[49m\u001b[43m,\u001b[49m\u001b[43m \u001b[49m\u001b[38;5;241;43m2\u001b[39;49m\u001b[43m]\u001b[49m\u001b[43m \u001b[49m\u001b[38;5;241;43m==\u001b[39;49m\u001b[43m \u001b[49m\u001b[38;5;241;43m2\u001b[39;49m\u001b[43m,\u001b[49m\u001b[43m \u001b[49m\u001b[38;5;241;43m0\u001b[39;49m\u001b[43m]\u001b[49m\u001b[43m,\u001b[49m\n\u001b[0;32m     69\u001b[0m \u001b[43m    \u001b[49m\u001b[43mtest\u001b[49m\u001b[38;5;241;43m=\u001b[39;49m\u001b[43mtest_set\u001b[49m\u001b[43m[\u001b[49m\u001b[43m:\u001b[49m\u001b[43m,\u001b[49m\u001b[43m \u001b[49m\u001b[38;5;241;43m0\u001b[39;49m\u001b[43m]\u001b[49m\u001b[43m,\u001b[49m\n\u001b[0;32m     70\u001b[0m \u001b[43m    \u001b[49m\u001b[43mTprFpr\u001b[49m\u001b[38;5;241;43m=\u001b[39;49m\u001b[43mTprFpr\u001b[49m\u001b[43m,\u001b[49m\n\u001b[0;32m     71\u001b[0m \u001b[43m    \u001b[49m\u001b[43mthr\u001b[49m\u001b[38;5;241;43m=\u001b[39;49m\u001b[38;5;241;43m0.5\u001b[39;49m\u001b[43m,\u001b[49m\n\u001b[0;32m     72\u001b[0m \u001b[43m    \u001b[49m\u001b[43mmeasure\u001b[49m\u001b[38;5;241;43m=\u001b[39;49m\u001b[43mmeasure\u001b[49m\u001b[43m,\u001b[49m\n\u001b[0;32m     73\u001b[0m \u001b[43m    \u001b[49m\u001b[43mMF_dysyn\u001b[49m\u001b[38;5;241;43m=\u001b[39;49m\u001b[43mMF_dysyn\u001b[49m\u001b[43m,\u001b[49m\n\u001b[0;32m     74\u001b[0m \u001b[43m\u001b[49m\u001b[43m)\u001b[49m  \u001b[38;5;66;03m# Implement apply_qntMethod\u001b[39;00m\n\u001b[0;32m     76\u001b[0m freq_PRE \u001b[38;5;241m=\u001b[39m np\u001b[38;5;241m.\u001b[39mround(qnt_re[\u001b[38;5;241m0\u001b[39m],\u001b[38;5;241m3\u001b[39m)\n\u001b[0;32m     78\u001b[0m results\u001b[38;5;241m.\u001b[39mappend([\n\u001b[0;32m     79\u001b[0m     MFtr[mi],\n\u001b[0;32m     80\u001b[0m     MF[ti],\n\u001b[1;32m   (...)\u001b[0m\n\u001b[0;32m     87\u001b[0m     MF_dysyn\n\u001b[0;32m     88\u001b[0m ])\n",
            "Cell \u001b[1;32mIn[21], line 1\u001b[0m, in \u001b[0;36mapply_qntMethod\u001b[1;34m(qntMethod, p_score, n_score, test, TprFpr, thr, measure, MF_dysyn)\u001b[0m\n\u001b[1;32m----> 1\u001b[0m \u001b[38;5;28;01mdef\u001b[39;00m\u001b[38;5;250m \u001b[39m\u001b[38;5;21mapply_qntMethod\u001b[39m(qntMethod, p_score, n_score, test, TprFpr\u001b[38;5;241m=\u001b[39m\u001b[38;5;28;01mNone\u001b[39;00m, thr\u001b[38;5;241m=\u001b[39m\u001b[38;5;28;01mNone\u001b[39;00m, measure\u001b[38;5;241m=\u001b[39m\u001b[38;5;124m\"\u001b[39m\u001b[38;5;124mhellinger\u001b[39m\u001b[38;5;124m\"\u001b[39m, MF_dysyn\u001b[38;5;241m=\u001b[39mnp\u001b[38;5;241m.\u001b[39marange(\u001b[38;5;241m0.1\u001b[39m, \u001b[38;5;241m1.0\u001b[39m, \u001b[38;5;241m0.2\u001b[39m)):\n\u001b[0;32m      2\u001b[0m     \u001b[38;5;28;01mimport\u001b[39;00m\u001b[38;5;250m \u001b[39m\u001b[38;5;21;01mmlquantify\u001b[39;00m  \u001b[38;5;66;03m# Ensure the mlquantify package is available\u001b[39;00m\n\u001b[0;32m      4\u001b[0m     \u001b[38;5;28;01mif\u001b[39;00m qntMethod \u001b[38;5;241m==\u001b[39m \u001b[38;5;124m\"\u001b[39m\u001b[38;5;124mCC\u001b[39m\u001b[38;5;124m\"\u001b[39m:\n",
            "\u001b[1;31mKeyboardInterrupt\u001b[0m: "
          ]
        }
      ],
      "source": [
        "if __name__ == \"__main__\":\n",
        "    m_Tr = np.arange(0.05, 1.00, 0.1)\n",
        "    # m_Tr = [0.7]\n",
        "    m_Tr = np.round(m_Tr, 2)\n",
        "    \n",
        "    MF_1 = np.arange(0.2, 0.7, 0.2)\n",
        "    MF_1 = np.round(MF_1, 2)\n",
        "\n",
        "    MF_2 = np.arange(0.2, 0.7, 0.1)\n",
        "    MF_2 = np.round(MF_2, 2)\n",
        "\n",
        "    MF_3 = np.arange(0.2, 0.7, 0.05)\n",
        "    MF_3 = np.round(MF_3, 2)\n",
        "\n",
        "    MF_4 = np.arange(0.2, 0.7, 0.01)\n",
        "    MF_4 = np.round(MF_4, 2)\n",
        "\n",
        "    MF_dysyn = [MF_1, MF_2, MF_3, MF_4]\n",
        "\n",
        "    print(\"############ - It will take a couple of minutes! - ############\")\n",
        "    result = pd.DataFrame()\n",
        "\n",
        "    # re = exec_eval_complexity([0.7])\n",
        "\n",
        "    for MF in MF_dysyn:\n",
        "        print(f\"Running for MF_dysyn {MF}\")\n",
        "        for i in m_Tr:\n",
        "            print(f\"Running for MF {i}\")\n",
        "            re = exec_eval_complexity([i], MF)\n",
        "            result = pd.concat([result, re])\n",
        "            result.to_csv(\"results_test.csv\", index=False)\n",
        "\n",
        "grouped = result.groupby(['Qnt', 'MFte', 'MFtr']).agg({'AE': 'mean'}).reset_index()"
      ]
    },
    {
      "cell_type": "markdown",
      "metadata": {
        "id": "4sePbZ5CX6LK"
      },
      "source": [
        "## Results"
      ]
    },
    {
      "cell_type": "code",
      "execution_count": 25,
      "metadata": {
        "colab": {
          "base_uri": "https://localhost:8080/",
          "height": 574,
          "referenced_widgets": [
            "98b586d6743b4fa785514d8fe9f56664",
            "287c5628c07040b893ed3ea57e8a1881",
            "1e7b44b9592447c1a519c4e4c5df7ba5"
          ]
        },
        "id": "cObBi2UzNCfn",
        "outputId": "e6a7f886-eb58-427b-b906-69db7779492e"
      },
      "outputs": [
        {
          "data": {
            "application/vnd.plotly.v1+json": {
              "config": {
                "plotlyServerURL": "https://plot.ly"
              },
              "data": [
                {
                  "mode": "lines+markers",
                  "name": "ACC",
                  "type": "scatter",
                  "x": {
                    "bdata": "mpmZmZmZqT8zMzMzMzPDPwAAAAAAANA/ZmZmZmZm1j/NzMzMzMzcP5qZmZmZmeE/zczMzMzM5D8AAAAAAADoPzMzMzMzM+s/ZmZmZmZm7j8=",
                    "dtype": "f8"
                  },
                  "y": [
                    0.1828571428571429,
                    0.18206349206349204,
                    0.17619047619047618,
                    0.16095238095238096,
                    0.14603174603174607,
                    0.12111111111111109,
                    0.0823809523809523,
                    0.09238095238095238,
                    0.1625396825396825,
                    0.23730158730158737
                  ]
                },
                {
                  "mode": "lines+markers",
                  "name": "ACCSyn-TS",
                  "type": "scatter",
                  "x": {
                    "bdata": "mpmZmZmZqT8zMzMzMzPDPwAAAAAAANA/ZmZmZmZm1j/NzMzMzMzcP5qZmZmZmeE/zczMzMzM5D8AAAAAAADoPzMzMzMzM+s/ZmZmZmZm7j8=",
                    "dtype": "f8"
                  },
                  "y": [
                    0,
                    0.004444444444444446,
                    0.023809523809523822,
                    0.051587301587301584,
                    0.0801587301587301,
                    0.07968253968253967,
                    0.12380952380952377,
                    0.1557142857142857,
                    0.17158730158730157,
                    0.2757142857142858
                  ]
                },
                {
                  "mode": "lines+markers",
                  "name": "CC",
                  "type": "scatter",
                  "x": {
                    "bdata": "mpmZmZmZqT8zMzMzMzPDPwAAAAAAANA/ZmZmZmZm1j/NzMzMzMzcP5qZmZmZmeE/zczMzMzM5D8AAAAAAADoPzMzMzMzM+s/ZmZmZmZm7j8=",
                    "dtype": "f8"
                  },
                  "y": [
                    0,
                    0.005714285714285717,
                    0.03142857142857145,
                    0.07190476190476187,
                    0.11634920634920633,
                    0.15301587301587297,
                    0.18317460317460313,
                    0.20380952380952388,
                    0.23412698412698416,
                    0.26
                  ]
                },
                {
                  "mode": "lines+markers",
                  "name": "DyS-TS",
                  "type": "scatter",
                  "x": {
                    "bdata": "mpmZmZmZqT8zMzMzMzPDPwAAAAAAANA/ZmZmZmZm1j/NzMzMzMzcP5qZmZmZmeE/zczMzMzM5D8AAAAAAADoPzMzMzMzM+s/ZmZmZmZm7j8=",
                    "dtype": "f8"
                  },
                  "y": [
                    0.1347619047619048,
                    0.13873015873015876,
                    0.13841269841269846,
                    0.12682539682539684,
                    0.12285714285714282,
                    0.10111111111111108,
                    0.08031746031746029,
                    0.09587301587301585,
                    0.1576190476190476,
                    0.2326984126984127
                  ]
                },
                {
                  "mode": "lines+markers",
                  "name": "DySyn-TS",
                  "type": "scatter",
                  "x": {
                    "bdata": "mpmZmZmZqT8zMzMzMzPDPwAAAAAAANA/ZmZmZmZm1j/NzMzMzMzcP5qZmZmZmeE/zczMzMzM5D8AAAAAAADoPzMzMzMzM+s/ZmZmZmZm7j8=",
                    "dtype": "f8"
                  },
                  "y": [
                    [
                      0.0025396825396825397,
                      0.5241269841269843
                    ],
                    [
                      0.003650793650793652,
                      0.5242857142857144
                    ],
                    [
                      0.010158730158730164,
                      0.5307936507936509
                    ],
                    [
                      0.04238095238095235,
                      0.53984126984127
                    ],
                    [
                      0.08142857142857139,
                      0.5976190476190477
                    ],
                    [
                      0.06619047619047617,
                      0.542063492063492
                    ],
                    [
                      0.08269841269841266,
                      0.49158730158730163
                    ],
                    [
                      0.14015873015873018,
                      0.45285714285714274
                    ],
                    [
                      0.16380952380952382,
                      0.393015873015873
                    ],
                    [
                      0.2530158730158729,
                      0.32000000000000006
                    ]
                  ]
                },
                {
                  "mode": "lines+markers",
                  "name": "MAX",
                  "type": "scatter",
                  "x": {
                    "bdata": "mpmZmZmZqT8zMzMzMzPDPwAAAAAAANA/ZmZmZmZm1j/NzMzMzMzcP5qZmZmZmeE/zczMzMzM5D8AAAAAAADoPzMzMzMzM+s/ZmZmZmZm7j8=",
                    "dtype": "f8"
                  },
                  "y": [
                    0.1871428571428572,
                    0.18650793650793657,
                    0.18000000000000005,
                    0.1696825396825397,
                    0.17761904761904768,
                    0.2058730158730159,
                    0.2639682539682541,
                    0.3114285714285715,
                    0.3528571428571429,
                    0.3763492063492062
                  ]
                },
                {
                  "mode": "lines+markers",
                  "name": "MAXSyn-TS",
                  "type": "scatter",
                  "x": {
                    "bdata": "mpmZmZmZqT8zMzMzMzPDPwAAAAAAANA/ZmZmZmZm1j/NzMzMzMzcP5qZmZmZmeE/zczMzMzM5D8AAAAAAADoPzMzMzMzM+s/ZmZmZmZm7j8=",
                    "dtype": "f8"
                  },
                  "y": [
                    0.00015873015873015873,
                    0.005396825396825399,
                    0.030476190476190494,
                    0.05095238095238093,
                    0.12507936507936507,
                    0.136984126984127,
                    0.23190476190476186,
                    0.2366666666666667,
                    0.3242857142857143,
                    0.3203174603174603
                  ]
                },
                {
                  "mode": "lines+markers",
                  "name": "MS",
                  "type": "scatter",
                  "x": {
                    "bdata": "mpmZmZmZqT8zMzMzMzPDPwAAAAAAANA/ZmZmZmZm1j/NzMzMzMzcP5qZmZmZmeE/zczMzMzM5D8AAAAAAADoPzMzMzMzM+s/ZmZmZmZm7j8=",
                    "dtype": "f8"
                  },
                  "y": [
                    0.1828571428571429,
                    0.18095238095238095,
                    0.1753968253968254,
                    0.1649206349206349,
                    0.14539682539682544,
                    0.10460317460317456,
                    0.08730158730158726,
                    0.09476190476190476,
                    0.14952380952380953,
                    0.24396825396825397
                  ]
                },
                {
                  "mode": "lines+markers",
                  "name": "MS2",
                  "type": "scatter",
                  "x": {
                    "bdata": "mpmZmZmZqT8zMzMzMzPDPwAAAAAAANA/ZmZmZmZm1j/NzMzMzMzcP5qZmZmZmeE/zczMzMzM5D8AAAAAAADoPzMzMzMzM+s/ZmZmZmZm7j8=",
                    "dtype": "f8"
                  },
                  "y": [
                    0.18333333333333338,
                    0.1815873015873016,
                    0.17555555555555558,
                    0.1680952380952381,
                    0.15507936507936507,
                    0.14380952380952386,
                    0.20253968253968255,
                    0.24793650793650798,
                    0.2798412698412698,
                    0.2892063492063491
                  ]
                },
                {
                  "mode": "lines+markers",
                  "name": "MS2Syn-TS",
                  "type": "scatter",
                  "x": {
                    "bdata": "mpmZmZmZqT8zMzMzMzPDPwAAAAAAANA/ZmZmZmZm1j/NzMzMzMzcP5qZmZmZmeE/zczMzMzM5D8AAAAAAADoPzMzMzMzM+s/ZmZmZmZm7j8=",
                    "dtype": "f8"
                  },
                  "y": [
                    0,
                    0.005873015873015875,
                    0.022539682539682554,
                    0.05619047619047616,
                    0.0849206349206349,
                    0.12269841269841268,
                    0.16634920634920636,
                    0.15634920634920627,
                    0.20206349206349197,
                    0.3328571428571428
                  ]
                },
                {
                  "mode": "lines+markers",
                  "name": "MSSyn-TS",
                  "type": "scatter",
                  "x": {
                    "bdata": "mpmZmZmZqT8zMzMzMzPDPwAAAAAAANA/ZmZmZmZm1j/NzMzMzMzcP5qZmZmZmeE/zczMzMzM5D8AAAAAAADoPzMzMzMzM+s/ZmZmZmZm7j8=",
                    "dtype": "f8"
                  },
                  "y": [
                    0,
                    0.006190476190476193,
                    0.026666666666666682,
                    0.05269841269841266,
                    0.07841269841269835,
                    0.1052380952380952,
                    0.11079365079365076,
                    0.15873015873015872,
                    0.2252380952380953,
                    0.3114285714285715
                  ]
                },
                {
                  "mode": "lines+markers",
                  "name": "SMM",
                  "type": "scatter",
                  "x": {
                    "bdata": "mpmZmZmZqT8zMzMzMzPDPwAAAAAAANA/ZmZmZmZm1j/NzMzMzMzcP5qZmZmZmeE/zczMzMzM5D8AAAAAAADoPzMzMzMzM+s/ZmZmZmZm7j8=",
                    "dtype": "f8"
                  },
                  "y": [
                    0.19714285714285718,
                    0.18492063492063496,
                    0.17539682539682544,
                    0.1607936507936508,
                    0.1463492063492064,
                    0.11238095238095235,
                    0.07809523809523805,
                    0.08253968253968252,
                    0.1555555555555555,
                    0.2284126984126984
                  ]
                },
                {
                  "mode": "lines+markers",
                  "name": "SMMSyn-TS",
                  "type": "scatter",
                  "x": {
                    "bdata": "mpmZmZmZqT8zMzMzMzPDPwAAAAAAANA/ZmZmZmZm1j/NzMzMzMzcP5qZmZmZmeE/zczMzMzM5D8AAAAAAADoPzMzMzMzM+s/ZmZmZmZm7j8=",
                    "dtype": "f8"
                  },
                  "y": [
                    0.023650793650793662,
                    0.02571428571428573,
                    0.02444444444444446,
                    0.04095238095238095,
                    0.06476190476190472,
                    0.09904761904761901,
                    0.11809523809523811,
                    0.14253968253968252,
                    0.17222222222222225,
                    0.26047619047619053
                  ]
                },
                {
                  "mode": "lines+markers",
                  "name": "T50",
                  "type": "scatter",
                  "x": {
                    "bdata": "mpmZmZmZqT8zMzMzMzPDPwAAAAAAANA/ZmZmZmZm1j/NzMzMzMzcP5qZmZmZmeE/zczMzMzM5D8AAAAAAADoPzMzMzMzM+s/ZmZmZmZm7j8=",
                    "dtype": "f8"
                  },
                  "y": [
                    0.19619047619047622,
                    0.19619047619047622,
                    0.19444444444444448,
                    0.19682539682539685,
                    0.20936507936507942,
                    0.2531746031746032,
                    0.31301587301587314,
                    0.36873015873015874,
                    0.40492063492063496,
                    0.4404761904761906
                  ]
                },
                {
                  "mode": "lines+markers",
                  "name": "T50Syn-TS",
                  "type": "scatter",
                  "x": {
                    "bdata": "mpmZmZmZqT8zMzMzMzPDPwAAAAAAANA/ZmZmZmZm1j/NzMzMzMzcP5qZmZmZmeE/zczMzMzM5D8AAAAAAADoPzMzMzMzM+s/ZmZmZmZm7j8=",
                    "dtype": "f8"
                  },
                  "y": [
                    0.2384126984126984,
                    0.24269841269841272,
                    0.26507936507936514,
                    0.28920634920634924,
                    0.2941269841269841,
                    0.3096825396825397,
                    0.3611111111111111,
                    0.38634920634920633,
                    0.39428571428571424,
                    0.45428571428571424
                  ]
                },
                {
                  "mode": "lines+markers",
                  "name": "X",
                  "type": "scatter",
                  "x": {
                    "bdata": "mpmZmZmZqT8zMzMzMzPDPwAAAAAAANA/ZmZmZmZm1j/NzMzMzMzcP5qZmZmZmeE/zczMzMzM5D8AAAAAAADoPzMzMzMzM+s/ZmZmZmZm7j8=",
                    "dtype": "f8"
                  },
                  "y": [
                    0.17619047619047615,
                    0.17698412698412697,
                    0.16999999999999998,
                    0.15666666666666665,
                    0.13000000000000003,
                    0.10301587301587299,
                    0.06412698412698412,
                    0.07920634920634918,
                    0.15000000000000002,
                    0.22349206349206346
                  ]
                },
                {
                  "mode": "lines+markers",
                  "name": "XSyn-TS",
                  "type": "scatter",
                  "x": {
                    "bdata": "mpmZmZmZqT8zMzMzMzPDPwAAAAAAANA/ZmZmZmZm1j/NzMzMzMzcP5qZmZmZmeE/zczMzMzM5D8AAAAAAADoPzMzMzMzM+s/ZmZmZmZm7j8=",
                    "dtype": "f8"
                  },
                  "y": [
                    0,
                    0.006190476190476192,
                    0.0215873015873016,
                    0.04761904761904759,
                    0.06936507936507934,
                    0.08650793650793646,
                    0.1033333333333333,
                    0.14079365079365078,
                    0.15333333333333335,
                    0.2880952380952382
                  ]
                }
              ],
              "layout": {
                "template": {
                  "data": {
                    "bar": [
                      {
                        "error_x": {
                          "color": "#2a3f5f"
                        },
                        "error_y": {
                          "color": "#2a3f5f"
                        },
                        "marker": {
                          "line": {
                            "color": "#E5ECF6",
                            "width": 0.5
                          },
                          "pattern": {
                            "fillmode": "overlay",
                            "size": 10,
                            "solidity": 0.2
                          }
                        },
                        "type": "bar"
                      }
                    ],
                    "barpolar": [
                      {
                        "marker": {
                          "line": {
                            "color": "#E5ECF6",
                            "width": 0.5
                          },
                          "pattern": {
                            "fillmode": "overlay",
                            "size": 10,
                            "solidity": 0.2
                          }
                        },
                        "type": "barpolar"
                      }
                    ],
                    "carpet": [
                      {
                        "aaxis": {
                          "endlinecolor": "#2a3f5f",
                          "gridcolor": "white",
                          "linecolor": "white",
                          "minorgridcolor": "white",
                          "startlinecolor": "#2a3f5f"
                        },
                        "baxis": {
                          "endlinecolor": "#2a3f5f",
                          "gridcolor": "white",
                          "linecolor": "white",
                          "minorgridcolor": "white",
                          "startlinecolor": "#2a3f5f"
                        },
                        "type": "carpet"
                      }
                    ],
                    "choropleth": [
                      {
                        "colorbar": {
                          "outlinewidth": 0,
                          "ticks": ""
                        },
                        "type": "choropleth"
                      }
                    ],
                    "contour": [
                      {
                        "colorbar": {
                          "outlinewidth": 0,
                          "ticks": ""
                        },
                        "colorscale": [
                          [
                            0,
                            "#0d0887"
                          ],
                          [
                            0.1111111111111111,
                            "#46039f"
                          ],
                          [
                            0.2222222222222222,
                            "#7201a8"
                          ],
                          [
                            0.3333333333333333,
                            "#9c179e"
                          ],
                          [
                            0.4444444444444444,
                            "#bd3786"
                          ],
                          [
                            0.5555555555555556,
                            "#d8576b"
                          ],
                          [
                            0.6666666666666666,
                            "#ed7953"
                          ],
                          [
                            0.7777777777777778,
                            "#fb9f3a"
                          ],
                          [
                            0.8888888888888888,
                            "#fdca26"
                          ],
                          [
                            1,
                            "#f0f921"
                          ]
                        ],
                        "type": "contour"
                      }
                    ],
                    "contourcarpet": [
                      {
                        "colorbar": {
                          "outlinewidth": 0,
                          "ticks": ""
                        },
                        "type": "contourcarpet"
                      }
                    ],
                    "heatmap": [
                      {
                        "colorbar": {
                          "outlinewidth": 0,
                          "ticks": ""
                        },
                        "colorscale": [
                          [
                            0,
                            "#0d0887"
                          ],
                          [
                            0.1111111111111111,
                            "#46039f"
                          ],
                          [
                            0.2222222222222222,
                            "#7201a8"
                          ],
                          [
                            0.3333333333333333,
                            "#9c179e"
                          ],
                          [
                            0.4444444444444444,
                            "#bd3786"
                          ],
                          [
                            0.5555555555555556,
                            "#d8576b"
                          ],
                          [
                            0.6666666666666666,
                            "#ed7953"
                          ],
                          [
                            0.7777777777777778,
                            "#fb9f3a"
                          ],
                          [
                            0.8888888888888888,
                            "#fdca26"
                          ],
                          [
                            1,
                            "#f0f921"
                          ]
                        ],
                        "type": "heatmap"
                      }
                    ],
                    "histogram": [
                      {
                        "marker": {
                          "pattern": {
                            "fillmode": "overlay",
                            "size": 10,
                            "solidity": 0.2
                          }
                        },
                        "type": "histogram"
                      }
                    ],
                    "histogram2d": [
                      {
                        "colorbar": {
                          "outlinewidth": 0,
                          "ticks": ""
                        },
                        "colorscale": [
                          [
                            0,
                            "#0d0887"
                          ],
                          [
                            0.1111111111111111,
                            "#46039f"
                          ],
                          [
                            0.2222222222222222,
                            "#7201a8"
                          ],
                          [
                            0.3333333333333333,
                            "#9c179e"
                          ],
                          [
                            0.4444444444444444,
                            "#bd3786"
                          ],
                          [
                            0.5555555555555556,
                            "#d8576b"
                          ],
                          [
                            0.6666666666666666,
                            "#ed7953"
                          ],
                          [
                            0.7777777777777778,
                            "#fb9f3a"
                          ],
                          [
                            0.8888888888888888,
                            "#fdca26"
                          ],
                          [
                            1,
                            "#f0f921"
                          ]
                        ],
                        "type": "histogram2d"
                      }
                    ],
                    "histogram2dcontour": [
                      {
                        "colorbar": {
                          "outlinewidth": 0,
                          "ticks": ""
                        },
                        "colorscale": [
                          [
                            0,
                            "#0d0887"
                          ],
                          [
                            0.1111111111111111,
                            "#46039f"
                          ],
                          [
                            0.2222222222222222,
                            "#7201a8"
                          ],
                          [
                            0.3333333333333333,
                            "#9c179e"
                          ],
                          [
                            0.4444444444444444,
                            "#bd3786"
                          ],
                          [
                            0.5555555555555556,
                            "#d8576b"
                          ],
                          [
                            0.6666666666666666,
                            "#ed7953"
                          ],
                          [
                            0.7777777777777778,
                            "#fb9f3a"
                          ],
                          [
                            0.8888888888888888,
                            "#fdca26"
                          ],
                          [
                            1,
                            "#f0f921"
                          ]
                        ],
                        "type": "histogram2dcontour"
                      }
                    ],
                    "mesh3d": [
                      {
                        "colorbar": {
                          "outlinewidth": 0,
                          "ticks": ""
                        },
                        "type": "mesh3d"
                      }
                    ],
                    "parcoords": [
                      {
                        "line": {
                          "colorbar": {
                            "outlinewidth": 0,
                            "ticks": ""
                          }
                        },
                        "type": "parcoords"
                      }
                    ],
                    "pie": [
                      {
                        "automargin": true,
                        "type": "pie"
                      }
                    ],
                    "scatter": [
                      {
                        "fillpattern": {
                          "fillmode": "overlay",
                          "size": 10,
                          "solidity": 0.2
                        },
                        "type": "scatter"
                      }
                    ],
                    "scatter3d": [
                      {
                        "line": {
                          "colorbar": {
                            "outlinewidth": 0,
                            "ticks": ""
                          }
                        },
                        "marker": {
                          "colorbar": {
                            "outlinewidth": 0,
                            "ticks": ""
                          }
                        },
                        "type": "scatter3d"
                      }
                    ],
                    "scattercarpet": [
                      {
                        "marker": {
                          "colorbar": {
                            "outlinewidth": 0,
                            "ticks": ""
                          }
                        },
                        "type": "scattercarpet"
                      }
                    ],
                    "scattergeo": [
                      {
                        "marker": {
                          "colorbar": {
                            "outlinewidth": 0,
                            "ticks": ""
                          }
                        },
                        "type": "scattergeo"
                      }
                    ],
                    "scattergl": [
                      {
                        "marker": {
                          "colorbar": {
                            "outlinewidth": 0,
                            "ticks": ""
                          }
                        },
                        "type": "scattergl"
                      }
                    ],
                    "scattermap": [
                      {
                        "marker": {
                          "colorbar": {
                            "outlinewidth": 0,
                            "ticks": ""
                          }
                        },
                        "type": "scattermap"
                      }
                    ],
                    "scattermapbox": [
                      {
                        "marker": {
                          "colorbar": {
                            "outlinewidth": 0,
                            "ticks": ""
                          }
                        },
                        "type": "scattermapbox"
                      }
                    ],
                    "scatterpolar": [
                      {
                        "marker": {
                          "colorbar": {
                            "outlinewidth": 0,
                            "ticks": ""
                          }
                        },
                        "type": "scatterpolar"
                      }
                    ],
                    "scatterpolargl": [
                      {
                        "marker": {
                          "colorbar": {
                            "outlinewidth": 0,
                            "ticks": ""
                          }
                        },
                        "type": "scatterpolargl"
                      }
                    ],
                    "scatterternary": [
                      {
                        "marker": {
                          "colorbar": {
                            "outlinewidth": 0,
                            "ticks": ""
                          }
                        },
                        "type": "scatterternary"
                      }
                    ],
                    "surface": [
                      {
                        "colorbar": {
                          "outlinewidth": 0,
                          "ticks": ""
                        },
                        "colorscale": [
                          [
                            0,
                            "#0d0887"
                          ],
                          [
                            0.1111111111111111,
                            "#46039f"
                          ],
                          [
                            0.2222222222222222,
                            "#7201a8"
                          ],
                          [
                            0.3333333333333333,
                            "#9c179e"
                          ],
                          [
                            0.4444444444444444,
                            "#bd3786"
                          ],
                          [
                            0.5555555555555556,
                            "#d8576b"
                          ],
                          [
                            0.6666666666666666,
                            "#ed7953"
                          ],
                          [
                            0.7777777777777778,
                            "#fb9f3a"
                          ],
                          [
                            0.8888888888888888,
                            "#fdca26"
                          ],
                          [
                            1,
                            "#f0f921"
                          ]
                        ],
                        "type": "surface"
                      }
                    ],
                    "table": [
                      {
                        "cells": {
                          "fill": {
                            "color": "#EBF0F8"
                          },
                          "line": {
                            "color": "white"
                          }
                        },
                        "header": {
                          "fill": {
                            "color": "#C8D4E3"
                          },
                          "line": {
                            "color": "white"
                          }
                        },
                        "type": "table"
                      }
                    ]
                  },
                  "layout": {
                    "annotationdefaults": {
                      "arrowcolor": "#2a3f5f",
                      "arrowhead": 0,
                      "arrowwidth": 1
                    },
                    "autotypenumbers": "strict",
                    "coloraxis": {
                      "colorbar": {
                        "outlinewidth": 0,
                        "ticks": ""
                      }
                    },
                    "colorscale": {
                      "diverging": [
                        [
                          0,
                          "#8e0152"
                        ],
                        [
                          0.1,
                          "#c51b7d"
                        ],
                        [
                          0.2,
                          "#de77ae"
                        ],
                        [
                          0.3,
                          "#f1b6da"
                        ],
                        [
                          0.4,
                          "#fde0ef"
                        ],
                        [
                          0.5,
                          "#f7f7f7"
                        ],
                        [
                          0.6,
                          "#e6f5d0"
                        ],
                        [
                          0.7,
                          "#b8e186"
                        ],
                        [
                          0.8,
                          "#7fbc41"
                        ],
                        [
                          0.9,
                          "#4d9221"
                        ],
                        [
                          1,
                          "#276419"
                        ]
                      ],
                      "sequential": [
                        [
                          0,
                          "#0d0887"
                        ],
                        [
                          0.1111111111111111,
                          "#46039f"
                        ],
                        [
                          0.2222222222222222,
                          "#7201a8"
                        ],
                        [
                          0.3333333333333333,
                          "#9c179e"
                        ],
                        [
                          0.4444444444444444,
                          "#bd3786"
                        ],
                        [
                          0.5555555555555556,
                          "#d8576b"
                        ],
                        [
                          0.6666666666666666,
                          "#ed7953"
                        ],
                        [
                          0.7777777777777778,
                          "#fb9f3a"
                        ],
                        [
                          0.8888888888888888,
                          "#fdca26"
                        ],
                        [
                          1,
                          "#f0f921"
                        ]
                      ],
                      "sequentialminus": [
                        [
                          0,
                          "#0d0887"
                        ],
                        [
                          0.1111111111111111,
                          "#46039f"
                        ],
                        [
                          0.2222222222222222,
                          "#7201a8"
                        ],
                        [
                          0.3333333333333333,
                          "#9c179e"
                        ],
                        [
                          0.4444444444444444,
                          "#bd3786"
                        ],
                        [
                          0.5555555555555556,
                          "#d8576b"
                        ],
                        [
                          0.6666666666666666,
                          "#ed7953"
                        ],
                        [
                          0.7777777777777778,
                          "#fb9f3a"
                        ],
                        [
                          0.8888888888888888,
                          "#fdca26"
                        ],
                        [
                          1,
                          "#f0f921"
                        ]
                      ]
                    },
                    "colorway": [
                      "#636efa",
                      "#EF553B",
                      "#00cc96",
                      "#ab63fa",
                      "#FFA15A",
                      "#19d3f3",
                      "#FF6692",
                      "#B6E880",
                      "#FF97FF",
                      "#FECB52"
                    ],
                    "font": {
                      "color": "#2a3f5f"
                    },
                    "geo": {
                      "bgcolor": "white",
                      "lakecolor": "white",
                      "landcolor": "#E5ECF6",
                      "showlakes": true,
                      "showland": true,
                      "subunitcolor": "white"
                    },
                    "hoverlabel": {
                      "align": "left"
                    },
                    "hovermode": "closest",
                    "mapbox": {
                      "style": "light"
                    },
                    "paper_bgcolor": "white",
                    "plot_bgcolor": "#E5ECF6",
                    "polar": {
                      "angularaxis": {
                        "gridcolor": "white",
                        "linecolor": "white",
                        "ticks": ""
                      },
                      "bgcolor": "#E5ECF6",
                      "radialaxis": {
                        "gridcolor": "white",
                        "linecolor": "white",
                        "ticks": ""
                      }
                    },
                    "scene": {
                      "xaxis": {
                        "backgroundcolor": "#E5ECF6",
                        "gridcolor": "white",
                        "gridwidth": 2,
                        "linecolor": "white",
                        "showbackground": true,
                        "ticks": "",
                        "zerolinecolor": "white"
                      },
                      "yaxis": {
                        "backgroundcolor": "#E5ECF6",
                        "gridcolor": "white",
                        "gridwidth": 2,
                        "linecolor": "white",
                        "showbackground": true,
                        "ticks": "",
                        "zerolinecolor": "white"
                      },
                      "zaxis": {
                        "backgroundcolor": "#E5ECF6",
                        "gridcolor": "white",
                        "gridwidth": 2,
                        "linecolor": "white",
                        "showbackground": true,
                        "ticks": "",
                        "zerolinecolor": "white"
                      }
                    },
                    "shapedefaults": {
                      "line": {
                        "color": "#2a3f5f"
                      }
                    },
                    "ternary": {
                      "aaxis": {
                        "gridcolor": "white",
                        "linecolor": "white",
                        "ticks": ""
                      },
                      "baxis": {
                        "gridcolor": "white",
                        "linecolor": "white",
                        "ticks": ""
                      },
                      "bgcolor": "#E5ECF6",
                      "caxis": {
                        "gridcolor": "white",
                        "linecolor": "white",
                        "ticks": ""
                      }
                    },
                    "title": {
                      "x": 0.05
                    },
                    "xaxis": {
                      "automargin": true,
                      "gridcolor": "white",
                      "linecolor": "white",
                      "ticks": "",
                      "title": {
                        "standoff": 15
                      },
                      "zerolinecolor": "white",
                      "zerolinewidth": 2
                    },
                    "yaxis": {
                      "automargin": true,
                      "gridcolor": "white",
                      "linecolor": "white",
                      "ticks": "",
                      "title": {
                        "standoff": 15
                      },
                      "zerolinecolor": "white",
                      "zerolinewidth": 2
                    }
                  }
                },
                "title": {
                  "text": "MAE vs MFte for MFtr = 0.7"
                },
                "xaxis": {
                  "title": {
                    "text": "MFte"
                  }
                },
                "yaxis": {
                  "title": {
                    "text": "MAE"
                  }
                }
              }
            }
          },
          "metadata": {},
          "output_type": "display_data"
        },
        {
          "data": {
            "application/vnd.jupyter.widget-view+json": {
              "model_id": "84f031b9309e4c38801c25a2c6876132",
              "version_major": 2,
              "version_minor": 0
            },
            "text/plain": [
              "Dropdown(description='MFtr:', options=(np.float64(0.7),), value=np.float64(0.7))"
            ]
          },
          "metadata": {},
          "output_type": "display_data"
        }
      ],
      "source": [
        "import plotly.graph_objects as go\n",
        "import ipywidgets as widgets\n",
        "from IPython.display import display, clear_output\n",
        "\n",
        "\n",
        "mftr_dropdown = widgets.Dropdown(\n",
        "    options=grouped['MFtr'].unique(),\n",
        "    description='MFtr:'\n",
        ")\n",
        "\n",
        "mftr_dropdown.value = grouped['MFtr'].unique()[0]\n",
        "\n",
        "def update_plot(change):\n",
        "    selected_mftr = mftr_dropdown.value\n",
        "    filtered_data = grouped[grouped['MFtr'] == selected_mftr]\n",
        "\n",
        "    fig = go.Figure()\n",
        "    for qnt_val in filtered_data['Qnt'].unique():\n",
        "        qnt_data = filtered_data[filtered_data['Qnt'] == qnt_val]\n",
        "        fig.add_trace(go.Scatter(x=qnt_data['MFte'], y=qnt_data['AE'], mode='lines+markers', name=qnt_val))\n",
        "\n",
        "    fig.update_layout(title=f'MAE vs MFte for MFtr = {selected_mftr}',\n",
        "                      xaxis_title='MFte',\n",
        "                      yaxis_title='MAE')\n",
        "\n",
        "    clear_output(wait=True)\n",
        "    display(fig)\n",
        "    display(mftr_dropdown)\n",
        "\n",
        "\n",
        "\n",
        "mftr_dropdown.observe(update_plot, names='value')\n",
        "display(mftr_dropdown)\n",
        "update_plot(None)"
      ]
    }
  ],
  "metadata": {
    "colab": {
      "provenance": []
    },
    "kernelspec": {
      "display_name": "venv",
      "language": "python",
      "name": "python3"
    },
    "language_info": {
      "codemirror_mode": {
        "name": "ipython",
        "version": 3
      },
      "file_extension": ".py",
      "mimetype": "text/x-python",
      "name": "python",
      "nbconvert_exporter": "python",
      "pygments_lexer": "ipython3",
      "version": "3.11.2"
    },
    "widgets": {
      "application/vnd.jupyter.widget-state+json": {
        "1e7b44b9592447c1a519c4e4c5df7ba5": {
          "model_module": "@jupyter-widgets/controls",
          "model_module_version": "1.5.0",
          "model_name": "DescriptionStyleModel",
          "state": {
            "_model_module": "@jupyter-widgets/controls",
            "_model_module_version": "1.5.0",
            "_model_name": "DescriptionStyleModel",
            "_view_count": null,
            "_view_module": "@jupyter-widgets/base",
            "_view_module_version": "1.2.0",
            "_view_name": "StyleView",
            "description_width": ""
          }
        },
        "287c5628c07040b893ed3ea57e8a1881": {
          "model_module": "@jupyter-widgets/base",
          "model_module_version": "1.2.0",
          "model_name": "LayoutModel",
          "state": {
            "_model_module": "@jupyter-widgets/base",
            "_model_module_version": "1.2.0",
            "_model_name": "LayoutModel",
            "_view_count": null,
            "_view_module": "@jupyter-widgets/base",
            "_view_module_version": "1.2.0",
            "_view_name": "LayoutView",
            "align_content": null,
            "align_items": null,
            "align_self": null,
            "border": null,
            "bottom": null,
            "display": null,
            "flex": null,
            "flex_flow": null,
            "grid_area": null,
            "grid_auto_columns": null,
            "grid_auto_flow": null,
            "grid_auto_rows": null,
            "grid_column": null,
            "grid_gap": null,
            "grid_row": null,
            "grid_template_areas": null,
            "grid_template_columns": null,
            "grid_template_rows": null,
            "height": null,
            "justify_content": null,
            "justify_items": null,
            "left": null,
            "margin": null,
            "max_height": null,
            "max_width": null,
            "min_height": null,
            "min_width": null,
            "object_fit": null,
            "object_position": null,
            "order": null,
            "overflow": null,
            "overflow_x": null,
            "overflow_y": null,
            "padding": null,
            "right": null,
            "top": null,
            "visibility": null,
            "width": null
          }
        },
        "98b586d6743b4fa785514d8fe9f56664": {
          "model_module": "@jupyter-widgets/controls",
          "model_module_version": "1.5.0",
          "model_name": "DropdownModel",
          "state": {
            "_dom_classes": [],
            "_model_module": "@jupyter-widgets/controls",
            "_model_module_version": "1.5.0",
            "_model_name": "DropdownModel",
            "_options_labels": [
              "0.7"
            ],
            "_view_count": null,
            "_view_module": "@jupyter-widgets/controls",
            "_view_module_version": "1.5.0",
            "_view_name": "DropdownView",
            "description": "MFtr:",
            "description_tooltip": null,
            "disabled": false,
            "index": 0,
            "layout": "IPY_MODEL_287c5628c07040b893ed3ea57e8a1881",
            "style": "IPY_MODEL_1e7b44b9592447c1a519c4e4c5df7ba5"
          }
        }
      }
    }
  },
  "nbformat": 4,
  "nbformat_minor": 0
}
