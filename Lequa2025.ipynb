{
  "cells": [
    {
      "cell_type": "code",
      "execution_count": 1,
      "metadata": {
        "colab": {
          "base_uri": "https://localhost:8080/"
        },
        "collapsed": true,
        "id": "_9_g0w7RnHf3",
        "outputId": "a40eb7c3-fcc5-4ca9-c3d9-a42d88def5a3"
      },
      "outputs": [],
      "source": [
        "# !pip install mlquantify\n",
        "\n",
        "import os\n",
        "import numpy as np\n",
        "import pandas as pd\n",
        "import pdb\n",
        "import statistics"
      ]
    },
    {
      "cell_type": "markdown",
      "metadata": {
        "id": "oPeAxRo7qVnf"
      },
      "source": [
        "### Quantifiers"
      ]
    },
    {
      "cell_type": "code",
      "execution_count": 2,
      "metadata": {
        "id": "3dJ55pwXqXuU"
      },
      "outputs": [],
      "source": [
        "def CC(test, thr=0.5):\n",
        "    result = np.sum(test >= thr) / len(test)\n",
        "    result = max(0, min(result, 1))\n",
        "\n",
        "    return np.array([result, 1 - result], dtype=float)\n",
        "\n",
        "def ACC(test, TprFpr, thr=0.5):\n",
        "    dC = CC(test)  # Implement CC function separately\n",
        "\n",
        "    tpr_fpr_row = TprFpr[TprFpr[:, 0] == thr, 1:3].astype(float)\n",
        "    if tpr_fpr_row.size == 0:\n",
        "        raise ValueError(\"Threshold value not found in TprFpr.\")\n",
        "\n",
        "    tpr, fpr = tpr_fpr_row[0]\n",
        "\n",
        "    result = (dC[0] - fpr) / (tpr - fpr) if (tpr - fpr) != 0 else 0\n",
        "    result = max(0, min(result, 1))\n",
        "\n",
        "    return np.array([result, 1 - result], dtype=float)\n",
        "\n",
        "\n",
        "def DyS(p_score, n_score, test, measure=\"topsoe\", bins=np.arange(2, 22, 2), err=1e-5):\n",
        "    results = []\n",
        "\n",
        "    for b_size in bins:\n",
        "        Sty_1 = getHist(p_score, b_size)  # Implement getHist separately\n",
        "        Sty_2 = getHist(n_score, b_size)\n",
        "        Uy = getHist(test, b_size)\n",
        "\n",
        "        def f(x):\n",
        "            return DySyn_distance(np.vstack([(Sty_1 * x) + (Sty_2 * (1 - x)), Uy]), method=measure)  # Implement DyS_distance separately\n",
        "\n",
        "        best_alpha = TernarySearch(0, 1, f, err)  # Implement TernarySearch separately\n",
        "        results.append(best_alpha)\n",
        "\n",
        "    result = statistics.median(results)\n",
        "    result = max(0, min(result, 1))\n",
        "\n",
        "    return np.array([result, 1 - result])"
      ]
    },
    {
      "cell_type": "code",
      "execution_count": 33,
      "metadata": {
        "id": "CgklvHSbra_z"
      },
      "outputs": [],
      "source": [
        "def DySyn(ts, measure):\n",
        "    MF = np.arange(0.1, 1.0, 0.2) # mudar de 0.2 a 0.7\n",
        "    MF = np.round(MF, 2)\n",
        "\n",
        "    results = []\n",
        "    distances = []\n",
        "\n",
        "    for mf in MF:\n",
        "        scores = MoSS(1000, 0.5, mf)  # Implement MoSS function separately\n",
        "        test_p = scores[scores[:, 2] == 1, 0]\n",
        "        test_n = scores[scores[:, 2] == 2, 0]\n",
        "\n",
        "        if measure == \"sord\":\n",
        "            rQnt = DySyn_SORD(test_p, test_n, ts)  # Implement DySyn_SORD separately\n",
        "        else:\n",
        "            rQnt = DySyn_DyS(test_p, test_n, ts, measure, [10])  # Implement DySyn_DyS separately\n",
        "\n",
        "        distances.append(rQnt[1])\n",
        "        results.append(rQnt[0][0])\n",
        "\n",
        "    best_result = round(results[np.argmin(distances)], 2)\n",
        "    return [np.array([best_result, 1 - best_result]), min(distances), MF[np.argmin(distances)]]\n",
        "\n",
        "def DySyn_DyS(p_score, n_score, test, measure=\"hellinger\", b_sizes = list(range(2, 21, 2)) + [30]):\n",
        "    results = []\n",
        "    vDistAll = []\n",
        "\n",
        "    for b_size in b_sizes:\n",
        "        Sty_1 = getHist(p_score, b_size)  # Implement getHist separately\n",
        "        Sty_2 = getHist(n_score, b_size)\n",
        "        Uy = getHist(test, b_size)\n",
        "\n",
        "        def f(x):\n",
        "            return DySyn_distance(np.vstack([(Sty_1 * x) + (Sty_2 * (1 - x)), Uy]), method=measure)  # Implement DySyn_distance separately\n",
        "\n",
        "        best_alpha = TernarySearch(0, 1, f, 1e-2)  # Implement TernarySearch separately\n",
        "        results.append(best_alpha)\n",
        "        vDistAll.append(f(best_alpha))\n",
        "\n",
        "    median_result = np.median(results)\n",
        "    return [np.array([round(median_result, 2), 1 - round(median_result, 2)]), min(vDistAll)]\n",
        "\n",
        "def PNTDiff(pos, neg, test, pos_prop):\n",
        "    p_w = pos_prop / len(pos)\n",
        "    n_w = (1 - pos_prop) / len(neg)\n",
        "    t_w = -1 / len(test)\n",
        "\n",
        "    p = np.column_stack((pos, np.full(len(pos), p_w)))\n",
        "    n = np.column_stack((neg, np.full(len(neg), n_w)))\n",
        "    t = np.column_stack((test, np.full(len(test), t_w)))\n",
        "\n",
        "    v = np.vstack((p, n, t))\n",
        "    v = v[v[:, 0].argsort()]\n",
        "\n",
        "    acc = v[0, 1]\n",
        "    total_cost = 0\n",
        "\n",
        "    for i in range(1, len(v)):\n",
        "        cost_mul = v[i, 0] - v[i - 1, 0]\n",
        "        total_cost += abs(cost_mul * acc)\n",
        "        acc += v[i, 1]\n",
        "\n",
        "    return total_cost\n",
        "\n",
        "def DySyn_SORD(p_score, n_score, test):\n",
        "    def f(x):\n",
        "        return PNTDiff(p_score, n_score, test, x)\n",
        "\n",
        "    best_alpha = TernarySearch(0, 1, f, 1e-5)  # Implement TernarySearch separately\n",
        "    vDist = f(best_alpha)\n",
        "\n",
        "    return [np.array([round(best_alpha, 2), 1 - round(best_alpha, 2)]), vDist]"
      ]
    },
    {
      "cell_type": "markdown",
      "metadata": {
        "id": "kS0GiAs2r3xi"
      },
      "source": [
        "### Utils"
      ]
    },
    {
      "cell_type": "code",
      "execution_count": 4,
      "metadata": {
        "id": "IDcpqUDhnEcG"
      },
      "outputs": [],
      "source": [
        "def getTPRandFPRbyThreshold(validation_scores):\n",
        "    unique_scores = np.arange(0.01, 1.00, 0.01)\n",
        "    arrayOfTPRandFPRByTr = []\n",
        "\n",
        "    total_positive = np.sum(validation_scores[:, 2] == 1)\n",
        "    total_negative = np.sum(validation_scores[:, 2] == 2)\n",
        "\n",
        "    for threshold in unique_scores:\n",
        "        fp = np.sum((validation_scores[:, 0] > threshold) & (validation_scores[:, 2] == 2))\n",
        "        tp = np.sum((validation_scores[:, 0] > threshold) & (validation_scores[:, 2] == 1))\n",
        "        tpr = tp / total_positive if total_positive > 0 else 0\n",
        "        fpr = fp / total_negative if total_negative > 0 else 0\n",
        "\n",
        "        arrayOfTPRandFPRByTr.append([round(threshold, 2), tpr, fpr])\n",
        "\n",
        "    return np.array(arrayOfTPRandFPRByTr, dtype=object)"
      ]
    },
    {
      "cell_type": "code",
      "execution_count": 5,
      "metadata": {
        "id": "y1dKRWp6r69v"
      },
      "outputs": [],
      "source": [
        "import numpy as np\n",
        "\n",
        "def DySyn_distance(x, method=\"hellinger\"):\n",
        "    if method == \"ord\":\n",
        "        x_dif = x[0, :] - x[1, :]\n",
        "        acum = 0\n",
        "        aux = 0\n",
        "        for val in x_dif:\n",
        "            aux += val\n",
        "            acum += aux\n",
        "        return abs(acum)\n",
        "\n",
        "    if method == \"topsoe\":\n",
        "        return sum(x[0, i] * np.log((2 * x[0, i]) / (x[0, i] + x[1, i])) +\n",
        "                   x[1, i] * np.log((2 * x[1, i]) / (x[1, i] + x[0, i])) for i in range(x.shape[1]))\n",
        "\n",
        "    if method == \"jensen_difference\":\n",
        "        return sum(((x[0, i] * np.log(x[0, i]) + x[1, i] * np.log(x[1, i])) / 2) -\n",
        "                   ((x[0, i] + x[1, i]) / 2) * np.log((x[0, i] + x[1, i]) / 2) for i in range(x.shape[1]))\n",
        "\n",
        "    if method == \"taneja\":\n",
        "        return sum(((x[0, i] + x[1, i]) / 2) * np.log((x[0, i] + x[1, i]) / (2 * np.sqrt(x[0, i] * x[1, i])))\n",
        "                   for i in range(x.shape[1]))\n",
        "\n",
        "    if method == \"hellinger\":\n",
        "        return 2 * np.sqrt(1 - sum(np.sqrt(x[0, i] * x[1, i]) for i in range(x.shape[1])))\n",
        "\n",
        "    if method == \"prob_symm\":\n",
        "        return 2 * sum(((x[0, i] - x[1, i]) ** 2) / (x[0, i] + x[1, i]) for i in range(x.shape[1]))\n",
        "\n",
        "    raise ValueError(\"measure argument must be a valid option\")\n",
        "\n",
        "def getHist(scores, nbins):\n",
        "    breaks = np.linspace(0, 1, nbins + 1)\n",
        "    breaks[-1] = 1.1\n",
        "    re = np.full(len(breaks) - 1, 1 / (len(breaks) - 1))\n",
        "\n",
        "    for i in range(1, len(breaks)):\n",
        "        re[i - 1] = (re[i - 1] + np.sum((scores >= breaks[i - 1]) & (scores < breaks[i]))) / (len(scores) + 1)\n",
        "\n",
        "    return re\n",
        "\n",
        "def TernarySearch(left, right, f, eps=1e-4):\n",
        "    while True:\n",
        "        if abs(left - right) < eps:\n",
        "            return (left + right) / 2\n",
        "\n",
        "        leftThird = left + (right - left) / 3\n",
        "        rightThird = right - (right - left) / 3\n",
        "\n",
        "        if f(leftThird) > f(rightThird):\n",
        "            left = leftThird\n",
        "        else:\n",
        "            right = rightThird\n"
      ]
    },
    {
      "cell_type": "code",
      "execution_count": 6,
      "metadata": {
        "id": "euC8rIxbnXly"
      },
      "outputs": [],
      "source": [
        "def MoSS(n, alpha, m):\n",
        "    p_score = np.random.uniform(size=int(n * alpha)) ** m\n",
        "    n_score = 1 - (np.random.uniform(size=int(round(n * (1 - alpha), 0))) ** m)\n",
        "    scores = np.column_stack((np.concatenate((p_score, n_score)), np.concatenate((p_score, n_score)), np.concatenate((np.ones(len(p_score)), np.full(len(n_score), 2)))))\n",
        "    # pdb.set_trace()\n",
        "    return scores"
      ]
    },
    {
      "cell_type": "code",
      "execution_count": 7,
      "metadata": {
        "colab": {
          "base_uri": "https://localhost:8080/"
        },
        "collapsed": true,
        "id": "JPpRCrLxYeiL",
        "outputId": "0e0782de-27df-484f-ddb1-730ad96b13f6"
      },
      "outputs": [
        {
          "data": {
            "text/plain": [
              "array([[1., 1., 1.],\n",
              "       [0., 0., 2.]])"
            ]
          },
          "execution_count": 7,
          "metadata": {},
          "output_type": "execute_result"
        }
      ],
      "source": [
        "scrs = MoSS(2, 0.5, 0.0)\n",
        "scrs"
      ]
    },
    {
      "cell_type": "code",
      "execution_count": 8,
      "metadata": {
        "id": "gN422rG7oC6R"
      },
      "outputs": [],
      "source": [
        "def apply_qntMethod(qntMethod, p_score, n_score, test, TprFpr=None, thr=None, measure=\"hellinger\"):\n",
        "    import mlquantify  # Ensure the mlquantify package is available\n",
        "    \n",
        "    if qntMethod == \"CC\":\n",
        "        return CC(test=test, thr=thr)\n",
        "\n",
        "    if qntMethod == \"ACCSyn\":\n",
        "        return ACCSyn(ts=test, measure=measure)\n",
        "\n",
        "    if qntMethod == \"XSyn\":\n",
        "        return XSyn(ts=test, measure=measure)\n",
        "\n",
        "    if qntMethod == \"MAXSyn\":\n",
        "        return MAXSyn(ts=test, measure=measure)\n",
        "\n",
        "    if qntMethod == \"T50Syn\":\n",
        "        return T50Syn(ts=test, measure=measure)\n",
        "\n",
        "    if qntMethod == \"MSSyn\":\n",
        "        return MSSyn(ts=test, measure=measure)\n",
        "\n",
        "    if qntMethod == \"MS2Syn\":\n",
        "        return MS2Syn(ts=test, measure=measure)\n",
        "\n",
        "    if qntMethod == \"SMMSyn\":\n",
        "        return SMMSyn(ts=test, measure=measure)\n",
        "\n",
        "    if qntMethod == \"PCC\":\n",
        "        return mlquantify.PCC(test)\n",
        "\n",
        "    if qntMethod == \"ACC\":\n",
        "        return ACC(test=test, TprFpr=TprFpr, thr=thr)\n",
        "\n",
        "    if qntMethod == \"T50\":\n",
        "        return T50(ts=test, TprFpr=TprFpr)\n",
        "\n",
        "    if qntMethod == \"X\":\n",
        "        return X(ts=test, TprFpr=TprFpr)\n",
        "\n",
        "    if qntMethod == \"MAX\":\n",
        "        return MAX(ts=test, TprFpr=TprFpr)\n",
        "\n",
        "    if qntMethod == \"PACC\":\n",
        "        return mlquantify.methods.PACC(ts=test, TprFpr=TprFpr, thr=thr)\n",
        "\n",
        "    if qntMethod == \"DySyn\":\n",
        "        return DySyn(ts=test, measure=measure)\n",
        "\n",
        "    if qntMethod == \"HDy-LP\":\n",
        "        return mlquantify.HDy_LP(p_score=p_score, n_score=n_score, test=test)\n",
        "\n",
        "    if qntMethod == \"DyS\":\n",
        "        return DyS(p_score=p_score, n_score=n_score, test=test, measure=measure)\n",
        "\n",
        "    if qntMethod == \"SORD\":\n",
        "        return mlquantify.SORD(p_score=p_score, n_score=n_score, test=test)\n",
        "\n",
        "    if qntMethod == \"MS\":\n",
        "        return MS(ts=test, TprFpr=TprFpr)\n",
        "\n",
        "    if qntMethod == \"MS2\":\n",
        "        return MS2(ts=test, TprFpr=TprFpr)\n",
        "\n",
        "    if qntMethod == \"SMM\":\n",
        "        return SMM(p_scores=p_score, n_scores=n_score, t_scores=test)\n",
        "\n",
        "    print(\"ERROR - Quantification method was not applied!\")\n",
        "    return None"
      ]
    },
    {
      "cell_type": "markdown",
      "metadata": {
        "id": "R_uxH3y8YTQC"
      },
      "source": [
        "### Proposal"
      ]
    },
    {
      "cell_type": "code",
      "execution_count": 32,
      "metadata": {
        "id": "5099ig3BYTn0"
      },
      "outputs": [],
      "source": [
        "def ACCSyn(ts, measure):\n",
        "    rQnt = DySyn(ts, measure)\n",
        "    TprFpr = np.array(getTPRandFPRbyThreshold(MoSS(1000, 0.5, rQnt[2]))).astype(float)  # Implement getTPRandFPRbyThreshold\n",
        "\n",
        "    dC = CC(ts)  # Implement CC function separately\n",
        "\n",
        "    tpr_fpr_row = TprFpr[TprFpr[:, 0] == 0.5, 1:3].astype(float)\n",
        "    if tpr_fpr_row.size == 0:\n",
        "        raise ValueError(\"Threshold value not found in TprFpr.\")\n",
        "\n",
        "    tpr, fpr = tpr_fpr_row[0]\n",
        "\n",
        "    result = (dC[0] - fpr) / (tpr - fpr) if (tpr - fpr) != 0 else 0\n",
        "    result = max(0, min(result, 1))\n",
        "\n",
        "    return np.array([result, 1 - result], dtype=float)"
      ]
    },
    {
      "cell_type": "code",
      "execution_count": 31,
      "metadata": {
        "collapsed": true,
        "id": "AKDi-sAnP6j6"
      },
      "outputs": [],
      "source": [
        "def X(ts, TprFpr):\n",
        "    dC = CC(ts)  # Implement CC function separately\n",
        "\n",
        "    min_index = abs((1 - TprFpr[:, 1]) - TprFpr[:, 2])\n",
        "    min_index = np.argmin(min_index)\n",
        "\n",
        "    tpr_fpr_row = TprFpr[min_index, 1:3].astype(float)\n",
        "    if tpr_fpr_row.size == 0:\n",
        "        raise ValueError(\"Threshold value not found in TprFpr.\")\n",
        "\n",
        "    tpr, fpr = tpr_fpr_row\n",
        "\n",
        "    result = (dC[0] - fpr) / (tpr - fpr) if (tpr - fpr) != 0 else 0\n",
        "    result = max(0, min(result, 1))\n",
        "\n",
        "    return np.array([result, 1 - result], dtype=float)\n",
        "\n",
        "def XSyn(ts, measure):\n",
        "    rQnt = DySyn(ts, measure)\n",
        "    TprFpr = np.array(getTPRandFPRbyThreshold(MoSS(1000, 0.5, rQnt[2]))).astype(float)\n",
        "    \n",
        "    dC = CC(ts)  # Implement CC function separately\n",
        "\n",
        "    # Usual X implementation\n",
        "    min_index = abs((1 - TprFpr[:, 1]) - TprFpr[:, 2])\n",
        "    min_index = np.argmin(min_index)\n",
        "\n",
        "    tpr_fpr_row = TprFpr[min_index, 1:3].astype(float)\n",
        "    # if tpr_fpr_row.size == 0:\n",
        "    #   raise ValueError(\"Threshold value not found in TprFpr.\")\n",
        "\n",
        "    tpr, fpr = tpr_fpr_row\n",
        "\n",
        "    result = (dC[0] - fpr) / (tpr - fpr) if (tpr - fpr) != 0 else 0\n",
        "    result = max(0, min(result, 1))\n",
        "\n",
        "    return np.array([result, 1 - result], dtype=float)"
      ]
    },
    {
      "cell_type": "code",
      "execution_count": 30,
      "metadata": {
        "id": "kOQOkpeceyN9"
      },
      "outputs": [],
      "source": [
        "def MAX(ts, TprFpr):\n",
        "    dC = CC(ts)  # Implement CC function separately\n",
        "\n",
        "    # Usual MAX implementation\n",
        "    max_index = abs(TprFpr[:, 1] - TprFpr[:, 2])\n",
        "    max_index = np.argmax(max_index)\n",
        "\n",
        "    tpr_fpr_row = TprFpr[max_index, 1:3].astype(float)\n",
        "\n",
        "    tpr, fpr = tpr_fpr_row\n",
        "\n",
        "    result = (dC[0] - fpr) / (tpr - fpr) if (tpr - fpr) != 0 else 0\n",
        "    result = max(0, min(result, 1))\n",
        "\n",
        "    return np.array([result, 1 - result], dtype=float)\n",
        "\n",
        "def MAXSyn(ts, measure):\n",
        "    rQnt = DySyn(ts, measure)\n",
        "    TprFpr = np.array(getTPRandFPRbyThreshold(MoSS(1000, 0.5, rQnt[2]))).astype(float)\n",
        "    \n",
        "    dC = CC(ts)  # Implement CC function separately\n",
        "\n",
        "    # Usual MAX implementation\n",
        "    max_index = abs(TprFpr[:, 1] - TprFpr[:, 2])\n",
        "    max_index = np.argmax(max_index)\n",
        "\n",
        "    tpr_fpr_row = TprFpr[max_index, 1:3].astype(float)\n",
        "\n",
        "    tpr, fpr = tpr_fpr_row\n",
        "\n",
        "    result = (dC[0] - fpr) / (tpr - fpr) if (tpr - fpr) != 0 else 0\n",
        "    result = max(0, min(result, 1))\n",
        "\n",
        "    return np.array([result, 1 - result], dtype=float)"
      ]
    },
    {
      "cell_type": "code",
      "execution_count": 29,
      "metadata": {
        "id": "soFDu5Nfjr95"
      },
      "outputs": [],
      "source": [
        "def T50(ts, TprFpr):\n",
        "    dC = CC(ts)  # Implement CC function separately\n",
        "\n",
        "    # Usual T50 implementation\n",
        "    min_index = abs(TprFpr[:, 1] - 0.5)\n",
        "    min_index = np.argmin(min_index)\n",
        "\n",
        "    tpr_fpr_row = TprFpr[min_index, 1:3].astype(float)\n",
        "\n",
        "    tpr, fpr = tpr_fpr_row\n",
        "\n",
        "    result = (dC[0] - fpr) / (tpr - fpr) if (tpr - fpr) != 0 else 0\n",
        "    result = max(0, min(result, 1))\n",
        "\n",
        "    return np.array([result, 1 - result], dtype=float)\n",
        "\n",
        "def T50Syn(ts, measure):\n",
        "    rQnt = DySyn(ts, measure)\n",
        "    TprFpr = np.array(getTPRandFPRbyThreshold(MoSS(1000, 0.5, rQnt[2]))).astype(float)\n",
        "\n",
        "    dC = CC(ts)  # Implement CC function separately\n",
        "\n",
        "    # Usual T50 implementation\n",
        "    min_index = abs(TprFpr[:, 1] - 0.5)\n",
        "    min_index = np.argmin(min_index)\n",
        "\n",
        "    tpr_fpr_row = TprFpr[min_index, 1:3].astype(float)\n",
        "\n",
        "    tpr, fpr = tpr_fpr_row\n",
        "\n",
        "    result = (dC[0] - fpr) / (tpr - fpr) if (tpr - fpr) != 0 else 0\n",
        "    result = max(0, min(result, 1))\n",
        "\n",
        "    return np.array([result, 1 - result], dtype=float)"
      ]
    },
    {
      "cell_type": "code",
      "execution_count": 13,
      "metadata": {
        "id": "BTvfC2Z0Dxhk"
      },
      "outputs": [],
      "source": [
        "# x=MoSS(500, 0.5, 0.8)\n",
        "# x = pd.DataFrame(x)\n",
        "# x.columns = ['x', 'y', 'col1']\n",
        "# x\n",
        "\n",
        "# # prompt: plot density graph using KDE in x variable, create different color for each value in 3 column\n",
        "\n",
        "# import seaborn as sns\n",
        "# import matplotlib.pyplot as plt\n",
        "\n",
        "# # Assuming your dataframe is named 'df' and the columns are 'x', 'col1', 'col2', 'col3'\n",
        "# # Replace 'df' with your actual dataframe name and column names if different\n",
        "\n",
        "# # Create the density plot\n",
        "# plt.figure(figsize=(10, 6))\n",
        "# sns.kdeplot(data=x, x='x', hue='col1', fill=True)\n",
        "# sns.kdeplot(data=x, x='x', hue='col2', fill=True)\n",
        "# sns.kdeplot(data=x, x='x', hue='col3', fill=True)\n",
        "\n",
        "# plt.title('Density Plot of x with different colors for columns')\n",
        "# plt.xlabel('x')\n",
        "# plt.ylabel('Density')\n",
        "# plt.show()\n"
      ]
    },
    {
      "cell_type": "code",
      "execution_count": 14,
      "metadata": {
        "id": "VCSNgBfr3MxQ"
      },
      "outputs": [],
      "source": [
        "def MS(ts, TprFpr):\n",
        "  results = []\n",
        "  dC = CC(ts)  # Implement CC function separately\n",
        "\n",
        "  # Usual MS implementation\n",
        "  threshold_set = np.arange(0.01, 1.00, 0.01)\n",
        "\n",
        "  for threshold in threshold_set:\n",
        "    threshold = round(threshold, 2) # 0.060000003 shenanigans\n",
        "    tpr, fpr = TprFpr[TprFpr[:, 0] == threshold, 1:3].astype(float)[0]\n",
        "\n",
        "    result = (dC[0] - fpr) / (tpr - fpr) if (tpr - fpr) != 0 else 0\n",
        "    result = max(0, min(result, 1))\n",
        "\n",
        "    results.append(result)\n",
        "\n",
        "    result = np.median(results)\n",
        "  return np.array([result, 1 - result], dtype=float)\n",
        "\n",
        "def MS2(ts, TprFpr):\n",
        "    results = []\n",
        "\n",
        "    dC = CC(ts)  # Implement CC function separately\n",
        "\n",
        "    # Usual MS2 implementation\n",
        "    index = np.where(abs(TprFpr[:,1]-TprFpr[:,2]) > (1/4))[0].tolist()\n",
        "    threshold_set = TprFpr[index,0]\n",
        "    if threshold_set.shape[0] == 0:\n",
        "      threshold_set = np.arange(0.01, 1.00, 0.01)\n",
        "\n",
        "    # else usual MS\n",
        "    for threshold in threshold_set:\n",
        "      threshold = round(threshold, 2) # 0.060000003 shenanigans\n",
        "      tpr, fpr = TprFpr[TprFpr[:, 0] == threshold, 1:3].astype(float)[0]\n",
        "\n",
        "      result = (dC[0] - fpr) / (tpr - fpr) if (tpr - fpr) != 0 else 0\n",
        "      result = max(0, min(result, 1))\n",
        "\n",
        "      results.append(result)\n",
        "\n",
        "    result = np.median(results)\n",
        "    return np.array([result, 1 - result], dtype=float)"
      ]
    },
    {
      "cell_type": "code",
      "execution_count": 28,
      "metadata": {
        "id": "Ew6s9CNAWg9z"
      },
      "outputs": [],
      "source": [
        "def MSSyn(ts, measure):\n",
        "    results = []\n",
        "\n",
        "    rQnt = DySyn(ts, measure)\n",
        "    TprFpr = np.array(getTPRandFPRbyThreshold(MoSS(1000, 0.5, rQnt[2]))).astype(float)\n",
        "\n",
        "    dC = CC(ts)  # Implement CC function separately\n",
        "\n",
        "    # Usual MS implementation\n",
        "    threshold_set = np.arange(0.01, 1.00, 0.01)\n",
        "\n",
        "    for threshold in threshold_set:\n",
        "      threshold = round(threshold, 2) # 0.060000003 shenanigans\n",
        "      tpr, fpr = TprFpr[TprFpr[:, 0] == threshold, 1:3].astype(float)[0]\n",
        "\n",
        "      result = (dC[0] - fpr) / (tpr - fpr) if (tpr - fpr) != 0 else 0\n",
        "      result = max(0, min(result, 1))\n",
        "\n",
        "      results.append(result)\n",
        "\n",
        "    result = np.median(results)\n",
        "    return np.array([result, 1 - result], dtype=float)"
      ]
    },
    {
      "cell_type": "code",
      "execution_count": 27,
      "metadata": {
        "collapsed": true,
        "id": "NFkJSRge_oFB"
      },
      "outputs": [],
      "source": [
        "def MS2Syn(ts, measure):\n",
        "    results = []\n",
        "\n",
        "    rQnt = DySyn(ts, measure)\n",
        "    TprFpr = np.array(getTPRandFPRbyThreshold(MoSS(1000, 0.5, rQnt[2]))).astype(float)\n",
        "    \n",
        "    dC = CC(ts)  # Implement CC function separately\n",
        "\n",
        "    # Usual MS2 implementation\n",
        "    index = np.where(abs(TprFpr[:,1]-TprFpr[:,2]) > (1/4))[0].tolist()\n",
        "    threshold_set = TprFpr[index,0]\n",
        "    if threshold_set.shape[0] == 0:\n",
        "      threshold_set = np.arange(0.01, 1.00, 0.01)\n",
        "\n",
        "    # else usual MS\n",
        "    for threshold in threshold_set:\n",
        "      threshold = round(threshold, 2) # 0.060000003 shenanigans\n",
        "      tpr, fpr = TprFpr[TprFpr[:, 0] == threshold, 1:3].astype(float)[0]\n",
        "\n",
        "      result = (dC[0] - fpr) / (tpr - fpr) if (tpr - fpr) != 0 else 0\n",
        "      result = max(0, min(result, 1))\n",
        "\n",
        "      results.append(result)\n",
        "\n",
        "    result = np.median(results)\n",
        "    return np.array([result, 1 - result], dtype=float)"
      ]
    },
    {
      "cell_type": "code",
      "execution_count": 17,
      "metadata": {
        "id": "lh5sE1WmH_AO"
      },
      "outputs": [],
      "source": [
        "def SMM(p_scores, n_scores, t_scores):\n",
        "  mean_p_scores = np.mean(p_scores)\n",
        "  mean_n_scores = np.mean(n_scores)\n",
        "  mean_t_scores = np.mean(t_scores)\n",
        "\n",
        "  alpha = (mean_t_scores - mean_n_scores) / (mean_p_scores - mean_n_scores)\n",
        "  alpha = max(0, min(alpha, 1))\n",
        "\n",
        "  return np.round([alpha, abs(1-alpha)], 2)"
      ]
    },
    {
      "cell_type": "code",
      "execution_count": 26,
      "metadata": {
        "colab": {
          "base_uri": "https://localhost:8080/"
        },
        "id": "-bdkEDsE0WTD",
        "outputId": "d55f235d-c200-4637-d44e-2785b599d604"
      },
      "outputs": [],
      "source": [
        "def SMMSyn(ts, measure):\n",
        "    rQnt = DySyn(ts, measure)\n",
        "    best_scores = MoSS(1000, 0.5, rQnt[2]) # sempre NaN em 0 de distances\n",
        "\n",
        "    best_p = best_scores[best_scores[:, 2] == 1, 0]\n",
        "    best_n = best_scores[best_scores[:, 2] == 2, 0]\n",
        "    result = SMM(best_p, best_n, ts)\n",
        "\n",
        "    return result"
      ]
    },
    {
      "cell_type": "markdown",
      "metadata": {
        "id": "aMS1X1sOX287"
      },
      "source": [
        "## Main"
      ]
    },
    {
      "cell_type": "code",
      "execution_count": 19,
      "metadata": {
        "id": "3MunXmyumf2c"
      },
      "outputs": [],
      "source": [
        "def exec_eval_complexity(MFtr):\n",
        "\n",
        "    vdist = {\"TS\": \"topsoe\", \"JD\": \"jensen_difference\", \"PS\": \"prob_symm\", \"ORD\": \"ord\", \"SORD\": \"sord\", \"TN\": \"taneja\", \"HD\": \"hellinger\"}\n",
        "\n",
        "    var_perc = np.arange(0, 1.05, 0.05)  # class distribution\n",
        "    var_size = [500]  # test set size\n",
        "    n_tests = 3  # replication\n",
        "    MF = np.arange(0.05, 1.00, 0.1)  # m parameter for MoSS model\n",
        "    MF = np.round(MF, 2) # 0.1500000003 shenanigans\n",
        "\n",
        "    # PC RAFAEL\n",
        "    # qnt = ['ACCSyn-TS', 'ACC',\n",
        "    #     #    'XSyn-TS',\n",
        "    #     #    'MAXSyn-TS',\n",
        "    #     #    'T50Syn-TS',\n",
        "    #     #    'MS2Syn-TS',\n",
        "    #     #    'SMMSyn-TS',\n",
        "    #        'DySyn-TS']\n",
        "\n",
        "    # PC LUIZ\n",
        "    # qnt = ['T50', 'MS', 'MS2', 'SMM', 'DyS-TS', 'X', 'MAX', 'ACC', 'CC']\n",
        "\n",
        "    qnt = ['T50', 'T50Syn-TS',\n",
        "           'MS', 'MSSyn-TS',\n",
        "           'MS2', 'MS2Syn-TS',\n",
        "           'SMM', 'SMMSyn-TS',\n",
        "           'DyS-TS', 'DySyn-TS',\n",
        "           'X', 'XSyn-TS',\n",
        "           'MAX', 'MAXSyn-TS',\n",
        "           'ACC', 'ACCSyn-TS',\n",
        "           'CC']\n",
        "\n",
        "    results = []\n",
        "\n",
        "    for mi in range(len(MFtr)):\n",
        "        scores = MoSS(1000, 0.5, MFtr[mi])  # Implement MoSS function\n",
        "        # pdb.set_trace()\n",
        "        TprFpr = np.array(getTPRandFPRbyThreshold(scores)).astype(float)  # Implement getTPRandFPRbyThreshold\n",
        "\n",
        "        for k in range(len(var_size)):\n",
        "            for i in range(len(var_perc)):\n",
        "                # print(f\"Class distr. {var_perc[i]}\")\n",
        "                for j in range(n_tests):\n",
        "                    for ti in range(len(MF)):\n",
        "                        for qi in qnt:\n",
        "\n",
        "                            # pdb.set_trace()\n",
        "\n",
        "                            test_set = MoSS(var_size[k], var_perc[i], MF[ti])\n",
        "                            freq_REAL = pd.Series(test_set[:, 2]).value_counts(normalize=True).reindex([1, 2], fill_value=0)\n",
        "                            qntMethod = qi.split(\"-\")[0] if \"-\" in qi else qi\n",
        "\n",
        "                            if qntMethod != \"HDy-LP\":\n",
        "                                try:\n",
        "                                    nk = int(qntMethod.split(\"_\")[0])\n",
        "                                except ValueError:\n",
        "                                    nk = 1\n",
        "                                qntMethod = \"DySyn\" if nk != 1 else qntMethod\n",
        "\n",
        "                            measure = None\n",
        "                            if len(qi.split(\"-\")) > 1:\n",
        "                                measure = vdist.get(qi.split(\"-\")[1])\n",
        "\n",
        "                            # pdb.set_trace()\n",
        "                            qnt_re = apply_qntMethod(\n",
        "                                qntMethod=qntMethod,\n",
        "                                p_score=scores[scores[:, 2] == 1, 0],\n",
        "                                n_score=scores[scores[:, 2] == 2, 0],\n",
        "                                test=test_set[:, 0],\n",
        "                                TprFpr=TprFpr,\n",
        "                                thr=0.5,\n",
        "                                measure=measure\n",
        "                            )  # Implement apply_qntMethod\n",
        "\n",
        "                            freq_PRE = np.round(qnt_re[0],3)\n",
        "\n",
        "                            results.append([\n",
        "                                MFtr[mi],\n",
        "                                MF[ti],\n",
        "                                freq_REAL.get(1, 0),\n",
        "                                freq_PRE,\n",
        "                                np.round(abs(freq_REAL.get(1, 0) - freq_PRE), 2),\n",
        "                                measure,\n",
        "                                qnt_re[1],\n",
        "                                qi\n",
        "                            ])\n",
        "\n",
        "\n",
        "    results_df = pd.DataFrame(results, columns=[\"MFtr\", \"MFte\", \"R_1\", \"P_1\", \"AE\", \"Distance\", \"Value.dist\", \"Qnt\"]) # Before AE was MAE, keep in mind!\n",
        "\n",
        "    return results_df"
      ]
    },
    {
      "cell_type": "markdown",
      "metadata": {
        "id": "neztl7BVbNDw"
      },
      "source": [
        "## RUN"
      ]
    },
    {
      "cell_type": "code",
      "execution_count": 20,
      "metadata": {
        "colab": {
          "base_uri": "https://localhost:8080/",
          "height": 1000
        },
        "collapsed": true,
        "id": "yk8d4uCrbNOd",
        "outputId": "331148f7-ce13-4746-f3b2-9e68995109bb"
      },
      "outputs": [
        {
          "name": "stdout",
          "output_type": "stream",
          "text": [
            "############ - It will take a couple of minutes! - ############\n",
            "Running for MF 0.7\n"
          ]
        }
      ],
      "source": [
        "if __name__ == \"__main__\":\n",
        "    # m_Tr = np.arange(0.05, 1.00, 0.1)\n",
        "    m_Tr = [0.7]\n",
        "    m_Tr = np.round(m_Tr, 2)\n",
        "    \n",
        "    print(\"############ - It will take a couple of minutes! - ############\")\n",
        "    result = pd.DataFrame()\n",
        "\n",
        "    # re = exec_eval_complexity([0.7])\n",
        "    for i in m_Tr:\n",
        "        print(f\"Running for MF {i}\")\n",
        "        re = exec_eval_complexity([i])\n",
        "        result = pd.concat([result, re])\n",
        "        # result.to_csv(\"results.csv\", index=False)\n",
        "\n",
        "grouped = result.groupby(['Qnt', 'MFte', 'MFtr']).agg({'AE': 'mean'}).reset_index()"
      ]
    },
    {
      "cell_type": "markdown",
      "metadata": {
        "id": "4sePbZ5CX6LK"
      },
      "source": [
        "## Results"
      ]
    },
    {
      "cell_type": "code",
      "execution_count": 22,
      "metadata": {
        "colab": {
          "base_uri": "https://localhost:8080/",
          "height": 574,
          "referenced_widgets": [
            "98b586d6743b4fa785514d8fe9f56664",
            "287c5628c07040b893ed3ea57e8a1881",
            "1e7b44b9592447c1a519c4e4c5df7ba5"
          ]
        },
        "id": "cObBi2UzNCfn",
        "outputId": "e6a7f886-eb58-427b-b906-69db7779492e"
      },
      "outputs": [
        {
          "data": {
            "application/vnd.plotly.v1+json": {
              "config": {
                "plotlyServerURL": "https://plot.ly"
              },
              "data": [
                {
                  "mode": "lines+markers",
                  "name": "ACC",
                  "type": "scatter",
                  "x": {
                    "bdata": "mpmZmZmZqT8zMzMzMzPDPwAAAAAAANA/ZmZmZmZm1j/NzMzMzMzcP5qZmZmZmeE/zczMzMzM5D8AAAAAAADoPzMzMzMzM+s/ZmZmZmZm7j8=",
                    "dtype": "f8"
                  },
                  "y": [
                    0.1695238095238095,
                    0.1687301587301587,
                    0.16126984126984126,
                    0.15063492063492062,
                    0.12174603174603174,
                    0.08539682539682535,
                    0.06650793650793647,
                    0.09682539682539677,
                    0.1565079365079365,
                    0.24412698412698416
                  ]
                },
                {
                  "mode": "lines+markers",
                  "name": "ACCSyn-TS",
                  "type": "scatter",
                  "x": {
                    "bdata": "mpmZmZmZqT8zMzMzMzPDPwAAAAAAANA/ZmZmZmZm1j/NzMzMzMzcP5qZmZmZmeE/zczMzMzM5D8AAAAAAADoPzMzMzMzM+s/ZmZmZmZm7j8=",
                    "dtype": "f8"
                  },
                  "y": [
                    0,
                    0.005396825396825399,
                    0.021904761904761916,
                    0.039523809523809524,
                    0.08428571428571424,
                    0.10666666666666662,
                    0.10968253968253966,
                    0.12492063492063489,
                    0.19301587301587297,
                    0.2161904761904762
                  ]
                },
                {
                  "mode": "lines+markers",
                  "name": "CC",
                  "type": "scatter",
                  "x": {
                    "bdata": "mpmZmZmZqT8zMzMzMzPDPwAAAAAAANA/ZmZmZmZm1j/NzMzMzMzcP5qZmZmZmeE/zczMzMzM5D8AAAAAAADoPzMzMzMzM+s/ZmZmZmZm7j8=",
                    "dtype": "f8"
                  },
                  "y": [
                    0,
                    0.007142857142857147,
                    0.03460317460317463,
                    0.07317460317460314,
                    0.10746031746031744,
                    0.14746031746031746,
                    0.18079365079365076,
                    0.20222222222222228,
                    0.22952380952380952,
                    0.250952380952381
                  ]
                },
                {
                  "mode": "lines+markers",
                  "name": "DyS-TS",
                  "type": "scatter",
                  "x": {
                    "bdata": "mpmZmZmZqT8zMzMzMzPDPwAAAAAAANA/ZmZmZmZm1j/NzMzMzMzcP5qZmZmZmeE/zczMzMzM5D8AAAAAAADoPzMzMzMzM+s/ZmZmZmZm7j8=",
                    "dtype": "f8"
                  },
                  "y": [
                    0.10634920634920633,
                    0.11730158730158727,
                    0.11714285714285713,
                    0.11126984126984127,
                    0.0984126984126984,
                    0.07333333333333332,
                    0.045396825396825394,
                    0.08920634920634915,
                    0.16777777777777775,
                    0.2217460317460317
                  ]
                },
                {
                  "mode": "lines+markers",
                  "name": "DySyn-TS",
                  "type": "scatter",
                  "x": {
                    "bdata": "mpmZmZmZqT8zMzMzMzPDPwAAAAAAANA/ZmZmZmZm1j/NzMzMzMzcP5qZmZmZmeE/zczMzMzM5D8AAAAAAADoPzMzMzMzM+s/ZmZmZmZm7j8=",
                    "dtype": "f8"
                  },
                  "y": [
                    [
                      0.003174603174603175,
                      0.5234920634920636
                    ],
                    [
                      0.003492063492063493,
                      0.5247619047619048
                    ],
                    [
                      0.010634920634920641,
                      0.530952380952381
                    ],
                    [
                      0.03825396825396825,
                      0.534761904761905
                    ],
                    [
                      0.037301587301587294,
                      0.5525396825396826
                    ],
                    [
                      0.08333333333333331,
                      0.5490476190476191
                    ],
                    [
                      0.0876190476190476,
                      0.4860317460317461
                    ],
                    [
                      0.11380952380952378,
                      0.45253968253968235
                    ],
                    [
                      0.17587301587301588,
                      0.40603174603174597
                    ],
                    [
                      0.24857142857142855,
                      0.33492063492063484
                    ]
                  ]
                },
                {
                  "mode": "lines+markers",
                  "name": "MAX",
                  "type": "scatter",
                  "x": {
                    "bdata": "mpmZmZmZqT8zMzMzMzPDPwAAAAAAANA/ZmZmZmZm1j/NzMzMzMzcP5qZmZmZmeE/zczMzMzM5D8AAAAAAADoPzMzMzMzM+s/ZmZmZmZm7j8=",
                    "dtype": "f8"
                  },
                  "y": [
                    0.19285714285714287,
                    0.19365079365079366,
                    0.19571428571428579,
                    0.19539682539682546,
                    0.22349206349206352,
                    0.2893650793650794,
                    0.3511111111111111,
                    0.3888888888888889,
                    0.4192063492063493,
                    0.45507936507936514
                  ]
                },
                {
                  "mode": "lines+markers",
                  "name": "MAXSyn-TS",
                  "type": "scatter",
                  "x": {
                    "bdata": "mpmZmZmZqT8zMzMzMzPDPwAAAAAAANA/ZmZmZmZm1j/NzMzMzMzcP5qZmZmZmeE/zczMzMzM5D8AAAAAAADoPzMzMzMzM+s/ZmZmZmZm7j8=",
                    "dtype": "f8"
                  },
                  "y": [
                    0,
                    0.005714285714285717,
                    0.028730158730158745,
                    0.05428571428571428,
                    0.11396825396825394,
                    0.14460317460317454,
                    0.2142857142857143,
                    0.24507936507936495,
                    0.27809523809523806,
                    0.38904761904761903
                  ]
                },
                {
                  "mode": "lines+markers",
                  "name": "MS",
                  "type": "scatter",
                  "x": {
                    "bdata": "mpmZmZmZqT8zMzMzMzPDPwAAAAAAANA/ZmZmZmZm1j/NzMzMzMzcP5qZmZmZmeE/zczMzMzM5D8AAAAAAADoPzMzMzMzM+s/ZmZmZmZm7j8=",
                    "dtype": "f8"
                  },
                  "y": [
                    0.16904761904761897,
                    0.16761904761904758,
                    0.15476190476190477,
                    0.14984126984126983,
                    0.11253968253968254,
                    0.09111111111111109,
                    0.06285714285714283,
                    0.08841269841269837,
                    0.15761904761904755,
                    0.2566666666666667
                  ]
                },
                {
                  "mode": "lines+markers",
                  "name": "MS2",
                  "type": "scatter",
                  "x": {
                    "bdata": "mpmZmZmZqT8zMzMzMzPDPwAAAAAAANA/ZmZmZmZm1j/NzMzMzMzcP5qZmZmZmeE/zczMzMzM5D8AAAAAAADoPzMzMzMzM+s/ZmZmZmZm7j8=",
                    "dtype": "f8"
                  },
                  "y": [
                    0.17,
                    0.16936507936507936,
                    0.16285714285714287,
                    0.14746031746031746,
                    0.119047619047619,
                    0.09730158730158728,
                    0.08936507936507933,
                    0.11634920634920635,
                    0.1776190476190476,
                    0.24015873015873018
                  ]
                },
                {
                  "mode": "lines+markers",
                  "name": "MS2Syn-TS",
                  "type": "scatter",
                  "x": {
                    "bdata": "mpmZmZmZqT8zMzMzMzPDPwAAAAAAANA/ZmZmZmZm1j/NzMzMzMzcP5qZmZmZmeE/zczMzMzM5D8AAAAAAADoPzMzMzMzM+s/ZmZmZmZm7j8=",
                    "dtype": "f8"
                  },
                  "y": [
                    0,
                    0.005873015873015875,
                    0.024126984126984143,
                    0.03936507936507938,
                    0.08888888888888886,
                    0.1084126984126984,
                    0.16,
                    0.20539682539682538,
                    0.19634920634920633,
                    0.29777777777777775
                  ]
                },
                {
                  "mode": "lines+markers",
                  "name": "MSSyn-TS",
                  "type": "scatter",
                  "x": {
                    "bdata": "mpmZmZmZqT8zMzMzMzPDPwAAAAAAANA/ZmZmZmZm1j/NzMzMzMzcP5qZmZmZmeE/zczMzMzM5D8AAAAAAADoPzMzMzMzM+s/ZmZmZmZm7j8=",
                    "dtype": "f8"
                  },
                  "y": [
                    0,
                    0.006190476190476192,
                    0.019365079365079377,
                    0.03476190476190478,
                    0.0714285714285714,
                    0.07730158730158727,
                    0.1520634920634921,
                    0.15873015873015867,
                    0.22857142857142848,
                    0.24031746031746032
                  ]
                },
                {
                  "mode": "lines+markers",
                  "name": "SMM",
                  "type": "scatter",
                  "x": {
                    "bdata": "mpmZmZmZqT8zMzMzMzPDPwAAAAAAANA/ZmZmZmZm1j/NzMzMzMzcP5qZmZmZmeE/zczMzMzM5D8AAAAAAADoPzMzMzMzM+s/ZmZmZmZm7j8=",
                    "dtype": "f8"
                  },
                  "y": [
                    0.18603174603174605,
                    0.17555555555555558,
                    0.1571428571428571,
                    0.1352380952380953,
                    0.1165079365079365,
                    0.07698412698412696,
                    0.04999999999999997,
                    0.08650793650793646,
                    0.1585714285714286,
                    0.2541269841269841
                  ]
                },
                {
                  "mode": "lines+markers",
                  "name": "SMMSyn-TS",
                  "type": "scatter",
                  "x": {
                    "bdata": "mpmZmZmZqT8zMzMzMzPDPwAAAAAAANA/ZmZmZmZm1j/NzMzMzMzcP5qZmZmZmeE/zczMzMzM5D8AAAAAAADoPzMzMzMzM+s/ZmZmZmZm7j8=",
                    "dtype": "f8"
                  },
                  "y": [
                    0.02269841269841271,
                    0.02396825396825398,
                    0.022222222222222233,
                    0.046349206349206314,
                    0.07206349206349205,
                    0.08793650793650791,
                    0.10142857142857131,
                    0.12904761904761902,
                    0.18841269841269845,
                    0.24015873015873013
                  ]
                },
                {
                  "mode": "lines+markers",
                  "name": "T50",
                  "type": "scatter",
                  "x": {
                    "bdata": "mpmZmZmZqT8zMzMzMzPDPwAAAAAAANA/ZmZmZmZm1j/NzMzMzMzcP5qZmZmZmeE/zczMzMzM5D8AAAAAAADoPzMzMzMzM+s/ZmZmZmZm7j8=",
                    "dtype": "f8"
                  },
                  "y": [
                    0.19857142857142862,
                    0.19841269841269843,
                    0.20190476190476195,
                    0.1993650793650794,
                    0.21984126984126987,
                    0.28285714285714286,
                    0.3376190476190476,
                    0.3884126984126984,
                    0.43761904761904763,
                    0.44809523809523816
                  ]
                },
                {
                  "mode": "lines+markers",
                  "name": "T50Syn-TS",
                  "type": "scatter",
                  "x": {
                    "bdata": "mpmZmZmZqT8zMzMzMzPDPwAAAAAAANA/ZmZmZmZm1j/NzMzMzMzcP5qZmZmZmeE/zczMzMzM5D8AAAAAAADoPzMzMzMzM+s/ZmZmZmZm7j8=",
                    "dtype": "f8"
                  },
                  "y": [
                    0.23952380952380956,
                    0.2444444444444445,
                    0.26619047619047626,
                    0.29460317460317453,
                    0.31539682539682545,
                    0.3404761904761906,
                    0.34936507936507943,
                    0.3550793650793651,
                    0.4212698412698414,
                    0.43793650793650807
                  ]
                },
                {
                  "mode": "lines+markers",
                  "name": "X",
                  "type": "scatter",
                  "x": {
                    "bdata": "mpmZmZmZqT8zMzMzMzPDPwAAAAAAANA/ZmZmZmZm1j/NzMzMzMzcP5qZmZmZmeE/zczMzMzM5D8AAAAAAADoPzMzMzMzM+s/ZmZmZmZm7j8=",
                    "dtype": "f8"
                  },
                  "y": [
                    0.16904761904761903,
                    0.16714285714285712,
                    0.15825396825396823,
                    0.14349206349206353,
                    0.12492063492063492,
                    0.08841269841269837,
                    0.05079365079365079,
                    0.09619047619047619,
                    0.1623809523809524,
                    0.24111111111111116
                  ]
                },
                {
                  "mode": "lines+markers",
                  "name": "XSyn-TS",
                  "type": "scatter",
                  "x": {
                    "bdata": "mpmZmZmZqT8zMzMzMzPDPwAAAAAAANA/ZmZmZmZm1j/NzMzMzMzcP5qZmZmZmeE/zczMzMzM5D8AAAAAAADoPzMzMzMzM+s/ZmZmZmZm7j8=",
                    "dtype": "f8"
                  },
                  "y": [
                    0,
                    0.006190476190476192,
                    0.02015873015873017,
                    0.06079365079365077,
                    0.06460317460317458,
                    0.08365079365079366,
                    0.11714285714285712,
                    0.10634920634920632,
                    0.17365079365079364,
                    0.25793650793650785
                  ]
                }
              ],
              "layout": {
                "template": {
                  "data": {
                    "bar": [
                      {
                        "error_x": {
                          "color": "#2a3f5f"
                        },
                        "error_y": {
                          "color": "#2a3f5f"
                        },
                        "marker": {
                          "line": {
                            "color": "#E5ECF6",
                            "width": 0.5
                          },
                          "pattern": {
                            "fillmode": "overlay",
                            "size": 10,
                            "solidity": 0.2
                          }
                        },
                        "type": "bar"
                      }
                    ],
                    "barpolar": [
                      {
                        "marker": {
                          "line": {
                            "color": "#E5ECF6",
                            "width": 0.5
                          },
                          "pattern": {
                            "fillmode": "overlay",
                            "size": 10,
                            "solidity": 0.2
                          }
                        },
                        "type": "barpolar"
                      }
                    ],
                    "carpet": [
                      {
                        "aaxis": {
                          "endlinecolor": "#2a3f5f",
                          "gridcolor": "white",
                          "linecolor": "white",
                          "minorgridcolor": "white",
                          "startlinecolor": "#2a3f5f"
                        },
                        "baxis": {
                          "endlinecolor": "#2a3f5f",
                          "gridcolor": "white",
                          "linecolor": "white",
                          "minorgridcolor": "white",
                          "startlinecolor": "#2a3f5f"
                        },
                        "type": "carpet"
                      }
                    ],
                    "choropleth": [
                      {
                        "colorbar": {
                          "outlinewidth": 0,
                          "ticks": ""
                        },
                        "type": "choropleth"
                      }
                    ],
                    "contour": [
                      {
                        "colorbar": {
                          "outlinewidth": 0,
                          "ticks": ""
                        },
                        "colorscale": [
                          [
                            0,
                            "#0d0887"
                          ],
                          [
                            0.1111111111111111,
                            "#46039f"
                          ],
                          [
                            0.2222222222222222,
                            "#7201a8"
                          ],
                          [
                            0.3333333333333333,
                            "#9c179e"
                          ],
                          [
                            0.4444444444444444,
                            "#bd3786"
                          ],
                          [
                            0.5555555555555556,
                            "#d8576b"
                          ],
                          [
                            0.6666666666666666,
                            "#ed7953"
                          ],
                          [
                            0.7777777777777778,
                            "#fb9f3a"
                          ],
                          [
                            0.8888888888888888,
                            "#fdca26"
                          ],
                          [
                            1,
                            "#f0f921"
                          ]
                        ],
                        "type": "contour"
                      }
                    ],
                    "contourcarpet": [
                      {
                        "colorbar": {
                          "outlinewidth": 0,
                          "ticks": ""
                        },
                        "type": "contourcarpet"
                      }
                    ],
                    "heatmap": [
                      {
                        "colorbar": {
                          "outlinewidth": 0,
                          "ticks": ""
                        },
                        "colorscale": [
                          [
                            0,
                            "#0d0887"
                          ],
                          [
                            0.1111111111111111,
                            "#46039f"
                          ],
                          [
                            0.2222222222222222,
                            "#7201a8"
                          ],
                          [
                            0.3333333333333333,
                            "#9c179e"
                          ],
                          [
                            0.4444444444444444,
                            "#bd3786"
                          ],
                          [
                            0.5555555555555556,
                            "#d8576b"
                          ],
                          [
                            0.6666666666666666,
                            "#ed7953"
                          ],
                          [
                            0.7777777777777778,
                            "#fb9f3a"
                          ],
                          [
                            0.8888888888888888,
                            "#fdca26"
                          ],
                          [
                            1,
                            "#f0f921"
                          ]
                        ],
                        "type": "heatmap"
                      }
                    ],
                    "histogram": [
                      {
                        "marker": {
                          "pattern": {
                            "fillmode": "overlay",
                            "size": 10,
                            "solidity": 0.2
                          }
                        },
                        "type": "histogram"
                      }
                    ],
                    "histogram2d": [
                      {
                        "colorbar": {
                          "outlinewidth": 0,
                          "ticks": ""
                        },
                        "colorscale": [
                          [
                            0,
                            "#0d0887"
                          ],
                          [
                            0.1111111111111111,
                            "#46039f"
                          ],
                          [
                            0.2222222222222222,
                            "#7201a8"
                          ],
                          [
                            0.3333333333333333,
                            "#9c179e"
                          ],
                          [
                            0.4444444444444444,
                            "#bd3786"
                          ],
                          [
                            0.5555555555555556,
                            "#d8576b"
                          ],
                          [
                            0.6666666666666666,
                            "#ed7953"
                          ],
                          [
                            0.7777777777777778,
                            "#fb9f3a"
                          ],
                          [
                            0.8888888888888888,
                            "#fdca26"
                          ],
                          [
                            1,
                            "#f0f921"
                          ]
                        ],
                        "type": "histogram2d"
                      }
                    ],
                    "histogram2dcontour": [
                      {
                        "colorbar": {
                          "outlinewidth": 0,
                          "ticks": ""
                        },
                        "colorscale": [
                          [
                            0,
                            "#0d0887"
                          ],
                          [
                            0.1111111111111111,
                            "#46039f"
                          ],
                          [
                            0.2222222222222222,
                            "#7201a8"
                          ],
                          [
                            0.3333333333333333,
                            "#9c179e"
                          ],
                          [
                            0.4444444444444444,
                            "#bd3786"
                          ],
                          [
                            0.5555555555555556,
                            "#d8576b"
                          ],
                          [
                            0.6666666666666666,
                            "#ed7953"
                          ],
                          [
                            0.7777777777777778,
                            "#fb9f3a"
                          ],
                          [
                            0.8888888888888888,
                            "#fdca26"
                          ],
                          [
                            1,
                            "#f0f921"
                          ]
                        ],
                        "type": "histogram2dcontour"
                      }
                    ],
                    "mesh3d": [
                      {
                        "colorbar": {
                          "outlinewidth": 0,
                          "ticks": ""
                        },
                        "type": "mesh3d"
                      }
                    ],
                    "parcoords": [
                      {
                        "line": {
                          "colorbar": {
                            "outlinewidth": 0,
                            "ticks": ""
                          }
                        },
                        "type": "parcoords"
                      }
                    ],
                    "pie": [
                      {
                        "automargin": true,
                        "type": "pie"
                      }
                    ],
                    "scatter": [
                      {
                        "fillpattern": {
                          "fillmode": "overlay",
                          "size": 10,
                          "solidity": 0.2
                        },
                        "type": "scatter"
                      }
                    ],
                    "scatter3d": [
                      {
                        "line": {
                          "colorbar": {
                            "outlinewidth": 0,
                            "ticks": ""
                          }
                        },
                        "marker": {
                          "colorbar": {
                            "outlinewidth": 0,
                            "ticks": ""
                          }
                        },
                        "type": "scatter3d"
                      }
                    ],
                    "scattercarpet": [
                      {
                        "marker": {
                          "colorbar": {
                            "outlinewidth": 0,
                            "ticks": ""
                          }
                        },
                        "type": "scattercarpet"
                      }
                    ],
                    "scattergeo": [
                      {
                        "marker": {
                          "colorbar": {
                            "outlinewidth": 0,
                            "ticks": ""
                          }
                        },
                        "type": "scattergeo"
                      }
                    ],
                    "scattergl": [
                      {
                        "marker": {
                          "colorbar": {
                            "outlinewidth": 0,
                            "ticks": ""
                          }
                        },
                        "type": "scattergl"
                      }
                    ],
                    "scattermap": [
                      {
                        "marker": {
                          "colorbar": {
                            "outlinewidth": 0,
                            "ticks": ""
                          }
                        },
                        "type": "scattermap"
                      }
                    ],
                    "scattermapbox": [
                      {
                        "marker": {
                          "colorbar": {
                            "outlinewidth": 0,
                            "ticks": ""
                          }
                        },
                        "type": "scattermapbox"
                      }
                    ],
                    "scatterpolar": [
                      {
                        "marker": {
                          "colorbar": {
                            "outlinewidth": 0,
                            "ticks": ""
                          }
                        },
                        "type": "scatterpolar"
                      }
                    ],
                    "scatterpolargl": [
                      {
                        "marker": {
                          "colorbar": {
                            "outlinewidth": 0,
                            "ticks": ""
                          }
                        },
                        "type": "scatterpolargl"
                      }
                    ],
                    "scatterternary": [
                      {
                        "marker": {
                          "colorbar": {
                            "outlinewidth": 0,
                            "ticks": ""
                          }
                        },
                        "type": "scatterternary"
                      }
                    ],
                    "surface": [
                      {
                        "colorbar": {
                          "outlinewidth": 0,
                          "ticks": ""
                        },
                        "colorscale": [
                          [
                            0,
                            "#0d0887"
                          ],
                          [
                            0.1111111111111111,
                            "#46039f"
                          ],
                          [
                            0.2222222222222222,
                            "#7201a8"
                          ],
                          [
                            0.3333333333333333,
                            "#9c179e"
                          ],
                          [
                            0.4444444444444444,
                            "#bd3786"
                          ],
                          [
                            0.5555555555555556,
                            "#d8576b"
                          ],
                          [
                            0.6666666666666666,
                            "#ed7953"
                          ],
                          [
                            0.7777777777777778,
                            "#fb9f3a"
                          ],
                          [
                            0.8888888888888888,
                            "#fdca26"
                          ],
                          [
                            1,
                            "#f0f921"
                          ]
                        ],
                        "type": "surface"
                      }
                    ],
                    "table": [
                      {
                        "cells": {
                          "fill": {
                            "color": "#EBF0F8"
                          },
                          "line": {
                            "color": "white"
                          }
                        },
                        "header": {
                          "fill": {
                            "color": "#C8D4E3"
                          },
                          "line": {
                            "color": "white"
                          }
                        },
                        "type": "table"
                      }
                    ]
                  },
                  "layout": {
                    "annotationdefaults": {
                      "arrowcolor": "#2a3f5f",
                      "arrowhead": 0,
                      "arrowwidth": 1
                    },
                    "autotypenumbers": "strict",
                    "coloraxis": {
                      "colorbar": {
                        "outlinewidth": 0,
                        "ticks": ""
                      }
                    },
                    "colorscale": {
                      "diverging": [
                        [
                          0,
                          "#8e0152"
                        ],
                        [
                          0.1,
                          "#c51b7d"
                        ],
                        [
                          0.2,
                          "#de77ae"
                        ],
                        [
                          0.3,
                          "#f1b6da"
                        ],
                        [
                          0.4,
                          "#fde0ef"
                        ],
                        [
                          0.5,
                          "#f7f7f7"
                        ],
                        [
                          0.6,
                          "#e6f5d0"
                        ],
                        [
                          0.7,
                          "#b8e186"
                        ],
                        [
                          0.8,
                          "#7fbc41"
                        ],
                        [
                          0.9,
                          "#4d9221"
                        ],
                        [
                          1,
                          "#276419"
                        ]
                      ],
                      "sequential": [
                        [
                          0,
                          "#0d0887"
                        ],
                        [
                          0.1111111111111111,
                          "#46039f"
                        ],
                        [
                          0.2222222222222222,
                          "#7201a8"
                        ],
                        [
                          0.3333333333333333,
                          "#9c179e"
                        ],
                        [
                          0.4444444444444444,
                          "#bd3786"
                        ],
                        [
                          0.5555555555555556,
                          "#d8576b"
                        ],
                        [
                          0.6666666666666666,
                          "#ed7953"
                        ],
                        [
                          0.7777777777777778,
                          "#fb9f3a"
                        ],
                        [
                          0.8888888888888888,
                          "#fdca26"
                        ],
                        [
                          1,
                          "#f0f921"
                        ]
                      ],
                      "sequentialminus": [
                        [
                          0,
                          "#0d0887"
                        ],
                        [
                          0.1111111111111111,
                          "#46039f"
                        ],
                        [
                          0.2222222222222222,
                          "#7201a8"
                        ],
                        [
                          0.3333333333333333,
                          "#9c179e"
                        ],
                        [
                          0.4444444444444444,
                          "#bd3786"
                        ],
                        [
                          0.5555555555555556,
                          "#d8576b"
                        ],
                        [
                          0.6666666666666666,
                          "#ed7953"
                        ],
                        [
                          0.7777777777777778,
                          "#fb9f3a"
                        ],
                        [
                          0.8888888888888888,
                          "#fdca26"
                        ],
                        [
                          1,
                          "#f0f921"
                        ]
                      ]
                    },
                    "colorway": [
                      "#636efa",
                      "#EF553B",
                      "#00cc96",
                      "#ab63fa",
                      "#FFA15A",
                      "#19d3f3",
                      "#FF6692",
                      "#B6E880",
                      "#FF97FF",
                      "#FECB52"
                    ],
                    "font": {
                      "color": "#2a3f5f"
                    },
                    "geo": {
                      "bgcolor": "white",
                      "lakecolor": "white",
                      "landcolor": "#E5ECF6",
                      "showlakes": true,
                      "showland": true,
                      "subunitcolor": "white"
                    },
                    "hoverlabel": {
                      "align": "left"
                    },
                    "hovermode": "closest",
                    "mapbox": {
                      "style": "light"
                    },
                    "paper_bgcolor": "white",
                    "plot_bgcolor": "#E5ECF6",
                    "polar": {
                      "angularaxis": {
                        "gridcolor": "white",
                        "linecolor": "white",
                        "ticks": ""
                      },
                      "bgcolor": "#E5ECF6",
                      "radialaxis": {
                        "gridcolor": "white",
                        "linecolor": "white",
                        "ticks": ""
                      }
                    },
                    "scene": {
                      "xaxis": {
                        "backgroundcolor": "#E5ECF6",
                        "gridcolor": "white",
                        "gridwidth": 2,
                        "linecolor": "white",
                        "showbackground": true,
                        "ticks": "",
                        "zerolinecolor": "white"
                      },
                      "yaxis": {
                        "backgroundcolor": "#E5ECF6",
                        "gridcolor": "white",
                        "gridwidth": 2,
                        "linecolor": "white",
                        "showbackground": true,
                        "ticks": "",
                        "zerolinecolor": "white"
                      },
                      "zaxis": {
                        "backgroundcolor": "#E5ECF6",
                        "gridcolor": "white",
                        "gridwidth": 2,
                        "linecolor": "white",
                        "showbackground": true,
                        "ticks": "",
                        "zerolinecolor": "white"
                      }
                    },
                    "shapedefaults": {
                      "line": {
                        "color": "#2a3f5f"
                      }
                    },
                    "ternary": {
                      "aaxis": {
                        "gridcolor": "white",
                        "linecolor": "white",
                        "ticks": ""
                      },
                      "baxis": {
                        "gridcolor": "white",
                        "linecolor": "white",
                        "ticks": ""
                      },
                      "bgcolor": "#E5ECF6",
                      "caxis": {
                        "gridcolor": "white",
                        "linecolor": "white",
                        "ticks": ""
                      }
                    },
                    "title": {
                      "x": 0.05
                    },
                    "xaxis": {
                      "automargin": true,
                      "gridcolor": "white",
                      "linecolor": "white",
                      "ticks": "",
                      "title": {
                        "standoff": 15
                      },
                      "zerolinecolor": "white",
                      "zerolinewidth": 2
                    },
                    "yaxis": {
                      "automargin": true,
                      "gridcolor": "white",
                      "linecolor": "white",
                      "ticks": "",
                      "title": {
                        "standoff": 15
                      },
                      "zerolinecolor": "white",
                      "zerolinewidth": 2
                    }
                  }
                },
                "title": {
                  "text": "MAE vs MFte for MFtr = 0.7"
                },
                "xaxis": {
                  "title": {
                    "text": "MFte"
                  }
                },
                "yaxis": {
                  "title": {
                    "text": "MAE"
                  }
                }
              }
            }
          },
          "metadata": {},
          "output_type": "display_data"
        },
        {
          "data": {
            "application/vnd.jupyter.widget-view+json": {
              "model_id": "71d8d905171a4c679bcc2b6160cf69c3",
              "version_major": 2,
              "version_minor": 0
            },
            "text/plain": [
              "Dropdown(description='MFtr:', options=(np.float64(0.7),), value=np.float64(0.7))"
            ]
          },
          "metadata": {},
          "output_type": "display_data"
        }
      ],
      "source": [
        "import plotly.graph_objects as go\n",
        "import ipywidgets as widgets\n",
        "from IPython.display import display, clear_output\n",
        "\n",
        "\n",
        "mftr_dropdown = widgets.Dropdown(\n",
        "    options=grouped['MFtr'].unique(),\n",
        "    description='MFtr:'\n",
        ")\n",
        "\n",
        "mftr_dropdown.value = grouped['MFtr'].unique()[0]\n",
        "\n",
        "def update_plot(change):\n",
        "    selected_mftr = mftr_dropdown.value\n",
        "    filtered_data = grouped[grouped['MFtr'] == selected_mftr]\n",
        "\n",
        "    fig = go.Figure()\n",
        "    for qnt_val in filtered_data['Qnt'].unique():\n",
        "        qnt_data = filtered_data[filtered_data['Qnt'] == qnt_val]\n",
        "        fig.add_trace(go.Scatter(x=qnt_data['MFte'], y=qnt_data['AE'], mode='lines+markers', name=qnt_val))\n",
        "\n",
        "    fig.update_layout(title=f'MAE vs MFte for MFtr = {selected_mftr}',\n",
        "                      xaxis_title='MFte',\n",
        "                      yaxis_title='MAE')\n",
        "\n",
        "    clear_output(wait=True)\n",
        "    display(fig)\n",
        "    display(mftr_dropdown)\n",
        "\n",
        "\n",
        "\n",
        "mftr_dropdown.observe(update_plot, names='value')\n",
        "display(mftr_dropdown)\n",
        "update_plot(None)"
      ]
    }
  ],
  "metadata": {
    "colab": {
      "provenance": []
    },
    "kernelspec": {
      "display_name": "venv",
      "language": "python",
      "name": "python3"
    },
    "language_info": {
      "codemirror_mode": {
        "name": "ipython",
        "version": 3
      },
      "file_extension": ".py",
      "mimetype": "text/x-python",
      "name": "python",
      "nbconvert_exporter": "python",
      "pygments_lexer": "ipython3",
      "version": "3.11.2"
    },
    "widgets": {
      "application/vnd.jupyter.widget-state+json": {
        "1e7b44b9592447c1a519c4e4c5df7ba5": {
          "model_module": "@jupyter-widgets/controls",
          "model_module_version": "1.5.0",
          "model_name": "DescriptionStyleModel",
          "state": {
            "_model_module": "@jupyter-widgets/controls",
            "_model_module_version": "1.5.0",
            "_model_name": "DescriptionStyleModel",
            "_view_count": null,
            "_view_module": "@jupyter-widgets/base",
            "_view_module_version": "1.2.0",
            "_view_name": "StyleView",
            "description_width": ""
          }
        },
        "287c5628c07040b893ed3ea57e8a1881": {
          "model_module": "@jupyter-widgets/base",
          "model_module_version": "1.2.0",
          "model_name": "LayoutModel",
          "state": {
            "_model_module": "@jupyter-widgets/base",
            "_model_module_version": "1.2.0",
            "_model_name": "LayoutModel",
            "_view_count": null,
            "_view_module": "@jupyter-widgets/base",
            "_view_module_version": "1.2.0",
            "_view_name": "LayoutView",
            "align_content": null,
            "align_items": null,
            "align_self": null,
            "border": null,
            "bottom": null,
            "display": null,
            "flex": null,
            "flex_flow": null,
            "grid_area": null,
            "grid_auto_columns": null,
            "grid_auto_flow": null,
            "grid_auto_rows": null,
            "grid_column": null,
            "grid_gap": null,
            "grid_row": null,
            "grid_template_areas": null,
            "grid_template_columns": null,
            "grid_template_rows": null,
            "height": null,
            "justify_content": null,
            "justify_items": null,
            "left": null,
            "margin": null,
            "max_height": null,
            "max_width": null,
            "min_height": null,
            "min_width": null,
            "object_fit": null,
            "object_position": null,
            "order": null,
            "overflow": null,
            "overflow_x": null,
            "overflow_y": null,
            "padding": null,
            "right": null,
            "top": null,
            "visibility": null,
            "width": null
          }
        },
        "98b586d6743b4fa785514d8fe9f56664": {
          "model_module": "@jupyter-widgets/controls",
          "model_module_version": "1.5.0",
          "model_name": "DropdownModel",
          "state": {
            "_dom_classes": [],
            "_model_module": "@jupyter-widgets/controls",
            "_model_module_version": "1.5.0",
            "_model_name": "DropdownModel",
            "_options_labels": [
              "0.7"
            ],
            "_view_count": null,
            "_view_module": "@jupyter-widgets/controls",
            "_view_module_version": "1.5.0",
            "_view_name": "DropdownView",
            "description": "MFtr:",
            "description_tooltip": null,
            "disabled": false,
            "index": 0,
            "layout": "IPY_MODEL_287c5628c07040b893ed3ea57e8a1881",
            "style": "IPY_MODEL_1e7b44b9592447c1a519c4e4c5df7ba5"
          }
        }
      }
    }
  },
  "nbformat": 4,
  "nbformat_minor": 0
}
