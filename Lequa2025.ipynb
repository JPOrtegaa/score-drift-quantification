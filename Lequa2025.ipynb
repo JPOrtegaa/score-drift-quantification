{
  "cells": [
    {
      "cell_type": "code",
      "execution_count": 2,
      "metadata": {
        "colab": {
          "base_uri": "https://localhost:8080/"
        },
        "collapsed": true,
        "id": "_9_g0w7RnHf3",
        "outputId": "a40eb7c3-fcc5-4ca9-c3d9-a42d88def5a3"
      },
      "outputs": [],
      "source": [
        "# !pip install mlquantify\n",
        "\n",
        "import os\n",
        "import numpy as np\n",
        "import pandas as pd\n",
        "import pdb\n",
        "import statistics"
      ]
    },
    {
      "cell_type": "markdown",
      "metadata": {
        "id": "oPeAxRo7qVnf"
      },
      "source": [
        "### Quantifiers"
      ]
    },
    {
      "cell_type": "code",
      "execution_count": 3,
      "metadata": {
        "id": "3dJ55pwXqXuU"
      },
      "outputs": [],
      "source": [
        "def CC(test, thr=0.5):\n",
        "    result = np.sum(test >= thr) / len(test)\n",
        "    result = max(0, min(result, 1))\n",
        "\n",
        "    return np.array([result, 1 - result], dtype=float)\n",
        "\n",
        "def ACC(test, TprFpr, thr=0.5):\n",
        "    dC = CC(test)  # Implement CC function separately\n",
        "\n",
        "    tpr_fpr_row = TprFpr[TprFpr[:, 0] == thr, 1:3].astype(float)\n",
        "    if tpr_fpr_row.size == 0:\n",
        "        raise ValueError(\"Threshold value not found in TprFpr.\")\n",
        "\n",
        "    tpr, fpr = tpr_fpr_row[0]\n",
        "\n",
        "    result = (dC[0] - fpr) / (tpr - fpr) if (tpr - fpr) != 0 else 0\n",
        "    result = max(0, min(result, 1))\n",
        "\n",
        "    return np.array([result, 1 - result], dtype=float)\n",
        "\n",
        "\n",
        "def DyS(p_score, n_score, test, measure=\"topsoe\", bins=np.arange(2, 22, 2), err=1e-5):\n",
        "    results = []\n",
        "\n",
        "    for b_size in bins:\n",
        "        Sty_1 = getHist(p_score, b_size)  # Implement getHist separately\n",
        "        Sty_2 = getHist(n_score, b_size)\n",
        "        Uy = getHist(test, b_size)\n",
        "\n",
        "        def f(x):\n",
        "            return DySyn_distance(np.vstack([(Sty_1 * x) + (Sty_2 * (1 - x)), Uy]), method=measure)  # Implement DyS_distance separately\n",
        "\n",
        "        best_alpha = TernarySearch(0, 1, f, err)  # Implement TernarySearch separately\n",
        "        results.append(best_alpha)\n",
        "\n",
        "    result = statistics.median(results)\n",
        "    result = max(0, min(result, 1))\n",
        "\n",
        "    return np.array([result, 1 - result])"
      ]
    },
    {
      "cell_type": "code",
      "execution_count": null,
      "metadata": {
        "id": "CgklvHSbra_z"
      },
      "outputs": [],
      "source": [
        "def DySyn(ts, measure):\n",
        "    MF = np.arange(0.1, 1.0, 0.2) # mudar de 0.2 a 0.7\n",
        "    results = []\n",
        "    distances = []\n",
        "\n",
        "    for mf in MF:\n",
        "        scores = MoSS(1000, 0.5, mf)  # Implement MoSS function separately\n",
        "        test_p = scores[scores[:, 2] == 1, 0]\n",
        "        test_n = scores[scores[:, 2] == 2, 0]\n",
        "\n",
        "        if measure == \"sord\":\n",
        "            rQnt = DySyn_SORD(test_p, test_n, ts)  # Implement DySyn_SORD separately\n",
        "        else:\n",
        "            rQnt = DySyn_DyS(test_p, test_n, ts, measure)  # Implement DySyn_DyS separately\n",
        "\n",
        "        distances.append(rQnt[1])\n",
        "        results.append(rQnt[0][0])\n",
        "\n",
        "    best_result = round(results[np.argmin(distances)], 2)\n",
        "    return [np.array([best_result, 1 - best_result]), min(distances)]\n",
        "\n",
        "def DySyn_DyS(p_score, n_score, test, measure=\"hellinger\", b_sizes = list(range(2, 21, 2)) + [30]):\n",
        "    results = []\n",
        "    vDistAll = []\n",
        "\n",
        "    for b_size in b_sizes:\n",
        "        Sty_1 = getHist(p_score, b_size)  # Implement getHist separately\n",
        "        Sty_2 = getHist(n_score, b_size)\n",
        "        Uy = getHist(test, b_size)\n",
        "\n",
        "        def f(x):\n",
        "            return DySyn_distance(np.vstack([(Sty_1 * x) + (Sty_2 * (1 - x)), Uy]), method=measure)  # Implement DySyn_distance separately\n",
        "\n",
        "        best_alpha = TernarySearch(0, 1, f, 1e-2)  # Implement TernarySearch separately\n",
        "        results.append(best_alpha)\n",
        "        vDistAll.append(f(best_alpha))\n",
        "\n",
        "    median_result = np.median(results)\n",
        "    return [np.array([round(median_result, 2), 1 - round(median_result, 2)]), min(vDistAll)]\n",
        "\n",
        "def PNTDiff(pos, neg, test, pos_prop):\n",
        "    p_w = pos_prop / len(pos)\n",
        "    n_w = (1 - pos_prop) / len(neg)\n",
        "    t_w = -1 / len(test)\n",
        "\n",
        "    p = np.column_stack((pos, np.full(len(pos), p_w)))\n",
        "    n = np.column_stack((neg, np.full(len(neg), n_w)))\n",
        "    t = np.column_stack((test, np.full(len(test), t_w)))\n",
        "\n",
        "    v = np.vstack((p, n, t))\n",
        "    v = v[v[:, 0].argsort()]\n",
        "\n",
        "    acc = v[0, 1]\n",
        "    total_cost = 0\n",
        "\n",
        "    for i in range(1, len(v)):\n",
        "        cost_mul = v[i, 0] - v[i - 1, 0]\n",
        "        total_cost += abs(cost_mul * acc)\n",
        "        acc += v[i, 1]\n",
        "\n",
        "    return total_cost\n",
        "\n",
        "def DySyn_SORD(p_score, n_score, test):\n",
        "    def f(x):\n",
        "        return PNTDiff(p_score, n_score, test, x)\n",
        "\n",
        "    best_alpha = TernarySearch(0, 1, f, 1e-5)  # Implement TernarySearch separately\n",
        "    vDist = f(best_alpha)\n",
        "\n",
        "    return [np.array([round(best_alpha, 2), 1 - round(best_alpha, 2)]), vDist]"
      ]
    },
    {
      "cell_type": "markdown",
      "metadata": {
        "id": "kS0GiAs2r3xi"
      },
      "source": [
        "### Utils"
      ]
    },
    {
      "cell_type": "code",
      "execution_count": 5,
      "metadata": {
        "id": "IDcpqUDhnEcG"
      },
      "outputs": [],
      "source": [
        "def getTPRandFPRbyThreshold(validation_scores):\n",
        "    unique_scores = np.arange(0.01, 1.00, 0.01)\n",
        "    arrayOfTPRandFPRByTr = []\n",
        "\n",
        "    total_positive = np.sum(validation_scores[:, 2] == 1)\n",
        "    total_negative = np.sum(validation_scores[:, 2] == 2)\n",
        "\n",
        "    for threshold in unique_scores:\n",
        "        fp = np.sum((validation_scores[:, 0] > threshold) & (validation_scores[:, 2] == 2))\n",
        "        tp = np.sum((validation_scores[:, 0] > threshold) & (validation_scores[:, 2] == 1))\n",
        "        tpr = tp / total_positive if total_positive > 0 else 0\n",
        "        fpr = fp / total_negative if total_negative > 0 else 0\n",
        "\n",
        "        arrayOfTPRandFPRByTr.append([round(threshold, 2), tpr, fpr])\n",
        "\n",
        "    return np.array(arrayOfTPRandFPRByTr, dtype=object)"
      ]
    },
    {
      "cell_type": "code",
      "execution_count": 6,
      "metadata": {
        "id": "y1dKRWp6r69v"
      },
      "outputs": [],
      "source": [
        "import numpy as np\n",
        "\n",
        "def DySyn_distance(x, method=\"hellinger\"):\n",
        "    if method == \"ord\":\n",
        "        x_dif = x[0, :] - x[1, :]\n",
        "        acum = 0\n",
        "        aux = 0\n",
        "        for val in x_dif:\n",
        "            aux += val\n",
        "            acum += aux\n",
        "        return abs(acum)\n",
        "\n",
        "    if method == \"topsoe\":\n",
        "        return sum(x[0, i] * np.log((2 * x[0, i]) / (x[0, i] + x[1, i])) +\n",
        "                   x[1, i] * np.log((2 * x[1, i]) / (x[1, i] + x[0, i])) for i in range(x.shape[1]))\n",
        "\n",
        "    if method == \"jensen_difference\":\n",
        "        return sum(((x[0, i] * np.log(x[0, i]) + x[1, i] * np.log(x[1, i])) / 2) -\n",
        "                   ((x[0, i] + x[1, i]) / 2) * np.log((x[0, i] + x[1, i]) / 2) for i in range(x.shape[1]))\n",
        "\n",
        "    if method == \"taneja\":\n",
        "        return sum(((x[0, i] + x[1, i]) / 2) * np.log((x[0, i] + x[1, i]) / (2 * np.sqrt(x[0, i] * x[1, i])))\n",
        "                   for i in range(x.shape[1]))\n",
        "\n",
        "    if method == \"hellinger\":\n",
        "        return 2 * np.sqrt(1 - sum(np.sqrt(x[0, i] * x[1, i]) for i in range(x.shape[1])))\n",
        "\n",
        "    if method == \"prob_symm\":\n",
        "        return 2 * sum(((x[0, i] - x[1, i]) ** 2) / (x[0, i] + x[1, i]) for i in range(x.shape[1]))\n",
        "\n",
        "    raise ValueError(\"measure argument must be a valid option\")\n",
        "\n",
        "def getHist(scores, nbins):\n",
        "    breaks = np.linspace(0, 1, nbins + 1)\n",
        "    breaks[-1] = 1.1\n",
        "    re = np.full(len(breaks) - 1, 1 / (len(breaks) - 1))\n",
        "\n",
        "    for i in range(1, len(breaks)):\n",
        "        re[i - 1] = (re[i - 1] + np.sum((scores >= breaks[i - 1]) & (scores < breaks[i]))) / (len(scores) + 1)\n",
        "\n",
        "    return re\n",
        "\n",
        "def TernarySearch(left, right, f, eps=1e-4):\n",
        "    while True:\n",
        "        if abs(left - right) < eps:\n",
        "            return (left + right) / 2\n",
        "\n",
        "        leftThird = left + (right - left) / 3\n",
        "        rightThird = right - (right - left) / 3\n",
        "\n",
        "        if f(leftThird) > f(rightThird):\n",
        "            left = leftThird\n",
        "        else:\n",
        "            right = rightThird\n"
      ]
    },
    {
      "cell_type": "code",
      "execution_count": 7,
      "metadata": {
        "id": "euC8rIxbnXly"
      },
      "outputs": [],
      "source": [
        "def MoSS(n, alpha, m):\n",
        "    p_score = np.random.uniform(size=int(n * alpha)) ** m\n",
        "    n_score = 1 - (np.random.uniform(size=int(round(n * (1 - alpha), 0))) ** m)\n",
        "    scores = np.column_stack((np.concatenate((p_score, n_score)), np.concatenate((p_score, n_score)), np.concatenate((np.ones(len(p_score)), np.full(len(n_score), 2)))))\n",
        "    # pdb.set_trace()\n",
        "    return scores"
      ]
    },
    {
      "cell_type": "code",
      "execution_count": 8,
      "metadata": {
        "colab": {
          "base_uri": "https://localhost:8080/"
        },
        "collapsed": true,
        "id": "JPpRCrLxYeiL",
        "outputId": "0e0782de-27df-484f-ddb1-730ad96b13f6"
      },
      "outputs": [
        {
          "data": {
            "text/plain": [
              "array([[1., 1., 1.],\n",
              "       [0., 0., 2.]])"
            ]
          },
          "execution_count": 8,
          "metadata": {},
          "output_type": "execute_result"
        }
      ],
      "source": [
        "scrs = MoSS(2, 0.5, 0.0)\n",
        "scrs"
      ]
    },
    {
      "cell_type": "code",
      "execution_count": 9,
      "metadata": {
        "id": "gN422rG7oC6R"
      },
      "outputs": [],
      "source": [
        "def apply_qntMethod(qntMethod, p_score, n_score, test, TprFpr=None, thr=None, measure=\"hellinger\"):\n",
        "    import mlquantify  # Ensure the mlquantify package is available\n",
        "    \n",
        "    if qntMethod == \"CC\":\n",
        "        return CC(test=test, thr=thr)\n",
        "\n",
        "    if qntMethod == \"ACCSyn\":\n",
        "        return ACCSyn(ts=test, measure=measure)\n",
        "\n",
        "    if qntMethod == \"XSyn\":\n",
        "        return XSyn(ts=test, measure=measure)\n",
        "\n",
        "    if qntMethod == \"MAXSyn\":\n",
        "        return MAXSyn(ts=test, measure=measure)\n",
        "\n",
        "    if qntMethod == \"T50Syn\":\n",
        "        return T50Syn(ts=test, measure=measure)\n",
        "\n",
        "    if qntMethod == \"MSSyn\":\n",
        "        return MSSyn(ts=test, measure=measure)\n",
        "\n",
        "    if qntMethod == \"MS2Syn\":\n",
        "        return MS2Syn(ts=test, measure=measure)\n",
        "\n",
        "    if qntMethod == \"SMMSyn\":\n",
        "        return SMMSyn(ts=test, measure=measure)\n",
        "\n",
        "    if qntMethod == \"PCC\":\n",
        "        return mlquantify.PCC(test)\n",
        "\n",
        "    if qntMethod == \"ACC\":\n",
        "        return ACC(test=test, TprFpr=TprFpr, thr=thr)\n",
        "\n",
        "    if qntMethod == \"T50\":\n",
        "        return T50(ts=test, TprFpr=TprFpr)\n",
        "\n",
        "    if qntMethod == \"X\":\n",
        "        return X(ts=test, TprFpr=TprFpr)\n",
        "\n",
        "    if qntMethod == \"MAX\":\n",
        "        return MAX(ts=test, TprFpr=TprFpr)\n",
        "\n",
        "    if qntMethod == \"PACC\":\n",
        "        return mlquantify.methods.PACC(ts=test, TprFpr=TprFpr, thr=thr)\n",
        "\n",
        "    if qntMethod == \"DySyn\":\n",
        "        return DySyn(ts=test, measure=measure)\n",
        "\n",
        "    if qntMethod == \"HDy-LP\":\n",
        "        return mlquantify.HDy_LP(p_score=p_score, n_score=n_score, test=test)\n",
        "\n",
        "    if qntMethod == \"DyS\":\n",
        "        return DyS(p_score=p_score, n_score=n_score, test=test, measure=measure)\n",
        "\n",
        "    if qntMethod == \"SORD\":\n",
        "        return mlquantify.SORD(p_score=p_score, n_score=n_score, test=test)\n",
        "\n",
        "    if qntMethod == \"MS\":\n",
        "        return MS(ts=test, TprFpr=TprFpr)\n",
        "\n",
        "    if qntMethod == \"MS2\":\n",
        "        return MS2(ts=test, TprFpr=TprFpr)\n",
        "\n",
        "    if qntMethod == \"SMM\":\n",
        "        return SMM(p_scores=p_score, n_scores=n_score, t_scores=test)\n",
        "\n",
        "    print(\"ERROR - Quantification method was not applied!\")\n",
        "    return None"
      ]
    },
    {
      "cell_type": "markdown",
      "metadata": {
        "id": "R_uxH3y8YTQC"
      },
      "source": [
        "### Proposal"
      ]
    },
    {
      "cell_type": "code",
      "execution_count": 10,
      "metadata": {
        "id": "5099ig3BYTn0"
      },
      "outputs": [],
      "source": [
        "def ACCSyn(ts, measure):\n",
        "    MF = np.arange(0.05, 1.0, 0.01)\n",
        "    results = []\n",
        "    distances = []\n",
        "\n",
        "    for mf in MF:\n",
        "        scores = MoSS(500, 0.5, mf)  # Implement MoSS function separately\n",
        "        test_p = scores[scores[:, 2] == 1, 0]\n",
        "        test_n = scores[scores[:, 2] == 2, 0]\n",
        "\n",
        "        rQnt = DySyn_DyS(test_p, test_n, ts, measure, [10])  # Implement DySyn_DyS separately\n",
        "\n",
        "        distances.append(np.round(rQnt[1],3))\n",
        "\n",
        "    TprFpr = np.array(getTPRandFPRbyThreshold(MoSS(1000, 0.5, MF[np.argmin(distances)]))).astype(float)  # Implement getTPRandFPRbyThreshold\n",
        "\n",
        "    dC = CC(ts)  # Implement CC function separately\n",
        "\n",
        "    tpr_fpr_row = TprFpr[TprFpr[:, 0] == 0.5, 1:3].astype(float)\n",
        "    if tpr_fpr_row.size == 0:\n",
        "        raise ValueError(\"Threshold value not found in TprFpr.\")\n",
        "\n",
        "    tpr, fpr = tpr_fpr_row[0]\n",
        "\n",
        "    result = (dC[0] - fpr) / (tpr - fpr) if (tpr - fpr) != 0 else 0\n",
        "    result = max(0, min(result, 1))\n",
        "\n",
        "    return np.array([result, 1 - result], dtype=float)"
      ]
    },
    {
      "cell_type": "code",
      "execution_count": 11,
      "metadata": {
        "collapsed": true,
        "id": "AKDi-sAnP6j6"
      },
      "outputs": [],
      "source": [
        "def X(ts, TprFpr):\n",
        "    dC = CC(ts)  # Implement CC function separately\n",
        "\n",
        "    min_index = abs((1 - TprFpr[:, 1]) - TprFpr[:, 2])\n",
        "    min_index = np.argmin(min_index)\n",
        "\n",
        "    tpr_fpr_row = TprFpr[min_index, 1:3].astype(float)\n",
        "    if tpr_fpr_row.size == 0:\n",
        "        raise ValueError(\"Threshold value not found in TprFpr.\")\n",
        "\n",
        "    tpr, fpr = tpr_fpr_row\n",
        "\n",
        "    result = (dC[0] - fpr) / (tpr - fpr) if (tpr - fpr) != 0 else 0\n",
        "    result = max(0, min(result, 1))\n",
        "\n",
        "    return np.array([result, 1 - result], dtype=float)\n",
        "\n",
        "def XSyn(ts, measure):\n",
        "    MF = np.arange(0.05, 1.0, 0.01)\n",
        "    results = []\n",
        "    distances = []\n",
        "\n",
        "    # Synthetic scores generation\n",
        "    for mf in MF:\n",
        "      scores = MoSS(500, 0.5, mf)  # Implement MoSS function separately\n",
        "      test_p = scores[scores[:, 2] == 1, 0]\n",
        "      test_n = scores[scores[:, 2] == 2, 0]\n",
        "\n",
        "      rQnt = DySyn_DyS(test_p, test_n, ts, measure, [10])  # Implement DySyn_DyS separately\n",
        "\n",
        "      distances.append(np.round(rQnt[1],3))\n",
        "\n",
        "    # Generate TPR and FPR by the min distance in MF\n",
        "    TprFpr = np.array(getTPRandFPRbyThreshold(MoSS(1000, 0.5, MF[np.argmin(distances)]))).astype(float)  # Implement getTPRandFPRbyThreshold\n",
        "    dC = CC(ts)  # Implement CC function separately\n",
        "\n",
        "    # Usual X implementation\n",
        "    min_index = abs((1 - TprFpr[:, 1]) - TprFpr[:, 2])\n",
        "    min_index = np.argmin(min_index)\n",
        "\n",
        "    tpr_fpr_row = TprFpr[min_index, 1:3].astype(float)\n",
        "    # if tpr_fpr_row.size == 0:\n",
        "    #   raise ValueError(\"Threshold value not found in TprFpr.\")\n",
        "\n",
        "    tpr, fpr = tpr_fpr_row\n",
        "\n",
        "    result = (dC[0] - fpr) / (tpr - fpr) if (tpr - fpr) != 0 else 0\n",
        "    result = max(0, min(result, 1))\n",
        "\n",
        "    return np.array([result, 1 - result], dtype=float)"
      ]
    },
    {
      "cell_type": "code",
      "execution_count": 12,
      "metadata": {
        "id": "kOQOkpeceyN9"
      },
      "outputs": [],
      "source": [
        "def MAX(ts, TprFpr):\n",
        "    dC = CC(ts)  # Implement CC function separately\n",
        "\n",
        "    # Usual MAX implementation\n",
        "    max_index = abs(TprFpr[:, 1] - TprFpr[:, 2])\n",
        "    max_index = np.argmax(max_index)\n",
        "\n",
        "    tpr_fpr_row = TprFpr[max_index, 1:3].astype(float)\n",
        "\n",
        "    tpr, fpr = tpr_fpr_row\n",
        "\n",
        "    result = (dC[0] - fpr) / (tpr - fpr) if (tpr - fpr) != 0 else 0\n",
        "    result = max(0, min(result, 1))\n",
        "\n",
        "    return np.array([result, 1 - result], dtype=float)\n",
        "\n",
        "def MAXSyn(ts, measure):\n",
        "    MF = np.arange(0.05, 1.0, 0.01)\n",
        "    results = []\n",
        "    distances = []\n",
        "\n",
        "    # Synthetic scores generation\n",
        "    for mf in MF:\n",
        "      scores = MoSS(500, 0.5, mf)  # Implement MoSS function separately\n",
        "      test_p = scores[scores[:, 2] == 1, 0]\n",
        "      test_n = scores[scores[:, 2] == 2, 0]\n",
        "\n",
        "      rQnt = DySyn_DyS(test_p, test_n, ts, measure, [10])  # Implement DySyn_DyS separately\n",
        "\n",
        "      distances.append(np.round(rQnt[1],3))\n",
        "\n",
        "    # Generate TPR and FPR by the min distance in MF\n",
        "    TprFpr = np.array(getTPRandFPRbyThreshold(MoSS(1000, 0.5, MF[np.argmin(distances)]))).astype(float)  # Implement getTPRandFPRbyThreshold\n",
        "    dC = CC(ts)  # Implement CC function separately\n",
        "\n",
        "    # Usual MAX implementation\n",
        "    max_index = abs(TprFpr[:, 1] - TprFpr[:, 2])\n",
        "    max_index = np.argmax(max_index)\n",
        "\n",
        "    tpr_fpr_row = TprFpr[max_index, 1:3].astype(float)\n",
        "\n",
        "    tpr, fpr = tpr_fpr_row\n",
        "\n",
        "    result = (dC[0] - fpr) / (tpr - fpr) if (tpr - fpr) != 0 else 0\n",
        "    result = max(0, min(result, 1))\n",
        "\n",
        "    return np.array([result, 1 - result], dtype=float)"
      ]
    },
    {
      "cell_type": "code",
      "execution_count": 13,
      "metadata": {
        "id": "soFDu5Nfjr95"
      },
      "outputs": [],
      "source": [
        "def T50(ts, TprFpr):\n",
        "    dC = CC(ts)  # Implement CC function separately\n",
        "\n",
        "    # Usual T50 implementation\n",
        "    min_index = abs(TprFpr[:, 1] - 0.5)\n",
        "    min_index = np.argmin(min_index)\n",
        "\n",
        "    tpr_fpr_row = TprFpr[min_index, 1:3].astype(float)\n",
        "\n",
        "    tpr, fpr = tpr_fpr_row\n",
        "\n",
        "    result = (dC[0] - fpr) / (tpr - fpr) if (tpr - fpr) != 0 else 0\n",
        "    result = max(0, min(result, 1))\n",
        "\n",
        "    return np.array([result, 1 - result], dtype=float)\n",
        "\n",
        "def T50Syn(ts, measure):\n",
        "    MF = np.arange(0.05, 1.0, 0.01)\n",
        "    results = []\n",
        "    distances = []\n",
        "\n",
        "    # Synthetic scores generation\n",
        "    for mf in MF:\n",
        "      scores = MoSS(500, 0.5, mf)  # Implement MoSS function separately\n",
        "      test_p = scores[scores[:, 2] == 1, 0]\n",
        "      test_n = scores[scores[:, 2] == 2, 0]\n",
        "\n",
        "      rQnt = DySyn_DyS(test_p, test_n, ts, measure, [10])  # Implement DySyn_DyS separately\n",
        "\n",
        "      distances.append(np.round(rQnt[1],3))\n",
        "\n",
        "    # Generate TPR and FPR by the min distance in MF\n",
        "    TprFpr = np.array(getTPRandFPRbyThreshold(MoSS(1000, 0.5, MF[np.argmin(distances)]))).astype(float)  # Implement getTPRandFPRbyThreshold\n",
        "    dC = CC(ts)  # Implement CC function separately\n",
        "\n",
        "    # Usual T50 implementation\n",
        "    min_index = abs(TprFpr[:, 1] - 0.5)\n",
        "    min_index = np.argmin(min_index)\n",
        "\n",
        "    tpr_fpr_row = TprFpr[min_index, 1:3].astype(float)\n",
        "\n",
        "    tpr, fpr = tpr_fpr_row\n",
        "\n",
        "    result = (dC[0] - fpr) / (tpr - fpr) if (tpr - fpr) != 0 else 0\n",
        "    result = max(0, min(result, 1))\n",
        "\n",
        "    return np.array([result, 1 - result], dtype=float)"
      ]
    },
    {
      "cell_type": "code",
      "execution_count": 29,
      "metadata": {
        "id": "BTvfC2Z0Dxhk"
      },
      "outputs": [
        {
          "ename": "ValueError",
          "evalue": "Could not interpret value `col2` for `hue`. An entry with this name does not appear in `data`.",
          "output_type": "error",
          "traceback": [
            "\u001b[1;31m---------------------------------------------------------------------------\u001b[0m",
            "\u001b[1;31mValueError\u001b[0m                                Traceback (most recent call last)",
            "Cell \u001b[1;32mIn[29], line 17\u001b[0m\n\u001b[0;32m     15\u001b[0m plt\u001b[38;5;241m.\u001b[39mfigure(figsize\u001b[38;5;241m=\u001b[39m(\u001b[38;5;241m10\u001b[39m, \u001b[38;5;241m6\u001b[39m))\n\u001b[0;32m     16\u001b[0m sns\u001b[38;5;241m.\u001b[39mkdeplot(data\u001b[38;5;241m=\u001b[39mx, x\u001b[38;5;241m=\u001b[39m\u001b[38;5;124m'\u001b[39m\u001b[38;5;124mx\u001b[39m\u001b[38;5;124m'\u001b[39m, hue\u001b[38;5;241m=\u001b[39m\u001b[38;5;124m'\u001b[39m\u001b[38;5;124mcol1\u001b[39m\u001b[38;5;124m'\u001b[39m, fill\u001b[38;5;241m=\u001b[39m\u001b[38;5;28;01mTrue\u001b[39;00m)\n\u001b[1;32m---> 17\u001b[0m \u001b[43msns\u001b[49m\u001b[38;5;241;43m.\u001b[39;49m\u001b[43mkdeplot\u001b[49m\u001b[43m(\u001b[49m\u001b[43mdata\u001b[49m\u001b[38;5;241;43m=\u001b[39;49m\u001b[43mx\u001b[49m\u001b[43m,\u001b[49m\u001b[43m \u001b[49m\u001b[43mx\u001b[49m\u001b[38;5;241;43m=\u001b[39;49m\u001b[38;5;124;43m'\u001b[39;49m\u001b[38;5;124;43mx\u001b[39;49m\u001b[38;5;124;43m'\u001b[39;49m\u001b[43m,\u001b[49m\u001b[43m \u001b[49m\u001b[43mhue\u001b[49m\u001b[38;5;241;43m=\u001b[39;49m\u001b[38;5;124;43m'\u001b[39;49m\u001b[38;5;124;43mcol2\u001b[39;49m\u001b[38;5;124;43m'\u001b[39;49m\u001b[43m,\u001b[49m\u001b[43m \u001b[49m\u001b[43mfill\u001b[49m\u001b[38;5;241;43m=\u001b[39;49m\u001b[38;5;28;43;01mTrue\u001b[39;49;00m\u001b[43m)\u001b[49m\n\u001b[0;32m     18\u001b[0m sns\u001b[38;5;241m.\u001b[39mkdeplot(data\u001b[38;5;241m=\u001b[39mx, x\u001b[38;5;241m=\u001b[39m\u001b[38;5;124m'\u001b[39m\u001b[38;5;124mx\u001b[39m\u001b[38;5;124m'\u001b[39m, hue\u001b[38;5;241m=\u001b[39m\u001b[38;5;124m'\u001b[39m\u001b[38;5;124mcol3\u001b[39m\u001b[38;5;124m'\u001b[39m, fill\u001b[38;5;241m=\u001b[39m\u001b[38;5;28;01mTrue\u001b[39;00m)\n\u001b[0;32m     20\u001b[0m plt\u001b[38;5;241m.\u001b[39mtitle(\u001b[38;5;124m'\u001b[39m\u001b[38;5;124mDensity Plot of x with different colors for columns\u001b[39m\u001b[38;5;124m'\u001b[39m)\n",
            "File \u001b[1;32mc:\\2Mestrado\\score-drift-quantification\\venv\\Lib\\site-packages\\seaborn\\distributions.py:1669\u001b[0m, in \u001b[0;36mkdeplot\u001b[1;34m(data, x, y, hue, weights, palette, hue_order, hue_norm, color, fill, multiple, common_norm, common_grid, cumulative, bw_method, bw_adjust, warn_singular, log_scale, levels, thresh, gridsize, cut, clip, legend, cbar, cbar_ax, cbar_kws, ax, **kwargs)\u001b[0m\n\u001b[0;32m   1665\u001b[0m levels \u001b[38;5;241m=\u001b[39m kwargs\u001b[38;5;241m.\u001b[39mpop(\u001b[38;5;124m\"\u001b[39m\u001b[38;5;124mn_levels\u001b[39m\u001b[38;5;124m\"\u001b[39m, levels)\n\u001b[0;32m   1667\u001b[0m \u001b[38;5;66;03m# - - - - - - - - - - - - - - - - - - - - - - - - - - - - - - - - - - - - #\u001b[39;00m\n\u001b[1;32m-> 1669\u001b[0m p \u001b[38;5;241m=\u001b[39m \u001b[43m_DistributionPlotter\u001b[49m\u001b[43m(\u001b[49m\n\u001b[0;32m   1670\u001b[0m \u001b[43m    \u001b[49m\u001b[43mdata\u001b[49m\u001b[38;5;241;43m=\u001b[39;49m\u001b[43mdata\u001b[49m\u001b[43m,\u001b[49m\n\u001b[0;32m   1671\u001b[0m \u001b[43m    \u001b[49m\u001b[43mvariables\u001b[49m\u001b[38;5;241;43m=\u001b[39;49m\u001b[38;5;28;43mdict\u001b[39;49m\u001b[43m(\u001b[49m\u001b[43mx\u001b[49m\u001b[38;5;241;43m=\u001b[39;49m\u001b[43mx\u001b[49m\u001b[43m,\u001b[49m\u001b[43m \u001b[49m\u001b[43my\u001b[49m\u001b[38;5;241;43m=\u001b[39;49m\u001b[43my\u001b[49m\u001b[43m,\u001b[49m\u001b[43m \u001b[49m\u001b[43mhue\u001b[49m\u001b[38;5;241;43m=\u001b[39;49m\u001b[43mhue\u001b[49m\u001b[43m,\u001b[49m\u001b[43m \u001b[49m\u001b[43mweights\u001b[49m\u001b[38;5;241;43m=\u001b[39;49m\u001b[43mweights\u001b[49m\u001b[43m)\u001b[49m\u001b[43m,\u001b[49m\n\u001b[0;32m   1672\u001b[0m \u001b[43m\u001b[49m\u001b[43m)\u001b[49m\n\u001b[0;32m   1674\u001b[0m p\u001b[38;5;241m.\u001b[39mmap_hue(palette\u001b[38;5;241m=\u001b[39mpalette, order\u001b[38;5;241m=\u001b[39mhue_order, norm\u001b[38;5;241m=\u001b[39mhue_norm)\n\u001b[0;32m   1676\u001b[0m \u001b[38;5;28;01mif\u001b[39;00m ax \u001b[38;5;129;01mis\u001b[39;00m \u001b[38;5;28;01mNone\u001b[39;00m:\n",
            "File \u001b[1;32mc:\\2Mestrado\\score-drift-quantification\\venv\\Lib\\site-packages\\seaborn\\distributions.py:110\u001b[0m, in \u001b[0;36m_DistributionPlotter.__init__\u001b[1;34m(self, data, variables)\u001b[0m\n\u001b[0;32m    104\u001b[0m \u001b[38;5;28;01mdef\u001b[39;00m\u001b[38;5;250m \u001b[39m\u001b[38;5;21m__init__\u001b[39m(\n\u001b[0;32m    105\u001b[0m     \u001b[38;5;28mself\u001b[39m,\n\u001b[0;32m    106\u001b[0m     data\u001b[38;5;241m=\u001b[39m\u001b[38;5;28;01mNone\u001b[39;00m,\n\u001b[0;32m    107\u001b[0m     variables\u001b[38;5;241m=\u001b[39m{},\n\u001b[0;32m    108\u001b[0m ):\n\u001b[1;32m--> 110\u001b[0m     \u001b[38;5;28;43msuper\u001b[39;49m\u001b[43m(\u001b[49m\u001b[43m)\u001b[49m\u001b[38;5;241;43m.\u001b[39;49m\u001b[38;5;21;43m__init__\u001b[39;49m\u001b[43m(\u001b[49m\u001b[43mdata\u001b[49m\u001b[38;5;241;43m=\u001b[39;49m\u001b[43mdata\u001b[49m\u001b[43m,\u001b[49m\u001b[43m \u001b[49m\u001b[43mvariables\u001b[49m\u001b[38;5;241;43m=\u001b[39;49m\u001b[43mvariables\u001b[49m\u001b[43m)\u001b[49m\n",
            "File \u001b[1;32mc:\\2Mestrado\\score-drift-quantification\\venv\\Lib\\site-packages\\seaborn\\_base.py:634\u001b[0m, in \u001b[0;36mVectorPlotter.__init__\u001b[1;34m(self, data, variables)\u001b[0m\n\u001b[0;32m    629\u001b[0m \u001b[38;5;66;03m# var_ordered is relevant only for categorical axis variables, and may\u001b[39;00m\n\u001b[0;32m    630\u001b[0m \u001b[38;5;66;03m# be better handled by an internal axis information object that tracks\u001b[39;00m\n\u001b[0;32m    631\u001b[0m \u001b[38;5;66;03m# such information and is set up by the scale_* methods. The analogous\u001b[39;00m\n\u001b[0;32m    632\u001b[0m \u001b[38;5;66;03m# information for numeric axes would be information about log scales.\u001b[39;00m\n\u001b[0;32m    633\u001b[0m \u001b[38;5;28mself\u001b[39m\u001b[38;5;241m.\u001b[39m_var_ordered \u001b[38;5;241m=\u001b[39m {\u001b[38;5;124m\"\u001b[39m\u001b[38;5;124mx\u001b[39m\u001b[38;5;124m\"\u001b[39m: \u001b[38;5;28;01mFalse\u001b[39;00m, \u001b[38;5;124m\"\u001b[39m\u001b[38;5;124my\u001b[39m\u001b[38;5;124m\"\u001b[39m: \u001b[38;5;28;01mFalse\u001b[39;00m}  \u001b[38;5;66;03m# alt., used DefaultDict\u001b[39;00m\n\u001b[1;32m--> 634\u001b[0m \u001b[38;5;28;43mself\u001b[39;49m\u001b[38;5;241;43m.\u001b[39;49m\u001b[43massign_variables\u001b[49m\u001b[43m(\u001b[49m\u001b[43mdata\u001b[49m\u001b[43m,\u001b[49m\u001b[43m \u001b[49m\u001b[43mvariables\u001b[49m\u001b[43m)\u001b[49m\n\u001b[0;32m    636\u001b[0m \u001b[38;5;66;03m# TODO Lots of tests assume that these are called to initialize the\u001b[39;00m\n\u001b[0;32m    637\u001b[0m \u001b[38;5;66;03m# mappings to default values on class initialization. I'd prefer to\u001b[39;00m\n\u001b[0;32m    638\u001b[0m \u001b[38;5;66;03m# move away from that and only have a mapping when explicitly called.\u001b[39;00m\n\u001b[0;32m    639\u001b[0m \u001b[38;5;28;01mfor\u001b[39;00m var \u001b[38;5;129;01min\u001b[39;00m [\u001b[38;5;124m\"\u001b[39m\u001b[38;5;124mhue\u001b[39m\u001b[38;5;124m\"\u001b[39m, \u001b[38;5;124m\"\u001b[39m\u001b[38;5;124msize\u001b[39m\u001b[38;5;124m\"\u001b[39m, \u001b[38;5;124m\"\u001b[39m\u001b[38;5;124mstyle\u001b[39m\u001b[38;5;124m\"\u001b[39m]:\n",
            "File \u001b[1;32mc:\\2Mestrado\\score-drift-quantification\\venv\\Lib\\site-packages\\seaborn\\_base.py:679\u001b[0m, in \u001b[0;36mVectorPlotter.assign_variables\u001b[1;34m(self, data, variables)\u001b[0m\n\u001b[0;32m    674\u001b[0m \u001b[38;5;28;01melse\u001b[39;00m:\n\u001b[0;32m    675\u001b[0m     \u001b[38;5;66;03m# When dealing with long-form input, use the newer PlotData\u001b[39;00m\n\u001b[0;32m    676\u001b[0m     \u001b[38;5;66;03m# object (internal but introduced for the objects interface)\u001b[39;00m\n\u001b[0;32m    677\u001b[0m     \u001b[38;5;66;03m# to centralize / standardize data consumption logic.\u001b[39;00m\n\u001b[0;32m    678\u001b[0m     \u001b[38;5;28mself\u001b[39m\u001b[38;5;241m.\u001b[39minput_format \u001b[38;5;241m=\u001b[39m \u001b[38;5;124m\"\u001b[39m\u001b[38;5;124mlong\u001b[39m\u001b[38;5;124m\"\u001b[39m\n\u001b[1;32m--> 679\u001b[0m     plot_data \u001b[38;5;241m=\u001b[39m \u001b[43mPlotData\u001b[49m\u001b[43m(\u001b[49m\u001b[43mdata\u001b[49m\u001b[43m,\u001b[49m\u001b[43m \u001b[49m\u001b[43mvariables\u001b[49m\u001b[43m)\u001b[49m\n\u001b[0;32m    680\u001b[0m     frame \u001b[38;5;241m=\u001b[39m plot_data\u001b[38;5;241m.\u001b[39mframe\n\u001b[0;32m    681\u001b[0m     names \u001b[38;5;241m=\u001b[39m plot_data\u001b[38;5;241m.\u001b[39mnames\n",
            "File \u001b[1;32mc:\\2Mestrado\\score-drift-quantification\\venv\\Lib\\site-packages\\seaborn\\_core\\data.py:58\u001b[0m, in \u001b[0;36mPlotData.__init__\u001b[1;34m(self, data, variables)\u001b[0m\n\u001b[0;32m     51\u001b[0m \u001b[38;5;28;01mdef\u001b[39;00m\u001b[38;5;250m \u001b[39m\u001b[38;5;21m__init__\u001b[39m(\n\u001b[0;32m     52\u001b[0m     \u001b[38;5;28mself\u001b[39m,\n\u001b[0;32m     53\u001b[0m     data: DataSource,\n\u001b[0;32m     54\u001b[0m     variables: \u001b[38;5;28mdict\u001b[39m[\u001b[38;5;28mstr\u001b[39m, VariableSpec],\n\u001b[0;32m     55\u001b[0m ):\n\u001b[0;32m     57\u001b[0m     data \u001b[38;5;241m=\u001b[39m handle_data_source(data)\n\u001b[1;32m---> 58\u001b[0m     frame, names, ids \u001b[38;5;241m=\u001b[39m \u001b[38;5;28;43mself\u001b[39;49m\u001b[38;5;241;43m.\u001b[39;49m\u001b[43m_assign_variables\u001b[49m\u001b[43m(\u001b[49m\u001b[43mdata\u001b[49m\u001b[43m,\u001b[49m\u001b[43m \u001b[49m\u001b[43mvariables\u001b[49m\u001b[43m)\u001b[49m\n\u001b[0;32m     60\u001b[0m     \u001b[38;5;28mself\u001b[39m\u001b[38;5;241m.\u001b[39mframe \u001b[38;5;241m=\u001b[39m frame\n\u001b[0;32m     61\u001b[0m     \u001b[38;5;28mself\u001b[39m\u001b[38;5;241m.\u001b[39mnames \u001b[38;5;241m=\u001b[39m names\n",
            "File \u001b[1;32mc:\\2Mestrado\\score-drift-quantification\\venv\\Lib\\site-packages\\seaborn\\_core\\data.py:232\u001b[0m, in \u001b[0;36mPlotData._assign_variables\u001b[1;34m(self, data, variables)\u001b[0m\n\u001b[0;32m    230\u001b[0m     \u001b[38;5;28;01melse\u001b[39;00m:\n\u001b[0;32m    231\u001b[0m         err \u001b[38;5;241m+\u001b[39m\u001b[38;5;241m=\u001b[39m \u001b[38;5;124m\"\u001b[39m\u001b[38;5;124mAn entry with this name does not appear in `data`.\u001b[39m\u001b[38;5;124m\"\u001b[39m\n\u001b[1;32m--> 232\u001b[0m     \u001b[38;5;28;01mraise\u001b[39;00m \u001b[38;5;167;01mValueError\u001b[39;00m(err)\n\u001b[0;32m    234\u001b[0m \u001b[38;5;28;01melse\u001b[39;00m:\n\u001b[0;32m    235\u001b[0m \n\u001b[0;32m    236\u001b[0m     \u001b[38;5;66;03m# Otherwise, assume the value somehow represents data\u001b[39;00m\n\u001b[0;32m    237\u001b[0m \n\u001b[0;32m    238\u001b[0m     \u001b[38;5;66;03m# Ignore empty data structures\u001b[39;00m\n\u001b[0;32m    239\u001b[0m     \u001b[38;5;28;01mif\u001b[39;00m \u001b[38;5;28misinstance\u001b[39m(val, Sized) \u001b[38;5;129;01mand\u001b[39;00m \u001b[38;5;28mlen\u001b[39m(val) \u001b[38;5;241m==\u001b[39m \u001b[38;5;241m0\u001b[39m:\n",
            "\u001b[1;31mValueError\u001b[0m: Could not interpret value `col2` for `hue`. An entry with this name does not appear in `data`."
          ]
        },
        {
          "data": {
            "image/png": "[encoded data removed]",
            "text/plain": [
              "<Figure size 1000x600 with 1 Axes>"
            ]
          },
          "metadata": {},
          "output_type": "display_data"
        }
      ],
      "source": [
        "x=MoSS(500, 0.5, 0.8)\n",
        "x = pd.DataFrame(x)\n",
        "x.columns = ['x', 'y', 'col1']\n",
        "x\n",
        "\n",
        "# prompt: plot density graph using KDE in x variable, create different color for each value in 3 column\n",
        "\n",
        "import seaborn as sns\n",
        "import matplotlib.pyplot as plt\n",
        "\n",
        "# Assuming your dataframe is named 'df' and the columns are 'x', 'col1', 'col2', 'col3'\n",
        "# Replace 'df' with your actual dataframe name and column names if different\n",
        "\n",
        "# Create the density plot\n",
        "plt.figure(figsize=(10, 6))\n",
        "sns.kdeplot(data=x, x='x', hue='col1', fill=True)\n",
        "sns.kdeplot(data=x, x='x', hue='col2', fill=True)\n",
        "sns.kdeplot(data=x, x='x', hue='col3', fill=True)\n",
        "\n",
        "plt.title('Density Plot of x with different colors for columns')\n",
        "plt.xlabel('x')\n",
        "plt.ylabel('Density')\n",
        "plt.show()\n"
      ]
    },
    {
      "cell_type": "code",
      "execution_count": null,
      "metadata": {
        "id": "VCSNgBfr3MxQ"
      },
      "outputs": [],
      "source": [
        "def MS(ts, TprFpr):\n",
        "  results = []\n",
        "  dC = CC(ts)  # Implement CC function separately\n",
        "\n",
        "  # Usual MS implementation\n",
        "  threshold_set = np.arange(0.01, 1.00, 0.01)\n",
        "\n",
        "  for threshold in threshold_set:\n",
        "    threshold = round(threshold, 2) # 0.060000003 shenanigans\n",
        "    tpr, fpr = TprFpr[TprFpr[:, 0] == threshold, 1:3].astype(float)[0]\n",
        "\n",
        "    result = (dC[0] - fpr) / (tpr - fpr) if (tpr - fpr) != 0 else 0\n",
        "    result = max(0, min(result, 1))\n",
        "\n",
        "    results.append(result)\n",
        "\n",
        "    result = np.median(results)\n",
        "  return np.array([result, 1 - result], dtype=float)\n",
        "\n",
        "def MS2(ts, TprFpr):\n",
        "    results = []\n",
        "\n",
        "    dC = CC(ts)  # Implement CC function separately\n",
        "\n",
        "    # Usual MS2 implementation\n",
        "    index = np.where(abs(TprFpr[:,1]-TprFpr[:,2]) > (1/4))[0].tolist()\n",
        "    threshold_set = TprFpr[index,0]\n",
        "    if threshold_set.shape[0] == 0:\n",
        "      threshold_set = np.arange(0.01, 1.00, 0.01)\n",
        "\n",
        "    # else usual MS\n",
        "    for threshold in threshold_set:\n",
        "      threshold = round(threshold, 2) # 0.060000003 shenanigans\n",
        "      tpr, fpr = TprFpr[TprFpr[:, 0] == threshold, 1:3].astype(float)[0]\n",
        "\n",
        "      result = (dC[0] - fpr) / (tpr - fpr) if (tpr - fpr) != 0 else 0\n",
        "      result = max(0, min(result, 1))\n",
        "\n",
        "      results.append(result)\n",
        "\n",
        "    result = np.median(results)\n",
        "    return np.array([result, 1 - result], dtype=float)"
      ]
    },
    {
      "cell_type": "code",
      "execution_count": null,
      "metadata": {
        "id": "Ew6s9CNAWg9z"
      },
      "outputs": [],
      "source": [
        "def MSSyn(ts, measure):\n",
        "    MF = np.arange(0.05, 1.0, 0.01)\n",
        "    results = []\n",
        "    distances = []\n",
        "\n",
        "    # Synthetic scores generation\n",
        "    for mf in MF:\n",
        "      scores = MoSS(500, 0.5, mf)  # Implement MoSS function separately\n",
        "      test_p = scores[scores[:, 2] == 1, 0]\n",
        "      test_n = scores[scores[:, 2] == 2, 0]\n",
        "\n",
        "      rQnt = DySyn_DyS(test_p, test_n, ts, measure, [10])  # Implement DySyn_DyS separately\n",
        "\n",
        "      distances.append(np.round(rQnt[1],3))\n",
        "\n",
        "    # Generate TPR and FPR by the min distance in MF\n",
        "    TprFpr = np.array(getTPRandFPRbyThreshold(MoSS(1000, 0.5, MF[np.argmin(distances)]))).astype(float)  # Implement getTPRandFPRbyThreshold\n",
        "    dC = CC(ts)  # Implement CC function separately\n",
        "\n",
        "    # Usual MS implementation\n",
        "    threshold_set = np.arange(0.01, 1.00, 0.01)\n",
        "\n",
        "    for threshold in threshold_set:\n",
        "      threshold = round(threshold, 2) # 0.060000003 shenanigans\n",
        "      tpr, fpr = TprFpr[TprFpr[:, 0] == threshold, 1:3].astype(float)[0]\n",
        "\n",
        "      result = (dC[0] - fpr) / (tpr - fpr) if (tpr - fpr) != 0 else 0\n",
        "      result = max(0, min(result, 1))\n",
        "\n",
        "      results.append(result)\n",
        "\n",
        "    result = np.median(results)\n",
        "    return np.array([result, 1 - result], dtype=float)"
      ]
    },
    {
      "cell_type": "code",
      "execution_count": null,
      "metadata": {
        "collapsed": true,
        "id": "NFkJSRge_oFB"
      },
      "outputs": [],
      "source": [
        "def MS2Syn(ts, measure):\n",
        "    MF = np.arange(0.05, 1.0, 0.01)\n",
        "    results = []\n",
        "    distances = []\n",
        "\n",
        "    # Synthetic scores generation\n",
        "    for mf in MF:\n",
        "      scores = MoSS(500, 0.5, mf)  # Implement MoSS function separately\n",
        "      test_p = scores[scores[:, 2] == 1, 0]\n",
        "      test_n = scores[scores[:, 2] == 2, 0]\n",
        "\n",
        "      rQnt = DySyn_DyS(test_p, test_n, ts, measure, [10])  # Implement DySyn_DyS separately\n",
        "\n",
        "      distances.append(np.round(rQnt[1],3))\n",
        "\n",
        "    # Generate TPR and FPR by the min distance in MF\n",
        "    TprFpr = np.array(getTPRandFPRbyThreshold(MoSS(1000, 0.5, MF[np.argmin(distances)]))).astype(float)  # Implement getTPRandFPRbyThreshold\n",
        "    dC = CC(ts)  # Implement CC function separately\n",
        "\n",
        "    # Usual MS2 implementation\n",
        "    index = np.where(abs(TprFpr[:,1]-TprFpr[:,2]) > (1/4))[0].tolist()\n",
        "    threshold_set = TprFpr[index,0]\n",
        "    if threshold_set.shape[0] == 0:\n",
        "      threshold_set = np.arange(0.01, 1.00, 0.01)\n",
        "\n",
        "    # else usual MS\n",
        "    for threshold in threshold_set:\n",
        "      threshold = round(threshold, 2) # 0.060000003 shenanigans\n",
        "      tpr, fpr = TprFpr[TprFpr[:, 0] == threshold, 1:3].astype(float)[0]\n",
        "\n",
        "      result = (dC[0] - fpr) / (tpr - fpr) if (tpr - fpr) != 0 else 0\n",
        "      result = max(0, min(result, 1))\n",
        "\n",
        "      results.append(result)\n",
        "\n",
        "    result = np.median(results)\n",
        "    return np.array([result, 1 - result], dtype=float)"
      ]
    },
    {
      "cell_type": "code",
      "execution_count": null,
      "metadata": {
        "id": "lh5sE1WmH_AO"
      },
      "outputs": [],
      "source": [
        "def SMM(p_scores, n_scores, t_scores):\n",
        "  mean_p_scores = np.mean(p_scores)\n",
        "  mean_n_scores = np.mean(n_scores)\n",
        "  mean_t_scores = np.mean(t_scores)\n",
        "\n",
        "  alpha = (mean_t_scores - mean_n_scores) / (mean_p_scores - mean_n_scores)\n",
        "  alpha = max(0, min(alpha, 1))\n",
        "\n",
        "  return np.round([alpha, abs(1-alpha)], 2)"
      ]
    },
    {
      "cell_type": "code",
      "execution_count": null,
      "metadata": {
        "colab": {
          "base_uri": "https://localhost:8080/"
        },
        "id": "-bdkEDsE0WTD",
        "outputId": "d55f235d-c200-4637-d44e-2785b599d604"
      },
      "outputs": [],
      "source": [
        "def SMMSyn(ts, measure):\n",
        "    MF = np.arange(0.05, 1.0, 0.01)\n",
        "    distances = [] # distances generated from DySyn\n",
        "\n",
        "    # Synthetic scores generation\n",
        "    for mf in MF:\n",
        "      scores = MoSS(500, 0.5, mf)  # Implement MoSS function separately\n",
        "      test_p = scores[scores[:, 2] == 1, 0]\n",
        "      test_n = scores[scores[:, 2] == 2, 0]\n",
        "\n",
        "      rQnt = DySyn_DyS(test_p, test_n, ts, measure, [10])\n",
        "      distances.append(np.round(rQnt[1],3))\n",
        "\n",
        "    # pdb.set_trace()\n",
        "    best_scores = MoSS(1000, 0.5, MF[np.argmin(distances)]) # sempre NaN em 0 de distances\n",
        "    best_p = best_scores[best_scores[:, 2] == 1, 0]\n",
        "    best_n = best_scores[best_scores[:, 2] == 2, 0]\n",
        "    result = SMM(best_p, best_n, ts)\n",
        "\n",
        "    return result"
      ]
    },
    {
      "cell_type": "markdown",
      "metadata": {
        "id": "aMS1X1sOX287"
      },
      "source": [
        "## Main"
      ]
    },
    {
      "cell_type": "code",
      "execution_count": null,
      "metadata": {
        "id": "3MunXmyumf2c"
      },
      "outputs": [
        {
          "ename": "",
          "evalue": "",
          "output_type": "error",
          "traceback": [
            "\u001b[1;31mThe Kernel crashed while executing code in the current cell or a previous cell. \n",
            "\u001b[1;31mPlease review the code in the cell(s) to identify a possible cause of the failure. \n",
            "\u001b[1;31mClick <a href='https://aka.ms/vscodeJupyterKernelCrash'>here</a> for more info. \n",
            "\u001b[1;31mView Jupyter <a href='command:jupyter.viewOutput'>log</a> for further details."
          ]
        }
      ],
      "source": [
        "def exec_eval_complexity(MFtr):\n",
        "\n",
        "    vdist = {\"TS\": \"topsoe\", \"JD\": \"jensen_difference\", \"PS\": \"prob_symm\", \"ORD\": \"ord\", \"SORD\": \"sord\", \"TN\": \"taneja\", \"HD\": \"hellinger\"}\n",
        "\n",
        "    var_perc = np.arange(0, 1.05, 0.05)  # class distribution\n",
        "    var_size = [500]  # test set size\n",
        "    n_tests = 3  # replication\n",
        "    MF = np.arange(0.05, 1.00, 0.1)  # m parameter for MoSS model\n",
        "    MF = np.round(MF, 2) # 0.1500000003 shenanigans\n",
        "\n",
        "    # PC RAFAEL\n",
        "    # qnt = ['ACCSyn-TS',\n",
        "    #        'XSyn-TS',\n",
        "    #        'MAXSyn-TS',\n",
        "    #        'T50Syn-TS',\n",
        "    #        'MS2Syn-TS',\n",
        "    #        'SMMSyn-TS',\n",
        "    #        'DySyn-TS']\n",
        "\n",
        "    # PC LUIZ\n",
        "    qnt = ['T50', 'MS', 'MS2', 'SMM', 'DyS-TS', 'X', 'MAX', 'ACC', 'CC']\n",
        "\n",
        "    results = []\n",
        "\n",
        "    for mi in range(len(MFtr)):\n",
        "        scores = MoSS(1000, 0.5, MFtr[mi])  # Implement MoSS function\n",
        "        # pdb.set_trace()\n",
        "        TprFpr = np.array(getTPRandFPRbyThreshold(scores)).astype(float)  # Implement getTPRandFPRbyThreshold\n",
        "\n",
        "        for k in range(len(var_size)):\n",
        "            for i in range(len(var_perc)):\n",
        "                # print(f\"Class distr. {var_perc[i]}\")\n",
        "                for j in range(n_tests):\n",
        "                    for ti in range(len(MF)):\n",
        "                        for qi in qnt:\n",
        "\n",
        "                            pdb.set_trace()\n",
        "\n",
        "                            test_set = MoSS(var_size[k], var_perc[i], MF[ti])\n",
        "                            freq_REAL = pd.Series(test_set[:, 2]).value_counts(normalize=True).reindex([1, 2], fill_value=0)\n",
        "                            qntMethod = qi.split(\"-\")[0] if \"-\" in qi else qi\n",
        "\n",
        "                            if qntMethod != \"HDy-LP\":\n",
        "                                try:\n",
        "                                    nk = int(qntMethod.split(\"_\")[0])\n",
        "                                except ValueError:\n",
        "                                    nk = 1\n",
        "                                qntMethod = \"DySyn\" if nk != 1 else qntMethod\n",
        "\n",
        "                            measure = None\n",
        "                            if len(qi.split(\"-\")) > 1:\n",
        "                                measure = vdist.get(qi.split(\"-\")[1])\n",
        "\n",
        "                            # pdb.set_trace()\n",
        "                            qnt_re = apply_qntMethod(\n",
        "                                qntMethod=qntMethod,\n",
        "                                p_score=scores[scores[:, 2] == 1, 0],\n",
        "                                n_score=scores[scores[:, 2] == 2, 0],\n",
        "                                test=test_set[:, 0],\n",
        "                                TprFpr=TprFpr,\n",
        "                                thr=0.5,\n",
        "                                measure=measure\n",
        "                            )  # Implement apply_qntMethod\n",
        "\n",
        "                            freq_PRE = np.round(qnt_re[0],3)\n",
        "\n",
        "                            results.append([\n",
        "                                MFtr[mi],\n",
        "                                MF[ti],\n",
        "                                freq_REAL.get(1, 0),\n",
        "                                freq_PRE,\n",
        "                                np.round(abs(freq_REAL.get(1, 0) - freq_PRE), 2),\n",
        "                                measure,\n",
        "                                qnt_re[1],\n",
        "                                qi\n",
        "                            ])\n",
        "\n",
        "\n",
        "    results_df = pd.DataFrame(results, columns=[\"MFtr\", \"MFte\", \"R_1\", \"P_1\", \"AE\", \"Distance\", \"Value.dist\", \"Qnt\"]) # Before AE was MAE, keep in mind!\n",
        "\n",
        "    return results_df"
      ]
    },
    {
      "cell_type": "markdown",
      "metadata": {
        "id": "neztl7BVbNDw"
      },
      "source": [
        "## RUN"
      ]
    },
    {
      "cell_type": "code",
      "execution_count": null,
      "metadata": {
        "colab": {
          "base_uri": "https://localhost:8080/",
          "height": 1000
        },
        "collapsed": true,
        "id": "yk8d4uCrbNOd",
        "outputId": "331148f7-ce13-4746-f3b2-9e68995109bb"
      },
      "outputs": [],
      "source": [
        "if __name__ == \"__main__\":\n",
        "    m_Tr = np.arange(0.05, 1.00, 0.1)\n",
        "    # m_Tr = [0.7]\n",
        "    m_Tr = np.round(m_Tr, 2)\n",
        "    \n",
        "    print(\"############ - It will take a couple of minutes! - ############\")\n",
        "    result = pd.DataFrame()\n",
        "\n",
        "    # re = exec_eval_complexity([0.7])\n",
        "    for i in m_Tr:\n",
        "        print(f\"Running for MF {i}\")\n",
        "        re = exec_eval_complexity([i])\n",
        "        result = pd.concat([result, re])\n",
        "        result.to_csv(\"results.csv\", index=False)\n",
        "\n",
        "grouped = result.groupby(['Qnt', 'MFte', 'MFtr']).agg({'MAE': 'mean'}).reset_index()"
      ]
    },
    {
      "cell_type": "markdown",
      "metadata": {
        "id": "4sePbZ5CX6LK"
      },
      "source": [
        "## Results"
      ]
    },
    {
      "cell_type": "code",
      "execution_count": null,
      "metadata": {},
      "outputs": [],
      "source": [
        "grouped = result.groupby(['Qnt', 'MFte', 'MFtr']).agg({'MAE': 'mean'}).reset_index()"
      ]
    },
    {
      "cell_type": "code",
      "execution_count": null,
      "metadata": {
        "colab": {
          "base_uri": "https://localhost:8080/",
          "height": 574,
          "referenced_widgets": [
            "98b586d6743b4fa785514d8fe9f56664",
            "287c5628c07040b893ed3ea57e8a1881",
            "1e7b44b9592447c1a519c4e4c5df7ba5"
          ]
        },
        "id": "cObBi2UzNCfn",
        "outputId": "e6a7f886-eb58-427b-b906-69db7779492e"
      },
      "outputs": [
        {
          "data": {
            "application/vnd.plotly.v1+json": {
              "config": {
                "plotlyServerURL": "https://plot.ly"
              },
              "data": [
                {
                  "mode": "lines+markers",
                  "name": "ACC",
                  "type": "scatter",
                  "x": {
                    "bdata": "mpmZmZmZqT80MzMzMzPDPwEAAAAAANA/Z2ZmZmZm1j/OzMzMzMzcP5uZmZmZmeE/zszMzMzM5D8CAAAAAADoPzUzMzMzM+s/aGZmZmZm7j8=",
                    "dtype": "f8"
                  },
                  "y": {
                    "bdata": "9mM/9mM/xj/cLDSp+QDGPy58XGGvj8Q/J54VjQR8wz8TZpR5zPq/P1dv9VZv9bY/qjTk3GcXsD8JytNvMDq2P7GcZOPPl8Y/nud5nud5zj8=",
                    "dtype": "f8"
                  }
                },
                {
                  "mode": "lines+markers",
                  "name": "ACCSyn-TS",
                  "type": "scatter",
                  "x": {
                    "bdata": "mpmZmZmZqT80MzMzMzPDPwEAAAAAANA/Z2ZmZmZm1j/OzMzMzMzcP5uZmZmZmeE/zszMzMzM5D8CAAAAAADoPzUzMzMzM+s/aGZmZmZm7j8=",
                    "dtype": "f8"
                  },
                  "y": {
                    "bdata": "AAAAAAAAAAB5+g1Gx9pyP4J8Lk5J+4o/HuERHuERnj8brdEardGqP6519OCoJ7Q/EDJUdpi6vD+RF3mRF3nBP1iJlViJlcg/s1reGMFEzz8=",
                    "dtype": "f8"
                  }
                },
                {
                  "mode": "lines+markers",
                  "name": "CC",
                  "type": "scatter",
                  "x": {
                    "bdata": "mpmZmZmZqT80MzMzMzPDPwEAAAAAANA/Z2ZmZmZm1j/OzMzMzMzcP5uZmZmZmeE/zszMzMzM5D8CAAAAAADoPzUzMzMzM+s/aGZmZmZm7j8=",
                    "dtype": "f8"
                  },
                  "y": {
                    "bdata": "AAAAAAAAAAAXbMEWbMF2PxIe4REe4aE/UiEVUiEVsj/sf8uEGWW+Pw1nCkCaPcM/PTjqCQW3xj+U4sLHFfbKP0StOhF6B84/4QRO4ARO0D8=",
                    "dtype": "f8"
                  }
                },
                {
                  "mode": "lines+markers",
                  "name": "MAX",
                  "type": "scatter",
                  "x": {
                    "bdata": "mpmZmZmZqT80MzMzMzPDPwEAAAAAANA/Z2ZmZmZm1j/OzMzMzMzcP5uZmZmZmeE/zszMzMzM5D8CAAAAAADoPzUzMzMzM+s/aGZmZmZm7j8=",
                    "dtype": "f8"
                  },
                  "y": {
                    "bdata": "o/p2PJQQxj92Xdd1XdfFP3VQB3VQB8U/kzEZkzEZwz/TYmA5yca/P3GmAKTZM7c/n8Y2OWDQsj9/Vb5LIou4P9Gk5gPYGcc/Uk8ouLWOzj8=",
                    "dtype": "f8"
                  }
                },
                {
                  "mode": "lines+markers",
                  "name": "MAXSyn-TS",
                  "type": "scatter",
                  "x": {
                    "bdata": "mpmZmZmZqT80MzMzMzPDPwEAAAAAANA/Z2ZmZmZm1j/OzMzMzMzcP5uZmZmZmeE/zszMzMzM5D8CAAAAAADoPzUzMzMzM+s/aGZmZmZm7j8=",
                    "dtype": "f8"
                  },
                  "y": {
                    "bdata": "AAAAAAAAAAAQBEEQBEFwPxRFURRFUZQ/F3mRF3mRpz+j+nY8lBC2P1RIhVRIhcQ/DFo6P41twj/U5fYHGSrLP7gRtepE6M0/bq2jB0c90T8=",
                    "dtype": "f8"
                  }
                },
                {
                  "mode": "lines+markers",
                  "name": "MS",
                  "type": "scatter",
                  "x": {
                    "bdata": "mpmZmZmZqT80MzMzMzPDPwEAAAAAANA/Z2ZmZmZm1j/OzMzMzMzcP5uZmZmZmeE/zszMzMzM5D8CAAAAAADoPzUzMzMzM+s/aGZmZmZm7j8=",
                    "dtype": "f8"
                  },
                  "y": {
                    "bdata": "9mM/9mM/xj8JytNvMDrGPyLnPruA2MQ/ANLsmWuGwz/9nayWN0bAP4vdC/FDcrc/7mtYIJ+Lsz828axoJOC7P9oFxKbSkMM/GB1rS1Cezj8=",
                    "dtype": "f8"
                  }
                },
                {
                  "mode": "lines+markers",
                  "name": "MS2",
                  "type": "scatter",
                  "x": {
                    "bdata": "mpmZmZmZqT80MzMzMzPDPwEAAAAAANA/Z2ZmZmZm1j/OzMzMzMzcP5uZmZmZmeE/zszMzMzM5D8CAAAAAADoPzUzMzMzM+s/aGZmZmZm7j8=",
                    "dtype": "f8"
                  },
                  "y": {
                    "bdata": "9mM/9mM/xj8WX/EVX/HFP1VVVVVVVcU/efoNRsfawj+Wzk9jmxzAPxd5kRd5kbc/N9BpA502sD/nMet/y4S5P7h6q7d6q8c/EARBEARB0D8=",
                    "dtype": "f8"
                  }
                },
                {
                  "mode": "lines+markers",
                  "name": "MS2Syn-TS",
                  "type": "scatter",
                  "x": {
                    "bdata": "mpmZmZmZqT80MzMzMzPDPwEAAAAAANA/Z2ZmZmZm1j/OzMzMzMzcP5uZmZmZmeE/zszMzMzM5D8CAAAAAADoPzUzMzMzM+s/aGZmZmZm7j8=",
                    "dtype": "f8"
                  },
                  "y": {
                    "bdata": "AAAAAAAAAACxqTTk3Gd3P0RyV6rYvZA/TQFIs2eumT/SVZA4vPauP0z0d7Ja3rg/P7uA2FQawj9noUnNB7DDP9K+hgXyucg/Qzd0Qzd00z8=",
                    "dtype": "f8"
                  }
                },
                {
                  "mode": "lines+markers",
                  "name": "MSSyn-TS",
                  "type": "scatter",
                  "x": {
                    "bdata": "mpmZmZmZqT80MzMzMzPDPwEAAAAAANA/Z2ZmZmZm1j/OzMzMzMzcP5uZmZmZmeE/zszMzMzM5D8CAAAAAADoPzUzMzMzM+s/aGZmZmZm7j8=",
                    "dtype": "f8"
                  },
                  "y": {
                    "bdata": "AAAAAAAAAADtjJuFJjVvP1A1iLab7ow/+ObVxLOioT+xnGTjz5emP0rNB7AzbrY/dvTgqCcUvD/lgEFL56fBPyc1H8DOuMk/AQ3QAA3Q0D8=",
                    "dtype": "f8"
                  }
                },
                {
                  "mode": "lines+markers",
                  "name": "T50",
                  "type": "scatter",
                  "x": {
                    "bdata": "mpmZmZmZqT80MzMzMzPDPwEAAAAAANA/Z2ZmZmZm1j/OzMzMzMzcP5uZmZmZmeE/zszMzMzM5D8CAAAAAADoPzUzMzMzM+s/aGZmZmZm7j8=",
                    "dtype": "f8"
                  },
                  "y": {
                    "bdata": "RjDR38lqyT9GMNHfyWrJP/9bJswo88g/YWfcLDSpyT828axoJODLPx6z/rdMmNE/0uyZa4Yz1T/phm7ohm7YPy8gNpWGnNs//tiP/diP3T8=",
                    "dtype": "f8"
                  }
                },
                {
                  "mode": "lines+markers",
                  "name": "T50Syn-TS",
                  "type": "scatter",
                  "x": {
                    "bdata": "mpmZmZmZqT80MzMzMzPDPwEAAAAAANA/Z2ZmZmZm1j/OzMzMzMzcP5uZmZmZmeE/zszMzMzM5D8CAAAAAADoPzUzMzMzM+s/aGZmZmZm7j8=",
                    "dtype": "f8"
                  },
                  "y": {
                    "bdata": "OSXta1ggzz9f8RVf8RXPP5R5zPrfMtE/h5z77AJi0z+ItpvuHALVP/+JOTK9bNU/RRYx3q/K1z8piqIoiqLYPy3LsizLstw/w5kCkGbP3D8=",
                    "dtype": "f8"
                  }
                },
                {
                  "mode": "lines+markers",
                  "name": "X",
                  "type": "scatter",
                  "x": {
                    "bdata": "mpmZmZmZqT80MzMzMzPDPwEAAAAAANA/Z2ZmZmZm1j/OzMzMzMzcP5uZmZmZmeE/zszMzMzM5D8CAAAAAADoPzUzMzMzM+s/aGZmZmZm7j8=",
                    "dtype": "f8"
                  },
                  "y": {
                    "bdata": "asi5zy4gxj/Jxp8vLQbGP9VO7dRO7cQ/J54VjQR8wz95KCGsW1S/P2UR4/2qfLc/BKoG0XbTrT/Jxp8vLQa2P5VYiZVYicU/JKW48HGFzT8=",
                    "dtype": "f8"
                  }
                },
                {
                  "mode": "lines+markers",
                  "name": "XSyn-TS",
                  "type": "scatter",
                  "x": {
                    "bdata": "mpmZmZmZqT80MzMzMzPDPwEAAAAAANA/Z2ZmZmZm1j/OzMzMzMzcP5uZmZmZmeE/zszMzMzM5D8CAAAAAADoPzUzMzMzM+s/aGZmZmZm7j8=",
                    "dtype": "f8"
                  },
                  "y": {
                    "bdata": "AAAAAAAAAAC4EbXqROhtPxqgARqgAYo/gGKOTC9bmT8viSxivF+lPx/AzrhZaLI/qEhXQeLwuj8+rrDXR0rBP2Yrg//EHMk/nGTjz5cW0z8=",
                    "dtype": "f8"
                  }
                }
              ],
              "layout": {
                "template": {
                  "data": {
                    "bar": [
                      {
                        "error_x": {
                          "color": "#2a3f5f"
                        },
                        "error_y": {
                          "color": "#2a3f5f"
                        },
                        "marker": {
                          "line": {
                            "color": "#E5ECF6",
                            "width": 0.5
                          },
                          "pattern": {
                            "fillmode": "overlay",
                            "size": 10,
                            "solidity": 0.2
                          }
                        },
                        "type": "bar"
                      }
                    ],
                    "barpolar": [
                      {
                        "marker": {
                          "line": {
                            "color": "#E5ECF6",
                            "width": 0.5
                          },
                          "pattern": {
                            "fillmode": "overlay",
                            "size": 10,
                            "solidity": 0.2
                          }
                        },
                        "type": "barpolar"
                      }
                    ],
                    "carpet": [
                      {
                        "aaxis": {
                          "endlinecolor": "#2a3f5f",
                          "gridcolor": "white",
                          "linecolor": "white",
                          "minorgridcolor": "white",
                          "startlinecolor": "#2a3f5f"
                        },
                        "baxis": {
                          "endlinecolor": "#2a3f5f",
                          "gridcolor": "white",
                          "linecolor": "white",
                          "minorgridcolor": "white",
                          "startlinecolor": "#2a3f5f"
                        },
                        "type": "carpet"
                      }
                    ],
                    "choropleth": [
                      {
                        "colorbar": {
                          "outlinewidth": 0,
                          "ticks": ""
                        },
                        "type": "choropleth"
                      }
                    ],
                    "contour": [
                      {
                        "colorbar": {
                          "outlinewidth": 0,
                          "ticks": ""
                        },
                        "colorscale": [
                          [
                            0,
                            "#0d0887"
                          ],
                          [
                            0.1111111111111111,
                            "#46039f"
                          ],
                          [
                            0.2222222222222222,
                            "#7201a8"
                          ],
                          [
                            0.3333333333333333,
                            "#9c179e"
                          ],
                          [
                            0.4444444444444444,
                            "#bd3786"
                          ],
                          [
                            0.5555555555555556,
                            "#d8576b"
                          ],
                          [
                            0.6666666666666666,
                            "#ed7953"
                          ],
                          [
                            0.7777777777777778,
                            "#fb9f3a"
                          ],
                          [
                            0.8888888888888888,
                            "#fdca26"
                          ],
                          [
                            1,
                            "#f0f921"
                          ]
                        ],
                        "type": "contour"
                      }
                    ],
                    "contourcarpet": [
                      {
                        "colorbar": {
                          "outlinewidth": 0,
                          "ticks": ""
                        },
                        "type": "contourcarpet"
                      }
                    ],
                    "heatmap": [
                      {
                        "colorbar": {
                          "outlinewidth": 0,
                          "ticks": ""
                        },
                        "colorscale": [
                          [
                            0,
                            "#0d0887"
                          ],
                          [
                            0.1111111111111111,
                            "#46039f"
                          ],
                          [
                            0.2222222222222222,
                            "#7201a8"
                          ],
                          [
                            0.3333333333333333,
                            "#9c179e"
                          ],
                          [
                            0.4444444444444444,
                            "#bd3786"
                          ],
                          [
                            0.5555555555555556,
                            "#d8576b"
                          ],
                          [
                            0.6666666666666666,
                            "#ed7953"
                          ],
                          [
                            0.7777777777777778,
                            "#fb9f3a"
                          ],
                          [
                            0.8888888888888888,
                            "#fdca26"
                          ],
                          [
                            1,
                            "#f0f921"
                          ]
                        ],
                        "type": "heatmap"
                      }
                    ],
                    "histogram": [
                      {
                        "marker": {
                          "pattern": {
                            "fillmode": "overlay",
                            "size": 10,
                            "solidity": 0.2
                          }
                        },
                        "type": "histogram"
                      }
                    ],
                    "histogram2d": [
                      {
                        "colorbar": {
                          "outlinewidth": 0,
                          "ticks": ""
                        },
                        "colorscale": [
                          [
                            0,
                            "#0d0887"
                          ],
                          [
                            0.1111111111111111,
                            "#46039f"
                          ],
                          [
                            0.2222222222222222,
                            "#7201a8"
                          ],
                          [
                            0.3333333333333333,
                            "#9c179e"
                          ],
                          [
                            0.4444444444444444,
                            "#bd3786"
                          ],
                          [
                            0.5555555555555556,
                            "#d8576b"
                          ],
                          [
                            0.6666666666666666,
                            "#ed7953"
                          ],
                          [
                            0.7777777777777778,
                            "#fb9f3a"
                          ],
                          [
                            0.8888888888888888,
                            "#fdca26"
                          ],
                          [
                            1,
                            "#f0f921"
                          ]
                        ],
                        "type": "histogram2d"
                      }
                    ],
                    "histogram2dcontour": [
                      {
                        "colorbar": {
                          "outlinewidth": 0,
                          "ticks": ""
                        },
                        "colorscale": [
                          [
                            0,
                            "#0d0887"
                          ],
                          [
                            0.1111111111111111,
                            "#46039f"
                          ],
                          [
                            0.2222222222222222,
                            "#7201a8"
                          ],
                          [
                            0.3333333333333333,
                            "#9c179e"
                          ],
                          [
                            0.4444444444444444,
                            "#bd3786"
                          ],
                          [
                            0.5555555555555556,
                            "#d8576b"
                          ],
                          [
                            0.6666666666666666,
                            "#ed7953"
                          ],
                          [
                            0.7777777777777778,
                            "#fb9f3a"
                          ],
                          [
                            0.8888888888888888,
                            "#fdca26"
                          ],
                          [
                            1,
                            "#f0f921"
                          ]
                        ],
                        "type": "histogram2dcontour"
                      }
                    ],
                    "mesh3d": [
                      {
                        "colorbar": {
                          "outlinewidth": 0,
                          "ticks": ""
                        },
                        "type": "mesh3d"
                      }
                    ],
                    "parcoords": [
                      {
                        "line": {
                          "colorbar": {
                            "outlinewidth": 0,
                            "ticks": ""
                          }
                        },
                        "type": "parcoords"
                      }
                    ],
                    "pie": [
                      {
                        "automargin": true,
                        "type": "pie"
                      }
                    ],
                    "scatter": [
                      {
                        "fillpattern": {
                          "fillmode": "overlay",
                          "size": 10,
                          "solidity": 0.2
                        },
                        "type": "scatter"
                      }
                    ],
                    "scatter3d": [
                      {
                        "line": {
                          "colorbar": {
                            "outlinewidth": 0,
                            "ticks": ""
                          }
                        },
                        "marker": {
                          "colorbar": {
                            "outlinewidth": 0,
                            "ticks": ""
                          }
                        },
                        "type": "scatter3d"
                      }
                    ],
                    "scattercarpet": [
                      {
                        "marker": {
                          "colorbar": {
                            "outlinewidth": 0,
                            "ticks": ""
                          }
                        },
                        "type": "scattercarpet"
                      }
                    ],
                    "scattergeo": [
                      {
                        "marker": {
                          "colorbar": {
                            "outlinewidth": 0,
                            "ticks": ""
                          }
                        },
                        "type": "scattergeo"
                      }
                    ],
                    "scattergl": [
                      {
                        "marker": {
                          "colorbar": {
                            "outlinewidth": 0,
                            "ticks": ""
                          }
                        },
                        "type": "scattergl"
                      }
                    ],
                    "scattermap": [
                      {
                        "marker": {
                          "colorbar": {
                            "outlinewidth": 0,
                            "ticks": ""
                          }
                        },
                        "type": "scattermap"
                      }
                    ],
                    "scattermapbox": [
                      {
                        "marker": {
                          "colorbar": {
                            "outlinewidth": 0,
                            "ticks": ""
                          }
                        },
                        "type": "scattermapbox"
                      }
                    ],
                    "scatterpolar": [
                      {
                        "marker": {
                          "colorbar": {
                            "outlinewidth": 0,
                            "ticks": ""
                          }
                        },
                        "type": "scatterpolar"
                      }
                    ],
                    "scatterpolargl": [
                      {
                        "marker": {
                          "colorbar": {
                            "outlinewidth": 0,
                            "ticks": ""
                          }
                        },
                        "type": "scatterpolargl"
                      }
                    ],
                    "scatterternary": [
                      {
                        "marker": {
                          "colorbar": {
                            "outlinewidth": 0,
                            "ticks": ""
                          }
                        },
                        "type": "scatterternary"
                      }
                    ],
                    "surface": [
                      {
                        "colorbar": {
                          "outlinewidth": 0,
                          "ticks": ""
                        },
                        "colorscale": [
                          [
                            0,
                            "#0d0887"
                          ],
                          [
                            0.1111111111111111,
                            "#46039f"
                          ],
                          [
                            0.2222222222222222,
                            "#7201a8"
                          ],
                          [
                            0.3333333333333333,
                            "#9c179e"
                          ],
                          [
                            0.4444444444444444,
                            "#bd3786"
                          ],
                          [
                            0.5555555555555556,
                            "#d8576b"
                          ],
                          [
                            0.6666666666666666,
                            "#ed7953"
                          ],
                          [
                            0.7777777777777778,
                            "#fb9f3a"
                          ],
                          [
                            0.8888888888888888,
                            "#fdca26"
                          ],
                          [
                            1,
                            "#f0f921"
                          ]
                        ],
                        "type": "surface"
                      }
                    ],
                    "table": [
                      {
                        "cells": {
                          "fill": {
                            "color": "#EBF0F8"
                          },
                          "line": {
                            "color": "white"
                          }
                        },
                        "header": {
                          "fill": {
                            "color": "#C8D4E3"
                          },
                          "line": {
                            "color": "white"
                          }
                        },
                        "type": "table"
                      }
                    ]
                  },
                  "layout": {
                    "annotationdefaults": {
                      "arrowcolor": "#2a3f5f",
                      "arrowhead": 0,
                      "arrowwidth": 1
                    },
                    "autotypenumbers": "strict",
                    "coloraxis": {
                      "colorbar": {
                        "outlinewidth": 0,
                        "ticks": ""
                      }
                    },
                    "colorscale": {
                      "diverging": [
                        [
                          0,
                          "#8e0152"
                        ],
                        [
                          0.1,
                          "#c51b7d"
                        ],
                        [
                          0.2,
                          "#de77ae"
                        ],
                        [
                          0.3,
                          "#f1b6da"
                        ],
                        [
                          0.4,
                          "#fde0ef"
                        ],
                        [
                          0.5,
                          "#f7f7f7"
                        ],
                        [
                          0.6,
                          "#e6f5d0"
                        ],
                        [
                          0.7,
                          "#b8e186"
                        ],
                        [
                          0.8,
                          "#7fbc41"
                        ],
                        [
                          0.9,
                          "#4d9221"
                        ],
                        [
                          1,
                          "#276419"
                        ]
                      ],
                      "sequential": [
                        [
                          0,
                          "#0d0887"
                        ],
                        [
                          0.1111111111111111,
                          "#46039f"
                        ],
                        [
                          0.2222222222222222,
                          "#7201a8"
                        ],
                        [
                          0.3333333333333333,
                          "#9c179e"
                        ],
                        [
                          0.4444444444444444,
                          "#bd3786"
                        ],
                        [
                          0.5555555555555556,
                          "#d8576b"
                        ],
                        [
                          0.6666666666666666,
                          "#ed7953"
                        ],
                        [
                          0.7777777777777778,
                          "#fb9f3a"
                        ],
                        [
                          0.8888888888888888,
                          "#fdca26"
                        ],
                        [
                          1,
                          "#f0f921"
                        ]
                      ],
                      "sequentialminus": [
                        [
                          0,
                          "#0d0887"
                        ],
                        [
                          0.1111111111111111,
                          "#46039f"
                        ],
                        [
                          0.2222222222222222,
                          "#7201a8"
                        ],
                        [
                          0.3333333333333333,
                          "#9c179e"
                        ],
                        [
                          0.4444444444444444,
                          "#bd3786"
                        ],
                        [
                          0.5555555555555556,
                          "#d8576b"
                        ],
                        [
                          0.6666666666666666,
                          "#ed7953"
                        ],
                        [
                          0.7777777777777778,
                          "#fb9f3a"
                        ],
                        [
                          0.8888888888888888,
                          "#fdca26"
                        ],
                        [
                          1,
                          "#f0f921"
                        ]
                      ]
                    },
                    "colorway": [
                      "#636efa",
                      "#EF553B",
                      "#00cc96",
                      "#ab63fa",
                      "#FFA15A",
                      "#19d3f3",
                      "#FF6692",
                      "#B6E880",
                      "#FF97FF",
                      "#FECB52"
                    ],
                    "font": {
                      "color": "#2a3f5f"
                    },
                    "geo": {
                      "bgcolor": "white",
                      "lakecolor": "white",
                      "landcolor": "#E5ECF6",
                      "showlakes": true,
                      "showland": true,
                      "subunitcolor": "white"
                    },
                    "hoverlabel": {
                      "align": "left"
                    },
                    "hovermode": "closest",
                    "mapbox": {
                      "style": "light"
                    },
                    "paper_bgcolor": "white",
                    "plot_bgcolor": "#E5ECF6",
                    "polar": {
                      "angularaxis": {
                        "gridcolor": "white",
                        "linecolor": "white",
                        "ticks": ""
                      },
                      "bgcolor": "#E5ECF6",
                      "radialaxis": {
                        "gridcolor": "white",
                        "linecolor": "white",
                        "ticks": ""
                      }
                    },
                    "scene": {
                      "xaxis": {
                        "backgroundcolor": "#E5ECF6",
                        "gridcolor": "white",
                        "gridwidth": 2,
                        "linecolor": "white",
                        "showbackground": true,
                        "ticks": "",
                        "zerolinecolor": "white"
                      },
                      "yaxis": {
                        "backgroundcolor": "#E5ECF6",
                        "gridcolor": "white",
                        "gridwidth": 2,
                        "linecolor": "white",
                        "showbackground": true,
                        "ticks": "",
                        "zerolinecolor": "white"
                      },
                      "zaxis": {
                        "backgroundcolor": "#E5ECF6",
                        "gridcolor": "white",
                        "gridwidth": 2,
                        "linecolor": "white",
                        "showbackground": true,
                        "ticks": "",
                        "zerolinecolor": "white"
                      }
                    },
                    "shapedefaults": {
                      "line": {
                        "color": "#2a3f5f"
                      }
                    },
                    "ternary": {
                      "aaxis": {
                        "gridcolor": "white",
                        "linecolor": "white",
                        "ticks": ""
                      },
                      "baxis": {
                        "gridcolor": "white",
                        "linecolor": "white",
                        "ticks": ""
                      },
                      "bgcolor": "#E5ECF6",
                      "caxis": {
                        "gridcolor": "white",
                        "linecolor": "white",
                        "ticks": ""
                      }
                    },
                    "title": {
                      "x": 0.05
                    },
                    "xaxis": {
                      "automargin": true,
                      "gridcolor": "white",
                      "linecolor": "white",
                      "ticks": "",
                      "title": {
                        "standoff": 15
                      },
                      "zerolinecolor": "white",
                      "zerolinewidth": 2
                    },
                    "yaxis": {
                      "automargin": true,
                      "gridcolor": "white",
                      "linecolor": "white",
                      "ticks": "",
                      "title": {
                        "standoff": 15
                      },
                      "zerolinecolor": "white",
                      "zerolinewidth": 2
                    }
                  }
                },
                "title": {
                  "text": "MAE vs MFte for MFtr = 0.7"
                },
                "xaxis": {
                  "title": {
                    "text": "MFte"
                  }
                },
                "yaxis": {
                  "title": {
                    "text": "MAE"
                  }
                }
              }
            }
          },
          "metadata": {},
          "output_type": "display_data"
        },
        {
          "data": {
            "application/vnd.jupyter.widget-view+json": {
              "model_id": "6248bd7196e946aea6df7bb07c1aeb60",
              "version_major": 2,
              "version_minor": 0
            },
            "text/plain": [
              "Dropdown(description='MFtr:', options=(np.float64(0.7),), value=np.float64(0.7))"
            ]
          },
          "metadata": {},
          "output_type": "display_data"
        }
      ],
      "source": [
        "import plotly.graph_objects as go\n",
        "import ipywidgets as widgets\n",
        "from IPython.display import display, clear_output\n",
        "\n",
        "\n",
        "mftr_dropdown = widgets.Dropdown(\n",
        "    options=grouped['MFtr'].unique(),\n",
        "    description='MFtr:'\n",
        ")\n",
        "\n",
        "mftr_dropdown.value = grouped['MFtr'].unique()[0]\n",
        "\n",
        "def update_plot(change):\n",
        "    selected_mftr = mftr_dropdown.value\n",
        "    filtered_data = grouped[grouped['MFtr'] == selected_mftr]\n",
        "\n",
        "    fig = go.Figure()\n",
        "    for qnt_val in filtered_data['Qnt'].unique():\n",
        "        qnt_data = filtered_data[filtered_data['Qnt'] == qnt_val]\n",
        "        fig.add_trace(go.Scatter(x=qnt_data['MFte'], y=qnt_data['MAE'], mode='lines+markers', name=qnt_val))\n",
        "\n",
        "    fig.update_layout(title=f'MAE vs MFte for MFtr = {selected_mftr}',\n",
        "                      xaxis_title='MFte',\n",
        "                      yaxis_title='MAE')\n",
        "\n",
        "    clear_output(wait=True)\n",
        "    display(fig)\n",
        "    display(mftr_dropdown)\n",
        "\n",
        "\n",
        "\n",
        "mftr_dropdown.observe(update_plot, names='value')\n",
        "display(mftr_dropdown)\n",
        "update_plot(None)"
      ]
    }
  ],
  "metadata": {
    "colab": {
      "provenance": []
    },
    "kernelspec": {
      "display_name": "venv",
      "language": "python",
      "name": "python3"
    },
    "language_info": {
      "codemirror_mode": {
        "name": "ipython",
        "version": 3
      },
      "file_extension": ".py",
      "mimetype": "text/x-python",
      "name": "python",
      "nbconvert_exporter": "python",
      "pygments_lexer": "ipython3",
      "version": "3.11.2"
    },
    "widgets": {
      "application/vnd.jupyter.widget-state+json": {
        "1e7b44b9592447c1a519c4e4c5df7ba5": {
          "model_module": "@jupyter-widgets/controls",
          "model_module_version": "1.5.0",
          "model_name": "DescriptionStyleModel",
          "state": {
            "_model_module": "@jupyter-widgets/controls",
            "_model_module_version": "1.5.0",
            "_model_name": "DescriptionStyleModel",
            "_view_count": null,
            "_view_module": "@jupyter-widgets/base",
            "_view_module_version": "1.2.0",
            "_view_name": "StyleView",
            "description_width": ""
          }
        },
        "287c5628c07040b893ed3ea57e8a1881": {
          "model_module": "@jupyter-widgets/base",
          "model_module_version": "1.2.0",
          "model_name": "LayoutModel",
          "state": {
            "_model_module": "@jupyter-widgets/base",
            "_model_module_version": "1.2.0",
            "_model_name": "LayoutModel",
            "_view_count": null,
            "_view_module": "@jupyter-widgets/base",
            "_view_module_version": "1.2.0",
            "_view_name": "LayoutView",
            "align_content": null,
            "align_items": null,
            "align_self": null,
            "border": null,
            "bottom": null,
            "display": null,
            "flex": null,
            "flex_flow": null,
            "grid_area": null,
            "grid_auto_columns": null,
            "grid_auto_flow": null,
            "grid_auto_rows": null,
            "grid_column": null,
            "grid_gap": null,
            "grid_row": null,
            "grid_template_areas": null,
            "grid_template_columns": null,
            "grid_template_rows": null,
            "height": null,
            "justify_content": null,
            "justify_items": null,
            "left": null,
            "margin": null,
            "max_height": null,
            "max_width": null,
            "min_height": null,
            "min_width": null,
            "object_fit": null,
            "object_position": null,
            "order": null,
            "overflow": null,
            "overflow_x": null,
            "overflow_y": null,
            "padding": null,
            "right": null,
            "top": null,
            "visibility": null,
            "width": null
          }
        },
        "98b586d6743b4fa785514d8fe9f56664": {
          "model_module": "@jupyter-widgets/controls",
          "model_module_version": "1.5.0",
          "model_name": "DropdownModel",
          "state": {
            "_dom_classes": [],
            "_model_module": "@jupyter-widgets/controls",
            "_model_module_version": "1.5.0",
            "_model_name": "DropdownModel",
            "_options_labels": [
              "0.7"
            ],
            "_view_count": null,
            "_view_module": "@jupyter-widgets/controls",
            "_view_module_version": "1.5.0",
            "_view_name": "DropdownView",
            "description": "MFtr:",
            "description_tooltip": null,
            "disabled": false,
            "index": 0,
            "layout": "IPY_MODEL_287c5628c07040b893ed3ea57e8a1881",
            "style": "IPY_MODEL_1e7b44b9592447c1a519c4e4c5df7ba5"
          }
        }
      }
    }
  },
  "nbformat": 4,
  "nbformat_minor": 0
}
