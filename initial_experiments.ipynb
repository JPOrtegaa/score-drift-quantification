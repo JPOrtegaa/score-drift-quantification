{
 "cells": [
  {
   "cell_type": "code",
   "execution_count": 12,
   "metadata": {},
   "outputs": [
    {
     "name": "stdout",
     "output_type": "stream",
     "text": [
      "Mean Squared Error (MSE) -> {0: 0.010161933747373564, 1: 0.01016193374737362}\n"
     ]
    }
   ],
   "source": [
    "import mlquantify as mq\n",
    "from sklearn.ensemble import RandomForestClassifier\n",
    "from sklearn.datasets import load_breast_cancer\n",
    "from sklearn.model_selection import train_test_split\n",
    "\n",
    "# Loading dataset from sklearn\n",
    "features, target = load_breast_cancer(return_X_y=True)\n",
    "\n",
    "#Splitting into train and test\n",
    "X_train, X_test, y_train, y_test = train_test_split(features, target, test_size=0.3)\n",
    "\n",
    "#Create the model, here it is the Expectation Maximisation Quantifier (EMQ) with a classifier\n",
    "model = mq.methods.EMQ(RandomForestClassifier())\n",
    "model.fit(X_train, y_train)\n",
    "\n",
    "#Predict the class prevalence for X_test\n",
    "pred_prevalence = model.predict(X_test)\n",
    "real_prevalence = mq.utils.get_real_prev(y_test)\n",
    "\n",
    "#Get the error for the prediction\n",
    "# ae = mq.evaluation.absolute_error(real_prevalence, pred_prevalence)\n",
    "\n",
    "ae = mq.evaluation.measures.absolute_error(real_prevalence, pred_prevalence)\n",
    "\n",
    "print(f\"Mean Squared Error (MSE) -> {ae}\")\n",
    "# print(f\"Bias -> {bias}\")"
   ]
  }
 ],
 "metadata": {
  "kernelspec": {
   "display_name": "venv",
   "language": "python",
   "name": "python3"
  },
  "language_info": {
   "codemirror_mode": {
    "name": "ipython",
    "version": 3
   },
   "file_extension": ".py",
   "mimetype": "text/x-python",
   "name": "python",
   "nbconvert_exporter": "python",
   "pygments_lexer": "ipython3",
   "version": "3.11.2"
  }
 },
 "nbformat": 4,
 "nbformat_minor": 2
}
