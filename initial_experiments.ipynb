{
 "cells": [
  {
   "cell_type": "code",
   "execution_count": 15,
   "metadata": {},
   "outputs": [
    {
     "name": "stdout",
     "output_type": "stream",
     "text": [
      "{0: 0.3684210526315789, 1: 0.631578947368421} {0: 0.3713503909981031, 1: 0.6286496090018969}\n"
     ]
    }
   ],
   "source": [
    "import mlquantify as mq\n",
    "from sklearn.ensemble import RandomForestClassifier\n",
    "from sklearn.datasets import load_breast_cancer\n",
    "from sklearn.model_selection import train_test_split\n",
    "\n",
    "# Loading dataset from sklearn\n",
    "features, target = load_breast_cancer(return_X_y=True)\n",
    "\n",
    "#Splitting into train and test\n",
    "X_train, X_test, y_train, y_test = train_test_split(features, target, test_size=0.3)\n",
    "\n",
    "#Create the model, here it is the Expectation Maximisation Quantifier (EMQ) with a classifier\n",
    "model = mq.methods.EMQ(RandomForestClassifier())\n",
    "model.fit(X_train, y_train)\n",
    "\n",
    "#Predict the class prevalence for X_test\n",
    "pred_prevalence = model.predict(X_test)\n",
    "real_prevalence = mq.utils.get_real_prev(y_test)\n",
    "\n",
    "#Get the error for the prediction\n",
    "# ae = mq.evaluation.measures.absolute_error(real_prevalence, pred_prevalence)\n",
    "# ae = {k: round(v, 4) for k, v in ae.items()}\n",
    "\n",
    "# print(f\"Mean Squared Error (MSE) -> {ae}\")\n",
    "\n",
    "print(real_prevalence,\n",
    "      pred_prevalence)"
   ]
  },
  {
   "cell_type": "code",
   "execution_count": null,
   "metadata": {},
   "outputs": [],
   "source": [
    "mq.set_arguments()"
   ]
  }
 ],
 "metadata": {
  "kernelspec": {
   "display_name": "venv",
   "language": "python",
   "name": "python3"
  },
  "language_info": {
   "codemirror_mode": {
    "name": "ipython",
    "version": 3
   },
   "file_extension": ".py",
   "mimetype": "text/x-python",
   "name": "python",
   "nbconvert_exporter": "python",
   "pygments_lexer": "ipython3",
   "version": "3.11.2"
  }
 },
 "nbformat": 4,
 "nbformat_minor": 2
}
