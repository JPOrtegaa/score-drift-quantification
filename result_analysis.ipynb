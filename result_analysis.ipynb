{
 "cells": [
  {
   "cell_type": "markdown",
   "metadata": {},
   "source": [
    "# Libraries"
   ]
  },
  {
   "cell_type": "code",
   "execution_count": 1,
   "metadata": {},
   "outputs": [],
   "source": [
    "import pandas as pd\n",
    "import numpy as np"
   ]
  },
  {
   "cell_type": "markdown",
   "metadata": {},
   "source": [
    "# Loading results"
   ]
  },
  {
   "cell_type": "code",
   "execution_count": null,
   "metadata": {},
   "outputs": [
    {
     "name": "stderr",
     "output_type": "stream",
     "text": [
      "C:\\Users\\joaop\\AppData\\Local\\Temp\\ipykernel_11116\\1831204099.py:5: DtypeWarning: Columns (1) have mixed types. Specify dtype option on import or set low_memory=False.\n",
      "  result_10_luiz = pd.read_csv('results_10_luiz.csv')\n"
     ]
    }
   ],
   "source": [
    "result_rafael = pd.read_csv('results_rafael.csv')\n",
    "result_10_rafael = pd.read_csv('results_10_rafael.csv')\n",
    "\n",
    "result_luiz = pd.read_csv('results_luiz.csv')\n",
    "result_10_luiz = pd.read_csv('results_10_luiz.csv')\n",
    "\n",
    "# result_rafael = pd.concat([result_rafael, result_10_rafael])\n",
    "# result_luiz = pd.concat([result_luiz, result_10_luiz])\n",
    "\n",
    "result_10_rafael = result_rafael[result_rafael['Qnt'] != 'DySyn-TS']\n",
    "result_10_luiz = result_luiz[result_luiz['Qnt'] != 'DySyn-TS']\n",
    "\n",
    "# Ensure the 'MAE' column is numeric\n",
    "result_rafael['MAE'] = pd.to_numeric(result_rafael['MAE'], errors='coerce')\n",
    "result_luiz['MAE'] = pd.to_numeric(result_luiz['MAE'], errors='coerce')\n",
    "\n",
    "grouped_rafael = result_rafael.groupby(['Qnt', 'MFte', 'MFtr']).agg({'MAE': 'mean'}).reset_index()\n",
    "grouped_luiz = result_luiz.groupby(['Qnt', 'MFte', 'MFtr']).agg({'MAE': 'mean'}).reset_index()\n",
    "\n",
    "grouped = pd.concat([grouped_rafael, grouped_luiz])"
   ]
  },
  {
   "cell_type": "markdown",
   "metadata": {},
   "source": [
    "# Plots"
   ]
  },
  {
   "cell_type": "markdown",
   "metadata": {},
   "source": [
    "# Boxplot general"
   ]
  },
  {
   "cell_type": "code",
   "execution_count": 73,
   "metadata": {},
   "outputs": [
    {
     "name": "stderr",
     "output_type": "stream",
     "text": [
      "C:\\Users\\joaop\\AppData\\Local\\Temp\\ipykernel_11116\\2587209695.py:5: FutureWarning:\n",
      "\n",
      "The default of observed=False is deprecated and will be changed to True in a future version of pandas. Pass observed=False to retain current behavior or observed=True to adopt the future default and silence this warning.\n",
      "\n"
     ]
    },
    {
     "data": {
      "application/vnd.plotly.v1+json": {
       "config": {
        "plotlyServerURL": "https://plot.ly"
       },
       "data": [
        {
         "alignmentgroup": "True",
         "hovertemplate": "Qnt=%{x}<br>AE=%{y}<extra></extra>",
         "legendgroup": "XSyn-TS",
         "marker": {
          "color": "#636efa"
         },
         "name": "XSyn-TS",
         "notched": false,
         "offsetgroup": "XSyn-TS",
         "orientation": "v",
         "showlegend": true,
         "type": "box",
         "x": [
          "XSyn-TS",
          "XSyn-TS",
          "XSyn-TS",
          "XSyn-TS",
          "XSyn-TS",
          "XSyn-TS",
          "XSyn-TS",
          "XSyn-TS",
          "XSyn-TS",
          "XSyn-TS",
          "XSyn-TS",
          "XSyn-TS",
          "XSyn-TS",
          "XSyn-TS",
          "XSyn-TS",
          "XSyn-TS",
          "XSyn-TS",
          "XSyn-TS",
          "XSyn-TS",
          "XSyn-TS",
          "XSyn-TS",
          "XSyn-TS",
          "XSyn-TS",
          "XSyn-TS",
          "XSyn-TS",
          "XSyn-TS",
          "XSyn-TS",
          "XSyn-TS",
          "XSyn-TS",
          "XSyn-TS",
          "XSyn-TS",
          "XSyn-TS",
          "XSyn-TS",
          "XSyn-TS",
          "XSyn-TS",
          "XSyn-TS",
          "XSyn-TS",
          "XSyn-TS",
          "XSyn-TS",
          "XSyn-TS",
          "XSyn-TS",
          "XSyn-TS",
          "XSyn-TS",
          "XSyn-TS",
          "XSyn-TS",
          "XSyn-TS",
          "XSyn-TS",
          "XSyn-TS",
          "XSyn-TS",
          "XSyn-TS",
          "XSyn-TS",
          "XSyn-TS",
          "XSyn-TS",
          "XSyn-TS",
          "XSyn-TS",
          "XSyn-TS",
          "XSyn-TS",
          "XSyn-TS",
          "XSyn-TS",
          "XSyn-TS",
          "XSyn-TS",
          "XSyn-TS",
          "XSyn-TS",
          "XSyn-TS",
          "XSyn-TS",
          "XSyn-TS",
          "XSyn-TS",
          "XSyn-TS",
          "XSyn-TS",
          "XSyn-TS",
          "XSyn-TS",
          "XSyn-TS",
          "XSyn-TS",
          "XSyn-TS",
          "XSyn-TS",
          "XSyn-TS",
          "XSyn-TS",
          "XSyn-TS",
          "XSyn-TS",
          "XSyn-TS",
          "XSyn-TS",
          "XSyn-TS",
          "XSyn-TS",
          "XSyn-TS",
          "XSyn-TS",
          "XSyn-TS",
          "XSyn-TS",
          "XSyn-TS",
          "XSyn-TS",
          "XSyn-TS",
          "XSyn-TS",
          "XSyn-TS",
          "XSyn-TS",
          "XSyn-TS",
          "XSyn-TS",
          "XSyn-TS",
          "XSyn-TS",
          "XSyn-TS",
          "XSyn-TS",
          "XSyn-TS"
         ],
         "x0": " ",
         "xaxis": "x",
         "y": {
          "bdata": "AAAAAAAAAABTLuVSLuWyP8ZTZbGlHdA/aoGRLHe60D/sBnlnGyfPP2o+gJ1xs9A/+UeeaYWo0D8cH4HUPQbQP73ucPr4R84//eC9JT1N0D/FlnZAqyTIPzEMwzAMw8A/b8taHRM8yD+dsK1L+I7GP5sTd3uOi8k/mODBPFH/xj+s2UjVNdjHP4+HEsK6RcU/BJkfvLekxz9JUyrOPnzGP4hRvDWZncA/Ixbd5QsGwj8VJA6vvafQP+YH7y3pacI/OAc2VowhyD+cAxsrxhC0P5exIxLG0bk/dsK2LuE7uj+/WPKLJb+4P162MvhPzME/BBsrxhBUwj8yAH709abAP7MTtnUJ38E/IH29KVRhuj/QJvINMcnBPyA+w64Aubc/uCKc/wMXtD9HMNHfyWq5P99TpKsgcbg/Le2AVkkQuT9mK4P/xBy5P2OGHgf3W7E/HRM8mCfqrz+sW1TfjoeyP+9s4+SVP7Q/xZ6kaA/isj+bSkPOfXbBP8DOuFloUrM/c+aF4yOQuj9o1P4LRTyGP2kHtEqCyNA/oJQMvxn4cD/bd3NgY8WIP0iigJlan64/+r1kN8g7qz9+Ox5KCOumP2lS8wHsjKs/SKKAmVqfrj+eqH8jlNGrPxFM9HeyWq4/MQzDMAzDsD9wSU8TuoytP3bCti7hO4o/h1nqXf1amz+Vya2K8gmaPx3UQR3UQZ0/biLfEJMcmz8EnTbQaQOdP0X9G6GM3pY/MBTxWHCAmz+mYOG5DimbP8JAaBP5hpg/VZRP0Kj9hz90XEyxZiO1P1WUT9Co/Zc/vXB8BFL3iD/HEFQioBaIP3NwvxXh/G8/aNT+C0U8hj83jVh0ly+IP7GpNOTcZ4c/KZuJPUnRbj9mqXf1a21uP9T+C0U8Fmw/3p7jYoo1iz8d1EEd1EFtP7B+rc0DmW8/7IybhSY1bz83jVh0ly9oP08b6LSBTms/AAAAAAAAAAAAAAAAAAAAAAAAAAAAAAAAAAAAAAAAAAAAAAAAAAAAAAAAAAAAAAAAAAAAAAAAAAAAAAAAAAAAAAAAAAAAAAAAh5jk2FADrj8=",
          "dtype": "f8"
         },
         "y0": " ",
         "yaxis": "y"
        },
        {
         "alignmentgroup": "True",
         "hovertemplate": "Qnt=%{x}<br>AE=%{y}<extra></extra>",
         "legendgroup": "SMMSyn-TS",
         "marker": {
          "color": "#EF553B"
         },
         "name": "SMMSyn-TS",
         "notched": false,
         "offsetgroup": "SMMSyn-TS",
         "orientation": "v",
         "showlegend": true,
         "type": "box",
         "x": [
          "SMMSyn-TS",
          "SMMSyn-TS",
          "SMMSyn-TS",
          "SMMSyn-TS",
          "SMMSyn-TS",
          "SMMSyn-TS",
          "SMMSyn-TS",
          "SMMSyn-TS",
          "SMMSyn-TS",
          "SMMSyn-TS",
          "SMMSyn-TS",
          "SMMSyn-TS",
          "SMMSyn-TS",
          "SMMSyn-TS",
          "SMMSyn-TS",
          "SMMSyn-TS",
          "SMMSyn-TS",
          "SMMSyn-TS",
          "SMMSyn-TS",
          "SMMSyn-TS",
          "SMMSyn-TS",
          "SMMSyn-TS",
          "SMMSyn-TS",
          "SMMSyn-TS",
          "SMMSyn-TS",
          "SMMSyn-TS",
          "SMMSyn-TS",
          "SMMSyn-TS",
          "SMMSyn-TS",
          "SMMSyn-TS",
          "SMMSyn-TS",
          "SMMSyn-TS",
          "SMMSyn-TS",
          "SMMSyn-TS",
          "SMMSyn-TS",
          "SMMSyn-TS",
          "SMMSyn-TS",
          "SMMSyn-TS",
          "SMMSyn-TS",
          "SMMSyn-TS",
          "SMMSyn-TS",
          "SMMSyn-TS",
          "SMMSyn-TS",
          "SMMSyn-TS",
          "SMMSyn-TS",
          "SMMSyn-TS",
          "SMMSyn-TS",
          "SMMSyn-TS",
          "SMMSyn-TS",
          "SMMSyn-TS",
          "SMMSyn-TS",
          "SMMSyn-TS",
          "SMMSyn-TS",
          "SMMSyn-TS",
          "SMMSyn-TS",
          "SMMSyn-TS",
          "SMMSyn-TS",
          "SMMSyn-TS",
          "SMMSyn-TS",
          "SMMSyn-TS",
          "SMMSyn-TS",
          "SMMSyn-TS",
          "SMMSyn-TS",
          "SMMSyn-TS",
          "SMMSyn-TS",
          "SMMSyn-TS",
          "SMMSyn-TS",
          "SMMSyn-TS",
          "SMMSyn-TS",
          "SMMSyn-TS",
          "SMMSyn-TS",
          "SMMSyn-TS",
          "SMMSyn-TS",
          "SMMSyn-TS",
          "SMMSyn-TS",
          "SMMSyn-TS",
          "SMMSyn-TS",
          "SMMSyn-TS",
          "SMMSyn-TS",
          "SMMSyn-TS",
          "SMMSyn-TS",
          "SMMSyn-TS",
          "SMMSyn-TS",
          "SMMSyn-TS",
          "SMMSyn-TS",
          "SMMSyn-TS",
          "SMMSyn-TS",
          "SMMSyn-TS",
          "SMMSyn-TS",
          "SMMSyn-TS",
          "SMMSyn-TS",
          "SMMSyn-TS",
          "SMMSyn-TS",
          "SMMSyn-TS",
          "SMMSyn-TS",
          "SMMSyn-TS",
          "SMMSyn-TS",
          "SMMSyn-TS",
          "SMMSyn-TS",
          "SMMSyn-TS"
         ],
         "x0": " ",
         "xaxis": "x",
         "y": {
          "bdata": "zv+BCwpZzz/1LHOjdFTOP4zq2/FQQtA/roryCRq1zz8CK4cW2c7HPwXQ6w6nj88/fn4v2Q3yzj8g/8gzrRBVPzN6W9bqmMA/gVZJEBk/0T9QSobfDHzQP5FviEmODcU/T9ztOS6m0D9qgZEsd7rIPydwAidwAsc/O+NmoUnNxz8gPsOuALnHP1h8xVd8xcc/BY3af6GIxz/oeZ7neZ7HPxCbSkPOfcY/4Ipw/g9cwD+0yHa+nxrPPxqx6C5fMMA//GbgQ0hbuD9Naj6AnXGzP4KNFWMIKlE/84cOq6aTtj8+Aql7DIC/P/nBe0t6msA/fjcHNlaMwT9gqu27ObDBPx0TPJgn6r8/0w5olQSRwT9pyLnPLiC2P4s1G6m6Brs/5RdLfrHktz+jOXG357i4P7A3hSpMM7I/o/p2PJQQtj+HGvDiqbK4PzSl4uzDZ7g/zYm7PcfFtD/d7TkuplizPzsqj0QBM7U/OTbUgBdPtT+/2v2Vfm6zPzzfT42XbrI/jVRdg325sj9MsWYjVdfAP8K2LuE7GrM/9Sxzo3RUjj/CQGgT+YaYP4WwblF9O44/l/AdjRl6rD+/WPKLJb+oP1AHdVAHdbA/j1BGb8tarT8588LxEUitP3npJjEIrKw/7rcinP8Dpz+m4uzDZ9hVP7uIBn1+L6k/VdNJS/ylqj8W3eULBkKbPzzbOHnlD50/99Xur/Rzmz/PLiA2lYacPyXLnS6iQZ8/IqhEQC0woj+rMM3ItbiaP10JoNcdTo8/RXsQlzMvjD9di6vhdv2ZP7gehetRuI4/h1nqXf1amz9BqySIjJ+sP/MJGrX/QoE/Th//yDOtkD/gxVNlsaWNP10JoNcdTo8/IPuxH/uxjz9a5kbpqDyCP+yMm4UmNX8/o7dlrY4Jfj/sjJuFJjV/P6CUDL8Z+IA/Y4YeB/dbgT+8PcfFFGu2PzI7YVuX8I0/ERERERERgT/OhaQpFWd/P4KNFWMIKlE/go0VYwgqUT8g/8gzrRBVP8k3xCTHhko/mhulo/JIVD8IcTnzwvFRPxQ4gRM4gVM/3aL6djyUgD8=",
          "dtype": "f8"
         },
         "y0": " ",
         "yaxis": "y"
        },
        {
         "alignmentgroup": "True",
         "hovertemplate": "Qnt=%{x}<br>AE=%{y}<extra></extra>",
         "legendgroup": "ACCSyn-TS",
         "marker": {
          "color": "#00cc96"
         },
         "name": "ACCSyn-TS",
         "notched": false,
         "offsetgroup": "ACCSyn-TS",
         "orientation": "v",
         "showlegend": true,
         "type": "box",
         "x": [
          "ACCSyn-TS",
          "ACCSyn-TS",
          "ACCSyn-TS",
          "ACCSyn-TS",
          "ACCSyn-TS",
          "ACCSyn-TS",
          "ACCSyn-TS",
          "ACCSyn-TS",
          "ACCSyn-TS",
          "ACCSyn-TS",
          "ACCSyn-TS",
          "ACCSyn-TS",
          "ACCSyn-TS",
          "ACCSyn-TS",
          "ACCSyn-TS",
          "ACCSyn-TS",
          "ACCSyn-TS",
          "ACCSyn-TS",
          "ACCSyn-TS",
          "ACCSyn-TS",
          "ACCSyn-TS",
          "ACCSyn-TS",
          "ACCSyn-TS",
          "ACCSyn-TS",
          "ACCSyn-TS",
          "ACCSyn-TS",
          "ACCSyn-TS",
          "ACCSyn-TS",
          "ACCSyn-TS",
          "ACCSyn-TS",
          "ACCSyn-TS",
          "ACCSyn-TS",
          "ACCSyn-TS",
          "ACCSyn-TS",
          "ACCSyn-TS",
          "ACCSyn-TS",
          "ACCSyn-TS",
          "ACCSyn-TS",
          "ACCSyn-TS",
          "ACCSyn-TS",
          "ACCSyn-TS",
          "ACCSyn-TS",
          "ACCSyn-TS",
          "ACCSyn-TS",
          "ACCSyn-TS",
          "ACCSyn-TS",
          "ACCSyn-TS",
          "ACCSyn-TS",
          "ACCSyn-TS",
          "ACCSyn-TS",
          "ACCSyn-TS",
          "ACCSyn-TS",
          "ACCSyn-TS",
          "ACCSyn-TS",
          "ACCSyn-TS",
          "ACCSyn-TS",
          "ACCSyn-TS",
          "ACCSyn-TS",
          "ACCSyn-TS",
          "ACCSyn-TS",
          "ACCSyn-TS",
          "ACCSyn-TS",
          "ACCSyn-TS",
          "ACCSyn-TS",
          "ACCSyn-TS",
          "ACCSyn-TS",
          "ACCSyn-TS",
          "ACCSyn-TS",
          "ACCSyn-TS",
          "ACCSyn-TS",
          "ACCSyn-TS",
          "ACCSyn-TS",
          "ACCSyn-TS",
          "ACCSyn-TS",
          "ACCSyn-TS",
          "ACCSyn-TS",
          "ACCSyn-TS",
          "ACCSyn-TS",
          "ACCSyn-TS",
          "ACCSyn-TS",
          "ACCSyn-TS",
          "ACCSyn-TS",
          "ACCSyn-TS",
          "ACCSyn-TS",
          "ACCSyn-TS",
          "ACCSyn-TS",
          "ACCSyn-TS",
          "ACCSyn-TS",
          "ACCSyn-TS",
          "ACCSyn-TS",
          "ACCSyn-TS",
          "ACCSyn-TS",
          "ACCSyn-TS",
          "ACCSyn-TS",
          "ACCSyn-TS",
          "ACCSyn-TS",
          "ACCSyn-TS",
          "ACCSyn-TS",
          "ACCSyn-TS",
          "ACCSyn-TS"
         ],
         "x0": " ",
         "xaxis": "x",
         "y": {
          "bdata": "V0X5BI3azz/rEr6jMUPPP+bI9LKVwc8/ddISf6m2zz/ginD+D1zQP/4XingsONA/hLiceeH40D/jZqFJzQfQP6ICpWT4zdA/4EdfbwpV0D8MhDaRb4jJPygp2oO4nMk/exjFW5PZyT/J7IRtXcLHP7CxYgxBJcI/i/YgLmdeyD9Z9qI5cbfHP511yuRWRck/wcaKMQSVyD8RVCKgFhjJPyWEdYvq28E/DIAffb0ptD8XkqZUnH3IPwAAAAAAAAAAJ6vljRFMtD8fwM64WWjCP0iaUnH24bM/SVdB4vDauz+bSkPOfXbBPxSyXvUsc8M/jObE3Z7jwj/HDD0O7rfCP5vQZeyIhME/HOCGWepdvT9S9xgAP/q6P/eW9DShy7g/DymbiT1JwT/vKdJVkDi8P7igkPWqZ7k/AAAAAAAAAACxJynag7i8PxWqMM3Itbg/DTHJsaEGvD/wYJ6ofyO0P4yfnDrnfbU/AAQXFLJetT+98ocOq6azPw+nj3/kmbY/j8YMPQ7utz9M/KXavpvDP3vVs8yN0rE/iynWbKTqij/wIaQtLHuxPzAYCG0i37A/+7U2D2R+sD9aISpQSoavP3ZAqySIjK8/GMlyp4tosD/OB7AzbhaqP49QRm/LWq0/1P4LRTwWnD8ndBk7ImGcP2t5YwQT/Z0/VddgX64EoD9uIt8QkxybP08b6LSBTps/6D67gNhUmj9vy1odEzyYP01ybKgBL54/iynWbKTqij+aG6Wj8kh0PwAAAAAAAAAAjCnWbKTqij8tMJLlThexP56ofyOU0as/MzthW5fwnT9YPcvcKB21Pyd0GTsiYYw/GrHoLl8wkD/U/gtFPBaMP04b6LSBTos/sH6tzQOZbz9KzQewM252P29NZids63I/CHE588LxcT9jhh4H91txP8tiSzugVXI/oJQMvxn4cD/enuNiijWLPxQ4gRM4gXM/go0VYwgqcT9a4i/V9t2MPwAAAAAAAAAAAAAAAAAAAAAAAAAAAAAAAIKJ/k5Wy4s/AAAAAAAAAAAAAAAAAAAAAAAAAAAAAAAAAAAAAAAAAAA=",
          "dtype": "f8"
         },
         "y0": " ",
         "yaxis": "y"
        },
        {
         "alignmentgroup": "True",
         "hovertemplate": "Qnt=%{x}<br>AE=%{y}<extra></extra>",
         "legendgroup": "MS2Syn-TS",
         "marker": {
          "color": "#ab63fa"
         },
         "name": "MS2Syn-TS",
         "notched": false,
         "offsetgroup": "MS2Syn-TS",
         "orientation": "v",
         "showlegend": true,
         "type": "box",
         "x": [
          "MS2Syn-TS",
          "MS2Syn-TS",
          "MS2Syn-TS",
          "MS2Syn-TS",
          "MS2Syn-TS",
          "MS2Syn-TS",
          "MS2Syn-TS",
          "MS2Syn-TS",
          "MS2Syn-TS",
          "MS2Syn-TS",
          "MS2Syn-TS",
          "MS2Syn-TS",
          "MS2Syn-TS",
          "MS2Syn-TS",
          "MS2Syn-TS",
          "MS2Syn-TS",
          "MS2Syn-TS",
          "MS2Syn-TS",
          "MS2Syn-TS",
          "MS2Syn-TS",
          "MS2Syn-TS",
          "MS2Syn-TS",
          "MS2Syn-TS",
          "MS2Syn-TS",
          "MS2Syn-TS",
          "MS2Syn-TS",
          "MS2Syn-TS",
          "MS2Syn-TS",
          "MS2Syn-TS",
          "MS2Syn-TS",
          "MS2Syn-TS",
          "MS2Syn-TS",
          "MS2Syn-TS",
          "MS2Syn-TS",
          "MS2Syn-TS",
          "MS2Syn-TS",
          "MS2Syn-TS",
          "MS2Syn-TS",
          "MS2Syn-TS",
          "MS2Syn-TS",
          "MS2Syn-TS",
          "MS2Syn-TS",
          "MS2Syn-TS",
          "MS2Syn-TS",
          "MS2Syn-TS",
          "MS2Syn-TS",
          "MS2Syn-TS",
          "MS2Syn-TS",
          "MS2Syn-TS",
          "MS2Syn-TS",
          "MS2Syn-TS",
          "MS2Syn-TS",
          "MS2Syn-TS",
          "MS2Syn-TS",
          "MS2Syn-TS",
          "MS2Syn-TS",
          "MS2Syn-TS",
          "MS2Syn-TS",
          "MS2Syn-TS",
          "MS2Syn-TS",
          "MS2Syn-TS",
          "MS2Syn-TS",
          "MS2Syn-TS",
          "MS2Syn-TS",
          "MS2Syn-TS",
          "MS2Syn-TS",
          "MS2Syn-TS",
          "MS2Syn-TS",
          "MS2Syn-TS",
          "MS2Syn-TS",
          "MS2Syn-TS",
          "MS2Syn-TS",
          "MS2Syn-TS",
          "MS2Syn-TS",
          "MS2Syn-TS",
          "MS2Syn-TS",
          "MS2Syn-TS",
          "MS2Syn-TS",
          "MS2Syn-TS",
          "MS2Syn-TS",
          "MS2Syn-TS",
          "MS2Syn-TS",
          "MS2Syn-TS",
          "MS2Syn-TS",
          "MS2Syn-TS",
          "MS2Syn-TS",
          "MS2Syn-TS",
          "MS2Syn-TS",
          "MS2Syn-TS",
          "MS2Syn-TS",
          "MS2Syn-TS",
          "MS2Syn-TS",
          "MS2Syn-TS",
          "MS2Syn-TS",
          "MS2Syn-TS",
          "MS2Syn-TS",
          "MS2Syn-TS",
          "MS2Syn-TS",
          "MS2Syn-TS",
          "MS2Syn-TS"
         ],
         "x0": " ",
         "xaxis": "x",
         "y": {
          "bdata": "smIMQSUCyj+CyPjJqXO+P7b7K/3cptE/2gnbuoTv0D8coYzelrXSPzycPv6RZ8o/Z2JPUrQH0T/2Z1YKFp7LP5z77AJiU8k/KKO3Za2OyT/gxVNlsaWNP66K8gkatb8/I9v5fmq8tD8SAbXASJa7P41UXYN9uXI/zF40J+72jD882zh55Q+NPx3UQR3UQY0/hbBuUX07jj92wrYu4TuKPwvTjFyLq9E/nMAJnMAJzD+x6C5fMBDSP5oXjo9A6o4/ZXrZyuA/0T8HNlaMIajEP2heOD4Cqcs/qMpiSzugxT+z2NIOaJXEP41UXYN9ucI/lsWWdkCrxD9Jjg014MXDP3eyWt4YwcQ/9apnmRulwz/x2nuKdBXEP2S96lnmRtE/Q9arnmVuxD9i2YvmxN2+P0pL/KXavrs/FhzghlnqvT8YBFYOLbK9PxYc4IZZ6r0/8OrX2jyQ0T9/J6vljRHMP+AAN8xS78o/AAAAAAAAAACIUbw1mZ3QP1cG/4k5Mr0/0tebQhWmiT8uIDaVhpzLP92i+nY8lHA/ka6CxOG1tz/HEFQioBa4P+UXS36x5Lc/h10Bcq+5sD9/pZ/bNGKxP2mR7Xw/Na4/pp/bNGLRrT/ZzvdT46WrP8CPvt4UqrA/7jkuplizsT+E/8QcmV62Pxqx6C5fMLA/xGfYFSD3mj/NB7AzbhaaP+81F5KmVJw/xGfYFSD3mj9KTxO6jB2hP4WwblF9O54/UyrOPnyGrT8AAAAAAAAAAAAAAAAAAAAAZql39Wttjj9oVgoWnuuwP5tOWuIv1bY/nud5nud5nj/zhw6rppO2PzBXAuh1h7M/3aL6djyUcD9Ffyer5Y1xPzI/eG9JT3M/Vwb/iTkyvT/dovp2PJRwP41UXYN9uXI//Knx0k1icD8pm4k9SdFuPwAAAAAAAAAAAAAAAAAAAAC4Ipz/Axd0P64AuddcSJo/AAAAAAAAAAAAAAAAAAAAAAAAAAAAAAAAAAAAAAAAAADqZSuD/8SMP4qAWmAky50/OTbUgBdPtT8W3eULBkKbP4ur4Xb9mbU/AAAAAAAAAAA=",
          "dtype": "f8"
         },
         "y0": " ",
         "yaxis": "y"
        },
        {
         "alignmentgroup": "True",
         "hovertemplate": "Qnt=%{x}<br>AE=%{y}<extra></extra>",
         "legendgroup": "DyS-TS",
         "marker": {
          "color": "#FFA15A"
         },
         "name": "DyS-TS",
         "notched": false,
         "offsetgroup": "DyS-TS",
         "orientation": "v",
         "showlegend": true,
         "type": "box",
         "x": [
          "DyS-TS",
          "DyS-TS",
          "DyS-TS",
          "DyS-TS",
          "DyS-TS",
          "DyS-TS",
          "DyS-TS",
          "DyS-TS",
          "DyS-TS",
          "DyS-TS",
          "DyS-TS",
          "DyS-TS",
          "DyS-TS",
          "DyS-TS",
          "DyS-TS",
          "DyS-TS",
          "DyS-TS",
          "DyS-TS",
          "DyS-TS",
          "DyS-TS",
          "DyS-TS",
          "DyS-TS",
          "DyS-TS",
          "DyS-TS",
          "DyS-TS",
          "DyS-TS",
          "DyS-TS",
          "DyS-TS",
          "DyS-TS",
          "DyS-TS",
          "DyS-TS",
          "DyS-TS",
          "DyS-TS",
          "DyS-TS",
          "DyS-TS",
          "DyS-TS",
          "DyS-TS",
          "DyS-TS",
          "DyS-TS",
          "DyS-TS",
          "DyS-TS",
          "DyS-TS",
          "DyS-TS",
          "DyS-TS",
          "DyS-TS",
          "DyS-TS",
          "DyS-TS",
          "DyS-TS",
          "DyS-TS",
          "DyS-TS",
          "DyS-TS",
          "DyS-TS",
          "DyS-TS",
          "DyS-TS",
          "DyS-TS",
          "DyS-TS",
          "DyS-TS",
          "DyS-TS",
          "DyS-TS",
          "DyS-TS",
          "DyS-TS",
          "DyS-TS",
          "DyS-TS",
          "DyS-TS",
          "DyS-TS",
          "DyS-TS",
          "DyS-TS",
          "DyS-TS",
          "DyS-TS",
          "DyS-TS",
          "DyS-TS",
          "DyS-TS",
          "DyS-TS",
          "DyS-TS",
          "DyS-TS",
          "DyS-TS",
          "DyS-TS",
          "DyS-TS",
          "DyS-TS",
          "DyS-TS",
          "DyS-TS",
          "DyS-TS",
          "DyS-TS",
          "DyS-TS",
          "DyS-TS",
          "DyS-TS",
          "DyS-TS",
          "DyS-TS",
          "DyS-TS",
          "DyS-TS",
          "DyS-TS",
          "DyS-TS",
          "DyS-TS",
          "DyS-TS",
          "DyS-TS",
          "DyS-TS",
          "DyS-TS",
          "DyS-TS",
          "DyS-TS",
          "DyS-TS",
          "DyS-TS",
          "DyS-TS",
          "DyS-TS",
          "DyS-TS",
          "DyS-TS",
          "DyS-TS",
          "DyS-TS",
          "DyS-TS",
          "DyS-TS",
          "DyS-TS",
          "DyS-TS",
          "DyS-TS",
          "DyS-TS",
          "DyS-TS",
          "DyS-TS",
          "DyS-TS",
          "DyS-TS",
          "DyS-TS",
          "DyS-TS",
          "DyS-TS"
         ],
         "x0": " ",
         "xaxis": "x",
         "y": {
          "bdata": "BU7gBE7g1D/eovp2PJSAP6XqGuzLlcA/b4xgor+TxT/XbKTqGuzLP21/ScPp7sk/kqI9iMuZxz9AbCoNOffZP/ERSN1jAMw/ThvotIFOyz9u159ZKVi4P8jB/VaE888/6WlCl7Ejsj/qJjEIrBy6P83Itbgabsc/pSHnPruAwD+2Ng9kfvC+PyVNqTj78Lk/5o0RTPR3wj8fwM64WWjCPyNdBYnDa7c/Tl75Q4dVwz+DgdAm8g3BP0V/J6vljbE/I5jo72S1rD/MGyOY6O/EP9clfEdjhq4/dGR62crgzz8yR6aXrQy+P1mzcLza5o4/20CnDXTaoD+Mn5w6533FPxiGYRiGYZg/bKTqGuzLxT9+Ox5KCOvGP2oDnTbQacM/IiY5NtSAhz8YBFYOLbKdP4sxBJUIqMU/Rf0boYzexj+PhxLCukWVP3sUrkfhepQ/JngwT9S/cT9aZDvfT42XP39tT25cPs0/tc+c5MPfgz/eIO9s4+TFP+J2/ZmVgsU/uB6F61G4jj8GRrLc6SJqPwAAAAAAAAAATxO6jB2R0D9N7EmK9iDOPykVZx8+w84/MoKJ/k5Wyz8B9LrD6ePPP1dF+QSN2s8/OrTIdr6f2j9JzQewM27GP90sNKn5AMY/hMDKoUW2wz/5iq/4iq/IPxdTrNlI1cU/Zql39Wttnj8599kFxKaiPyw81yFlM7E/Mr1sZfCfuD/+1HjpJjHIPxfVt+OhhMA/jQR882riuT9VUT5Bo/avP/q9ZDfIO6s/hHWL6tvxwD8zMzMzMzPRP+DFU2Wxpa0/WmQ730+Nxz/Vz3TEvmPDP2iR7Xw/Nb4/7IybhSY1nz+oTG5VlE/AP96e42KKNas/sak05Nxntz9jjkwvWxm8P1sZ/CfmyLQ/LTjADbPUyz8CK4cW2c7VP4ca8OKpsrg/seguXzAQuj8jnP8DFxTCP2OGHgf3W5E/Yg3FP+uirT/+XajqCTyVPyWEdYvq28E/xSCwcmiRrT9uIt8Qkxy7P+td/VqbB7I/rVc9y9wojT95azI7YVuXP9NNYhBYOZQ/Ft3lCwZCyz8+Aql7DICPP6L+jVBGb8s/AAAAAAAAAAA9z/M8z/O8P3wIaQvLXrQ/QYS7L3Oqnj8wGAhtIt+QPyUD7pt6ZaM/okW28/3UuD/EnqRoD+LaP/MJGrX/QoE/Jc+0QlSglD8f+IEf+IFvP0W+ISY5NrQ/l/AdjRl6fD9NkWRNPlKjP7CLVOK+h4U/ZD/2Yz/20z9T7+rX2jywP+lxcL8V4bw/",
          "dtype": "f8"
         },
         "y0": " ",
         "yaxis": "y"
        },
        {
         "alignmentgroup": "True",
         "hovertemplate": "Qnt=%{x}<br>AE=%{y}<extra></extra>",
         "legendgroup": "MAXSyn-TS",
         "marker": {
          "color": "#19d3f3"
         },
         "name": "MAXSyn-TS",
         "notched": false,
         "offsetgroup": "MAXSyn-TS",
         "orientation": "v",
         "showlegend": true,
         "type": "box",
         "x": [
          "MAXSyn-TS",
          "MAXSyn-TS",
          "MAXSyn-TS",
          "MAXSyn-TS",
          "MAXSyn-TS",
          "MAXSyn-TS",
          "MAXSyn-TS",
          "MAXSyn-TS",
          "MAXSyn-TS",
          "MAXSyn-TS",
          "MAXSyn-TS",
          "MAXSyn-TS",
          "MAXSyn-TS",
          "MAXSyn-TS",
          "MAXSyn-TS",
          "MAXSyn-TS",
          "MAXSyn-TS",
          "MAXSyn-TS",
          "MAXSyn-TS",
          "MAXSyn-TS",
          "MAXSyn-TS",
          "MAXSyn-TS",
          "MAXSyn-TS",
          "MAXSyn-TS",
          "MAXSyn-TS",
          "MAXSyn-TS",
          "MAXSyn-TS",
          "MAXSyn-TS",
          "MAXSyn-TS",
          "MAXSyn-TS",
          "MAXSyn-TS",
          "MAXSyn-TS",
          "MAXSyn-TS",
          "MAXSyn-TS",
          "MAXSyn-TS",
          "MAXSyn-TS",
          "MAXSyn-TS",
          "MAXSyn-TS",
          "MAXSyn-TS",
          "MAXSyn-TS",
          "MAXSyn-TS",
          "MAXSyn-TS",
          "MAXSyn-TS",
          "MAXSyn-TS",
          "MAXSyn-TS",
          "MAXSyn-TS",
          "MAXSyn-TS",
          "MAXSyn-TS",
          "MAXSyn-TS",
          "MAXSyn-TS",
          "MAXSyn-TS",
          "MAXSyn-TS",
          "MAXSyn-TS",
          "MAXSyn-TS",
          "MAXSyn-TS",
          "MAXSyn-TS",
          "MAXSyn-TS",
          "MAXSyn-TS",
          "MAXSyn-TS",
          "MAXSyn-TS",
          "MAXSyn-TS",
          "MAXSyn-TS",
          "MAXSyn-TS",
          "MAXSyn-TS",
          "MAXSyn-TS",
          "MAXSyn-TS",
          "MAXSyn-TS",
          "MAXSyn-TS",
          "MAXSyn-TS",
          "MAXSyn-TS",
          "MAXSyn-TS",
          "MAXSyn-TS",
          "MAXSyn-TS",
          "MAXSyn-TS",
          "MAXSyn-TS",
          "MAXSyn-TS",
          "MAXSyn-TS",
          "MAXSyn-TS",
          "MAXSyn-TS",
          "MAXSyn-TS",
          "MAXSyn-TS",
          "MAXSyn-TS",
          "MAXSyn-TS",
          "MAXSyn-TS",
          "MAXSyn-TS",
          "MAXSyn-TS",
          "MAXSyn-TS",
          "MAXSyn-TS",
          "MAXSyn-TS",
          "MAXSyn-TS",
          "MAXSyn-TS",
          "MAXSyn-TS",
          "MAXSyn-TS",
          "MAXSyn-TS",
          "MAXSyn-TS",
          "MAXSyn-TS",
          "MAXSyn-TS",
          "MAXSyn-TS",
          "MAXSyn-TS",
          "MAXSyn-TS"
         ],
         "x0": " ",
         "xaxis": "x",
         "y": {
          "bdata": "AAAAAAAAAAAAAAAAAAAAAAAAAAAAAAAAAAAAAAAAAADM1Pr0MIq3PwAAAAAAAAAAAAAAAAAAAAAAAAAAAAAAAAAAAAAAAAAAAAAAAAAAAACm4uzDZ9h1P8tiSzugVZI/exSuR+F6dD/PsCtA7jV3P1BGb8taHXM/y2JLO6BVcj8g/8gzrRB1P88yN0pH5ZE/Mj94b0lPcz8AAAAAAAAAACZ4ME/Uv5E/FDiBEziBcz+EtIVlL5qTPx5KCOsW1bc/CHE588LxkT9a5kbpqDySP6O7fMFAaJM/sStA7jUXkj+mIec+u4CoP1olQWT85KQ/odMGOm2goz90XEyxZiOlP0PWq55lbqQ/12iN1miNpj9a5kbpqDySP7+bAxsrxnA/gswP3lvSoz+/WPKLJb+oP3ksOMANs6Q/1XTSEn+ptj/zhw6rppO2P1h8xVd8xbc/WTGGoBIBtT90m0Ysusu3P/GTU+e8r7Y/RX8nq+WNkT9CIetVzzK3P9v5fmq8dKM/5dhQA148tT9vTWYnbOtyPx7ME/VvhMI/FP2drJY3xj+MbOf7qfHCP49IGEdnncI/zj58hl0Bwj8599kFxKbCP54mdBk7IsE/nbjbc1xMwT9+seQXS37BP7y3pKcJXcY/uGGWele/xj9pUvMB7IzLP9QGOm2g08Y/uNtzXEyxxj/QKgki4yfHPxFUIqAWGMk/d3d3d3d3xz9wPQrXo3DNPzjADbPUu8o/+rlNIxbdxT+89p4iXQXJP3NsqAEvnso/fMVXfMVXzD/BTK1PD6PIP5+gUfsvFNE/BJUIqAVGwj9g6ec2jVjUP0mWO11Eg84/qfXpYRRvzT9PWuIv1fbNP1cKFp7rkNI/eHNgY8UY0j8CJ3ACJ3DSP/4Tc2R62dI/vxXh/B+40D9Ewjg665TRP4q/VNt3c9A/RySMo7NO0T9FtvP91HjRPye3KsonaNQ/WEHi8Np7yj9dh5TNxJ7UP+AMfAhpC9M/ZD/2Yz/20z+G3wx8CGnTP/hPzJHpZdM/CaTuMQB+1D8tOMANs9TTP4EPIW1h2dM/AfS6w+njvz8=",
          "dtype": "f8"
         },
         "y0": " ",
         "yaxis": "y"
        },
        {
         "alignmentgroup": "True",
         "hovertemplate": "Qnt=%{x}<br>AE=%{y}<extra></extra>",
         "legendgroup": "CC",
         "marker": {
          "color": "#FF6692"
         },
         "name": "CC",
         "notched": false,
         "offsetgroup": "CC",
         "orientation": "v",
         "showlegend": true,
         "type": "box",
         "x": [
          "CC",
          "CC",
          "CC",
          "CC",
          "CC",
          "CC",
          "CC",
          "CC",
          "CC",
          "CC",
          "CC",
          "CC",
          "CC",
          "CC",
          "CC",
          "CC",
          "CC",
          "CC",
          "CC",
          "CC",
          "CC",
          "CC",
          "CC",
          "CC",
          "CC",
          "CC",
          "CC",
          "CC",
          "CC",
          "CC",
          "CC",
          "CC",
          "CC",
          "CC",
          "CC",
          "CC",
          "CC",
          "CC",
          "CC",
          "CC",
          "CC",
          "CC",
          "CC",
          "CC",
          "CC",
          "CC",
          "CC",
          "CC",
          "CC",
          "CC",
          "CC",
          "CC",
          "CC",
          "CC",
          "CC",
          "CC",
          "CC",
          "CC",
          "CC",
          "CC",
          "CC",
          "CC",
          "CC",
          "CC",
          "CC",
          "CC",
          "CC",
          "CC",
          "CC",
          "CC",
          "CC",
          "CC",
          "CC",
          "CC",
          "CC",
          "CC",
          "CC",
          "CC",
          "CC",
          "CC",
          "CC",
          "CC",
          "CC",
          "CC",
          "CC",
          "CC",
          "CC",
          "CC",
          "CC",
          "CC",
          "CC",
          "CC",
          "CC",
          "CC",
          "CC",
          "CC",
          "CC",
          "CC",
          "CC",
          "CC",
          "CC",
          "CC",
          "CC",
          "CC",
          "CC",
          "CC",
          "CC",
          "CC",
          "CC",
          "CC",
          "CC",
          "CC",
          "CC",
          "CC",
          "CC",
          "CC",
          "CC",
          "CC",
          "CC",
          "CC"
         ],
         "x0": " ",
         "xaxis": "x",
         "y": {
          "bdata": "puLsw2fYdT/fkp4mdBnLP5w/gqxQk80/6Hme53mevz956SYxCKy8PwAAAAAAAAAAOIETOIET0D8AAAAAAAAAAAAAAAAAAAAAjKfKYks70D8AAAAAAAAAAG8ObKwYQ9A/qf0Xings0D/85NQ576vNP4ynymJLO9A/3cYu/L6wyz/85NQ576vNPwAAAAAAAAAAyEMJYd2i2j9u27Zt27bNP/R3slreGMk/VVlsaQe0yj/86OtNoQrDP3UVJA6vvdc/AidwAidwxj8FE/2drJbHP0AxR6aXrdw/Jg8GnHEtcj8AAAAAAAAAADvfT42XboI/AAAAAAAAAAB56g1Ft9qBPwAAAAAAAAAAAAAAAAAAAACm4uzDZ9h1P2Civ5PV8sY/AAAAAAAAAAAAAAAAAAAAAAAAAAAAAAAA9TCKtyazcz/7sR/7sR/LP+1YgTDSjnU/y2p5YwQTnT/OB7AzbhbKP13KpVzKpbw/kTCOzjplsj/Gkl8s+cWyP4o5Mr1sZcA/VCKgFhjJsj8pIaxbVN+uPwxBJQJqgaE/DymbiT1JoT/Ea+8p0lWwP4ddAXKvuaA/sak05Nxndz+wP7NSsPC8P+63Ipz/A3c/Sc0HsDNudj9bGfwn5sjUP8i95kLSlMo/7IybhSY1wz++5kLSlIrDP3rpJjEIrKw/9LCG4p91wT+rMM3ItbjKPxp2Bci95sI/U+Olm8Qg2j/8avdX+rnNP6gBL54qi80/jGjQ5/eSzT+M4q3J7ITNPwAAAAAAANg/p855X+3+yj+Mo7NOmdzKP0SI2e0yhMg/3ekiGvT5zT9XxwQP5onKP11MsWYjVcc/BoGVQ4ts1T8XFLJe9SzDP/T91HjpJtM/B3VQB3VQxz+K/k5WyxvDPy+JLGK8X8U/QxWmGbkWxz9DFaYZuRbHP+xJivYgLsc/Cl3GjkgYxz/bd3NgY8V4P+Pw2nuKdHU//KXavpsDyz+glAy/GfigP4tw/g9cUNA/+Qy7AuRewz/BCZzACZzQP6jGSzeJQdA/NG4WmtR8uD82E3uSoj3QPy9+a0CPfLE/EFg5tMh2zj+xJynag7i8PznzwvERSL0/Hsj84L0lvT8FrBWwVsC6PyWMo7NOmbw/We50EQ36vD/EqumkJf7CP2OGHgf3W6E//dymEYvusj9vTWYnbOuyP1j+0GHVdLI/VwoWnuuQsj8yP3hvSU/DPzgDH0LawrI/wMqhRbbzvT9HZ50yuVWhPwisHFpkO8c/9fGPPNMKoT9TXPi4wl6fP/XxjzzTCqE/",
          "dtype": "f8"
         },
         "y0": " ",
         "yaxis": "y"
        },
        {
         "alignmentgroup": "True",
         "hovertemplate": "Qnt=%{x}<br>AE=%{y}<extra></extra>",
         "legendgroup": "ACC",
         "marker": {
          "color": "#B6E880"
         },
         "name": "ACC",
         "notched": false,
         "offsetgroup": "ACC",
         "orientation": "v",
         "showlegend": true,
         "type": "box",
         "x": [
          "ACC",
          "ACC",
          "ACC",
          "ACC",
          "ACC",
          "ACC",
          "ACC",
          "ACC",
          "ACC",
          "ACC",
          "ACC",
          "ACC",
          "ACC",
          "ACC",
          "ACC",
          "ACC",
          "ACC",
          "ACC",
          "ACC",
          "ACC",
          "ACC",
          "ACC",
          "ACC",
          "ACC",
          "ACC",
          "ACC",
          "ACC",
          "ACC",
          "ACC",
          "ACC",
          "ACC",
          "ACC",
          "ACC",
          "ACC",
          "ACC",
          "ACC",
          "ACC",
          "ACC",
          "ACC",
          "ACC",
          "ACC",
          "ACC",
          "ACC",
          "ACC",
          "ACC",
          "ACC",
          "ACC",
          "ACC",
          "ACC",
          "ACC",
          "ACC",
          "ACC",
          "ACC",
          "ACC",
          "ACC",
          "ACC",
          "ACC",
          "ACC",
          "ACC",
          "ACC",
          "ACC",
          "ACC",
          "ACC",
          "ACC",
          "ACC",
          "ACC",
          "ACC",
          "ACC",
          "ACC",
          "ACC",
          "ACC",
          "ACC",
          "ACC",
          "ACC",
          "ACC",
          "ACC",
          "ACC",
          "ACC",
          "ACC",
          "ACC",
          "ACC",
          "ACC",
          "ACC",
          "ACC",
          "ACC",
          "ACC",
          "ACC",
          "ACC",
          "ACC",
          "ACC",
          "ACC",
          "ACC",
          "ACC",
          "ACC",
          "ACC",
          "ACC",
          "ACC",
          "ACC",
          "ACC",
          "ACC",
          "ACC",
          "ACC",
          "ACC",
          "ACC",
          "ACC",
          "ACC",
          "ACC",
          "ACC",
          "ACC",
          "ACC",
          "ACC",
          "ACC",
          "ACC",
          "ACC",
          "ACC",
          "ACC",
          "ACC",
          "ACC",
          "ACC",
          "ACC"
         ],
         "x0": " ",
         "xaxis": "x",
         "y": {
          "bdata": "gRM4gRM4wT84Ax9C2sLCP+DJanljBJM/qAEvniqLzT/C9Shcj8LVP5mdV1qtU8s/sWo6aYm/xD8VJA6vvafYP5yFJjUfwM4/FDRq/4Uizj/SHsTlzAvHPwtNaj6Anck/GvT5vWQ30D/zxggm+ju5PzK9bGXwn8g/oQ7qoA7q0D+U1fLGCCbKP5020GkDncY/bw5srBhDwD+eqH8jlNG7PyhkvepZ5sY/Z6FJzQewwz8LjGS500XEPyIiIiIiIsI/VVVVVVVVtT+p+QB2xs3CP99TpKsgccA/Mn5y6pz3tT/oeZ7neZ7nP94g72zj5MU/f63NA5kfvD+PTC9bGfzHP4BijkwvW8k/y/LZc4g0nT/qZSuD/8ScPx7UQR3UQZ0/hmEYhmEYxj/Zj/3Yj/3IP+NmoUnNB7A/RX8nq+WNsT8e1EEd1EGdP5qZmZmZmZk/mtR8ADvjxj9OYhBYObTIPzfQaQOdNtA/jVRdg325cj9AWb+q/hV1P0cw0d/Jask/v1jyiyW/yD+amZmZmZmZP4BijkwvW3k/AAAAAAAAAABdBYnDa+/hP9Jh1XTSEs8/eqL+jVBGzz8STPR3slrOPz0K16NwPdo/i3D+D1xQ0D/jZqFJzQe4PwrXo3A9Cuc/4yu+4iu+wj9Hqq7BvlzJP/szKwULz7U/XVDIetWzzD8gQtrCshfNP5ZDi2zn+9c/kP3Yj/3Y5z/78Bl2Bci9P2nQ5/eS3cA/FVIhFVIhxT+L9iAuZ17IPwTYGTcLTco/yXa+nxov1T/+nayWN0boPzK9bGXwn6g/w/UoXI/CtT/1+DlKTo+/PzweSgjrFrU/Cxae65CyuT+n0pBzn13oP7gehetRuM4/uddcSJpSwT9Naj6AnXHDP96e42KKNbs/TxO6jB2RsD9oVgoWnuuwP4vq2/FQQug/SgwCK4cW0z95KCGsW1SvP3aDvLONk7c/wgFumKXexT8AAAAAAAAAAB3UQR3UQa0/tMh2vp8axz830GkDnTboPzVi0V2+YMA/3ekiGvT5vT8ukt6kCVasP2yk6hrsy5U/atN68VsDyj9dj8L1KFy/PxiGYRiGYeg/Nhupugb7wj/zCRq1/0LBP1diJVZiJbY/piHnPruAqD/rkLKZ2JOEP7FqOmmJv6Q/3aL6djyUsD/gyWp5YwTDPyer5Y0RTMQ/eeoNRbfagT9mK4P/xByZP+plK4P/xJw/dRxIBTkZuj+3F7zZBBW7P5sPYGfcLMQ/4ARO4ARO6D9pYeMC+3ysP7ROmdyqKK8/",
          "dtype": "f8"
         },
         "y0": " ",
         "yaxis": "y"
        },
        {
         "alignmentgroup": "True",
         "hovertemplate": "Qnt=%{x}<br>AE=%{y}<extra></extra>",
         "legendgroup": "X",
         "marker": {
          "color": "#FF97FF"
         },
         "name": "X",
         "notched": false,
         "offsetgroup": "X",
         "orientation": "v",
         "showlegend": true,
         "type": "box",
         "x": [
          "X",
          "X",
          "X",
          "X",
          "X",
          "X",
          "X",
          "X",
          "X",
          "X",
          "X",
          "X",
          "X",
          "X",
          "X",
          "X",
          "X",
          "X",
          "X",
          "X",
          "X",
          "X",
          "X",
          "X",
          "X",
          "X",
          "X",
          "X",
          "X",
          "X",
          "X",
          "X",
          "X",
          "X",
          "X",
          "X",
          "X",
          "X",
          "X",
          "X",
          "X",
          "X",
          "X",
          "X",
          "X",
          "X",
          "X",
          "X",
          "X",
          "X",
          "X",
          "X",
          "X",
          "X",
          "X",
          "X",
          "X",
          "X",
          "X",
          "X",
          "X",
          "X",
          "X",
          "X",
          "X",
          "X",
          "X",
          "X",
          "X",
          "X",
          "X",
          "X",
          "X",
          "X",
          "X",
          "X",
          "X",
          "X",
          "X",
          "X",
          "X",
          "X",
          "X",
          "X",
          "X",
          "X",
          "X",
          "X",
          "X",
          "X",
          "X",
          "X",
          "X",
          "X",
          "X",
          "X",
          "X",
          "X",
          "X",
          "X",
          "X",
          "X",
          "X",
          "X",
          "X",
          "X",
          "X",
          "X",
          "X",
          "X",
          "X",
          "X",
          "X",
          "X",
          "X",
          "X",
          "X",
          "X",
          "X",
          "X"
         ],
         "x0": " ",
         "xaxis": "x",
         "y": {
          "bdata": "WLeovh0PyT/b9WdWChbOP5c3RjDR39k/5o0RTPR3wj/crj+zUrDAPwAAAAAAAAAAOT4CqXsM0D8JYd2i+nbcP/8HLihkvco/WyS9SROsyD/4iZt5qZPLP3Gz0KTmA7g/DnTaQKcNwD/UQR3UQR3UPwIncAIncMY/R6aXrQz+kz+wfq3NA5m/PyNZ7nQRDbo/TxvotIFOyz98wUBoE/nGPzHR38lqecM/gF53OH38wz/paUKXsSPCP2DxFV/xFb8/q+27ObCxwj8y/GbgQ0i7P9KYocfB/bY/BvtyJYBexz8bseguXzBwP2JTaci5z+Y/HRdTrNlIxT/PLiA2lYbMP2IcnXXK5MY/QFm/qv4VdT+39xTpKkicP0tDzn12AbE/cAIncAInsD/vcPr4R57JPzzXIWUzscc/HtRBHdRBnT+7xwD40debP8KMbfCAsJ8/EGBn3Cw0yT9saQe0SoLIP5qZmZmZmZk/RzDR38lqyT9rPoCdcbO4PzK9bGXwn8g/MBTxWHCAez8AAAAAAAAAAIHYVBpy7uM/1bfjoYSwzj+aF46PQOrOP3s3AIxIEc0/5kLSlIqzzz/94L0lPU3QP1CNl24Sg9o/DbPUu/q1xj/P91PjpZvEP6n16WEUb80/mpmZmZmZmT+/1uaBzA+uP/utCOf/wMU/wvUoXI/C1z9YfMVXfMXnP8J/Yo5ML7s/VVE+QaP2vz/5ch7WUPzDP6l39WttHsg/z3VI2UzsyT+uR+F6FK7VP7a4Gm7Xn6k/9xTpKkgcrj/uqEpmIMK9P/cYAD/6esM/GjcLTWo+6D8730+Nl27SPy4gNpWGnLs/qIM6qIM66D8jWe50EQ26P1K4HoXrUeg/kML1KFyPzj9o3Cw0qfnAP4zUWa72e7A/5SQbf760mD8BN8xS7+qnPw18CGkLy64/9mM/9mM/tj8N81JRN5e1PwisHFpkO8c/Vw4tsp3vxz+qNOTcZxewP+plK4P/xJw/6t8IZfS2zD8dVk0nLfG3P6fSkHOfXeg/+UeeaYWowD+A4IJC1qu+P5Et+9RxP6k/v5sDGyvGkD++nxov3SS+PxiGYRiGYeg/b01mJ2zrwj8rzj58hl3BP1j6uU0jFs0/TtztOS6mqD8+BsCPvt6EP0HuNReSpqQ/4MlqeWMEwz8nq+WNEUzEP+h5nud5nuc/Le2AVkkQmT+/1uaBzA+uP3sUrkfheoQ/YVELMX98uz/FnqRoD+LCP7cu4TsaM8Q/cAIncAIn6D+zykTm/XepPyY8npyVzLo/",
          "dtype": "f8"
         },
         "y0": " ",
         "yaxis": "y"
        },
        {
         "alignmentgroup": "True",
         "hovertemplate": "Qnt=%{x}<br>AE=%{y}<extra></extra>",
         "legendgroup": "MS2",
         "marker": {
          "color": "#FECB52"
         },
         "name": "MS2",
         "notched": false,
         "offsetgroup": "MS2",
         "orientation": "v",
         "showlegend": true,
         "type": "box",
         "x": [
          "MS2",
          "MS2",
          "MS2",
          "MS2",
          "MS2",
          "MS2",
          "MS2",
          "MS2",
          "MS2",
          "MS2",
          "MS2",
          "MS2",
          "MS2",
          "MS2",
          "MS2",
          "MS2",
          "MS2",
          "MS2",
          "MS2",
          "MS2",
          "MS2",
          "MS2",
          "MS2",
          "MS2",
          "MS2",
          "MS2",
          "MS2",
          "MS2",
          "MS2",
          "MS2",
          "MS2",
          "MS2",
          "MS2",
          "MS2",
          "MS2",
          "MS2",
          "MS2",
          "MS2",
          "MS2",
          "MS2",
          "MS2",
          "MS2",
          "MS2",
          "MS2",
          "MS2",
          "MS2",
          "MS2",
          "MS2",
          "MS2",
          "MS2",
          "MS2",
          "MS2",
          "MS2",
          "MS2",
          "MS2",
          "MS2",
          "MS2",
          "MS2",
          "MS2",
          "MS2",
          "MS2",
          "MS2",
          "MS2",
          "MS2",
          "MS2",
          "MS2",
          "MS2",
          "MS2",
          "MS2",
          "MS2",
          "MS2",
          "MS2",
          "MS2",
          "MS2",
          "MS2",
          "MS2",
          "MS2",
          "MS2",
          "MS2",
          "MS2",
          "MS2",
          "MS2",
          "MS2",
          "MS2",
          "MS2",
          "MS2",
          "MS2",
          "MS2",
          "MS2",
          "MS2",
          "MS2",
          "MS2",
          "MS2",
          "MS2",
          "MS2",
          "MS2",
          "MS2",
          "MS2",
          "MS2",
          "MS2",
          "MS2",
          "MS2",
          "MS2",
          "MS2",
          "MS2",
          "MS2",
          "MS2",
          "MS2",
          "MS2",
          "MS2",
          "MS2",
          "MS2",
          "MS2",
          "MS2",
          "MS2",
          "MS2",
          "MS2",
          "MS2",
          "MS2",
          "MS2"
         ],
         "x0": " ",
         "xaxis": "x",
         "y": {
          "bdata": "G+i0gU4bwD/6goHQJvLNP1dF+QSN2s8/q+27ObCxwj/0AeyMm4XGP79Y8oslv8g/AAAAAAAA4D8AAAAAAAAAAIBijkwvW3k/mpmZmZmZmT9xeO09RbraP5LpZSuD/8Q/N9BpA5020D+SroLE4bXHPw014MVTZcE/f6Wf2zRiwT+ugsThtffUP9/RmKHHwc0/Om2g0wY6yT9Eh1XTSUu8P89xMcWajbQ/wQmcwAmc0D+Nl24Sg8DKP2QEE/2drMY/rKJ8gkbtvz/Bi6fKYku7P5qZmZmZmck/UsCaBhPGyz9FkDMtFpJ1P+WRKGCm1sc/mpmZmZmZmT8/s1Kw8FzHP+HYWnpy9IM/zZHpZSuDzz9i3aL6djzEP/RE/RuhjK4/txe82QQVuz/Ea+8p0lWwP+yMm4UmNZ8/AAAAAAAAAAD8pdq+mwObPyNRwEytT88/Zooka/KRuj9fshvknW2cPxiGYRiGYZg/gon+TlbLuz9uUX07Hkq4P7tJDAIrh8Y/HtRBHdRBnT+a3Koon6CxP+bI9LKVwa8/LuE7GjP0yD9vy1odEzzIPx7UQR3UQZ0/1GDCeLcsnj+MbOf7qfHCP5qZmZmZmck/v1jyiyW/yD8bseguXzBwP/oAdsbNQsM/SFdB4vDawz+aVogKlJLBP5sPYGfcLLQ/BJUIqAVGsj99PzVeuknaPwAAAAAAAOA/x4oxBJUIyD+yYgxBJQLKP9qczdmczck/7jUXkqZUzD+NXIur4XbNP5huEoPAytc/61XPMjdK3z+X9DShy9jBP9mEPLdiGrU//8INun7JxT+y3OkiGvTJP9v5fmq8dNU/lkOLbOf72T9Yu7/Sz22qP5sPYGfcLLQ/DM7xLfATwD+98ocOq6bDPxjBRH8nq8U/eekmMQis0j+aG6Wj8kjUP1SglAy/GdA/RL4hJjk2xD//TlbLGyPIP0SHVdNJS7w/6mUrg//EvD+cwzmcwzmsP9RBHdRBHcQ/fIp0FSQOzz8C6HWH08fPP0WtOhF6B84/Zql39Wttvj/buoTvaMzAPzq0yHa+n84/YhiGYRiG0T/V8sYIJvq7P0Ih61XPMrc/ZiuD/8QcqT8B9LrD6eOvP8rshG1dwrc/WmQ730+Nxz+sW1TfjoeyP41UXYN9uYI/4nLmheMj0D8ntyrKJ2ikP57EJ1qA47U/XjxVFlvawT+VR6KAmVrPP23fzYGNFcM/u0kMAiuHpj/32QXEptKQP8ZTZbGlHdA/6mUrg//ErD+glAy/GfjAPw0CK4cW2b4/",
          "dtype": "f8"
         },
         "y0": " ",
         "yaxis": "y"
        },
        {
         "alignmentgroup": "True",
         "hovertemplate": "Qnt=%{x}<br>AE=%{y}<extra></extra>",
         "legendgroup": "SMM",
         "marker": {
          "color": "#636efa"
         },
         "name": "SMM",
         "notched": false,
         "offsetgroup": "SMM",
         "orientation": "v",
         "showlegend": true,
         "type": "box",
         "x": [
          "SMM",
          "SMM",
          "SMM",
          "SMM",
          "SMM",
          "SMM",
          "SMM",
          "SMM",
          "SMM",
          "SMM",
          "SMM",
          "SMM",
          "SMM",
          "SMM",
          "SMM",
          "SMM",
          "SMM",
          "SMM",
          "SMM",
          "SMM",
          "SMM",
          "SMM",
          "SMM",
          "SMM",
          "SMM",
          "SMM",
          "SMM",
          "SMM",
          "SMM",
          "SMM",
          "SMM",
          "SMM",
          "SMM",
          "SMM",
          "SMM",
          "SMM",
          "SMM",
          "SMM",
          "SMM",
          "SMM",
          "SMM",
          "SMM",
          "SMM",
          "SMM",
          "SMM",
          "SMM",
          "SMM",
          "SMM",
          "SMM",
          "SMM",
          "SMM",
          "SMM",
          "SMM",
          "SMM",
          "SMM",
          "SMM",
          "SMM",
          "SMM",
          "SMM",
          "SMM",
          "SMM",
          "SMM",
          "SMM",
          "SMM",
          "SMM",
          "SMM",
          "SMM",
          "SMM",
          "SMM",
          "SMM",
          "SMM",
          "SMM",
          "SMM",
          "SMM",
          "SMM",
          "SMM",
          "SMM",
          "SMM",
          "SMM",
          "SMM",
          "SMM",
          "SMM",
          "SMM",
          "SMM",
          "SMM",
          "SMM",
          "SMM",
          "SMM",
          "SMM",
          "SMM",
          "SMM",
          "SMM",
          "SMM",
          "SMM",
          "SMM",
          "SMM",
          "SMM",
          "SMM",
          "SMM",
          "SMM",
          "SMM",
          "SMM",
          "SMM",
          "SMM",
          "SMM",
          "SMM",
          "SMM",
          "SMM",
          "SMM",
          "SMM",
          "SMM",
          "SMM",
          "SMM",
          "SMM",
          "SMM",
          "SMM",
          "SMM",
          "SMM",
          "SMM",
          "SMM"
         ],
         "x0": " ",
         "xaxis": "x",
         "y": {
          "bdata": "Mj94b0lPwz/Xo3A9CtfDP//MSsHCc60/PRIFzNT6tD+2Ng9kfvCuP/9OVssbI9A/+AhsiSQlOz8LDnDDLPXOP99rNc5aJM0/OyZ4ME/Uzz/K5FZF+QTNP8n4yalz3qc/bef7qfHSyT+tHFpkO9/PP5vEILByaJE/CLv0j0N9qD939WttHsi8PzIAfvT1psA/lBTtQVzOzD/w3pKeJnS5P0izZ64ZzqQ/FWs2UnUNxj/rkLKZ2JO0P7a4Gm7Xn7k/ILy3pKcJzT/4U+Olm8TSP/MFA6FN5Ks/v1Tbd3Ngwz98Q0xybKjBP/NMK0QFSsk/AAAAAAAAAABg6ec2jVi0PwxJUyrOPrw/pq0jI3aIwj+laA/icubFP0OPg/utCMc/SN1jAPzoyz/ue1ghr4u0PxZf8RVf8aU/0w5olQSR0T9a/8ni+K2+P/OLJb9Y8ss/kXe2cfLKrz/xl2r7bg7MP99PjZduEtc/mh+8t6SnyT+L6tvxUELIP/fkxuXTtcQ/TH6x5BdLvj8NPQ7utyK8P24WmtR8AMs/okW28/3U2D8CI1nudBHNPzw22yolysk/Ce0ltJfQvj8gPsOuALnHP4EXT5XFlsY/UrgehetR2j/5yalz3le7P+i4mGLNRso/6MDGijEEpT/RpOYD2BnHPyhs6xK+o8E/uOOhhLBuxT8e1EEd1EGdP6o05NxnF4A/mpmZmZmZmT/TUXkkCpjJP3TaQKcNdMo/n8AVGWItsz90m0YsusunPx7UQR3UQZ0/ddYpk1sVxT/UvxHK6G3JP6+9p0hXQbo/e1OowjQjtz/7ciWAXnfIP3tTqMI0I8c/7ngoIaxbwD/GU2WxpR3AP7X3FOkqSIw/wntLeprQxT/PNk5e+UPHP+yMm4UmNcM/1EEd1EEdxD/Yj/3Yj/24P57jYoo1G8k/8ZuBDyFtwT8dF1Os2UjFP0GrJIiMn8w/efoNRsfasj+eaYWoQCmJP2aVicz778I/l/Q0ocvYsT8rUEqG3wzMP/YoXI/C9dQ/mpmZmZmZmT+XtTomeDDPPzN2RMI4Oss/Lix70Zy4uz9AWb+q/hWlP8vgPzFHpsc/p855X+3+yj+erJY3RjDRPyuHFtnO97M/udNFNOjzuz+446GEsG7JP9S/Ecrobbk/wmfRaxJ8tj/wIaQtLHvBP4dZ6l39Wss/WqM1WqM12j83SkflkSjQP3d7josp1sw/dJtGLLrLpz9JVBHi7arLP3npJjEIrLw/xVd8xVd81T+mn9s0YtHNP5BA6h4D4Mc/",
          "dtype": "f8"
         },
         "y0": " ",
         "yaxis": "y"
        },
        {
         "alignmentgroup": "True",
         "hovertemplate": "Qnt=%{x}<br>AE=%{y}<extra></extra>",
         "legendgroup": "MAX",
         "marker": {
          "color": "#EF553B"
         },
         "name": "MAX",
         "notched": false,
         "offsetgroup": "MAX",
         "orientation": "v",
         "showlegend": true,
         "type": "box",
         "x": [
          "MAX",
          "MAX",
          "MAX",
          "MAX",
          "MAX",
          "MAX",
          "MAX",
          "MAX",
          "MAX",
          "MAX",
          "MAX",
          "MAX",
          "MAX",
          "MAX",
          "MAX",
          "MAX",
          "MAX",
          "MAX",
          "MAX",
          "MAX",
          "MAX",
          "MAX",
          "MAX",
          "MAX",
          "MAX",
          "MAX",
          "MAX",
          "MAX",
          "MAX",
          "MAX",
          "MAX",
          "MAX",
          "MAX",
          "MAX",
          "MAX",
          "MAX",
          "MAX",
          "MAX",
          "MAX",
          "MAX",
          "MAX",
          "MAX",
          "MAX",
          "MAX",
          "MAX",
          "MAX",
          "MAX",
          "MAX",
          "MAX",
          "MAX",
          "MAX",
          "MAX",
          "MAX",
          "MAX",
          "MAX",
          "MAX",
          "MAX",
          "MAX",
          "MAX",
          "MAX",
          "MAX",
          "MAX",
          "MAX",
          "MAX",
          "MAX",
          "MAX",
          "MAX",
          "MAX",
          "MAX",
          "MAX",
          "MAX",
          "MAX",
          "MAX",
          "MAX",
          "MAX",
          "MAX",
          "MAX",
          "MAX",
          "MAX",
          "MAX",
          "MAX",
          "MAX",
          "MAX",
          "MAX",
          "MAX",
          "MAX",
          "MAX",
          "MAX",
          "MAX",
          "MAX",
          "MAX",
          "MAX",
          "MAX",
          "MAX",
          "MAX",
          "MAX",
          "MAX",
          "MAX",
          "MAX",
          "MAX",
          "MAX",
          "MAX",
          "MAX",
          "MAX",
          "MAX",
          "MAX",
          "MAX",
          "MAX",
          "MAX",
          "MAX",
          "MAX",
          "MAX",
          "MAX",
          "MAX",
          "MAX",
          "MAX",
          "MAX",
          "MAX",
          "MAX",
          "MAX"
         ],
         "x0": " ",
         "xaxis": "x",
         "y": {
          "bdata": "Nw9kfvDe2j+LdBUkDq/NP8m5zy4gNsk/I1XXYF+uxD/jZqFJzQfQP8eOSBhHZ80/46WbxCCwwj+7jB2RMI7WPwAAAAAAAOA/nTbQaQOdxj+1Rmu0RmvUP+/u7u7u7sY/aU7c7Tku3j+29xTpKkjAP91F/ws6Qss/4vgIpO4x0D+lIec+u4DYPyGsW1Tfjt8/lr1oTtzt0T9nLZLepAm2P868cHwEUsc/eSghrFtUwz8FTuAETuDEP2GeqH8jlNE/OffZBcSmsj/9YskvlvzCP3sUrkfhepQ/AIILClmvyj+Qf+SZVojKP61htN+U53I/qvHSTWIQ0D+5zy4gNpXGP4WwblF9O54/D6umk5b4yz+nQrTh88ecPw9srBhDUMk/U+vTwyjeyj+Mo7NOmdzKPx7UQR3UQZ0/6WlCl7Ejsj/ag7iceeHIP0W6ChKH164/NpmdsK1LyD8e1EEd1EGdPxiGYRiGYXg/mpmZmZmZmT+x7EVz4m7PP2Bn3Cw0qck/4noUrkfhyj+amZmZmZmZP7GpNOTcZ3c/uddcSJpSwT8AAAAAAAAAAAAAAAAAAOA/MgB+9PWm0D8lsojxflXOP1Iy/GbgQ9A/JoBedzh9vD9PVssbI5i4P0Jg5dAi29k/bd/NgY0Vwz+8u7u7u7vLP//EHJletrI/6dnicWJryj8lBoGVQ4vMP8cIJvo7Wc0/kxgEVg4t2D8AAAAAAADgP+RecyFpSsU/jZuFJjUfwD9BYWnrCxTGPwBDEY8FB8g/CW0i3xCTvD8AAAAAAADgP/8PXFDIerU/wUiWO11Ewz/mDpk7ZO7APw3+E3Nkeqk/PNs4eeUP3T8uY0ckjKPDP9jeU6SrIME/lQioBUayvD+00rPF48S2PwrXo3A9Cs8/NwtNaj6AvT+rKJ+gUfvfP3e+nxov3dI/v5PV8sYIxj/O+2r3V/rJP+ZC0pSKs9c/yXa+nxov1T9dh5TNxJ7UPyw81yFlM7E/ITJ+cuqctz8CK4cW2c7HPzOxJynag8g/F9W346GEwD/mifo3Qhm9P+plK4P/xKw/Lmt1TPBgnj/EKN6azE6oPx1aZDvfT70/UIVpRq7FpT9HppetDP6DP+lWO4Lw1Ks/v9r9lX5u0z+UMyhyEQawP7cXvNkEFbs/cTXcrj+zwj8AEl8CxhW6P7JmI1XXYK8/TPR3slremD+sYbTflOeCP2xl8J+YI9M/7ngoIaxbxD8a/CfmyPTCP+9s4+SVP8Q/3aL6djyUsD+Cif5OVsubPwAAAAAAAAAA",
          "dtype": "f8"
         },
         "y0": " ",
         "yaxis": "y"
        },
        {
         "alignmentgroup": "True",
         "hovertemplate": "Qnt=%{x}<br>AE=%{y}<extra></extra>",
         "legendgroup": "T50",
         "marker": {
          "color": "#00cc96"
         },
         "name": "T50",
         "notched": false,
         "offsetgroup": "T50",
         "orientation": "v",
         "showlegend": true,
         "type": "box",
         "x": [
          "T50",
          "T50",
          "T50",
          "T50",
          "T50",
          "T50",
          "T50",
          "T50",
          "T50",
          "T50",
          "T50",
          "T50",
          "T50",
          "T50",
          "T50",
          "T50",
          "T50",
          "T50",
          "T50",
          "T50",
          "T50",
          "T50",
          "T50",
          "T50",
          "T50",
          "T50",
          "T50",
          "T50",
          "T50",
          "T50",
          "T50",
          "T50",
          "T50",
          "T50",
          "T50",
          "T50",
          "T50",
          "T50",
          "T50",
          "T50",
          "T50",
          "T50",
          "T50",
          "T50",
          "T50",
          "T50",
          "T50",
          "T50",
          "T50",
          "T50",
          "T50",
          "T50",
          "T50",
          "T50",
          "T50",
          "T50",
          "T50",
          "T50",
          "T50",
          "T50",
          "T50",
          "T50",
          "T50",
          "T50",
          "T50",
          "T50",
          "T50",
          "T50",
          "T50",
          "T50",
          "T50",
          "T50",
          "T50",
          "T50",
          "T50",
          "T50",
          "T50",
          "T50",
          "T50",
          "T50",
          "T50",
          "T50",
          "T50",
          "T50",
          "T50",
          "T50",
          "T50",
          "T50",
          "T50",
          "T50",
          "T50",
          "T50",
          "T50",
          "T50",
          "T50",
          "T50",
          "T50",
          "T50",
          "T50",
          "T50",
          "T50",
          "T50",
          "T50",
          "T50",
          "T50",
          "T50",
          "T50",
          "T50",
          "T50",
          "T50",
          "T50",
          "T50",
          "T50",
          "T50",
          "T50",
          "T50",
          "T50",
          "T50",
          "T50",
          "T50"
         ],
         "x0": " ",
         "xaxis": "x",
         "y": {
          "bdata": "C5B7zYWkyT9P4Kloo0zPP1reGMFEf+c/suAAN8xSzz+PyiNRwEzNP2U3yDvbOMk/X7Yy+E/M2T/yjzzTClHRP7a8MYKJ/t4/w2vvKdJV6D9P2NYlfEfbP1MrtVIrtbI/6Hme53me5z/zxggm+jvJP1MrtVIrtbI/08tWBv+JyT/V77klTv3OP13KpVzKpcw/8VBCWLeozj82lYac++ziPxiGYRiGYeg/DIQ2kW+I0T/SeOJ8I43XP6Hg1jp6cNQ/ptanh1G81T/VMcGDeaLWPzMzMzMzM7M/Uyu1Uiu1sj8zMzMzMzOzP1NpyLnPLug/5F5zIWlK3T+ogzqogzroP7Z5IPOD99Y/UnUN9uVK2D9M/zjUh8HcP+rjH3mmFdo/NOTcZxcQ2z9Vprr/UGXaP1K4HoXrUeg/FxSyXvUs0z904m7PcTHVP1Rdg325Etg/XQ2368+s3D8zMzMzMzOzPzBbGfwn5tg/MzMzMzMzsz8KHswT9W/cP9jaPJD5wds/kHvNhaQp3T+KXIQB1PvgPzMzMzMzM7M/My8cH4HUzT8s/dymEYveP2haISpQSt4/46WbxCCwsj95KCGsW1TnPwodSPkLN+A/F1Y/0xH73j/3V/q5TSPePwVS9xgAP8o/QWwqDTn3yT9StAdxOfPSP4DkmVaICtw/P/ZjP/Zjzz98Q0xybKjZP1K8NZmdsNU/JU2pOPvwyT8e1EEd1EGdP5qZmZmZmZk/IXF47T1Fyj/7sR/7sR/LP/CKi4GmRNM/G6Wj8kgU0D+amZmZmZmZP3eyWt4Ywdw/NGr/hSIeyz8J6xbVt+PRPyFxeO09Rco/73D6+EeeyT9f7f5KP7fJP+i4mGLNRso/4noUrkfh2D/sCpB7zYXUPx7UQR3UQZ0/Bkay3Okiyj9VGnLuswvcP2IcnXXK5NY/K1BKht8MzD/mo+8NGlLVP1FCWLeovp0/HtRBHdRBnT/T68zKbeziPzSl4uzDZ9A/JQ6vvadI3z+cOud9tfvTPzMzMzMzM7M/t6zVMcGDyT95qiy2tAPKP0V/J6vljdE//OTUOe+r3T/NjdJReSTKP8bJ/hO2w9I/KVyPwvUo1D8e1EEd1EGdP6fOeV/t/so/4ARO4ARO6D/2niJdBYnbP8vgPzFHpuA/HtRBHdRBnT/otIFOG+jeP9X23RzYWNk/Hg8lhHWL4j9H8dZkdsLeP62OCR7ME90/HtRBHdRBnT8e1EEd1EGdP0jhehSuR9E/HF57T5Gu2j+7BvtyJYDOP79Y8oslv+E/",
          "dtype": "f8"
         },
         "y0": " ",
         "yaxis": "y"
        },
        {
         "alignmentgroup": "True",
         "hovertemplate": "Qnt=%{x}<br>AE=%{y}<extra></extra>",
         "legendgroup": "T50Syn-TS",
         "marker": {
          "color": "#ab63fa"
         },
         "name": "T50Syn-TS",
         "notched": false,
         "offsetgroup": "T50Syn-TS",
         "orientation": "v",
         "showlegend": true,
         "type": "box",
         "x": [
          "T50Syn-TS",
          "T50Syn-TS",
          "T50Syn-TS",
          "T50Syn-TS",
          "T50Syn-TS",
          "T50Syn-TS",
          "T50Syn-TS",
          "T50Syn-TS",
          "T50Syn-TS",
          "T50Syn-TS",
          "T50Syn-TS",
          "T50Syn-TS",
          "T50Syn-TS",
          "T50Syn-TS",
          "T50Syn-TS",
          "T50Syn-TS",
          "T50Syn-TS",
          "T50Syn-TS",
          "T50Syn-TS",
          "T50Syn-TS",
          "T50Syn-TS",
          "T50Syn-TS",
          "T50Syn-TS",
          "T50Syn-TS",
          "T50Syn-TS",
          "T50Syn-TS",
          "T50Syn-TS",
          "T50Syn-TS",
          "T50Syn-TS",
          "T50Syn-TS",
          "T50Syn-TS",
          "T50Syn-TS",
          "T50Syn-TS",
          "T50Syn-TS",
          "T50Syn-TS",
          "T50Syn-TS",
          "T50Syn-TS",
          "T50Syn-TS",
          "T50Syn-TS",
          "T50Syn-TS",
          "T50Syn-TS",
          "T50Syn-TS",
          "T50Syn-TS",
          "T50Syn-TS",
          "T50Syn-TS",
          "T50Syn-TS",
          "T50Syn-TS",
          "T50Syn-TS",
          "T50Syn-TS",
          "T50Syn-TS",
          "T50Syn-TS",
          "T50Syn-TS",
          "T50Syn-TS",
          "T50Syn-TS",
          "T50Syn-TS",
          "T50Syn-TS",
          "T50Syn-TS",
          "T50Syn-TS",
          "T50Syn-TS",
          "T50Syn-TS",
          "T50Syn-TS",
          "T50Syn-TS",
          "T50Syn-TS",
          "T50Syn-TS",
          "T50Syn-TS",
          "T50Syn-TS",
          "T50Syn-TS",
          "T50Syn-TS",
          "T50Syn-TS",
          "T50Syn-TS",
          "T50Syn-TS",
          "T50Syn-TS",
          "T50Syn-TS",
          "T50Syn-TS",
          "T50Syn-TS",
          "T50Syn-TS",
          "T50Syn-TS",
          "T50Syn-TS",
          "T50Syn-TS",
          "T50Syn-TS",
          "T50Syn-TS",
          "T50Syn-TS",
          "T50Syn-TS",
          "T50Syn-TS",
          "T50Syn-TS",
          "T50Syn-TS",
          "T50Syn-TS",
          "T50Syn-TS",
          "T50Syn-TS",
          "T50Syn-TS",
          "T50Syn-TS",
          "T50Syn-TS",
          "T50Syn-TS",
          "T50Syn-TS",
          "T50Syn-TS",
          "T50Syn-TS",
          "T50Syn-TS",
          "T50Syn-TS",
          "T50Syn-TS",
          "T50Syn-TS"
         ],
         "x0": " ",
         "xaxis": "x",
         "y": {
          "bdata": "DAIrhxbZzj8KGrX/QhHPP5uRa3E13M4/RTTo83vJzj+0QlSglAzPP3/sx37sx84/mCPTy1YGzz8rCSLjJ6fOP2apd/Vrbc4/0tuyVscEzz9+fi/ZDfLOP52423NcTNE/0tuyVscEzz9fdzh9/CPPP2Br80DmB88/mp2wrUv4zj+2Ng9kfvDOPyezE7Z1Cc8/SVtY9qI50T/v7u7u7u7OP2V62crgP9E/REAtMJLlzj9U57yvdn/VP8ARyuhtWdM/Y4YeB/db0T+AH329KVTRPxBgZ9wsNNE/R6quwb5c0T+B3GsuJE3RP4cW2c73U9M/wQWFrFc90z/4kt0g72zTP8EFhaxXPdM/o3hrMjth0z9PG+i0gU7TP2QA/OjrTdE/McWajVRd0z+X8B2NGXrUP10Nt+vPrNQ/e46LKdZs1D8lz7RCVKDUPyvKJ2jU/tM/Wp8eRvHW1D98PzVeuknUPwewM24WmtQ/nEYsussX1D+X8B2NGXrUP/KPPNMKUdE/39GYocfB1T9bWPaiOXHXP2zn+6nx0tU/vepZ5kbp2D/e3d3d3d3VP8FEfyer5dU/+/AZdgXI1T8Sg8DKoUXWP25VlE/QqNU/lUeigJla1z/lF0t+seTXP166SQwCK9c/kl8s+cWS1z/b9WdWChbWPwJiU2nIudc/QxWmGbkW1z8jUcBMrU/XP+h5nud5ntc/ERERERER2T/prFMmtyraP5qZmZmZmdk/WiEqUEqG1z9vDmysGEPYPzP8ZuBDSNM/tEqCyPjJ2T8p1myk6hrcP/EVX/EVX9k/9ulhFG9N3j9N8GCeqH/bP/VrbR7I/Ng/hqASAbXA2D+ml60M/hPbP4vyCRq1/9o/FDiBEziB2z/Dcx1SNhPbP/WqZ5kbpds/LL7iK77i2z8Ue5KiPYjbP2rAi6fKYtM/aczQ4+B+2z9lbpSOyiPZP24eyPzgvd0/42q4XX9m1T+QOLz2niLdP6umk5b4S90/kSx3uogG3T+S6WUrg//cPzmwsWIMQd0/hDaRb4hJ3j8HsDNuFprcPzBXAuh1h9s/Jy3xl2r7zj8=",
          "dtype": "f8"
         },
         "y0": " ",
         "yaxis": "y"
        }
       ],
       "layout": {
        "boxmode": "overlay",
        "legend": {
         "title": {
          "text": "Qnt"
         },
         "tracegroupgap": 0
        },
        "showlegend": true,
        "template": {
         "data": {
          "bar": [
           {
            "error_x": {
             "color": "#2a3f5f"
            },
            "error_y": {
             "color": "#2a3f5f"
            },
            "marker": {
             "line": {
              "color": "#E5ECF6",
              "width": 0.5
             },
             "pattern": {
              "fillmode": "overlay",
              "size": 10,
              "solidity": 0.2
             }
            },
            "type": "bar"
           }
          ],
          "barpolar": [
           {
            "marker": {
             "line": {
              "color": "#E5ECF6",
              "width": 0.5
             },
             "pattern": {
              "fillmode": "overlay",
              "size": 10,
              "solidity": 0.2
             }
            },
            "type": "barpolar"
           }
          ],
          "carpet": [
           {
            "aaxis": {
             "endlinecolor": "#2a3f5f",
             "gridcolor": "white",
             "linecolor": "white",
             "minorgridcolor": "white",
             "startlinecolor": "#2a3f5f"
            },
            "baxis": {
             "endlinecolor": "#2a3f5f",
             "gridcolor": "white",
             "linecolor": "white",
             "minorgridcolor": "white",
             "startlinecolor": "#2a3f5f"
            },
            "type": "carpet"
           }
          ],
          "choropleth": [
           {
            "colorbar": {
             "outlinewidth": 0,
             "ticks": ""
            },
            "type": "choropleth"
           }
          ],
          "contour": [
           {
            "colorbar": {
             "outlinewidth": 0,
             "ticks": ""
            },
            "colorscale": [
             [
              0,
              "#0d0887"
             ],
             [
              0.1111111111111111,
              "#46039f"
             ],
             [
              0.2222222222222222,
              "#7201a8"
             ],
             [
              0.3333333333333333,
              "#9c179e"
             ],
             [
              0.4444444444444444,
              "#bd3786"
             ],
             [
              0.5555555555555556,
              "#d8576b"
             ],
             [
              0.6666666666666666,
              "#ed7953"
             ],
             [
              0.7777777777777778,
              "#fb9f3a"
             ],
             [
              0.8888888888888888,
              "#fdca26"
             ],
             [
              1,
              "#f0f921"
             ]
            ],
            "type": "contour"
           }
          ],
          "contourcarpet": [
           {
            "colorbar": {
             "outlinewidth": 0,
             "ticks": ""
            },
            "type": "contourcarpet"
           }
          ],
          "heatmap": [
           {
            "colorbar": {
             "outlinewidth": 0,
             "ticks": ""
            },
            "colorscale": [
             [
              0,
              "#0d0887"
             ],
             [
              0.1111111111111111,
              "#46039f"
             ],
             [
              0.2222222222222222,
              "#7201a8"
             ],
             [
              0.3333333333333333,
              "#9c179e"
             ],
             [
              0.4444444444444444,
              "#bd3786"
             ],
             [
              0.5555555555555556,
              "#d8576b"
             ],
             [
              0.6666666666666666,
              "#ed7953"
             ],
             [
              0.7777777777777778,
              "#fb9f3a"
             ],
             [
              0.8888888888888888,
              "#fdca26"
             ],
             [
              1,
              "#f0f921"
             ]
            ],
            "type": "heatmap"
           }
          ],
          "histogram": [
           {
            "marker": {
             "pattern": {
              "fillmode": "overlay",
              "size": 10,
              "solidity": 0.2
             }
            },
            "type": "histogram"
           }
          ],
          "histogram2d": [
           {
            "colorbar": {
             "outlinewidth": 0,
             "ticks": ""
            },
            "colorscale": [
             [
              0,
              "#0d0887"
             ],
             [
              0.1111111111111111,
              "#46039f"
             ],
             [
              0.2222222222222222,
              "#7201a8"
             ],
             [
              0.3333333333333333,
              "#9c179e"
             ],
             [
              0.4444444444444444,
              "#bd3786"
             ],
             [
              0.5555555555555556,
              "#d8576b"
             ],
             [
              0.6666666666666666,
              "#ed7953"
             ],
             [
              0.7777777777777778,
              "#fb9f3a"
             ],
             [
              0.8888888888888888,
              "#fdca26"
             ],
             [
              1,
              "#f0f921"
             ]
            ],
            "type": "histogram2d"
           }
          ],
          "histogram2dcontour": [
           {
            "colorbar": {
             "outlinewidth": 0,
             "ticks": ""
            },
            "colorscale": [
             [
              0,
              "#0d0887"
             ],
             [
              0.1111111111111111,
              "#46039f"
             ],
             [
              0.2222222222222222,
              "#7201a8"
             ],
             [
              0.3333333333333333,
              "#9c179e"
             ],
             [
              0.4444444444444444,
              "#bd3786"
             ],
             [
              0.5555555555555556,
              "#d8576b"
             ],
             [
              0.6666666666666666,
              "#ed7953"
             ],
             [
              0.7777777777777778,
              "#fb9f3a"
             ],
             [
              0.8888888888888888,
              "#fdca26"
             ],
             [
              1,
              "#f0f921"
             ]
            ],
            "type": "histogram2dcontour"
           }
          ],
          "mesh3d": [
           {
            "colorbar": {
             "outlinewidth": 0,
             "ticks": ""
            },
            "type": "mesh3d"
           }
          ],
          "parcoords": [
           {
            "line": {
             "colorbar": {
              "outlinewidth": 0,
              "ticks": ""
             }
            },
            "type": "parcoords"
           }
          ],
          "pie": [
           {
            "automargin": true,
            "type": "pie"
           }
          ],
          "scatter": [
           {
            "fillpattern": {
             "fillmode": "overlay",
             "size": 10,
             "solidity": 0.2
            },
            "type": "scatter"
           }
          ],
          "scatter3d": [
           {
            "line": {
             "colorbar": {
              "outlinewidth": 0,
              "ticks": ""
             }
            },
            "marker": {
             "colorbar": {
              "outlinewidth": 0,
              "ticks": ""
             }
            },
            "type": "scatter3d"
           }
          ],
          "scattercarpet": [
           {
            "marker": {
             "colorbar": {
              "outlinewidth": 0,
              "ticks": ""
             }
            },
            "type": "scattercarpet"
           }
          ],
          "scattergeo": [
           {
            "marker": {
             "colorbar": {
              "outlinewidth": 0,
              "ticks": ""
             }
            },
            "type": "scattergeo"
           }
          ],
          "scattergl": [
           {
            "marker": {
             "colorbar": {
              "outlinewidth": 0,
              "ticks": ""
             }
            },
            "type": "scattergl"
           }
          ],
          "scattermap": [
           {
            "marker": {
             "colorbar": {
              "outlinewidth": 0,
              "ticks": ""
             }
            },
            "type": "scattermap"
           }
          ],
          "scattermapbox": [
           {
            "marker": {
             "colorbar": {
              "outlinewidth": 0,
              "ticks": ""
             }
            },
            "type": "scattermapbox"
           }
          ],
          "scatterpolar": [
           {
            "marker": {
             "colorbar": {
              "outlinewidth": 0,
              "ticks": ""
             }
            },
            "type": "scatterpolar"
           }
          ],
          "scatterpolargl": [
           {
            "marker": {
             "colorbar": {
              "outlinewidth": 0,
              "ticks": ""
             }
            },
            "type": "scatterpolargl"
           }
          ],
          "scatterternary": [
           {
            "marker": {
             "colorbar": {
              "outlinewidth": 0,
              "ticks": ""
             }
            },
            "type": "scatterternary"
           }
          ],
          "surface": [
           {
            "colorbar": {
             "outlinewidth": 0,
             "ticks": ""
            },
            "colorscale": [
             [
              0,
              "#0d0887"
             ],
             [
              0.1111111111111111,
              "#46039f"
             ],
             [
              0.2222222222222222,
              "#7201a8"
             ],
             [
              0.3333333333333333,
              "#9c179e"
             ],
             [
              0.4444444444444444,
              "#bd3786"
             ],
             [
              0.5555555555555556,
              "#d8576b"
             ],
             [
              0.6666666666666666,
              "#ed7953"
             ],
             [
              0.7777777777777778,
              "#fb9f3a"
             ],
             [
              0.8888888888888888,
              "#fdca26"
             ],
             [
              1,
              "#f0f921"
             ]
            ],
            "type": "surface"
           }
          ],
          "table": [
           {
            "cells": {
             "fill": {
              "color": "#EBF0F8"
             },
             "line": {
              "color": "white"
             }
            },
            "header": {
             "fill": {
              "color": "#C8D4E3"
             },
             "line": {
              "color": "white"
             }
            },
            "type": "table"
           }
          ]
         },
         "layout": {
          "annotationdefaults": {
           "arrowcolor": "#2a3f5f",
           "arrowhead": 0,
           "arrowwidth": 1
          },
          "autotypenumbers": "strict",
          "coloraxis": {
           "colorbar": {
            "outlinewidth": 0,
            "ticks": ""
           }
          },
          "colorscale": {
           "diverging": [
            [
             0,
             "#8e0152"
            ],
            [
             0.1,
             "#c51b7d"
            ],
            [
             0.2,
             "#de77ae"
            ],
            [
             0.3,
             "#f1b6da"
            ],
            [
             0.4,
             "#fde0ef"
            ],
            [
             0.5,
             "#f7f7f7"
            ],
            [
             0.6,
             "#e6f5d0"
            ],
            [
             0.7,
             "#b8e186"
            ],
            [
             0.8,
             "#7fbc41"
            ],
            [
             0.9,
             "#4d9221"
            ],
            [
             1,
             "#276419"
            ]
           ],
           "sequential": [
            [
             0,
             "#0d0887"
            ],
            [
             0.1111111111111111,
             "#46039f"
            ],
            [
             0.2222222222222222,
             "#7201a8"
            ],
            [
             0.3333333333333333,
             "#9c179e"
            ],
            [
             0.4444444444444444,
             "#bd3786"
            ],
            [
             0.5555555555555556,
             "#d8576b"
            ],
            [
             0.6666666666666666,
             "#ed7953"
            ],
            [
             0.7777777777777778,
             "#fb9f3a"
            ],
            [
             0.8888888888888888,
             "#fdca26"
            ],
            [
             1,
             "#f0f921"
            ]
           ],
           "sequentialminus": [
            [
             0,
             "#0d0887"
            ],
            [
             0.1111111111111111,
             "#46039f"
            ],
            [
             0.2222222222222222,
             "#7201a8"
            ],
            [
             0.3333333333333333,
             "#9c179e"
            ],
            [
             0.4444444444444444,
             "#bd3786"
            ],
            [
             0.5555555555555556,
             "#d8576b"
            ],
            [
             0.6666666666666666,
             "#ed7953"
            ],
            [
             0.7777777777777778,
             "#fb9f3a"
            ],
            [
             0.8888888888888888,
             "#fdca26"
            ],
            [
             1,
             "#f0f921"
            ]
           ]
          },
          "colorway": [
           "#636efa",
           "#EF553B",
           "#00cc96",
           "#ab63fa",
           "#FFA15A",
           "#19d3f3",
           "#FF6692",
           "#B6E880",
           "#FF97FF",
           "#FECB52"
          ],
          "font": {
           "color": "#2a3f5f"
          },
          "geo": {
           "bgcolor": "white",
           "lakecolor": "white",
           "landcolor": "#E5ECF6",
           "showlakes": true,
           "showland": true,
           "subunitcolor": "white"
          },
          "hoverlabel": {
           "align": "left"
          },
          "hovermode": "closest",
          "mapbox": {
           "style": "light"
          },
          "paper_bgcolor": "white",
          "plot_bgcolor": "#E5ECF6",
          "polar": {
           "angularaxis": {
            "gridcolor": "white",
            "linecolor": "white",
            "ticks": ""
           },
           "bgcolor": "#E5ECF6",
           "radialaxis": {
            "gridcolor": "white",
            "linecolor": "white",
            "ticks": ""
           }
          },
          "scene": {
           "xaxis": {
            "backgroundcolor": "#E5ECF6",
            "gridcolor": "white",
            "gridwidth": 2,
            "linecolor": "white",
            "showbackground": true,
            "ticks": "",
            "zerolinecolor": "white"
           },
           "yaxis": {
            "backgroundcolor": "#E5ECF6",
            "gridcolor": "white",
            "gridwidth": 2,
            "linecolor": "white",
            "showbackground": true,
            "ticks": "",
            "zerolinecolor": "white"
           },
           "zaxis": {
            "backgroundcolor": "#E5ECF6",
            "gridcolor": "white",
            "gridwidth": 2,
            "linecolor": "white",
            "showbackground": true,
            "ticks": "",
            "zerolinecolor": "white"
           }
          },
          "shapedefaults": {
           "line": {
            "color": "#2a3f5f"
           }
          },
          "ternary": {
           "aaxis": {
            "gridcolor": "white",
            "linecolor": "white",
            "ticks": ""
           },
           "baxis": {
            "gridcolor": "white",
            "linecolor": "white",
            "ticks": ""
           },
           "bgcolor": "#E5ECF6",
           "caxis": {
            "gridcolor": "white",
            "linecolor": "white",
            "ticks": ""
           }
          },
          "title": {
           "x": 0.05
          },
          "xaxis": {
           "automargin": true,
           "gridcolor": "white",
           "linecolor": "white",
           "ticks": "",
           "title": {
            "standoff": 15
           },
           "zerolinecolor": "white",
           "zerolinewidth": 2
          },
          "yaxis": {
           "automargin": true,
           "gridcolor": "white",
           "linecolor": "white",
           "ticks": "",
           "title": {
            "standoff": 15
           },
           "zerolinecolor": "white",
           "zerolinewidth": 2
          }
         }
        },
        "title": {
         "text": "Boxplot of AE for each Qnt"
        },
        "xaxis": {
         "anchor": "y",
         "categoryarray": [
          "XSyn-TS",
          "SMMSyn-TS",
          "ACCSyn-TS",
          "MS2Syn-TS",
          "DyS-TS",
          "MAXSyn-TS",
          "CC",
          "ACC",
          "X",
          "MS2",
          "SMM",
          "MAX",
          "T50",
          "T50Syn-TS"
         ],
         "categoryorder": "array",
         "domain": [
          0,
          1
         ],
         "title": {
          "text": "Qnt"
         }
        },
        "yaxis": {
         "anchor": "x",
         "domain": [
          0,
          1
         ],
         "title": {
          "text": "AE"
         }
        }
       }
      }
     },
     "metadata": {},
     "output_type": "display_data"
    }
   ],
   "source": [
    "import plotly.express as px\n",
    "\n",
    "def plot_sorted_boxplot(df):\n",
    "    # Calculate the median AE for each Qnt\n",
    "    median_ae = df.groupby('Qnt')['AE'].median().reset_index()\n",
    "\n",
    "    # Sort the Qnt by the median AE\n",
    "    sorted_qnt = median_ae.sort_values(by='AE')['Qnt']\n",
    "\n",
    "    # Reorder the grouped DataFrame based on the sorted Qnt\n",
    "    df['Qnt'] = pd.Categorical(df['Qnt'], categories=sorted_qnt, ordered=True)\n",
    "    df = df.sort_values('Qnt')\n",
    "\n",
    "    # Plot the sorted boxplot\n",
    "    fig = px.box(df, x='Qnt', y='AE', color='Qnt', title='Boxplot of AE for each Qnt')\n",
    "    fig.update_layout(xaxis_title='Qnt', yaxis_title='AE', showlegend=True)\n",
    "    fig.show()\n",
    "\n",
    "# Example usage\n",
    "plot_sorted_boxplot(grouped)"
   ]
  },
  {
   "cell_type": "code",
   "execution_count": null,
   "metadata": {},
   "outputs": [
    {
     "data": {
      "application/vnd.jupyter.widget-view+json": {
       "model_id": "8f6d6daa94c94782937ac6bfd45ba4fe",
       "version_major": 2,
       "version_minor": 0
      },
      "text/plain": [
       "Dropdown(description='MFtr:', index=9, options=(np.float64(0.15), np.float64(0.85), np.float64(0.95), np.float…"
      ]
     },
     "metadata": {},
     "output_type": "display_data"
    },
    {
     "data": {
      "application/vnd.plotly.v1+json": {
       "config": {
        "plotlyServerURL": "https://plot.ly"
       },
       "data": [
        {
         "alignmentgroup": "True",
         "hovertemplate": "Qnt=%{x}<br>AE=%{y}<extra></extra>",
         "legendgroup": "XSyn-TS",
         "marker": {
          "color": "#636efa"
         },
         "name": "XSyn-TS",
         "notched": false,
         "offsetgroup": "XSyn-TS",
         "orientation": "v",
         "showlegend": true,
         "type": "box",
         "x": [
          "XSyn-TS",
          "XSyn-TS",
          "XSyn-TS",
          "XSyn-TS",
          "XSyn-TS",
          "XSyn-TS",
          "XSyn-TS",
          "XSyn-TS",
          "XSyn-TS",
          "XSyn-TS"
         ],
         "x0": " ",
         "xaxis": "x",
         "y": {
          "bdata": "lcmtivIJmj/6vWQ3yDurP9t3c2BjxYg/AAAAAAAAAADU/gtFPBZsP52wrUv4jsY/MQzDMAzDwD9qgZEsd7rQP6xbVN+Oh7I/dsK2LuE7uj8=",
          "dtype": "f8"
         },
         "y0": " ",
         "yaxis": "y"
        },
        {
         "alignmentgroup": "True",
         "hovertemplate": "Qnt=%{x}<br>AE=%{y}<extra></extra>",
         "legendgroup": "SMMSyn-TS",
         "marker": {
          "color": "#EF553B"
         },
         "name": "SMMSyn-TS",
         "notched": false,
         "offsetgroup": "SMMSyn-TS",
         "orientation": "v",
         "showlegend": true,
         "type": "box",
         "x": [
          "SMMSyn-TS",
          "SMMSyn-TS",
          "SMMSyn-TS",
          "SMMSyn-TS",
          "SMMSyn-TS",
          "SMMSyn-TS",
          "SMMSyn-TS",
          "SMMSyn-TS",
          "SMMSyn-TS",
          "SMMSyn-TS"
         ],
         "x0": " ",
         "xaxis": "x",
         "y": {
          "bdata": "5RdLfrHktz87Ko9EATO1P4FWSRAZP9E/O+NmoUnNxz9MsWYjVdfAPyD/yDOtEFU/hbBuUX07jj+X8B2NGXqsPxbd5QsGQps/o7dlrY4Jfj8=",
          "dtype": "f8"
         },
         "y0": " ",
         "yaxis": "y"
        },
        {
         "alignmentgroup": "True",
         "hovertemplate": "Qnt=%{x}<br>AE=%{y}<extra></extra>",
         "legendgroup": "ACCSyn-TS",
         "marker": {
          "color": "#00cc96"
         },
         "name": "ACCSyn-TS",
         "notched": false,
         "offsetgroup": "ACCSyn-TS",
         "orientation": "v",
         "showlegend": true,
         "type": "box",
         "x": [
          "ACCSyn-TS",
          "ACCSyn-TS",
          "ACCSyn-TS",
          "ACCSyn-TS",
          "ACCSyn-TS",
          "ACCSyn-TS",
          "ACCSyn-TS",
          "ACCSyn-TS",
          "ACCSyn-TS",
          "ACCSyn-TS"
         ],
         "x0": " ",
         "xaxis": "x",
         "y": {
          "bdata": "95b0NKHLuD8ABBcUsl61Pw8pm4k9ScE//heKeCw40D97GMVbk9nJP29NZids63I/gon+TlbLiz/wIaQtLHuxPyd0GTsiYZw/AAAAAAAAAAA=",
          "dtype": "f8"
         },
         "y0": " ",
         "yaxis": "y"
        },
        {
         "alignmentgroup": "True",
         "hovertemplate": "Qnt=%{x}<br>AE=%{y}<extra></extra>",
         "legendgroup": "MS2Syn-TS",
         "marker": {
          "color": "#ab63fa"
         },
         "name": "MS2Syn-TS",
         "notched": false,
         "offsetgroup": "MS2Syn-TS",
         "orientation": "v",
         "showlegend": true,
         "type": "box",
         "x": [
          "MS2Syn-TS",
          "MS2Syn-TS",
          "MS2Syn-TS",
          "MS2Syn-TS",
          "MS2Syn-TS",
          "MS2Syn-TS",
          "MS2Syn-TS",
          "MS2Syn-TS",
          "MS2Syn-TS",
          "MS2Syn-TS"
         ],
         "x0": " ",
         "xaxis": "x",
         "y": {
          "bdata": "nPvsAmJTyT+NVF2DfbnCPxYc4IZZ6r0/ZL3qWeZG0T8j2/l+ary0P2mR7Xw/Na4/RX8nq+WNcT8AAAAAAAAAAMxeNCfu9ow/zQewM24Wmj8=",
          "dtype": "f8"
         },
         "y0": " ",
         "yaxis": "y"
        },
        {
         "alignmentgroup": "True",
         "hovertemplate": "Qnt=%{x}<br>AE=%{y}<extra></extra>",
         "legendgroup": "DyS-TS",
         "marker": {
          "color": "#FFA15A"
         },
         "name": "DyS-TS",
         "notched": false,
         "offsetgroup": "DyS-TS",
         "orientation": "v",
         "showlegend": true,
         "type": "box",
         "x": [
          "DyS-TS",
          "DyS-TS",
          "DyS-TS",
          "DyS-TS",
          "DyS-TS",
          "DyS-TS",
          "DyS-TS",
          "DyS-TS",
          "DyS-TS",
          "DyS-TS"
         ],
         "x0": " ",
         "xaxis": "x",
         "y": {
          "bdata": "bKTqGuzLxT+LMQSVCKjFP+J2/ZmVgsU/8RFI3WMAzD+Mn5w6533FP+lpQpexI7I/JU2pOPvwuT+DgdAm8g3BP2oDnTbQacM/peoa7MuVwD8=",
          "dtype": "f8"
         },
         "y0": " ",
         "yaxis": "y"
        },
        {
         "alignmentgroup": "True",
         "hovertemplate": "Qnt=%{x}<br>AE=%{y}<extra></extra>",
         "legendgroup": "MAXSyn-TS",
         "marker": {
          "color": "#19d3f3"
         },
         "name": "MAXSyn-TS",
         "notched": false,
         "offsetgroup": "MAXSyn-TS",
         "orientation": "v",
         "showlegend": true,
         "type": "box",
         "x": [
          "MAXSyn-TS",
          "MAXSyn-TS",
          "MAXSyn-TS",
          "MAXSyn-TS",
          "MAXSyn-TS",
          "MAXSyn-TS",
          "MAXSyn-TS",
          "MAXSyn-TS",
          "MAXSyn-TS",
          "MAXSyn-TS"
         ],
         "x0": " ",
         "xaxis": "x",
         "y": {
          "bdata": "WuZG6ag8kj/b+X5qvHSjP0Ih61XPMrc/AAAAAAAAAAAg/8gzrRB1P0ckjKOzTtE/SZY7XUSDzj+duNtzXEzBP9AqCSLjJ8c/LTjADbPU0z8=",
          "dtype": "f8"
         },
         "y0": " ",
         "yaxis": "y"
        },
        {
         "alignmentgroup": "True",
         "hovertemplate": "Qnt=%{x}<br>AE=%{y}<extra></extra>",
         "legendgroup": "CC",
         "marker": {
          "color": "#FF6692"
         },
         "name": "CC",
         "notched": false,
         "offsetgroup": "CC",
         "orientation": "v",
         "showlegend": true,
         "type": "box",
         "x": [
          "CC",
          "CC",
          "CC",
          "CC",
          "CC",
          "CC",
          "CC",
          "CC",
          "CC",
          "CC"
         ],
         "x0": " ",
         "xaxis": "x",
         "y": {
          "bdata": "AAAAAAAAAAAPKZuJPUmhP+63Ipz/A3c/eekmMQisvD/Gkl8s+cWyP/zk1Dnvq80/VVlsaQe0yj9gor+T1fLGP/kMuwLkXsM/qf0Xings0D8=",
          "dtype": "f8"
         },
         "y0": " ",
         "yaxis": "y"
        },
        {
         "alignmentgroup": "True",
         "hovertemplate": "Qnt=%{x}<br>AE=%{y}<extra></extra>",
         "legendgroup": "ACC",
         "marker": {
          "color": "#B6E880"
         },
         "name": "ACC",
         "notched": false,
         "offsetgroup": "ACC",
         "orientation": "v",
         "showlegend": true,
         "type": "box",
         "x": [
          "ACC",
          "ACC",
          "ACC",
          "ACC",
          "ACC",
          "ACC",
          "ACC",
          "ACC",
          "ACC",
          "ACC"
         ],
         "x0": " ",
         "xaxis": "x",
         "y": {
          "bdata": "j0wvWxn8xz+GYRiGYRjGP05iEFg5tMg/v1jyiyW/yD+xajppib/EP5yFJjUfwM4/OAMfQtrCwj8yfnLqnPe1P56ofyOU0bs/IiIiIiIiwj8=",
          "dtype": "f8"
         },
         "y0": " ",
         "yaxis": "y"
        },
        {
         "alignmentgroup": "True",
         "hovertemplate": "Qnt=%{x}<br>AE=%{y}<extra></extra>",
         "legendgroup": "X",
         "marker": {
          "color": "#FF97FF"
         },
         "name": "X",
         "notched": false,
         "offsetgroup": "X",
         "orientation": "v",
         "showlegend": true,
         "type": "box",
         "x": [
          "X",
          "X",
          "X",
          "X",
          "X",
          "X",
          "X",
          "X",
          "X",
          "X"
         ],
         "x0": " ",
         "xaxis": "x",
         "y": {
          "bdata": "qfXpYRRvzT9iHJ11yuTGPzzXIWUzscc/bGkHtEqCyD8yvWxl8J/IP+aNEUz0d8I/0pihx8H9tj8jWe50EQ26P+lpQpexI8I/z/dT46WbxD8=",
          "dtype": "f8"
         },
         "y0": " ",
         "yaxis": "y"
        },
        {
         "alignmentgroup": "True",
         "hovertemplate": "Qnt=%{x}<br>AE=%{y}<extra></extra>",
         "legendgroup": "MS2",
         "marker": {
          "color": "#FECB52"
         },
         "name": "MS2",
         "notched": false,
         "offsetgroup": "MS2",
         "orientation": "v",
         "showlegend": true,
         "type": "box",
         "x": [
          "MS2",
          "MS2",
          "MS2",
          "MS2",
          "MS2",
          "MS2",
          "MS2",
          "MS2",
          "MS2",
          "MS2"
         ],
         "x0": " ",
         "xaxis": "x",
         "y": {
          "bdata": "u0kMAiuHxj9vy1odEzzIP79Y8oslv8g/v1jyiyW/yD+S6WUrg//EP3+ln9s0YsE/z3ExxZqNtD/Bi6fKYku7P5pWiAqUksE/+oKB0CbyzT8=",
          "dtype": "f8"
         },
         "y0": " ",
         "yaxis": "y"
        },
        {
         "alignmentgroup": "True",
         "hovertemplate": "Qnt=%{x}<br>AE=%{y}<extra></extra>",
         "legendgroup": "SMM",
         "marker": {
          "color": "#636efa"
         },
         "name": "SMM",
         "notched": false,
         "offsetgroup": "SMM",
         "orientation": "v",
         "showlegend": true,
         "type": "box",
         "x": [
          "SMM",
          "SMM",
          "SMM",
          "SMM",
          "SMM",
          "SMM",
          "SMM",
          "SMM",
          "SMM",
          "SMM"
         ],
         "x0": " ",
         "xaxis": "x",
         "y": {
          "bdata": "eekmMQisvD+500U06PO7PyuHFtnO97M/6LiYYs1Gyj93e46LKdbMP3tTqMI0I8c/+3IlgF53yD/Ce0t6mtDFP/GbgQ8hbcE/01F5JAqYyT8=",
          "dtype": "f8"
         },
         "y0": " ",
         "yaxis": "y"
        },
        {
         "alignmentgroup": "True",
         "hovertemplate": "Qnt=%{x}<br>AE=%{y}<extra></extra>",
         "legendgroup": "MAX",
         "marker": {
          "color": "#EF553B"
         },
         "name": "MAX",
         "notched": false,
         "offsetgroup": "MAX",
         "orientation": "v",
         "showlegend": true,
         "type": "box",
         "x": [
          "MAX",
          "MAX",
          "MAX",
          "MAX",
          "MAX",
          "MAX",
          "MAX",
          "MAX",
          "MAX",
          "MAX"
         ],
         "x0": " ",
         "xaxis": "x",
         "y": {
          "bdata": "D6umk5b4yz9T69PDKN7KP4yjs06Z3Mo/4noUrkfhyj/HjkgYR2fNPzcPZH7w3to/aU7c7Tku3j8hrFtU347fP2GeqH8jlNE/u4wdkTCO1j8=",
          "dtype": "f8"
         },
         "y0": " ",
         "yaxis": "y"
        },
        {
         "alignmentgroup": "True",
         "hovertemplate": "Qnt=%{x}<br>AE=%{y}<extra></extra>",
         "legendgroup": "T50",
         "marker": {
          "color": "#00cc96"
         },
         "name": "T50",
         "notched": false,
         "offsetgroup": "T50",
         "orientation": "v",
         "showlegend": true,
         "type": "box",
         "x": [
          "T50",
          "T50",
          "T50",
          "T50",
          "T50",
          "T50",
          "T50",
          "T50",
          "T50",
          "T50"
         ],
         "x0": " ",
         "xaxis": "x",
         "y": {
          "bdata": "d7Ja3hjB3D9I4XoUrkfRPxxee0+Rrto/p855X+3+yj9SvDWZnbDVPyFxeO09Rco/IXF47T1Fyj9f7f5KP7fJPwZGstzpIso/QWwqDTn3yT8=",
          "dtype": "f8"
         },
         "y0": " ",
         "yaxis": "y"
        },
        {
         "alignmentgroup": "True",
         "hovertemplate": "Qnt=%{x}<br>AE=%{y}<extra></extra>",
         "legendgroup": "T50Syn-TS",
         "marker": {
          "color": "#ab63fa"
         },
         "name": "T50Syn-TS",
         "notched": false,
         "offsetgroup": "T50Syn-TS",
         "orientation": "v",
         "showlegend": true,
         "type": "box",
         "x": [
          "T50Syn-TS",
          "T50Syn-TS",
          "T50Syn-TS",
          "T50Syn-TS",
          "T50Syn-TS",
          "T50Syn-TS",
          "T50Syn-TS",
          "T50Syn-TS",
          "T50Syn-TS",
          "T50Syn-TS"
         ],
         "x0": " ",
         "xaxis": "x",
         "y": {
          "bdata": "EGBn3Cw00T9DFaYZuRbXPxKDwMqhRdY/8RVf8RVf2T+ENpFviEneP2nM0OPgfts/mCPTy1YGzz8HsDNuFprUPzHFmo1UXdM/Jy3xl2r7zj8=",
          "dtype": "f8"
         },
         "y0": " ",
         "yaxis": "y"
        }
       ],
       "layout": {
        "boxmode": "overlay",
        "legend": {
         "title": {
          "text": "Qnt"
         },
         "tracegroupgap": 0
        },
        "showlegend": true,
        "template": {
         "data": {
          "bar": [
           {
            "error_x": {
             "color": "#2a3f5f"
            },
            "error_y": {
             "color": "#2a3f5f"
            },
            "marker": {
             "line": {
              "color": "#E5ECF6",
              "width": 0.5
             },
             "pattern": {
              "fillmode": "overlay",
              "size": 10,
              "solidity": 0.2
             }
            },
            "type": "bar"
           }
          ],
          "barpolar": [
           {
            "marker": {
             "line": {
              "color": "#E5ECF6",
              "width": 0.5
             },
             "pattern": {
              "fillmode": "overlay",
              "size": 10,
              "solidity": 0.2
             }
            },
            "type": "barpolar"
           }
          ],
          "carpet": [
           {
            "aaxis": {
             "endlinecolor": "#2a3f5f",
             "gridcolor": "white",
             "linecolor": "white",
             "minorgridcolor": "white",
             "startlinecolor": "#2a3f5f"
            },
            "baxis": {
             "endlinecolor": "#2a3f5f",
             "gridcolor": "white",
             "linecolor": "white",
             "minorgridcolor": "white",
             "startlinecolor": "#2a3f5f"
            },
            "type": "carpet"
           }
          ],
          "choropleth": [
           {
            "colorbar": {
             "outlinewidth": 0,
             "ticks": ""
            },
            "type": "choropleth"
           }
          ],
          "contour": [
           {
            "colorbar": {
             "outlinewidth": 0,
             "ticks": ""
            },
            "colorscale": [
             [
              0,
              "#0d0887"
             ],
             [
              0.1111111111111111,
              "#46039f"
             ],
             [
              0.2222222222222222,
              "#7201a8"
             ],
             [
              0.3333333333333333,
              "#9c179e"
             ],
             [
              0.4444444444444444,
              "#bd3786"
             ],
             [
              0.5555555555555556,
              "#d8576b"
             ],
             [
              0.6666666666666666,
              "#ed7953"
             ],
             [
              0.7777777777777778,
              "#fb9f3a"
             ],
             [
              0.8888888888888888,
              "#fdca26"
             ],
             [
              1,
              "#f0f921"
             ]
            ],
            "type": "contour"
           }
          ],
          "contourcarpet": [
           {
            "colorbar": {
             "outlinewidth": 0,
             "ticks": ""
            },
            "type": "contourcarpet"
           }
          ],
          "heatmap": [
           {
            "colorbar": {
             "outlinewidth": 0,
             "ticks": ""
            },
            "colorscale": [
             [
              0,
              "#0d0887"
             ],
             [
              0.1111111111111111,
              "#46039f"
             ],
             [
              0.2222222222222222,
              "#7201a8"
             ],
             [
              0.3333333333333333,
              "#9c179e"
             ],
             [
              0.4444444444444444,
              "#bd3786"
             ],
             [
              0.5555555555555556,
              "#d8576b"
             ],
             [
              0.6666666666666666,
              "#ed7953"
             ],
             [
              0.7777777777777778,
              "#fb9f3a"
             ],
             [
              0.8888888888888888,
              "#fdca26"
             ],
             [
              1,
              "#f0f921"
             ]
            ],
            "type": "heatmap"
           }
          ],
          "histogram": [
           {
            "marker": {
             "pattern": {
              "fillmode": "overlay",
              "size": 10,
              "solidity": 0.2
             }
            },
            "type": "histogram"
           }
          ],
          "histogram2d": [
           {
            "colorbar": {
             "outlinewidth": 0,
             "ticks": ""
            },
            "colorscale": [
             [
              0,
              "#0d0887"
             ],
             [
              0.1111111111111111,
              "#46039f"
             ],
             [
              0.2222222222222222,
              "#7201a8"
             ],
             [
              0.3333333333333333,
              "#9c179e"
             ],
             [
              0.4444444444444444,
              "#bd3786"
             ],
             [
              0.5555555555555556,
              "#d8576b"
             ],
             [
              0.6666666666666666,
              "#ed7953"
             ],
             [
              0.7777777777777778,
              "#fb9f3a"
             ],
             [
              0.8888888888888888,
              "#fdca26"
             ],
             [
              1,
              "#f0f921"
             ]
            ],
            "type": "histogram2d"
           }
          ],
          "histogram2dcontour": [
           {
            "colorbar": {
             "outlinewidth": 0,
             "ticks": ""
            },
            "colorscale": [
             [
              0,
              "#0d0887"
             ],
             [
              0.1111111111111111,
              "#46039f"
             ],
             [
              0.2222222222222222,
              "#7201a8"
             ],
             [
              0.3333333333333333,
              "#9c179e"
             ],
             [
              0.4444444444444444,
              "#bd3786"
             ],
             [
              0.5555555555555556,
              "#d8576b"
             ],
             [
              0.6666666666666666,
              "#ed7953"
             ],
             [
              0.7777777777777778,
              "#fb9f3a"
             ],
             [
              0.8888888888888888,
              "#fdca26"
             ],
             [
              1,
              "#f0f921"
             ]
            ],
            "type": "histogram2dcontour"
           }
          ],
          "mesh3d": [
           {
            "colorbar": {
             "outlinewidth": 0,
             "ticks": ""
            },
            "type": "mesh3d"
           }
          ],
          "parcoords": [
           {
            "line": {
             "colorbar": {
              "outlinewidth": 0,
              "ticks": ""
             }
            },
            "type": "parcoords"
           }
          ],
          "pie": [
           {
            "automargin": true,
            "type": "pie"
           }
          ],
          "scatter": [
           {
            "fillpattern": {
             "fillmode": "overlay",
             "size": 10,
             "solidity": 0.2
            },
            "type": "scatter"
           }
          ],
          "scatter3d": [
           {
            "line": {
             "colorbar": {
              "outlinewidth": 0,
              "ticks": ""
             }
            },
            "marker": {
             "colorbar": {
              "outlinewidth": 0,
              "ticks": ""
             }
            },
            "type": "scatter3d"
           }
          ],
          "scattercarpet": [
           {
            "marker": {
             "colorbar": {
              "outlinewidth": 0,
              "ticks": ""
             }
            },
            "type": "scattercarpet"
           }
          ],
          "scattergeo": [
           {
            "marker": {
             "colorbar": {
              "outlinewidth": 0,
              "ticks": ""
             }
            },
            "type": "scattergeo"
           }
          ],
          "scattergl": [
           {
            "marker": {
             "colorbar": {
              "outlinewidth": 0,
              "ticks": ""
             }
            },
            "type": "scattergl"
           }
          ],
          "scattermap": [
           {
            "marker": {
             "colorbar": {
              "outlinewidth": 0,
              "ticks": ""
             }
            },
            "type": "scattermap"
           }
          ],
          "scattermapbox": [
           {
            "marker": {
             "colorbar": {
              "outlinewidth": 0,
              "ticks": ""
             }
            },
            "type": "scattermapbox"
           }
          ],
          "scatterpolar": [
           {
            "marker": {
             "colorbar": {
              "outlinewidth": 0,
              "ticks": ""
             }
            },
            "type": "scatterpolar"
           }
          ],
          "scatterpolargl": [
           {
            "marker": {
             "colorbar": {
              "outlinewidth": 0,
              "ticks": ""
             }
            },
            "type": "scatterpolargl"
           }
          ],
          "scatterternary": [
           {
            "marker": {
             "colorbar": {
              "outlinewidth": 0,
              "ticks": ""
             }
            },
            "type": "scatterternary"
           }
          ],
          "surface": [
           {
            "colorbar": {
             "outlinewidth": 0,
             "ticks": ""
            },
            "colorscale": [
             [
              0,
              "#0d0887"
             ],
             [
              0.1111111111111111,
              "#46039f"
             ],
             [
              0.2222222222222222,
              "#7201a8"
             ],
             [
              0.3333333333333333,
              "#9c179e"
             ],
             [
              0.4444444444444444,
              "#bd3786"
             ],
             [
              0.5555555555555556,
              "#d8576b"
             ],
             [
              0.6666666666666666,
              "#ed7953"
             ],
             [
              0.7777777777777778,
              "#fb9f3a"
             ],
             [
              0.8888888888888888,
              "#fdca26"
             ],
             [
              1,
              "#f0f921"
             ]
            ],
            "type": "surface"
           }
          ],
          "table": [
           {
            "cells": {
             "fill": {
              "color": "#EBF0F8"
             },
             "line": {
              "color": "white"
             }
            },
            "header": {
             "fill": {
              "color": "#C8D4E3"
             },
             "line": {
              "color": "white"
             }
            },
            "type": "table"
           }
          ]
         },
         "layout": {
          "annotationdefaults": {
           "arrowcolor": "#2a3f5f",
           "arrowhead": 0,
           "arrowwidth": 1
          },
          "autotypenumbers": "strict",
          "coloraxis": {
           "colorbar": {
            "outlinewidth": 0,
            "ticks": ""
           }
          },
          "colorscale": {
           "diverging": [
            [
             0,
             "#8e0152"
            ],
            [
             0.1,
             "#c51b7d"
            ],
            [
             0.2,
             "#de77ae"
            ],
            [
             0.3,
             "#f1b6da"
            ],
            [
             0.4,
             "#fde0ef"
            ],
            [
             0.5,
             "#f7f7f7"
            ],
            [
             0.6,
             "#e6f5d0"
            ],
            [
             0.7,
             "#b8e186"
            ],
            [
             0.8,
             "#7fbc41"
            ],
            [
             0.9,
             "#4d9221"
            ],
            [
             1,
             "#276419"
            ]
           ],
           "sequential": [
            [
             0,
             "#0d0887"
            ],
            [
             0.1111111111111111,
             "#46039f"
            ],
            [
             0.2222222222222222,
             "#7201a8"
            ],
            [
             0.3333333333333333,
             "#9c179e"
            ],
            [
             0.4444444444444444,
             "#bd3786"
            ],
            [
             0.5555555555555556,
             "#d8576b"
            ],
            [
             0.6666666666666666,
             "#ed7953"
            ],
            [
             0.7777777777777778,
             "#fb9f3a"
            ],
            [
             0.8888888888888888,
             "#fdca26"
            ],
            [
             1,
             "#f0f921"
            ]
           ],
           "sequentialminus": [
            [
             0,
             "#0d0887"
            ],
            [
             0.1111111111111111,
             "#46039f"
            ],
            [
             0.2222222222222222,
             "#7201a8"
            ],
            [
             0.3333333333333333,
             "#9c179e"
            ],
            [
             0.4444444444444444,
             "#bd3786"
            ],
            [
             0.5555555555555556,
             "#d8576b"
            ],
            [
             0.6666666666666666,
             "#ed7953"
            ],
            [
             0.7777777777777778,
             "#fb9f3a"
            ],
            [
             0.8888888888888888,
             "#fdca26"
            ],
            [
             1,
             "#f0f921"
            ]
           ]
          },
          "colorway": [
           "#636efa",
           "#EF553B",
           "#00cc96",
           "#ab63fa",
           "#FFA15A",
           "#19d3f3",
           "#FF6692",
           "#B6E880",
           "#FF97FF",
           "#FECB52"
          ],
          "font": {
           "color": "#2a3f5f"
          },
          "geo": {
           "bgcolor": "white",
           "lakecolor": "white",
           "landcolor": "#E5ECF6",
           "showlakes": true,
           "showland": true,
           "subunitcolor": "white"
          },
          "hoverlabel": {
           "align": "left"
          },
          "hovermode": "closest",
          "mapbox": {
           "style": "light"
          },
          "paper_bgcolor": "white",
          "plot_bgcolor": "#E5ECF6",
          "polar": {
           "angularaxis": {
            "gridcolor": "white",
            "linecolor": "white",
            "ticks": ""
           },
           "bgcolor": "#E5ECF6",
           "radialaxis": {
            "gridcolor": "white",
            "linecolor": "white",
            "ticks": ""
           }
          },
          "scene": {
           "xaxis": {
            "backgroundcolor": "#E5ECF6",
            "gridcolor": "white",
            "gridwidth": 2,
            "linecolor": "white",
            "showbackground": true,
            "ticks": "",
            "zerolinecolor": "white"
           },
           "yaxis": {
            "backgroundcolor": "#E5ECF6",
            "gridcolor": "white",
            "gridwidth": 2,
            "linecolor": "white",
            "showbackground": true,
            "ticks": "",
            "zerolinecolor": "white"
           },
           "zaxis": {
            "backgroundcolor": "#E5ECF6",
            "gridcolor": "white",
            "gridwidth": 2,
            "linecolor": "white",
            "showbackground": true,
            "ticks": "",
            "zerolinecolor": "white"
           }
          },
          "shapedefaults": {
           "line": {
            "color": "#2a3f5f"
           }
          },
          "ternary": {
           "aaxis": {
            "gridcolor": "white",
            "linecolor": "white",
            "ticks": ""
           },
           "baxis": {
            "gridcolor": "white",
            "linecolor": "white",
            "ticks": ""
           },
           "bgcolor": "#E5ECF6",
           "caxis": {
            "gridcolor": "white",
            "linecolor": "white",
            "ticks": ""
           }
          },
          "title": {
           "x": 0.05
          },
          "xaxis": {
           "automargin": true,
           "gridcolor": "white",
           "linecolor": "white",
           "ticks": "",
           "title": {
            "standoff": 15
           },
           "zerolinecolor": "white",
           "zerolinewidth": 2
          },
          "yaxis": {
           "automargin": true,
           "gridcolor": "white",
           "linecolor": "white",
           "ticks": "",
           "title": {
            "standoff": 15
           },
           "zerolinecolor": "white",
           "zerolinewidth": 2
          }
         }
        },
        "title": {
         "text": "Boxplot of AE for each Qnt (MFtr = 0.75)"
        },
        "xaxis": {
         "anchor": "y",
         "categoryarray": [
          "XSyn-TS",
          "SMMSyn-TS",
          "ACCSyn-TS",
          "MS2Syn-TS",
          "DyS-TS",
          "MAXSyn-TS",
          "CC",
          "ACC",
          "X",
          "MS2",
          "SMM",
          "MAX",
          "T50",
          "T50Syn-TS"
         ],
         "categoryorder": "array",
         "domain": [
          0,
          1
         ],
         "title": {
          "text": "Qnt"
         }
        },
        "yaxis": {
         "anchor": "x",
         "domain": [
          0,
          1
         ],
         "title": {
          "text": "AE"
         }
        }
       }
      }
     },
     "metadata": {},
     "output_type": "display_data"
    }
   ],
   "source": [
    "import ipywidgets as widgets\n",
    "from IPython.display import display, clear_output\n",
    "\n",
    "import plotly.express as px\n",
    "\n",
    "def plot_sorted_boxplot_with_dropdown(df):\n",
    "    # Create a dropdown widget for MFtr\n",
    "    mftr_dropdown = widgets.Dropdown(\n",
    "        options=df['MFtr'].unique(),\n",
    "        description='MFtr:'\n",
    "    )\n",
    "\n",
    "    # Function to update the plot based on the selected MFtr\n",
    "    def update_plot(change):\n",
    "        selected_mftr = mftr_dropdown.value\n",
    "        filtered_df = df[df['MFtr'] == selected_mftr]\n",
    "\n",
    "        # Calculate the median AE for each Qnt\n",
    "        median_ae = filtered_df.groupby('Qnt')['AE'].median().reset_index()\n",
    "\n",
    "        # Sort the Qnt by the median AE\n",
    "        sorted_qnt = median_ae.sort_values(by='AE')['Qnt']\n",
    "\n",
    "        # Reorder the grouped DataFrame based on the sorted Qnt\n",
    "        filtered_df['Qnt'] = pd.Categorical(filtered_df['Qnt'], categories=sorted_qnt, ordered=True)\n",
    "        filtered_df = filtered_df.sort_values('Qnt')\n",
    "\n",
    "        # Plot the sorted boxplot\n",
    "        fig = px.box(filtered_df, x='Qnt', y='AE', color='Qnt', title=f'Boxplot of AE for each Qnt (MFtr = {selected_mftr})')\n",
    "        fig.update_layout(xaxis_title='Qnt', yaxis_title='AE', showlegend=True)\n",
    "        \n",
    "        clear_output(wait=True)\n",
    "        display(mftr_dropdown)\n",
    "        display(fig)\n",
    "\n",
    "    # Attach the update_plot function to the dropdown widget\n",
    "    mftr_dropdown.observe(update_plot, names='value')\n",
    "\n",
    "    # Display the dropdown and the initial plot\n",
    "    display(mftr_dropdown)\n",
    "    update_plot(None)\n",
    "\n",
    "# Example usage\n",
    "plot_sorted_boxplot_with_dropdown(grouped)"
   ]
  },
  {
   "cell_type": "code",
   "execution_count": null,
   "metadata": {},
   "outputs": [
    {
     "data": {
      "application/vnd.jupyter.widget-view+json": {
       "model_id": "f630d96178d74e62b5594ca5929f6ef2",
       "version_major": 2,
       "version_minor": 0
      },
      "text/plain": [
       "Dropdown(description='MFtr:', index=7, options=(np.float64(0.55), np.float64(0.65), np.float64(0.15), np.float…"
      ]
     },
     "metadata": {},
     "output_type": "display_data"
    },
    {
     "data": {
      "application/vnd.plotly.v1+json": {
       "config": {
        "plotlyServerURL": "https://plot.ly"
       },
       "data": [
        {
         "alignmentgroup": "True",
         "hovertemplate": "MFte=%{x}<br>Difference=%{y}<extra></extra>",
         "legendgroup": "",
         "marker": {
          "color": "#636efa"
         },
         "name": "",
         "notched": false,
         "offsetgroup": "",
         "orientation": "v",
         "showlegend": false,
         "type": "box",
         "x": {
          "bdata": "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",
          "dtype": "f8"
         },
         "x0": " ",
         "xaxis": "x",
         "y": {
          "bdata": "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",
          "dtype": "f8"
         },
         "y0": " ",
         "yaxis": "y"
        }
       ],
       "layout": {
        "boxmode": "group",
        "legend": {
         "tracegroupgap": 0
        },
        "showlegend": false,
        "template": {
         "data": {
          "bar": [
           {
            "error_x": {
             "color": "#2a3f5f"
            },
            "error_y": {
             "color": "#2a3f5f"
            },
            "marker": {
             "line": {
              "color": "#E5ECF6",
              "width": 0.5
             },
             "pattern": {
              "fillmode": "overlay",
              "size": 10,
              "solidity": 0.2
             }
            },
            "type": "bar"
           }
          ],
          "barpolar": [
           {
            "marker": {
             "line": {
              "color": "#E5ECF6",
              "width": 0.5
             },
             "pattern": {
              "fillmode": "overlay",
              "size": 10,
              "solidity": 0.2
             }
            },
            "type": "barpolar"
           }
          ],
          "carpet": [
           {
            "aaxis": {
             "endlinecolor": "#2a3f5f",
             "gridcolor": "white",
             "linecolor": "white",
             "minorgridcolor": "white",
             "startlinecolor": "#2a3f5f"
            },
            "baxis": {
             "endlinecolor": "#2a3f5f",
             "gridcolor": "white",
             "linecolor": "white",
             "minorgridcolor": "white",
             "startlinecolor": "#2a3f5f"
            },
            "type": "carpet"
           }
          ],
          "choropleth": [
           {
            "colorbar": {
             "outlinewidth": 0,
             "ticks": ""
            },
            "type": "choropleth"
           }
          ],
          "contour": [
           {
            "colorbar": {
             "outlinewidth": 0,
             "ticks": ""
            },
            "colorscale": [
             [
              0,
              "#0d0887"
             ],
             [
              0.1111111111111111,
              "#46039f"
             ],
             [
              0.2222222222222222,
              "#7201a8"
             ],
             [
              0.3333333333333333,
              "#9c179e"
             ],
             [
              0.4444444444444444,
              "#bd3786"
             ],
             [
              0.5555555555555556,
              "#d8576b"
             ],
             [
              0.6666666666666666,
              "#ed7953"
             ],
             [
              0.7777777777777778,
              "#fb9f3a"
             ],
             [
              0.8888888888888888,
              "#fdca26"
             ],
             [
              1,
              "#f0f921"
             ]
            ],
            "type": "contour"
           }
          ],
          "contourcarpet": [
           {
            "colorbar": {
             "outlinewidth": 0,
             "ticks": ""
            },
            "type": "contourcarpet"
           }
          ],
          "heatmap": [
           {
            "colorbar": {
             "outlinewidth": 0,
             "ticks": ""
            },
            "colorscale": [
             [
              0,
              "#0d0887"
             ],
             [
              0.1111111111111111,
              "#46039f"
             ],
             [
              0.2222222222222222,
              "#7201a8"
             ],
             [
              0.3333333333333333,
              "#9c179e"
             ],
             [
              0.4444444444444444,
              "#bd3786"
             ],
             [
              0.5555555555555556,
              "#d8576b"
             ],
             [
              0.6666666666666666,
              "#ed7953"
             ],
             [
              0.7777777777777778,
              "#fb9f3a"
             ],
             [
              0.8888888888888888,
              "#fdca26"
             ],
             [
              1,
              "#f0f921"
             ]
            ],
            "type": "heatmap"
           }
          ],
          "histogram": [
           {
            "marker": {
             "pattern": {
              "fillmode": "overlay",
              "size": 10,
              "solidity": 0.2
             }
            },
            "type": "histogram"
           }
          ],
          "histogram2d": [
           {
            "colorbar": {
             "outlinewidth": 0,
             "ticks": ""
            },
            "colorscale": [
             [
              0,
              "#0d0887"
             ],
             [
              0.1111111111111111,
              "#46039f"
             ],
             [
              0.2222222222222222,
              "#7201a8"
             ],
             [
              0.3333333333333333,
              "#9c179e"
             ],
             [
              0.4444444444444444,
              "#bd3786"
             ],
             [
              0.5555555555555556,
              "#d8576b"
             ],
             [
              0.6666666666666666,
              "#ed7953"
             ],
             [
              0.7777777777777778,
              "#fb9f3a"
             ],
             [
              0.8888888888888888,
              "#fdca26"
             ],
             [
              1,
              "#f0f921"
             ]
            ],
            "type": "histogram2d"
           }
          ],
          "histogram2dcontour": [
           {
            "colorbar": {
             "outlinewidth": 0,
             "ticks": ""
            },
            "colorscale": [
             [
              0,
              "#0d0887"
             ],
             [
              0.1111111111111111,
              "#46039f"
             ],
             [
              0.2222222222222222,
              "#7201a8"
             ],
             [
              0.3333333333333333,
              "#9c179e"
             ],
             [
              0.4444444444444444,
              "#bd3786"
             ],
             [
              0.5555555555555556,
              "#d8576b"
             ],
             [
              0.6666666666666666,
              "#ed7953"
             ],
             [
              0.7777777777777778,
              "#fb9f3a"
             ],
             [
              0.8888888888888888,
              "#fdca26"
             ],
             [
              1,
              "#f0f921"
             ]
            ],
            "type": "histogram2dcontour"
           }
          ],
          "mesh3d": [
           {
            "colorbar": {
             "outlinewidth": 0,
             "ticks": ""
            },
            "type": "mesh3d"
           }
          ],
          "parcoords": [
           {
            "line": {
             "colorbar": {
              "outlinewidth": 0,
              "ticks": ""
             }
            },
            "type": "parcoords"
           }
          ],
          "pie": [
           {
            "automargin": true,
            "type": "pie"
           }
          ],
          "scatter": [
           {
            "fillpattern": {
             "fillmode": "overlay",
             "size": 10,
             "solidity": 0.2
            },
            "type": "scatter"
           }
          ],
          "scatter3d": [
           {
            "line": {
             "colorbar": {
              "outlinewidth": 0,
              "ticks": ""
             }
            },
            "marker": {
             "colorbar": {
              "outlinewidth": 0,
              "ticks": ""
             }
            },
            "type": "scatter3d"
           }
          ],
          "scattercarpet": [
           {
            "marker": {
             "colorbar": {
              "outlinewidth": 0,
              "ticks": ""
             }
            },
            "type": "scattercarpet"
           }
          ],
          "scattergeo": [
           {
            "marker": {
             "colorbar": {
              "outlinewidth": 0,
              "ticks": ""
             }
            },
            "type": "scattergeo"
           }
          ],
          "scattergl": [
           {
            "marker": {
             "colorbar": {
              "outlinewidth": 0,
              "ticks": ""
             }
            },
            "type": "scattergl"
           }
          ],
          "scattermap": [
           {
            "marker": {
             "colorbar": {
              "outlinewidth": 0,
              "ticks": ""
             }
            },
            "type": "scattermap"
           }
          ],
          "scattermapbox": [
           {
            "marker": {
             "colorbar": {
              "outlinewidth": 0,
              "ticks": ""
             }
            },
            "type": "scattermapbox"
           }
          ],
          "scatterpolar": [
           {
            "marker": {
             "colorbar": {
              "outlinewidth": 0,
              "ticks": ""
             }
            },
            "type": "scatterpolar"
           }
          ],
          "scatterpolargl": [
           {
            "marker": {
             "colorbar": {
              "outlinewidth": 0,
              "ticks": ""
             }
            },
            "type": "scatterpolargl"
           }
          ],
          "scatterternary": [
           {
            "marker": {
             "colorbar": {
              "outlinewidth": 0,
              "ticks": ""
             }
            },
            "type": "scatterternary"
           }
          ],
          "surface": [
           {
            "colorbar": {
             "outlinewidth": 0,
             "ticks": ""
            },
            "colorscale": [
             [
              0,
              "#0d0887"
             ],
             [
              0.1111111111111111,
              "#46039f"
             ],
             [
              0.2222222222222222,
              "#7201a8"
             ],
             [
              0.3333333333333333,
              "#9c179e"
             ],
             [
              0.4444444444444444,
              "#bd3786"
             ],
             [
              0.5555555555555556,
              "#d8576b"
             ],
             [
              0.6666666666666666,
              "#ed7953"
             ],
             [
              0.7777777777777778,
              "#fb9f3a"
             ],
             [
              0.8888888888888888,
              "#fdca26"
             ],
             [
              1,
              "#f0f921"
             ]
            ],
            "type": "surface"
           }
          ],
          "table": [
           {
            "cells": {
             "fill": {
              "color": "#EBF0F8"
             },
             "line": {
              "color": "white"
             }
            },
            "header": {
             "fill": {
              "color": "#C8D4E3"
             },
             "line": {
              "color": "white"
             }
            },
            "type": "table"
           }
          ]
         },
         "layout": {
          "annotationdefaults": {
           "arrowcolor": "#2a3f5f",
           "arrowhead": 0,
           "arrowwidth": 1
          },
          "autotypenumbers": "strict",
          "coloraxis": {
           "colorbar": {
            "outlinewidth": 0,
            "ticks": ""
           }
          },
          "colorscale": {
           "diverging": [
            [
             0,
             "#8e0152"
            ],
            [
             0.1,
             "#c51b7d"
            ],
            [
             0.2,
             "#de77ae"
            ],
            [
             0.3,
             "#f1b6da"
            ],
            [
             0.4,
             "#fde0ef"
            ],
            [
             0.5,
             "#f7f7f7"
            ],
            [
             0.6,
             "#e6f5d0"
            ],
            [
             0.7,
             "#b8e186"
            ],
            [
             0.8,
             "#7fbc41"
            ],
            [
             0.9,
             "#4d9221"
            ],
            [
             1,
             "#276419"
            ]
           ],
           "sequential": [
            [
             0,
             "#0d0887"
            ],
            [
             0.1111111111111111,
             "#46039f"
            ],
            [
             0.2222222222222222,
             "#7201a8"
            ],
            [
             0.3333333333333333,
             "#9c179e"
            ],
            [
             0.4444444444444444,
             "#bd3786"
            ],
            [
             0.5555555555555556,
             "#d8576b"
            ],
            [
             0.6666666666666666,
             "#ed7953"
            ],
            [
             0.7777777777777778,
             "#fb9f3a"
            ],
            [
             0.8888888888888888,
             "#fdca26"
            ],
            [
             1,
             "#f0f921"
            ]
           ],
           "sequentialminus": [
            [
             0,
             "#0d0887"
            ],
            [
             0.1111111111111111,
             "#46039f"
            ],
            [
             0.2222222222222222,
             "#7201a8"
            ],
            [
             0.3333333333333333,
             "#9c179e"
            ],
            [
             0.4444444444444444,
             "#bd3786"
            ],
            [
             0.5555555555555556,
             "#d8576b"
            ],
            [
             0.6666666666666666,
             "#ed7953"
            ],
            [
             0.7777777777777778,
             "#fb9f3a"
            ],
            [
             0.8888888888888888,
             "#fdca26"
            ],
            [
             1,
             "#f0f921"
            ]
           ]
          },
          "colorway": [
           "#636efa",
           "#EF553B",
           "#00cc96",
           "#ab63fa",
           "#FFA15A",
           "#19d3f3",
           "#FF6692",
           "#B6E880",
           "#FF97FF",
           "#FECB52"
          ],
          "font": {
           "color": "#2a3f5f"
          },
          "geo": {
           "bgcolor": "white",
           "lakecolor": "white",
           "landcolor": "#E5ECF6",
           "showlakes": true,
           "showland": true,
           "subunitcolor": "white"
          },
          "hoverlabel": {
           "align": "left"
          },
          "hovermode": "closest",
          "mapbox": {
           "style": "light"
          },
          "paper_bgcolor": "white",
          "plot_bgcolor": "#E5ECF6",
          "polar": {
           "angularaxis": {
            "gridcolor": "white",
            "linecolor": "white",
            "ticks": ""
           },
           "bgcolor": "#E5ECF6",
           "radialaxis": {
            "gridcolor": "white",
            "linecolor": "white",
            "ticks": ""
           }
          },
          "scene": {
           "xaxis": {
            "backgroundcolor": "#E5ECF6",
            "gridcolor": "white",
            "gridwidth": 2,
            "linecolor": "white",
            "showbackground": true,
            "ticks": "",
            "zerolinecolor": "white"
           },
           "yaxis": {
            "backgroundcolor": "#E5ECF6",
            "gridcolor": "white",
            "gridwidth": 2,
            "linecolor": "white",
            "showbackground": true,
            "ticks": "",
            "zerolinecolor": "white"
           },
           "zaxis": {
            "backgroundcolor": "#E5ECF6",
            "gridcolor": "white",
            "gridwidth": 2,
            "linecolor": "white",
            "showbackground": true,
            "ticks": "",
            "zerolinecolor": "white"
           }
          },
          "shapedefaults": {
           "line": {
            "color": "#2a3f5f"
           }
          },
          "ternary": {
           "aaxis": {
            "gridcolor": "white",
            "linecolor": "white",
            "ticks": ""
           },
           "baxis": {
            "gridcolor": "white",
            "linecolor": "white",
            "ticks": ""
           },
           "bgcolor": "#E5ECF6",
           "caxis": {
            "gridcolor": "white",
            "linecolor": "white",
            "ticks": ""
           }
          },
          "title": {
           "x": 0.05
          },
          "xaxis": {
           "automargin": true,
           "gridcolor": "white",
           "linecolor": "white",
           "ticks": "",
           "title": {
            "standoff": 15
           },
           "zerolinecolor": "white",
           "zerolinewidth": 2
          },
          "yaxis": {
           "automargin": true,
           "gridcolor": "white",
           "linecolor": "white",
           "ticks": "",
           "title": {
            "standoff": 15
           },
           "zerolinecolor": "white",
           "zerolinewidth": 2
          }
         }
        },
        "title": {
         "text": "Boxplot of Difference for MFtr = 0.75"
        },
        "xaxis": {
         "anchor": "y",
         "domain": [
          0,
          1
         ],
         "title": {
          "text": "MFte"
         }
        },
        "yaxis": {
         "anchor": "x",
         "domain": [
          0,
          1
         ],
         "title": {
          "text": "Difference"
         }
        }
       }
      }
     },
     "metadata": {},
     "output_type": "display_data"
    }
   ],
   "source": [
    "import ipywidgets as widgets\n",
    "from IPython.display import display, clear_output\n",
    "import plotly.express as px\n",
    "\n",
    "def plot_boxplot_acccsyn(df):\n",
    "    # Filter the dataframe for ACCSyn-TS\n",
    "    df_acccsyn = df[df['Qnt'] == 'ACCSyn-TS']\n",
    "\n",
    "    # Calculate the difference\n",
    "    df_acccsyn['Difference'] = df_acccsyn['AE'] - df_acccsyn['Value.dist']\n",
    "\n",
    "    # Create a dropdown widget for MFtr\n",
    "    mftr_dropdown = widgets.Dropdown(\n",
    "        options=df_acccsyn['MFtr'].unique(),\n",
    "        description='MFtr:'\n",
    "    )\n",
    "\n",
    "    # Function to update the plot based on the selected MFtr\n",
    "    def update_plot(change):\n",
    "        selected_mftr = mftr_dropdown.value\n",
    "        filtered_df = df_acccsyn[df_acccsyn['MFtr'] == selected_mftr]\n",
    "\n",
    "        # Plot the boxplot\n",
    "        fig = px.box(filtered_df, x='MFte', y='Difference', title=f'Boxplot of Difference for MFtr = {selected_mftr}')\n",
    "        fig.update_layout(xaxis_title='MFte', yaxis_title='Difference', showlegend=False)\n",
    "        \n",
    "        clear_output(wait=True)\n",
    "        display(mftr_dropdown)\n",
    "        display(fig)\n",
    "\n",
    "    # Attach the update_plot function to the dropdown widget\n",
    "    mftr_dropdown.observe(update_plot, names='value')\n",
    "\n",
    "    # Display the dropdown and the initial plot\n",
    "    display(mftr_dropdown)\n",
    "    update_plot(None)\n",
    "\n",
    "# Example usage\n",
    "plot_boxplot_acccsyn(result_10_rafael)"
   ]
  },
  {
   "cell_type": "markdown",
   "metadata": {},
   "source": [
    "## Line Plot"
   ]
  },
  {
   "cell_type": "code",
   "execution_count": 3,
   "metadata": {},
   "outputs": [],
   "source": [
    "import plotly.graph_objects as go\n",
    "import ipywidgets as widgets\n",
    "from IPython.display import display, clear_output\n",
    "\n",
    "def line_plot(grouped):\n",
    "    mftr_dropdown = widgets.Dropdown(\n",
    "        options=grouped['MFtr'].unique(),\n",
    "        description='MFtr:'\n",
    "    )\n",
    "\n",
    "    mftr_dropdown.value = grouped['MFtr'].unique()[0]\n",
    "\n",
    "    def update_plot(change):\n",
    "        selected_mftr = mftr_dropdown.value\n",
    "        filtered_data = grouped[grouped['MFtr'] == selected_mftr]\n",
    "\n",
    "        fig = go.Figure()\n",
    "        for qnt_val in filtered_data['Qnt'].unique():\n",
    "            qnt_data = filtered_data[filtered_data['Qnt'] == qnt_val]\n",
    "            fig.add_trace(go.Scatter(\n",
    "                x=qnt_data['MFte'], \n",
    "                y=qnt_data['MAE'], \n",
    "                mode='lines+markers', \n",
    "                name=qnt_val,\n",
    "                visible='legendonly'  # Set initial visibility to legendonly\n",
    "            ))\n",
    "\n",
    "        fig.update_layout(title=f'MAE vs MFte for MFtr = {selected_mftr}',\n",
    "                          xaxis_title='MFte',\n",
    "                          yaxis_title='MAE')\n",
    "\n",
    "        clear_output(wait=True)\n",
    "        display(fig)\n",
    "        display(mftr_dropdown)\n",
    "\n",
    "    mftr_dropdown.observe(update_plot, names='value')\n",
    "    display(mftr_dropdown)\n",
    "    update_plot(None)"
   ]
  },
  {
   "cell_type": "code",
   "execution_count": null,
   "metadata": {},
   "outputs": [
    {
     "data": {
      "application/vnd.plotly.v1+json": {
       "config": {
        "plotlyServerURL": "https://plot.ly"
       },
       "data": [
        {
         "mode": "lines+markers",
         "name": "ACCSyn-TS",
         "type": "scatter",
         "visible": "legendonly",
         "x": {
          "bdata": "mpmZmZmZqT8zMzMzMzPDPwAAAAAAANA/ZmZmZmZm1j/NzMzMzMzcP5uZmZmZmeE/zszMzMzM5D8CAAAAAADoPzUzMzMzM+s/aGZmZmZm7j8=",
          "dtype": "f8"
         },
         "y": {
          "bdata": "AAAAAAAAAABEc2eq2c1wPxuwARuwAYs/t/106TConD/OHAA1g2arP2Ldovp2PLQ/UC0ItpNuvD9kfQnL42/BP1PBroX04cg/JGnFic8r0D8=",
          "dtype": "f8"
         }
        },
        {
         "mode": "lines+markers",
         "name": "MAXSyn-TS",
         "type": "scatter",
         "visible": "legendonly",
         "x": {
          "bdata": "mpmZmZmZqT8zMzMzMzPDPwAAAAAAANA/ZmZmZmZm1j/NzMzMzMzcP5uZmZmZmeE/zszMzMzM5D8CAAAAAADoPzUzMzMzM+s/aGZmZmZm7j8=",
          "dtype": "f8"
         },
         "y": {
          "bdata": "AAAAAAAAAADgzJp5ZjRzP3jn3US0qpE/r4X04bgnpT/Yd33Xd323P7AKq7AKq8A/Ss0HsDNuxj89z/M8z/PMPytF7F14H9E/qK8tDhaU1D8=",
          "dtype": "f8"
         }
        },
        {
         "mode": "lines+markers",
         "name": "MS2Syn-TS",
         "type": "scatter",
         "visible": "legendonly",
         "x": {
          "bdata": "mpmZmZmZqT8zMzMzMzPDPwAAAAAAANA/ZmZmZmZm1j/NzMzMzMzcP5uZmZmZmeE/zszMzMzM5D8CAAAAAADoPzUzMzMzM+s/aGZmZmZm7j8=",
          "dtype": "f8"
         },
         "y": {
          "bdata": "AAAAAAAAAABFi+er8U1yP+loW4MC9Yw/6nQbhA61nT9TXQi5w26vPyPz/ruMmLU/A5F2z11DvD9pvPnOImDFP9TU5gYIGso/l9OfY6Bs0D8=",
          "dtype": "f8"
         }
        },
        {
         "mode": "lines+markers",
         "name": "SMMSyn-TS",
         "type": "scatter",
         "visible": "legendonly",
         "x": {
          "bdata": "mpmZmZmZqT8zMzMzMzPDPwAAAAAAANA/ZmZmZmZm1j/NzMzMzMzcP5uZmZmZmeE/zszMzMzM5D8CAAAAAADoPzUzMzMzM+s/aGZmZmZm7j8=",
          "dtype": "f8"
         },
         "y": {
          "bdata": "FlABFVABVT9Efyer5Y2BP1JXqLi9Do8/TQaYs2z+mT9rcwMEDZ2tPyLh3rp6eLQ/4/lqfJMEtj8RC7EQC7HAPz9X2gskp8g/xrXCkYKPzj8=",
          "dtype": "f8"
         }
        },
        {
         "mode": "lines+markers",
         "name": "T50Syn-TS",
         "type": "scatter",
         "visible": "legendonly",
         "x": {
          "bdata": "mpmZmZmZqT8zMzMzMzPDPwAAAAAAANA/ZmZmZmZm1j/NzMzMzMzcP5uZmZmZmeE/zszMzMzM5D8CAAAAAADoPzUzMzMzM+s/aGZmZmZm7j8=",
          "dtype": "f8"
         },
         "y": {
          "bdata": "Mk0GmLNszj94IsGrVfTOP6jhgHSuTdE/CQOX1s9j0z+rFLF34X3UP+m9EU8keNU/ZBDT/als1z9iwJ+V89LYP0XpLXgcYds/+nlslBMG3j8=",
          "dtype": "f8"
         }
        },
        {
         "mode": "lines+markers",
         "name": "XSyn-TS",
         "type": "scatter",
         "visible": "legendonly",
         "x": {
          "bdata": "mpmZmZmZqT8zMzMzMzPDPwAAAAAAANA/ZmZmZmZm1j/NzMzMzMzcP5uZmZmZmeE/zszMzMzM5D8CAAAAAADoPzUzMzMzM+s/aGZmZmZm7j8=",
          "dtype": "f8"
         },
         "y": {
          "bdata": "AAAAAAAAAABSS+i3sU5uP+Yg2366dIg/tNYE5wk4mj83CB1qO1CtP56y9jdMkLE/pzMHQM2guT8RERERERHBP6zovRFPJMg/5G8xStaX0D8=",
          "dtype": "f8"
         }
        }
       ],
       "layout": {
        "template": {
         "data": {
          "bar": [
           {
            "error_x": {
             "color": "#2a3f5f"
            },
            "error_y": {
             "color": "#2a3f5f"
            },
            "marker": {
             "line": {
              "color": "#E5ECF6",
              "width": 0.5
             },
             "pattern": {
              "fillmode": "overlay",
              "size": 10,
              "solidity": 0.2
             }
            },
            "type": "bar"
           }
          ],
          "barpolar": [
           {
            "marker": {
             "line": {
              "color": "#E5ECF6",
              "width": 0.5
             },
             "pattern": {
              "fillmode": "overlay",
              "size": 10,
              "solidity": 0.2
             }
            },
            "type": "barpolar"
           }
          ],
          "carpet": [
           {
            "aaxis": {
             "endlinecolor": "#2a3f5f",
             "gridcolor": "white",
             "linecolor": "white",
             "minorgridcolor": "white",
             "startlinecolor": "#2a3f5f"
            },
            "baxis": {
             "endlinecolor": "#2a3f5f",
             "gridcolor": "white",
             "linecolor": "white",
             "minorgridcolor": "white",
             "startlinecolor": "#2a3f5f"
            },
            "type": "carpet"
           }
          ],
          "choropleth": [
           {
            "colorbar": {
             "outlinewidth": 0,
             "ticks": ""
            },
            "type": "choropleth"
           }
          ],
          "contour": [
           {
            "colorbar": {
             "outlinewidth": 0,
             "ticks": ""
            },
            "colorscale": [
             [
              0,
              "#0d0887"
             ],
             [
              0.1111111111111111,
              "#46039f"
             ],
             [
              0.2222222222222222,
              "#7201a8"
             ],
             [
              0.3333333333333333,
              "#9c179e"
             ],
             [
              0.4444444444444444,
              "#bd3786"
             ],
             [
              0.5555555555555556,
              "#d8576b"
             ],
             [
              0.6666666666666666,
              "#ed7953"
             ],
             [
              0.7777777777777778,
              "#fb9f3a"
             ],
             [
              0.8888888888888888,
              "#fdca26"
             ],
             [
              1,
              "#f0f921"
             ]
            ],
            "type": "contour"
           }
          ],
          "contourcarpet": [
           {
            "colorbar": {
             "outlinewidth": 0,
             "ticks": ""
            },
            "type": "contourcarpet"
           }
          ],
          "heatmap": [
           {
            "colorbar": {
             "outlinewidth": 0,
             "ticks": ""
            },
            "colorscale": [
             [
              0,
              "#0d0887"
             ],
             [
              0.1111111111111111,
              "#46039f"
             ],
             [
              0.2222222222222222,
              "#7201a8"
             ],
             [
              0.3333333333333333,
              "#9c179e"
             ],
             [
              0.4444444444444444,
              "#bd3786"
             ],
             [
              0.5555555555555556,
              "#d8576b"
             ],
             [
              0.6666666666666666,
              "#ed7953"
             ],
             [
              0.7777777777777778,
              "#fb9f3a"
             ],
             [
              0.8888888888888888,
              "#fdca26"
             ],
             [
              1,
              "#f0f921"
             ]
            ],
            "type": "heatmap"
           }
          ],
          "histogram": [
           {
            "marker": {
             "pattern": {
              "fillmode": "overlay",
              "size": 10,
              "solidity": 0.2
             }
            },
            "type": "histogram"
           }
          ],
          "histogram2d": [
           {
            "colorbar": {
             "outlinewidth": 0,
             "ticks": ""
            },
            "colorscale": [
             [
              0,
              "#0d0887"
             ],
             [
              0.1111111111111111,
              "#46039f"
             ],
             [
              0.2222222222222222,
              "#7201a8"
             ],
             [
              0.3333333333333333,
              "#9c179e"
             ],
             [
              0.4444444444444444,
              "#bd3786"
             ],
             [
              0.5555555555555556,
              "#d8576b"
             ],
             [
              0.6666666666666666,
              "#ed7953"
             ],
             [
              0.7777777777777778,
              "#fb9f3a"
             ],
             [
              0.8888888888888888,
              "#fdca26"
             ],
             [
              1,
              "#f0f921"
             ]
            ],
            "type": "histogram2d"
           }
          ],
          "histogram2dcontour": [
           {
            "colorbar": {
             "outlinewidth": 0,
             "ticks": ""
            },
            "colorscale": [
             [
              0,
              "#0d0887"
             ],
             [
              0.1111111111111111,
              "#46039f"
             ],
             [
              0.2222222222222222,
              "#7201a8"
             ],
             [
              0.3333333333333333,
              "#9c179e"
             ],
             [
              0.4444444444444444,
              "#bd3786"
             ],
             [
              0.5555555555555556,
              "#d8576b"
             ],
             [
              0.6666666666666666,
              "#ed7953"
             ],
             [
              0.7777777777777778,
              "#fb9f3a"
             ],
             [
              0.8888888888888888,
              "#fdca26"
             ],
             [
              1,
              "#f0f921"
             ]
            ],
            "type": "histogram2dcontour"
           }
          ],
          "mesh3d": [
           {
            "colorbar": {
             "outlinewidth": 0,
             "ticks": ""
            },
            "type": "mesh3d"
           }
          ],
          "parcoords": [
           {
            "line": {
             "colorbar": {
              "outlinewidth": 0,
              "ticks": ""
             }
            },
            "type": "parcoords"
           }
          ],
          "pie": [
           {
            "automargin": true,
            "type": "pie"
           }
          ],
          "scatter": [
           {
            "fillpattern": {
             "fillmode": "overlay",
             "size": 10,
             "solidity": 0.2
            },
            "type": "scatter"
           }
          ],
          "scatter3d": [
           {
            "line": {
             "colorbar": {
              "outlinewidth": 0,
              "ticks": ""
             }
            },
            "marker": {
             "colorbar": {
              "outlinewidth": 0,
              "ticks": ""
             }
            },
            "type": "scatter3d"
           }
          ],
          "scattercarpet": [
           {
            "marker": {
             "colorbar": {
              "outlinewidth": 0,
              "ticks": ""
             }
            },
            "type": "scattercarpet"
           }
          ],
          "scattergeo": [
           {
            "marker": {
             "colorbar": {
              "outlinewidth": 0,
              "ticks": ""
             }
            },
            "type": "scattergeo"
           }
          ],
          "scattergl": [
           {
            "marker": {
             "colorbar": {
              "outlinewidth": 0,
              "ticks": ""
             }
            },
            "type": "scattergl"
           }
          ],
          "scattermap": [
           {
            "marker": {
             "colorbar": {
              "outlinewidth": 0,
              "ticks": ""
             }
            },
            "type": "scattermap"
           }
          ],
          "scattermapbox": [
           {
            "marker": {
             "colorbar": {
              "outlinewidth": 0,
              "ticks": ""
             }
            },
            "type": "scattermapbox"
           }
          ],
          "scatterpolar": [
           {
            "marker": {
             "colorbar": {
              "outlinewidth": 0,
              "ticks": ""
             }
            },
            "type": "scatterpolar"
           }
          ],
          "scatterpolargl": [
           {
            "marker": {
             "colorbar": {
              "outlinewidth": 0,
              "ticks": ""
             }
            },
            "type": "scatterpolargl"
           }
          ],
          "scatterternary": [
           {
            "marker": {
             "colorbar": {
              "outlinewidth": 0,
              "ticks": ""
             }
            },
            "type": "scatterternary"
           }
          ],
          "surface": [
           {
            "colorbar": {
             "outlinewidth": 0,
             "ticks": ""
            },
            "colorscale": [
             [
              0,
              "#0d0887"
             ],
             [
              0.1111111111111111,
              "#46039f"
             ],
             [
              0.2222222222222222,
              "#7201a8"
             ],
             [
              0.3333333333333333,
              "#9c179e"
             ],
             [
              0.4444444444444444,
              "#bd3786"
             ],
             [
              0.5555555555555556,
              "#d8576b"
             ],
             [
              0.6666666666666666,
              "#ed7953"
             ],
             [
              0.7777777777777778,
              "#fb9f3a"
             ],
             [
              0.8888888888888888,
              "#fdca26"
             ],
             [
              1,
              "#f0f921"
             ]
            ],
            "type": "surface"
           }
          ],
          "table": [
           {
            "cells": {
             "fill": {
              "color": "#EBF0F8"
             },
             "line": {
              "color": "white"
             }
            },
            "header": {
             "fill": {
              "color": "#C8D4E3"
             },
             "line": {
              "color": "white"
             }
            },
            "type": "table"
           }
          ]
         },
         "layout": {
          "annotationdefaults": {
           "arrowcolor": "#2a3f5f",
           "arrowhead": 0,
           "arrowwidth": 1
          },
          "autotypenumbers": "strict",
          "coloraxis": {
           "colorbar": {
            "outlinewidth": 0,
            "ticks": ""
           }
          },
          "colorscale": {
           "diverging": [
            [
             0,
             "#8e0152"
            ],
            [
             0.1,
             "#c51b7d"
            ],
            [
             0.2,
             "#de77ae"
            ],
            [
             0.3,
             "#f1b6da"
            ],
            [
             0.4,
             "#fde0ef"
            ],
            [
             0.5,
             "#f7f7f7"
            ],
            [
             0.6,
             "#e6f5d0"
            ],
            [
             0.7,
             "#b8e186"
            ],
            [
             0.8,
             "#7fbc41"
            ],
            [
             0.9,
             "#4d9221"
            ],
            [
             1,
             "#276419"
            ]
           ],
           "sequential": [
            [
             0,
             "#0d0887"
            ],
            [
             0.1111111111111111,
             "#46039f"
            ],
            [
             0.2222222222222222,
             "#7201a8"
            ],
            [
             0.3333333333333333,
             "#9c179e"
            ],
            [
             0.4444444444444444,
             "#bd3786"
            ],
            [
             0.5555555555555556,
             "#d8576b"
            ],
            [
             0.6666666666666666,
             "#ed7953"
            ],
            [
             0.7777777777777778,
             "#fb9f3a"
            ],
            [
             0.8888888888888888,
             "#fdca26"
            ],
            [
             1,
             "#f0f921"
            ]
           ],
           "sequentialminus": [
            [
             0,
             "#0d0887"
            ],
            [
             0.1111111111111111,
             "#46039f"
            ],
            [
             0.2222222222222222,
             "#7201a8"
            ],
            [
             0.3333333333333333,
             "#9c179e"
            ],
            [
             0.4444444444444444,
             "#bd3786"
            ],
            [
             0.5555555555555556,
             "#d8576b"
            ],
            [
             0.6666666666666666,
             "#ed7953"
            ],
            [
             0.7777777777777778,
             "#fb9f3a"
            ],
            [
             0.8888888888888888,
             "#fdca26"
            ],
            [
             1,
             "#f0f921"
            ]
           ]
          },
          "colorway": [
           "#636efa",
           "#EF553B",
           "#00cc96",
           "#ab63fa",
           "#FFA15A",
           "#19d3f3",
           "#FF6692",
           "#B6E880",
           "#FF97FF",
           "#FECB52"
          ],
          "font": {
           "color": "#2a3f5f"
          },
          "geo": {
           "bgcolor": "white",
           "lakecolor": "white",
           "landcolor": "#E5ECF6",
           "showlakes": true,
           "showland": true,
           "subunitcolor": "white"
          },
          "hoverlabel": {
           "align": "left"
          },
          "hovermode": "closest",
          "mapbox": {
           "style": "light"
          },
          "paper_bgcolor": "white",
          "plot_bgcolor": "#E5ECF6",
          "polar": {
           "angularaxis": {
            "gridcolor": "white",
            "linecolor": "white",
            "ticks": ""
           },
           "bgcolor": "#E5ECF6",
           "radialaxis": {
            "gridcolor": "white",
            "linecolor": "white",
            "ticks": ""
           }
          },
          "scene": {
           "xaxis": {
            "backgroundcolor": "#E5ECF6",
            "gridcolor": "white",
            "gridwidth": 2,
            "linecolor": "white",
            "showbackground": true,
            "ticks": "",
            "zerolinecolor": "white"
           },
           "yaxis": {
            "backgroundcolor": "#E5ECF6",
            "gridcolor": "white",
            "gridwidth": 2,
            "linecolor": "white",
            "showbackground": true,
            "ticks": "",
            "zerolinecolor": "white"
           },
           "zaxis": {
            "backgroundcolor": "#E5ECF6",
            "gridcolor": "white",
            "gridwidth": 2,
            "linecolor": "white",
            "showbackground": true,
            "ticks": "",
            "zerolinecolor": "white"
           }
          },
          "shapedefaults": {
           "line": {
            "color": "#2a3f5f"
           }
          },
          "ternary": {
           "aaxis": {
            "gridcolor": "white",
            "linecolor": "white",
            "ticks": ""
           },
           "baxis": {
            "gridcolor": "white",
            "linecolor": "white",
            "ticks": ""
           },
           "bgcolor": "#E5ECF6",
           "caxis": {
            "gridcolor": "white",
            "linecolor": "white",
            "ticks": ""
           }
          },
          "title": {
           "x": 0.05
          },
          "xaxis": {
           "automargin": true,
           "gridcolor": "white",
           "linecolor": "white",
           "ticks": "",
           "title": {
            "standoff": 15
           },
           "zerolinecolor": "white",
           "zerolinewidth": 2
          },
          "yaxis": {
           "automargin": true,
           "gridcolor": "white",
           "linecolor": "white",
           "ticks": "",
           "title": {
            "standoff": 15
           },
           "zerolinecolor": "white",
           "zerolinewidth": 2
          }
         }
        },
        "title": {
         "text": "MAE vs MFte for MFtr = 0.95"
        },
        "xaxis": {
         "title": {
          "text": "MFte"
         }
        },
        "yaxis": {
         "title": {
          "text": "MAE"
         }
        }
       }
      }
     },
     "metadata": {},
     "output_type": "display_data"
    },
    {
     "data": {
      "application/vnd.jupyter.widget-view+json": {
       "model_id": "d8960c83176349c694bae1ca69e759fb",
       "version_major": 2,
       "version_minor": 0
      },
      "text/plain": [
       "Dropdown(description='MFtr:', index=9, options=(np.float64(0.05), np.float64(0.15), np.float64(0.25), np.float…"
      ]
     },
     "metadata": {},
     "output_type": "display_data"
    }
   ],
   "source": [
    "line_plot(grouped_rafael)"
   ]
  },
  {
   "cell_type": "code",
   "execution_count": 5,
   "metadata": {},
   "outputs": [
    {
     "data": {
      "application/vnd.plotly.v1+json": {
       "config": {
        "plotlyServerURL": "https://plot.ly"
       },
       "data": [
        {
         "mode": "lines+markers",
         "name": "ACC",
         "type": "scatter",
         "visible": "legendonly",
         "x": [
          0.05,
          0.15,
          0.25,
          0.35,
          0.45,
          0.5500000000000002,
          0.6500000000000001,
          0.7500000000000002,
          0.8500000000000002,
          0.9500000000000002,
          "0.05",
          "0.15000000000000002",
          "0.25000000000000006",
          "0.35000000000000003",
          "0.45000000000000007",
          "0.5500000000000002",
          "0.6500000000000001",
          "0.7500000000000002",
          "0.8500000000000002",
          "0.9500000000000002"
         ],
         "y": {
          "bdata": "txe82QQVuz91HEgFORm6P1diJVZiJbY/LpLepAlWrD8yvWxl8J+oPzweSgjrFrU/9fg5Sk6Pvz8VUiEVUiHFP2rTevFbA8o/Ekz0d7Jazj+amZmZmZmZP5qZmZmZmZk/HtRBHdRBnT8e1EEd1EGdP+DJanljBJM/VVVVVVVVtT8yvWxl8J/IP6EO6qAO6tA/wvUoXI/C1T8VJA6vvafYPw==",
          "dtype": "f8"
         }
        },
        {
         "mode": "lines+markers",
         "name": "CC",
         "type": "scatter",
         "visible": "legendonly",
         "x": [
          0.05,
          0.15,
          0.25,
          0.35,
          0.45,
          0.5500000000000002,
          0.6500000000000001,
          0.7500000000000002,
          0.8500000000000002,
          0.9500000000000002,
          "0.05",
          "0.15000000000000002",
          "0.25000000000000006",
          "0.35000000000000003",
          "0.45000000000000007",
          "0.5500000000000002",
          "0.6500000000000001",
          "0.7500000000000002",
          "0.8500000000000002",
          "0.9500000000000002"
         ],
         "y": {
          "bdata": "AAAAAAAAAADtWIEw0o51P1Nc+LjCXp8/L35rQI98sT8FrBWwVsC6P/SwhuKfdcE/L4ksYrxfxT9EiNntMoTIP/uxH/uxH8s/nD+CrFCTzT8AAAAAAAAAADvfT42XboI/xGvvKdJVsD+KOTK9bGXAP84HsDNuFso/wQmcwAmc0D9bGfwn5sjUP3UVJA6vvdc/yEMJYd2i2j9AMUeml63cPw==",
          "dtype": "f8"
         }
        },
        {
         "mode": "lines+markers",
         "name": "DyS-TS",
         "type": "scatter",
         "visible": "legendonly",
         "x": [
          0.05,
          0.15,
          0.25,
          0.35,
          0.45,
          0.5500000000000002,
          0.6500000000000001,
          0.7500000000000002,
          0.8500000000000002,
          0.9500000000000002,
          "0.05",
          "0.15000000000000002",
          "0.25000000000000006",
          "0.35000000000000003",
          "0.45000000000000007",
          "0.5500000000000002",
          "0.6500000000000001",
          "0.7500000000000002",
          "0.8500000000000002",
          "0.9500000000000002"
         ],
         "y": {
          "bdata": "/l2o6gk8lT9NkWRNPlKjPyUD7pt6ZaM/QYS7L3Oqnj/sjJuFJjWfP2INxT/roq0/jQR882riuT/Vz3TEvmPDP/mKr/iKr8g/f21Pblw+zT+4HoXrUbiOP1pkO99PjZc/GIZhGIZhmD97FK5H4XqUP96i+nY8lIA/RX8nq+WNsT/mjRFM9HfCP3RketnK4M8/BU7gBE7g1D9AbCoNOffZPw==",
          "dtype": "f8"
         }
        },
        {
         "mode": "lines+markers",
         "name": "MAX",
         "type": "scatter",
         "visible": "legendonly",
         "x": [
          0.05,
          0.15,
          0.25,
          0.35,
          0.45,
          0.5500000000000002,
          0.6500000000000001,
          0.7500000000000002,
          0.8500000000000002,
          0.9500000000000002,
          "0.05",
          "0.15000000000000002",
          "0.25000000000000006",
          "0.35000000000000003",
          "0.45000000000000007",
          "0.5500000000000002",
          "0.6500000000000001",
          "0.7500000000000002",
          "0.8500000000000002",
          "0.9500000000000002"
         ],
         "y": {
          "bdata": "txe82QQVuz8AEl8CxhW6P2ctkt6kCbY/6mUrg//ErD+UMyhyEQawP7TSs8XjxLY/5g6ZO2TuwD9BYWnrCxTGP+nZ4nFia8o/JbKI8X5Vzj+amZmZmZmZP5qZmZmZmZk/HtRBHdRBnT8e1EEd1EGdP3sUrkfhepQ/OffZBcSmsj+dNtBpA53GP+NmoUnNB9A/tUZrtEZr1D+lIec+u4DYPw==",
          "dtype": "f8"
         }
        },
        {
         "mode": "lines+markers",
         "name": "MS2",
         "type": "scatter",
         "visible": "legendonly",
         "x": [
          0.05,
          0.15,
          0.25,
          0.35,
          0.45,
          0.5500000000000002,
          0.6500000000000001,
          0.7500000000000002,
          0.8500000000000002,
          0.9500000000000002,
          "0.05",
          "0.15000000000000002",
          "0.25000000000000006",
          "0.35000000000000003",
          "0.45000000000000007",
          "0.5500000000000002",
          "0.6500000000000001",
          "0.7500000000000002",
          "0.8500000000000002",
          "0.9500000000000002"
         ],
         "y": {
          "bdata": "txe82QQVuz9miiRr8pG6P57EJ1qA47U/6mUrg//ErD9mK4P/xBypP9mEPLdiGrU/DM7xLfATwD//wg26fsnFP9qczdmczck/Ra06EXoHzj+amZmZmZmZP5qZmZmZmZk/HtRBHdRBnT8e1EEd1EGdPxiGYRiGYZg/rFtU346Hsj+SroLE4bXHP8EJnMAJnNA/roLE4bX31D9xeO09RbraPw==",
          "dtype": "f8"
         }
        },
        {
         "mode": "lines+markers",
         "name": "SMM",
         "type": "scatter",
         "visible": "legendonly",
         "x": [
          0.05,
          0.15,
          0.25,
          0.35,
          0.45,
          0.5500000000000002,
          0.6500000000000001,
          0.7500000000000002,
          0.8500000000000002,
          0.9500000000000002,
          "0.05",
          "0.15000000000000002",
          "0.25000000000000006",
          "0.35000000000000003",
          "0.45000000000000007",
          "0.5500000000000002",
          "0.6500000000000001",
          "0.7500000000000002",
          "0.8500000000000002",
          "0.9500000000000002"
         ],
         "y": {
          "bdata": "pq0jI3aIwj9a/8ni+K2+P8Jn0WsSfLY/CLv0j0N9qD9Is2euGc6kP3n6DUbH2rI/Ce0ltJfQvj/35Mbl07XEPzw22yolysk/32s1zlokzT+amZmZmZmZP5qZmZmZmZk/HtRBHdRBnT8e1EEd1EGdP7X3FOkqSIw/2I/92I/9uD/RpOYD2BnHP56sljdGMNE/xVd8xVd81T9aozVaozXaPw==",
          "dtype": "f8"
         }
        },
        {
         "mode": "lines+markers",
         "name": "T50",
         "type": "scatter",
         "visible": "legendonly",
         "x": [
          0.05,
          0.15,
          0.25,
          0.35,
          0.45,
          0.5500000000000002,
          0.6500000000000001,
          0.7500000000000002,
          0.8500000000000002,
          0.9500000000000002,
          "0.05",
          "0.15000000000000002",
          "0.25000000000000006",
          "0.35000000000000003",
          "0.45000000000000007",
          "0.5500000000000002",
          "0.6500000000000001",
          "0.7500000000000002",
          "0.8500000000000002",
          "0.9500000000000002"
         ],
         "y": {
          "bdata": "1e+5JU79zj9P4Kloo0zPP0V/J6vljdE/oeDWOnpw1D/SeOJ8I43XP1Wmuv9QZdo/TP841IfB3D8XVj/TEfvePwodSPkLN+A/ilyEAdT74D+amZmZmZmZP5qZmZmZmZk/HtRBHdRBnT8e1EEd1EGdPx7UQR3UQZ0/HtRBHdRBnT8e1EEd1EGdPx7UQR3UQZ0/HtRBHdRBnT9RQli3qL6dPw==",
          "dtype": "f8"
         }
        },
        {
         "mode": "lines+markers",
         "name": "X",
         "type": "scatter",
         "visible": "legendonly",
         "x": [
          0.05,
          0.15,
          0.25,
          0.35,
          0.45,
          0.5500000000000002,
          0.6500000000000001,
          0.7500000000000002,
          0.8500000000000002,
          0.9500000000000002,
          "0.05",
          "0.15000000000000002",
          "0.25000000000000006",
          "0.35000000000000003",
          "0.45000000000000007",
          "0.5500000000000002",
          "0.6500000000000001",
          "0.7500000000000002",
          "0.8500000000000002",
          "0.9500000000000002"
         ],
         "y": {
          "bdata": "YVELMX98uz8mPJ6clcy6Pw3zUlE3l7U/kS371HE/qT/lJBt/vrSYP4zUWa72e7A/7qhKZiDCvT/5ch7WUPzDP1skvUkTrMg/ezcAjEgRzT+amZmZmZmZP5qZmZmZmZk/HtRBHdRBnT+39xTpKkicP0eml60M/pM/YPEVX/EVvz9PG+i0gU7LP9RBHdRBHdQ/lzdGMNHf2T8JYd2i+nbcPw==",
          "dtype": "f8"
         }
        }
       ],
       "layout": {
        "template": {
         "data": {
          "bar": [
           {
            "error_x": {
             "color": "#2a3f5f"
            },
            "error_y": {
             "color": "#2a3f5f"
            },
            "marker": {
             "line": {
              "color": "#E5ECF6",
              "width": 0.5
             },
             "pattern": {
              "fillmode": "overlay",
              "size": 10,
              "solidity": 0.2
             }
            },
            "type": "bar"
           }
          ],
          "barpolar": [
           {
            "marker": {
             "line": {
              "color": "#E5ECF6",
              "width": 0.5
             },
             "pattern": {
              "fillmode": "overlay",
              "size": 10,
              "solidity": 0.2
             }
            },
            "type": "barpolar"
           }
          ],
          "carpet": [
           {
            "aaxis": {
             "endlinecolor": "#2a3f5f",
             "gridcolor": "white",
             "linecolor": "white",
             "minorgridcolor": "white",
             "startlinecolor": "#2a3f5f"
            },
            "baxis": {
             "endlinecolor": "#2a3f5f",
             "gridcolor": "white",
             "linecolor": "white",
             "minorgridcolor": "white",
             "startlinecolor": "#2a3f5f"
            },
            "type": "carpet"
           }
          ],
          "choropleth": [
           {
            "colorbar": {
             "outlinewidth": 0,
             "ticks": ""
            },
            "type": "choropleth"
           }
          ],
          "contour": [
           {
            "colorbar": {
             "outlinewidth": 0,
             "ticks": ""
            },
            "colorscale": [
             [
              0,
              "#0d0887"
             ],
             [
              0.1111111111111111,
              "#46039f"
             ],
             [
              0.2222222222222222,
              "#7201a8"
             ],
             [
              0.3333333333333333,
              "#9c179e"
             ],
             [
              0.4444444444444444,
              "#bd3786"
             ],
             [
              0.5555555555555556,
              "#d8576b"
             ],
             [
              0.6666666666666666,
              "#ed7953"
             ],
             [
              0.7777777777777778,
              "#fb9f3a"
             ],
             [
              0.8888888888888888,
              "#fdca26"
             ],
             [
              1,
              "#f0f921"
             ]
            ],
            "type": "contour"
           }
          ],
          "contourcarpet": [
           {
            "colorbar": {
             "outlinewidth": 0,
             "ticks": ""
            },
            "type": "contourcarpet"
           }
          ],
          "heatmap": [
           {
            "colorbar": {
             "outlinewidth": 0,
             "ticks": ""
            },
            "colorscale": [
             [
              0,
              "#0d0887"
             ],
             [
              0.1111111111111111,
              "#46039f"
             ],
             [
              0.2222222222222222,
              "#7201a8"
             ],
             [
              0.3333333333333333,
              "#9c179e"
             ],
             [
              0.4444444444444444,
              "#bd3786"
             ],
             [
              0.5555555555555556,
              "#d8576b"
             ],
             [
              0.6666666666666666,
              "#ed7953"
             ],
             [
              0.7777777777777778,
              "#fb9f3a"
             ],
             [
              0.8888888888888888,
              "#fdca26"
             ],
             [
              1,
              "#f0f921"
             ]
            ],
            "type": "heatmap"
           }
          ],
          "histogram": [
           {
            "marker": {
             "pattern": {
              "fillmode": "overlay",
              "size": 10,
              "solidity": 0.2
             }
            },
            "type": "histogram"
           }
          ],
          "histogram2d": [
           {
            "colorbar": {
             "outlinewidth": 0,
             "ticks": ""
            },
            "colorscale": [
             [
              0,
              "#0d0887"
             ],
             [
              0.1111111111111111,
              "#46039f"
             ],
             [
              0.2222222222222222,
              "#7201a8"
             ],
             [
              0.3333333333333333,
              "#9c179e"
             ],
             [
              0.4444444444444444,
              "#bd3786"
             ],
             [
              0.5555555555555556,
              "#d8576b"
             ],
             [
              0.6666666666666666,
              "#ed7953"
             ],
             [
              0.7777777777777778,
              "#fb9f3a"
             ],
             [
              0.8888888888888888,
              "#fdca26"
             ],
             [
              1,
              "#f0f921"
             ]
            ],
            "type": "histogram2d"
           }
          ],
          "histogram2dcontour": [
           {
            "colorbar": {
             "outlinewidth": 0,
             "ticks": ""
            },
            "colorscale": [
             [
              0,
              "#0d0887"
             ],
             [
              0.1111111111111111,
              "#46039f"
             ],
             [
              0.2222222222222222,
              "#7201a8"
             ],
             [
              0.3333333333333333,
              "#9c179e"
             ],
             [
              0.4444444444444444,
              "#bd3786"
             ],
             [
              0.5555555555555556,
              "#d8576b"
             ],
             [
              0.6666666666666666,
              "#ed7953"
             ],
             [
              0.7777777777777778,
              "#fb9f3a"
             ],
             [
              0.8888888888888888,
              "#fdca26"
             ],
             [
              1,
              "#f0f921"
             ]
            ],
            "type": "histogram2dcontour"
           }
          ],
          "mesh3d": [
           {
            "colorbar": {
             "outlinewidth": 0,
             "ticks": ""
            },
            "type": "mesh3d"
           }
          ],
          "parcoords": [
           {
            "line": {
             "colorbar": {
              "outlinewidth": 0,
              "ticks": ""
             }
            },
            "type": "parcoords"
           }
          ],
          "pie": [
           {
            "automargin": true,
            "type": "pie"
           }
          ],
          "scatter": [
           {
            "fillpattern": {
             "fillmode": "overlay",
             "size": 10,
             "solidity": 0.2
            },
            "type": "scatter"
           }
          ],
          "scatter3d": [
           {
            "line": {
             "colorbar": {
              "outlinewidth": 0,
              "ticks": ""
             }
            },
            "marker": {
             "colorbar": {
              "outlinewidth": 0,
              "ticks": ""
             }
            },
            "type": "scatter3d"
           }
          ],
          "scattercarpet": [
           {
            "marker": {
             "colorbar": {
              "outlinewidth": 0,
              "ticks": ""
             }
            },
            "type": "scattercarpet"
           }
          ],
          "scattergeo": [
           {
            "marker": {
             "colorbar": {
              "outlinewidth": 0,
              "ticks": ""
             }
            },
            "type": "scattergeo"
           }
          ],
          "scattergl": [
           {
            "marker": {
             "colorbar": {
              "outlinewidth": 0,
              "ticks": ""
             }
            },
            "type": "scattergl"
           }
          ],
          "scattermap": [
           {
            "marker": {
             "colorbar": {
              "outlinewidth": 0,
              "ticks": ""
             }
            },
            "type": "scattermap"
           }
          ],
          "scattermapbox": [
           {
            "marker": {
             "colorbar": {
              "outlinewidth": 0,
              "ticks": ""
             }
            },
            "type": "scattermapbox"
           }
          ],
          "scatterpolar": [
           {
            "marker": {
             "colorbar": {
              "outlinewidth": 0,
              "ticks": ""
             }
            },
            "type": "scatterpolar"
           }
          ],
          "scatterpolargl": [
           {
            "marker": {
             "colorbar": {
              "outlinewidth": 0,
              "ticks": ""
             }
            },
            "type": "scatterpolargl"
           }
          ],
          "scatterternary": [
           {
            "marker": {
             "colorbar": {
              "outlinewidth": 0,
              "ticks": ""
             }
            },
            "type": "scatterternary"
           }
          ],
          "surface": [
           {
            "colorbar": {
             "outlinewidth": 0,
             "ticks": ""
            },
            "colorscale": [
             [
              0,
              "#0d0887"
             ],
             [
              0.1111111111111111,
              "#46039f"
             ],
             [
              0.2222222222222222,
              "#7201a8"
             ],
             [
              0.3333333333333333,
              "#9c179e"
             ],
             [
              0.4444444444444444,
              "#bd3786"
             ],
             [
              0.5555555555555556,
              "#d8576b"
             ],
             [
              0.6666666666666666,
              "#ed7953"
             ],
             [
              0.7777777777777778,
              "#fb9f3a"
             ],
             [
              0.8888888888888888,
              "#fdca26"
             ],
             [
              1,
              "#f0f921"
             ]
            ],
            "type": "surface"
           }
          ],
          "table": [
           {
            "cells": {
             "fill": {
              "color": "#EBF0F8"
             },
             "line": {
              "color": "white"
             }
            },
            "header": {
             "fill": {
              "color": "#C8D4E3"
             },
             "line": {
              "color": "white"
             }
            },
            "type": "table"
           }
          ]
         },
         "layout": {
          "annotationdefaults": {
           "arrowcolor": "#2a3f5f",
           "arrowhead": 0,
           "arrowwidth": 1
          },
          "autotypenumbers": "strict",
          "coloraxis": {
           "colorbar": {
            "outlinewidth": 0,
            "ticks": ""
           }
          },
          "colorscale": {
           "diverging": [
            [
             0,
             "#8e0152"
            ],
            [
             0.1,
             "#c51b7d"
            ],
            [
             0.2,
             "#de77ae"
            ],
            [
             0.3,
             "#f1b6da"
            ],
            [
             0.4,
             "#fde0ef"
            ],
            [
             0.5,
             "#f7f7f7"
            ],
            [
             0.6,
             "#e6f5d0"
            ],
            [
             0.7,
             "#b8e186"
            ],
            [
             0.8,
             "#7fbc41"
            ],
            [
             0.9,
             "#4d9221"
            ],
            [
             1,
             "#276419"
            ]
           ],
           "sequential": [
            [
             0,
             "#0d0887"
            ],
            [
             0.1111111111111111,
             "#46039f"
            ],
            [
             0.2222222222222222,
             "#7201a8"
            ],
            [
             0.3333333333333333,
             "#9c179e"
            ],
            [
             0.4444444444444444,
             "#bd3786"
            ],
            [
             0.5555555555555556,
             "#d8576b"
            ],
            [
             0.6666666666666666,
             "#ed7953"
            ],
            [
             0.7777777777777778,
             "#fb9f3a"
            ],
            [
             0.8888888888888888,
             "#fdca26"
            ],
            [
             1,
             "#f0f921"
            ]
           ],
           "sequentialminus": [
            [
             0,
             "#0d0887"
            ],
            [
             0.1111111111111111,
             "#46039f"
            ],
            [
             0.2222222222222222,
             "#7201a8"
            ],
            [
             0.3333333333333333,
             "#9c179e"
            ],
            [
             0.4444444444444444,
             "#bd3786"
            ],
            [
             0.5555555555555556,
             "#d8576b"
            ],
            [
             0.6666666666666666,
             "#ed7953"
            ],
            [
             0.7777777777777778,
             "#fb9f3a"
            ],
            [
             0.8888888888888888,
             "#fdca26"
            ],
            [
             1,
             "#f0f921"
            ]
           ]
          },
          "colorway": [
           "#636efa",
           "#EF553B",
           "#00cc96",
           "#ab63fa",
           "#FFA15A",
           "#19d3f3",
           "#FF6692",
           "#B6E880",
           "#FF97FF",
           "#FECB52"
          ],
          "font": {
           "color": "#2a3f5f"
          },
          "geo": {
           "bgcolor": "white",
           "lakecolor": "white",
           "landcolor": "#E5ECF6",
           "showlakes": true,
           "showland": true,
           "subunitcolor": "white"
          },
          "hoverlabel": {
           "align": "left"
          },
          "hovermode": "closest",
          "mapbox": {
           "style": "light"
          },
          "paper_bgcolor": "white",
          "plot_bgcolor": "#E5ECF6",
          "polar": {
           "angularaxis": {
            "gridcolor": "white",
            "linecolor": "white",
            "ticks": ""
           },
           "bgcolor": "#E5ECF6",
           "radialaxis": {
            "gridcolor": "white",
            "linecolor": "white",
            "ticks": ""
           }
          },
          "scene": {
           "xaxis": {
            "backgroundcolor": "#E5ECF6",
            "gridcolor": "white",
            "gridwidth": 2,
            "linecolor": "white",
            "showbackground": true,
            "ticks": "",
            "zerolinecolor": "white"
           },
           "yaxis": {
            "backgroundcolor": "#E5ECF6",
            "gridcolor": "white",
            "gridwidth": 2,
            "linecolor": "white",
            "showbackground": true,
            "ticks": "",
            "zerolinecolor": "white"
           },
           "zaxis": {
            "backgroundcolor": "#E5ECF6",
            "gridcolor": "white",
            "gridwidth": 2,
            "linecolor": "white",
            "showbackground": true,
            "ticks": "",
            "zerolinecolor": "white"
           }
          },
          "shapedefaults": {
           "line": {
            "color": "#2a3f5f"
           }
          },
          "ternary": {
           "aaxis": {
            "gridcolor": "white",
            "linecolor": "white",
            "ticks": ""
           },
           "baxis": {
            "gridcolor": "white",
            "linecolor": "white",
            "ticks": ""
           },
           "bgcolor": "#E5ECF6",
           "caxis": {
            "gridcolor": "white",
            "linecolor": "white",
            "ticks": ""
           }
          },
          "title": {
           "x": 0.05
          },
          "xaxis": {
           "automargin": true,
           "gridcolor": "white",
           "linecolor": "white",
           "ticks": "",
           "title": {
            "standoff": 15
           },
           "zerolinecolor": "white",
           "zerolinewidth": 2
          },
          "yaxis": {
           "automargin": true,
           "gridcolor": "white",
           "linecolor": "white",
           "ticks": "",
           "title": {
            "standoff": 15
           },
           "zerolinecolor": "white",
           "zerolinewidth": 2
          }
         }
        },
        "title": {
         "text": "MAE vs MFte for MFtr = 0.45"
        },
        "xaxis": {
         "title": {
          "text": "MFte"
         }
        },
        "yaxis": {
         "title": {
          "text": "MAE"
         }
        }
       }
      }
     },
     "metadata": {},
     "output_type": "display_data"
    },
    {
     "data": {
      "application/vnd.jupyter.widget-view+json": {
       "model_id": "73c0f409053145bfa9c65cfef55fa9da",
       "version_major": 2,
       "version_minor": 0
      },
      "text/plain": [
       "Dropdown(description='MFtr:', index=3, options=(0.05, 0.25, 0.35, 0.45, 0.55, 0.65, 0.95, '0.05', '0.15', '0.2…"
      ]
     },
     "metadata": {},
     "output_type": "display_data"
    }
   ],
   "source": [
    "line_plot(grouped_luiz)"
   ]
  },
  {
   "cell_type": "code",
   "execution_count": 6,
   "metadata": {},
   "outputs": [
    {
     "data": {
      "application/vnd.plotly.v1+json": {
       "config": {
        "plotlyServerURL": "https://plot.ly"
       },
       "data": [
        {
         "mode": "lines+markers",
         "name": "ACCSyn-TS",
         "type": "scatter",
         "visible": "legendonly",
         "x": [
          0.05,
          0.15,
          0.25,
          0.35,
          0.45,
          0.5500000000000002,
          0.6500000000000001,
          0.7500000000000002,
          0.8500000000000002,
          0.9500000000000002
         ],
         "y": {
          "bdata": "AAAAAAAAAAATLMESLMFyP4KMLk9Z+4s/twCl6TPYnD/QAi3QAi2wP5RFWZRFWbQ/zhnQNIA2uz+g1jY6cNDDP5h7uZd7ucc/YQM2YAM20D8=",
          "dtype": "f8"
         }
        },
        {
         "mode": "lines+markers",
         "name": "MAXSyn-TS",
         "type": "scatter",
         "visible": "legendonly",
         "x": [
          0.05,
          0.15,
          0.25,
          0.35,
          0.45,
          0.5500000000000002,
          0.6500000000000001,
          0.7500000000000002,
          0.8500000000000002,
          0.9500000000000002
         ],
         "y": {
          "bdata": "AAAAAAAAAAASIAESIAFyP9/DCnldpJI/Sb4XryR+pT+KzyvwNZK2P2tE4J13E8E/6tJhUDnIxj+PFHz0euLKP4tF8r14JdE/F6aUfQz70z8=",
          "dtype": "f8"
         }
        },
        {
         "mode": "lines+markers",
         "name": "MS2Syn-TS",
         "type": "scatter",
         "visible": "legendonly",
         "x": [
          0.05,
          0.15,
          0.25,
          0.35,
          0.45,
          0.5500000000000002,
          0.6500000000000001,
          0.7500000000000002,
          0.8500000000000002,
          0.9500000000000002
         ],
         "y": {
          "bdata": "AAAAAAAAAACsVfTeiCdyPx7aoR3aoY0/6V/LgvlknD9ROci2ny6tP/CT2CLHC7Y/dxPRqkYEvj+B4eQae37EP9TU5gYIGso/COW21LGD0T8=",
          "dtype": "f8"
         }
        },
        {
         "mode": "lines+markers",
         "name": "SMMSyn-TS",
         "type": "scatter",
         "visible": "legendonly",
         "x": [
          0.05,
          0.15,
          0.25,
          0.35,
          0.45,
          0.5500000000000002,
          0.6500000000000001,
          0.7500000000000002,
          0.8500000000000002,
          0.9500000000000002
         ],
         "y": {
          "bdata": "5iybf8Y0ST+5IbXrVOh+P1JRSLi3ro4/TxvotIFOmz8anuEZnuGpP0i4t64eHrU/TfrXsmA+uT9kcUnK16/AP+rVkVA8+MY/Rs9aE5wn0D8=",
          "dtype": "f8"
         }
        },
        {
         "mode": "lines+markers",
         "name": "T50Syn-TS",
         "type": "scatter",
         "visible": "legendonly",
         "x": [
          0.05,
          0.15,
          0.25,
          0.35,
          0.45,
          0.5500000000000002,
          0.6500000000000001,
          0.7500000000000002,
          0.8500000000000002,
          0.9500000000000002
         ],
         "y": {
          "bdata": "hrn+UYbLzj+/7uu+7uvOP2+vwwdJXdE/Yc6y+WdM0z+YrQz+E3PUP6ZcyqVcytU/S9z3sEJe1z85lmM5lmPZPybrS1gef9s/vdALvdAL3T8=",
          "dtype": "f8"
         }
        },
        {
         "mode": "lines+markers",
         "name": "XSyn-TS",
         "type": "scatter",
         "visible": "legendonly",
         "x": [
          0.05,
          0.15,
          0.25,
          0.35,
          0.45,
          0.5500000000000002,
          0.6500000000000001,
          0.7500000000000002,
          0.8500000000000002,
          0.9500000000000002
         ],
         "y": {
          "bdata": "AAAAAAAAAADqdBuEDrVtP39KDksX24c/TyFItYeumz9L3PewQl6nP/oG1sbTorM/sak05Nxntz9sVgCfiTPCP19Y7Cslucg/n/Zpn/Zpzz8=",
          "dtype": "f8"
         }
        },
        {
         "mode": "lines+markers",
         "name": "ACC",
         "type": "scatter",
         "visible": "legendonly",
         "x": [
          0.05,
          0.15,
          0.25,
          0.35,
          0.45,
          0.5500000000000002,
          0.6500000000000001,
          0.7500000000000002,
          0.8500000000000002,
          0.9500000000000002
         ],
         "y": {
          "bdata": "J6vljRFMxD+bD2Bn3CzEPzYbqboG+8I/NWLRXb5gwD8LFp7rkLK5P2hWChae67A/eSghrFtUrz/78Bl2Bci9P9IexOXMC8c/0mHVdNISzz8=",
          "dtype": "f8"
         }
        },
        {
         "mode": "lines+markers",
         "name": "CC",
         "type": "scatter",
         "visible": "legendonly",
         "x": [
          0.05,
          0.15,
          0.25,
          0.35,
          0.45,
          0.5500000000000002,
          0.6500000000000001,
          0.7500000000000002,
          0.8500000000000002,
          0.9500000000000002
         ],
         "y": {
          "bdata": "AAAAAAAAAADbd3NgY8V4P2OGHgf3W6E/b01mJ2zrsj8588LxEUi9P4r+TlbLG8M/QxWmGbkWxz/8pdq+mwPLP/xq91f6uc0/bw5srBhD0D8=",
          "dtype": "f8"
         }
        },
        {
         "mode": "lines+markers",
         "name": "DyS-TS",
         "type": "scatter",
         "visible": "legendonly",
         "x": [
          0.05,
          0.15,
          0.25,
          0.35,
          0.45,
          0.5500000000000002,
          0.6500000000000001,
          0.7500000000000002,
          0.8500000000000002,
          0.9500000000000002
         ],
         "y": {
          "bdata": "okW28/3UuD/pcXC/FeG8Pz3P8zzP87w/biLfEJMcuz+xqTTk3Ge3Pyw81yFlM7E/+r1kN8g7qz+x6C5fMBC6P90sNKn5AMY/TexJivYgzj8=",
          "dtype": "f8"
         }
        },
        {
         "mode": "lines+markers",
         "name": "MAX",
         "type": "scatter",
         "visible": "legendonly",
         "x": [
          0.05,
          0.15,
          0.25,
          0.35,
          0.45,
          0.5500000000000002,
          0.6500000000000001,
          0.7500000000000002,
          0.8500000000000002,
          0.9500000000000002
         ],
         "y": {
          "bdata": "7ngoIaxbxD/vbOPklT/EP23fzYGNFcM/F9W346GEwD8JbSLfEJO8PzcLTWo+gL0/wUiWO11Ewz/kXnMhaUrFP7y7u7u7u8s/MgB+9PWm0D8=",
          "dtype": "f8"
         }
        },
        {
         "mode": "lines+markers",
         "name": "MS2",
         "type": "scatter",
         "visible": "legendonly",
         "x": [
          0.05,
          0.15,
          0.25,
          0.35,
          0.45,
          0.5500000000000002,
          0.6500000000000001,
          0.7500000000000002,
          0.8500000000000002,
          0.9500000000000002
         ],
         "y": {
          "bdata": "Yt2i+nY8xD/UQR3UQR3EP23fzYGNFcM/oJQMvxn4wD/V8sYIJvq7PwSVCKgFRrI/WLu/0s9tqj/qZSuD/8S8P8eKMQSVCMg/fIp0FSQOzz8=",
          "dtype": "f8"
         }
        },
        {
         "mode": "lines+markers",
         "name": "SMM",
         "type": "scatter",
         "visible": "legendonly",
         "x": [
          0.05,
          0.15,
          0.25,
          0.35,
          0.45,
          0.5500000000000002,
          0.6500000000000001,
          0.7500000000000002,
          0.8500000000000002,
          0.9500000000000002
         ],
         "y": {
          "bdata": "Q4+D+60Ixz8dF1Os2UjFP79U23dzYMM/MgB+9PWmwD+2uBpu15+5P5f0NKHL2LE/kXe2cfLKrz8NPQ7utyK8P4EXT5XFlsY/l7U6Jngwzz8=",
          "dtype": "f8"
         }
        },
        {
         "mode": "lines+markers",
         "name": "T50",
         "type": "scatter",
         "visible": "legendonly",
         "x": [
          0.05,
          0.15,
          0.25,
          0.35,
          0.45,
          0.5500000000000002,
          0.6500000000000001,
          0.7500000000000002,
          0.8500000000000002,
          0.9500000000000002
         ],
         "y": {
          "bdata": "88YIJvo7yT9lN8g72zjJP7es1THBg8k/BVL3GAA/yj8zLxwfgdTNPxcUsl71LNM/tnkg84P31j9ftjL4T8zZPwoezBP1b9w//OTUOe+r3T8=",
          "dtype": "f8"
         }
        },
        {
         "mode": "lines+markers",
         "name": "X",
         "type": "scatter",
         "visible": "legendonly",
         "x": [
          0.05,
          0.15,
          0.25,
          0.35,
          0.45,
          0.5500000000000002,
          0.6500000000000001,
          0.7500000000000002,
          0.8500000000000002,
          0.9500000000000002
         ],
         "y": {
          "bdata": "J6vljRFMxD+3LuE7GjPEP29NZids68I/+UeeaYWowD8jWe50EQ26Pw18CGkLy64/trgabtefqT/Cf2KOTC+7Pw2z1Lv6tcY/1bfjoYSwzj8=",
          "dtype": "f8"
         }
        }
       ],
       "layout": {
        "template": {
         "data": {
          "bar": [
           {
            "error_x": {
             "color": "#2a3f5f"
            },
            "error_y": {
             "color": "#2a3f5f"
            },
            "marker": {
             "line": {
              "color": "#E5ECF6",
              "width": 0.5
             },
             "pattern": {
              "fillmode": "overlay",
              "size": 10,
              "solidity": 0.2
             }
            },
            "type": "bar"
           }
          ],
          "barpolar": [
           {
            "marker": {
             "line": {
              "color": "#E5ECF6",
              "width": 0.5
             },
             "pattern": {
              "fillmode": "overlay",
              "size": 10,
              "solidity": 0.2
             }
            },
            "type": "barpolar"
           }
          ],
          "carpet": [
           {
            "aaxis": {
             "endlinecolor": "#2a3f5f",
             "gridcolor": "white",
             "linecolor": "white",
             "minorgridcolor": "white",
             "startlinecolor": "#2a3f5f"
            },
            "baxis": {
             "endlinecolor": "#2a3f5f",
             "gridcolor": "white",
             "linecolor": "white",
             "minorgridcolor": "white",
             "startlinecolor": "#2a3f5f"
            },
            "type": "carpet"
           }
          ],
          "choropleth": [
           {
            "colorbar": {
             "outlinewidth": 0,
             "ticks": ""
            },
            "type": "choropleth"
           }
          ],
          "contour": [
           {
            "colorbar": {
             "outlinewidth": 0,
             "ticks": ""
            },
            "colorscale": [
             [
              0,
              "#0d0887"
             ],
             [
              0.1111111111111111,
              "#46039f"
             ],
             [
              0.2222222222222222,
              "#7201a8"
             ],
             [
              0.3333333333333333,
              "#9c179e"
             ],
             [
              0.4444444444444444,
              "#bd3786"
             ],
             [
              0.5555555555555556,
              "#d8576b"
             ],
             [
              0.6666666666666666,
              "#ed7953"
             ],
             [
              0.7777777777777778,
              "#fb9f3a"
             ],
             [
              0.8888888888888888,
              "#fdca26"
             ],
             [
              1,
              "#f0f921"
             ]
            ],
            "type": "contour"
           }
          ],
          "contourcarpet": [
           {
            "colorbar": {
             "outlinewidth": 0,
             "ticks": ""
            },
            "type": "contourcarpet"
           }
          ],
          "heatmap": [
           {
            "colorbar": {
             "outlinewidth": 0,
             "ticks": ""
            },
            "colorscale": [
             [
              0,
              "#0d0887"
             ],
             [
              0.1111111111111111,
              "#46039f"
             ],
             [
              0.2222222222222222,
              "#7201a8"
             ],
             [
              0.3333333333333333,
              "#9c179e"
             ],
             [
              0.4444444444444444,
              "#bd3786"
             ],
             [
              0.5555555555555556,
              "#d8576b"
             ],
             [
              0.6666666666666666,
              "#ed7953"
             ],
             [
              0.7777777777777778,
              "#fb9f3a"
             ],
             [
              0.8888888888888888,
              "#fdca26"
             ],
             [
              1,
              "#f0f921"
             ]
            ],
            "type": "heatmap"
           }
          ],
          "histogram": [
           {
            "marker": {
             "pattern": {
              "fillmode": "overlay",
              "size": 10,
              "solidity": 0.2
             }
            },
            "type": "histogram"
           }
          ],
          "histogram2d": [
           {
            "colorbar": {
             "outlinewidth": 0,
             "ticks": ""
            },
            "colorscale": [
             [
              0,
              "#0d0887"
             ],
             [
              0.1111111111111111,
              "#46039f"
             ],
             [
              0.2222222222222222,
              "#7201a8"
             ],
             [
              0.3333333333333333,
              "#9c179e"
             ],
             [
              0.4444444444444444,
              "#bd3786"
             ],
             [
              0.5555555555555556,
              "#d8576b"
             ],
             [
              0.6666666666666666,
              "#ed7953"
             ],
             [
              0.7777777777777778,
              "#fb9f3a"
             ],
             [
              0.8888888888888888,
              "#fdca26"
             ],
             [
              1,
              "#f0f921"
             ]
            ],
            "type": "histogram2d"
           }
          ],
          "histogram2dcontour": [
           {
            "colorbar": {
             "outlinewidth": 0,
             "ticks": ""
            },
            "colorscale": [
             [
              0,
              "#0d0887"
             ],
             [
              0.1111111111111111,
              "#46039f"
             ],
             [
              0.2222222222222222,
              "#7201a8"
             ],
             [
              0.3333333333333333,
              "#9c179e"
             ],
             [
              0.4444444444444444,
              "#bd3786"
             ],
             [
              0.5555555555555556,
              "#d8576b"
             ],
             [
              0.6666666666666666,
              "#ed7953"
             ],
             [
              0.7777777777777778,
              "#fb9f3a"
             ],
             [
              0.8888888888888888,
              "#fdca26"
             ],
             [
              1,
              "#f0f921"
             ]
            ],
            "type": "histogram2dcontour"
           }
          ],
          "mesh3d": [
           {
            "colorbar": {
             "outlinewidth": 0,
             "ticks": ""
            },
            "type": "mesh3d"
           }
          ],
          "parcoords": [
           {
            "line": {
             "colorbar": {
              "outlinewidth": 0,
              "ticks": ""
             }
            },
            "type": "parcoords"
           }
          ],
          "pie": [
           {
            "automargin": true,
            "type": "pie"
           }
          ],
          "scatter": [
           {
            "fillpattern": {
             "fillmode": "overlay",
             "size": 10,
             "solidity": 0.2
            },
            "type": "scatter"
           }
          ],
          "scatter3d": [
           {
            "line": {
             "colorbar": {
              "outlinewidth": 0,
              "ticks": ""
             }
            },
            "marker": {
             "colorbar": {
              "outlinewidth": 0,
              "ticks": ""
             }
            },
            "type": "scatter3d"
           }
          ],
          "scattercarpet": [
           {
            "marker": {
             "colorbar": {
              "outlinewidth": 0,
              "ticks": ""
             }
            },
            "type": "scattercarpet"
           }
          ],
          "scattergeo": [
           {
            "marker": {
             "colorbar": {
              "outlinewidth": 0,
              "ticks": ""
             }
            },
            "type": "scattergeo"
           }
          ],
          "scattergl": [
           {
            "marker": {
             "colorbar": {
              "outlinewidth": 0,
              "ticks": ""
             }
            },
            "type": "scattergl"
           }
          ],
          "scattermap": [
           {
            "marker": {
             "colorbar": {
              "outlinewidth": 0,
              "ticks": ""
             }
            },
            "type": "scattermap"
           }
          ],
          "scattermapbox": [
           {
            "marker": {
             "colorbar": {
              "outlinewidth": 0,
              "ticks": ""
             }
            },
            "type": "scattermapbox"
           }
          ],
          "scatterpolar": [
           {
            "marker": {
             "colorbar": {
              "outlinewidth": 0,
              "ticks": ""
             }
            },
            "type": "scatterpolar"
           }
          ],
          "scatterpolargl": [
           {
            "marker": {
             "colorbar": {
              "outlinewidth": 0,
              "ticks": ""
             }
            },
            "type": "scatterpolargl"
           }
          ],
          "scatterternary": [
           {
            "marker": {
             "colorbar": {
              "outlinewidth": 0,
              "ticks": ""
             }
            },
            "type": "scatterternary"
           }
          ],
          "surface": [
           {
            "colorbar": {
             "outlinewidth": 0,
             "ticks": ""
            },
            "colorscale": [
             [
              0,
              "#0d0887"
             ],
             [
              0.1111111111111111,
              "#46039f"
             ],
             [
              0.2222222222222222,
              "#7201a8"
             ],
             [
              0.3333333333333333,
              "#9c179e"
             ],
             [
              0.4444444444444444,
              "#bd3786"
             ],
             [
              0.5555555555555556,
              "#d8576b"
             ],
             [
              0.6666666666666666,
              "#ed7953"
             ],
             [
              0.7777777777777778,
              "#fb9f3a"
             ],
             [
              0.8888888888888888,
              "#fdca26"
             ],
             [
              1,
              "#f0f921"
             ]
            ],
            "type": "surface"
           }
          ],
          "table": [
           {
            "cells": {
             "fill": {
              "color": "#EBF0F8"
             },
             "line": {
              "color": "white"
             }
            },
            "header": {
             "fill": {
              "color": "#C8D4E3"
             },
             "line": {
              "color": "white"
             }
            },
            "type": "table"
           }
          ]
         },
         "layout": {
          "annotationdefaults": {
           "arrowcolor": "#2a3f5f",
           "arrowhead": 0,
           "arrowwidth": 1
          },
          "autotypenumbers": "strict",
          "coloraxis": {
           "colorbar": {
            "outlinewidth": 0,
            "ticks": ""
           }
          },
          "colorscale": {
           "diverging": [
            [
             0,
             "#8e0152"
            ],
            [
             0.1,
             "#c51b7d"
            ],
            [
             0.2,
             "#de77ae"
            ],
            [
             0.3,
             "#f1b6da"
            ],
            [
             0.4,
             "#fde0ef"
            ],
            [
             0.5,
             "#f7f7f7"
            ],
            [
             0.6,
             "#e6f5d0"
            ],
            [
             0.7,
             "#b8e186"
            ],
            [
             0.8,
             "#7fbc41"
            ],
            [
             0.9,
             "#4d9221"
            ],
            [
             1,
             "#276419"
            ]
           ],
           "sequential": [
            [
             0,
             "#0d0887"
            ],
            [
             0.1111111111111111,
             "#46039f"
            ],
            [
             0.2222222222222222,
             "#7201a8"
            ],
            [
             0.3333333333333333,
             "#9c179e"
            ],
            [
             0.4444444444444444,
             "#bd3786"
            ],
            [
             0.5555555555555556,
             "#d8576b"
            ],
            [
             0.6666666666666666,
             "#ed7953"
            ],
            [
             0.7777777777777778,
             "#fb9f3a"
            ],
            [
             0.8888888888888888,
             "#fdca26"
            ],
            [
             1,
             "#f0f921"
            ]
           ],
           "sequentialminus": [
            [
             0,
             "#0d0887"
            ],
            [
             0.1111111111111111,
             "#46039f"
            ],
            [
             0.2222222222222222,
             "#7201a8"
            ],
            [
             0.3333333333333333,
             "#9c179e"
            ],
            [
             0.4444444444444444,
             "#bd3786"
            ],
            [
             0.5555555555555556,
             "#d8576b"
            ],
            [
             0.6666666666666666,
             "#ed7953"
            ],
            [
             0.7777777777777778,
             "#fb9f3a"
            ],
            [
             0.8888888888888888,
             "#fdca26"
            ],
            [
             1,
             "#f0f921"
            ]
           ]
          },
          "colorway": [
           "#636efa",
           "#EF553B",
           "#00cc96",
           "#ab63fa",
           "#FFA15A",
           "#19d3f3",
           "#FF6692",
           "#B6E880",
           "#FF97FF",
           "#FECB52"
          ],
          "font": {
           "color": "#2a3f5f"
          },
          "geo": {
           "bgcolor": "white",
           "lakecolor": "white",
           "landcolor": "#E5ECF6",
           "showlakes": true,
           "showland": true,
           "subunitcolor": "white"
          },
          "hoverlabel": {
           "align": "left"
          },
          "hovermode": "closest",
          "mapbox": {
           "style": "light"
          },
          "paper_bgcolor": "white",
          "plot_bgcolor": "#E5ECF6",
          "polar": {
           "angularaxis": {
            "gridcolor": "white",
            "linecolor": "white",
            "ticks": ""
           },
           "bgcolor": "#E5ECF6",
           "radialaxis": {
            "gridcolor": "white",
            "linecolor": "white",
            "ticks": ""
           }
          },
          "scene": {
           "xaxis": {
            "backgroundcolor": "#E5ECF6",
            "gridcolor": "white",
            "gridwidth": 2,
            "linecolor": "white",
            "showbackground": true,
            "ticks": "",
            "zerolinecolor": "white"
           },
           "yaxis": {
            "backgroundcolor": "#E5ECF6",
            "gridcolor": "white",
            "gridwidth": 2,
            "linecolor": "white",
            "showbackground": true,
            "ticks": "",
            "zerolinecolor": "white"
           },
           "zaxis": {
            "backgroundcolor": "#E5ECF6",
            "gridcolor": "white",
            "gridwidth": 2,
            "linecolor": "white",
            "showbackground": true,
            "ticks": "",
            "zerolinecolor": "white"
           }
          },
          "shapedefaults": {
           "line": {
            "color": "#2a3f5f"
           }
          },
          "ternary": {
           "aaxis": {
            "gridcolor": "white",
            "linecolor": "white",
            "ticks": ""
           },
           "baxis": {
            "gridcolor": "white",
            "linecolor": "white",
            "ticks": ""
           },
           "bgcolor": "#E5ECF6",
           "caxis": {
            "gridcolor": "white",
            "linecolor": "white",
            "ticks": ""
           }
          },
          "title": {
           "x": 0.05
          },
          "xaxis": {
           "automargin": true,
           "gridcolor": "white",
           "linecolor": "white",
           "ticks": "",
           "title": {
            "standoff": 15
           },
           "zerolinecolor": "white",
           "zerolinewidth": 2
          },
          "yaxis": {
           "automargin": true,
           "gridcolor": "white",
           "linecolor": "white",
           "ticks": "",
           "title": {
            "standoff": 15
           },
           "zerolinecolor": "white",
           "zerolinewidth": 2
          }
         }
        },
        "title": {
         "text": "MAE vs MFte for MFtr = 0.65"
        },
        "xaxis": {
         "title": {
          "text": "MFte"
         }
        },
        "yaxis": {
         "title": {
          "text": "MAE"
         }
        }
       }
      }
     },
     "metadata": {},
     "output_type": "display_data"
    },
    {
     "data": {
      "application/vnd.jupyter.widget-view+json": {
       "model_id": "cd1f9366a50e41b7aae16514947900da",
       "version_major": 2,
       "version_minor": 0
      },
      "text/plain": [
       "Dropdown(description='MFtr:', index=6, options=(0.05, 0.15, 0.25, 0.35, 0.45, 0.55, 0.65, 0.75, 0.85, 0.95, '0…"
      ]
     },
     "metadata": {},
     "output_type": "display_data"
    }
   ],
   "source": [
    "line_plot(grouped)"
   ]
  }
 ],
 "metadata": {
  "kernelspec": {
   "display_name": "venv",
   "language": "python",
   "name": "python3"
  },
  "language_info": {
   "codemirror_mode": {
    "name": "ipython",
    "version": 3
   },
   "file_extension": ".py",
   "mimetype": "text/x-python",
   "name": "python",
   "nbconvert_exporter": "python",
   "pygments_lexer": "ipython3",
   "version": "3.11.2"
  }
 },
 "nbformat": 4,
 "nbformat_minor": 2
}
