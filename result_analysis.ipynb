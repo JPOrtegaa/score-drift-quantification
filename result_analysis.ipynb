{
 "cells": [
  {
   "cell_type": "markdown",
   "metadata": {},
   "source": [
    "# Libraries"
   ]
  },
  {
   "cell_type": "code",
   "execution_count": 1,
   "metadata": {},
   "outputs": [],
   "source": [
    "import pandas as pd\n",
    "import numpy as np"
   ]
  },
  {
   "cell_type": "markdown",
   "metadata": {},
   "source": [
    "# Loading results"
   ]
  },
  {
   "cell_type": "code",
   "execution_count": null,
   "metadata": {},
   "outputs": [
    {
     "name": "stderr",
     "output_type": "stream",
     "text": [
      "C:\\Users\\joaop\\AppData\\Local\\Temp\\ipykernel_11116\\1831204099.py:5: DtypeWarning: Columns (1) have mixed types. Specify dtype option on import or set low_memory=False.\n",
      "  result_10_luiz = pd.read_csv('results_10_luiz.csv')\n"
     ]
    }
   ],
   "source": [
    "result_rafael = pd.read_csv('results_rafael.csv')\n",
    "result_10_rafael = pd.read_csv('results_10_rafael.csv')\n",
    "\n",
    "result_luiz = pd.read_csv('results_luiz.csv')\n",
    "result_10_luiz = pd.read_csv('results_10_luiz.csv')\n",
    "\n",
    "# result_rafael = pd.concat([result_rafael, result_10_rafael])\n",
    "# result_luiz = pd.concat([result_luiz, result_10_luiz])\n",
    "\n",
    "result_10_rafael = result_rafael[result_rafael['Qnt'] != 'DySyn-TS']\n",
    "result_10_luiz = result_luiz[result_luiz['Qnt'] != 'DySyn-TS']\n",
    "\n",
    "# Ensure the 'MAE' column is numeric\n",
    "result_rafael['MAE'] = pd.to_numeric(result_rafael['MAE'], errors='coerce')\n",
    "result_luiz['MAE'] = pd.to_numeric(result_luiz['MAE'], errors='coerce')\n",
    "\n",
    "grouped_rafael = result_rafael.groupby(['Qnt', 'MFte', 'MFtr']).agg({'MAE': 'mean'}).reset_index()\n",
    "grouped_luiz = result_luiz.groupby(['Qnt', 'MFte', 'MFtr']).agg({'MAE': 'mean'}).reset_index()\n",
    "\n",
    "grouped = pd.concat([grouped_rafael, grouped_luiz])"
   ]
  },
  {
   "cell_type": "markdown",
   "metadata": {},
   "source": [
    "# Plots"
   ]
  },
  {
   "cell_type": "markdown",
   "metadata": {},
   "source": [
    "## Line Plot"
   ]
  },
  {
   "cell_type": "code",
   "execution_count": 3,
   "metadata": {},
   "outputs": [],
   "source": [
    "import plotly.graph_objects as go\n",
    "import ipywidgets as widgets\n",
    "from IPython.display import display, clear_output\n",
    "\n",
    "def line_plot(grouped):\n",
    "    mftr_dropdown = widgets.Dropdown(\n",
    "        options=grouped['MFtr'].unique(),\n",
    "        description='MFtr:'\n",
    "    )\n",
    "\n",
    "    mftr_dropdown.value = grouped['MFtr'].unique()[0]\n",
    "\n",
    "    def update_plot(change):\n",
    "        selected_mftr = mftr_dropdown.value\n",
    "        filtered_data = grouped[grouped['MFtr'] == selected_mftr]\n",
    "\n",
    "        fig = go.Figure()\n",
    "        for qnt_val in filtered_data['Qnt'].unique():\n",
    "            qnt_data = filtered_data[filtered_data['Qnt'] == qnt_val]\n",
    "            fig.add_trace(go.Scatter(\n",
    "                x=qnt_data['MFte'], \n",
    "                y=qnt_data['MAE'], \n",
    "                mode='lines+markers', \n",
    "                name=qnt_val,\n",
    "                visible='legendonly'  # Set initial visibility to legendonly\n",
    "            ))\n",
    "\n",
    "        fig.update_layout(title=f'MAE vs MFte for MFtr = {selected_mftr}',\n",
    "                          xaxis_title='MFte',\n",
    "                          yaxis_title='MAE')\n",
    "\n",
    "        clear_output(wait=True)\n",
    "        display(fig)\n",
    "        display(mftr_dropdown)\n",
    "\n",
    "    mftr_dropdown.observe(update_plot, names='value')\n",
    "    display(mftr_dropdown)\n",
    "    update_plot(None)"
   ]
  },
  {
   "cell_type": "code",
   "execution_count": null,
   "metadata": {},
   "outputs": [
    {
     "data": {
      "application/vnd.plotly.v1+json": {
       "config": {
        "plotlyServerURL": "https://plot.ly"
       },
       "data": [
        {
         "mode": "lines+markers",
         "name": "ACCSyn-TS",
         "type": "scatter",
         "visible": "legendonly",
         "x": {
          "bdata": "mpmZmZmZqT8zMzMzMzPDPwAAAAAAANA/ZmZmZmZm1j/NzMzMzMzcP5uZmZmZmeE/zszMzMzM5D8CAAAAAADoPzUzMzMzM+s/aGZmZmZm7j8=",
          "dtype": "f8"
         },
         "y": {
          "bdata": "AAAAAAAAAABEc2eq2c1wPxuwARuwAYs/t/106TConD/OHAA1g2arP2Ldovp2PLQ/UC0ItpNuvD9kfQnL42/BP1PBroX04cg/JGnFic8r0D8=",
          "dtype": "f8"
         }
        },
        {
         "mode": "lines+markers",
         "name": "MAXSyn-TS",
         "type": "scatter",
         "visible": "legendonly",
         "x": {
          "bdata": "mpmZmZmZqT8zMzMzMzPDPwAAAAAAANA/ZmZmZmZm1j/NzMzMzMzcP5uZmZmZmeE/zszMzMzM5D8CAAAAAADoPzUzMzMzM+s/aGZmZmZm7j8=",
          "dtype": "f8"
         },
         "y": {
          "bdata": "AAAAAAAAAADgzJp5ZjRzP3jn3US0qpE/r4X04bgnpT/Yd33Xd323P7AKq7AKq8A/Ss0HsDNuxj89z/M8z/PMPytF7F14H9E/qK8tDhaU1D8=",
          "dtype": "f8"
         }
        },
        {
         "mode": "lines+markers",
         "name": "MS2Syn-TS",
         "type": "scatter",
         "visible": "legendonly",
         "x": {
          "bdata": "mpmZmZmZqT8zMzMzMzPDPwAAAAAAANA/ZmZmZmZm1j/NzMzMzMzcP5uZmZmZmeE/zszMzMzM5D8CAAAAAADoPzUzMzMzM+s/aGZmZmZm7j8=",
          "dtype": "f8"
         },
         "y": {
          "bdata": "AAAAAAAAAABFi+er8U1yP+loW4MC9Yw/6nQbhA61nT9TXQi5w26vPyPz/ruMmLU/A5F2z11DvD9pvPnOImDFP9TU5gYIGso/l9OfY6Bs0D8=",
          "dtype": "f8"
         }
        },
        {
         "mode": "lines+markers",
         "name": "SMMSyn-TS",
         "type": "scatter",
         "visible": "legendonly",
         "x": {
          "bdata": "mpmZmZmZqT8zMzMzMzPDPwAAAAAAANA/ZmZmZmZm1j/NzMzMzMzcP5uZmZmZmeE/zszMzMzM5D8CAAAAAADoPzUzMzMzM+s/aGZmZmZm7j8=",
          "dtype": "f8"
         },
         "y": {
          "bdata": "FlABFVABVT9Efyer5Y2BP1JXqLi9Do8/TQaYs2z+mT9rcwMEDZ2tPyLh3rp6eLQ/4/lqfJMEtj8RC7EQC7HAPz9X2gskp8g/xrXCkYKPzj8=",
          "dtype": "f8"
         }
        },
        {
         "mode": "lines+markers",
         "name": "T50Syn-TS",
         "type": "scatter",
         "visible": "legendonly",
         "x": {
          "bdata": "mpmZmZmZqT8zMzMzMzPDPwAAAAAAANA/ZmZmZmZm1j/NzMzMzMzcP5uZmZmZmeE/zszMzMzM5D8CAAAAAADoPzUzMzMzM+s/aGZmZmZm7j8=",
          "dtype": "f8"
         },
         "y": {
          "bdata": "Mk0GmLNszj94IsGrVfTOP6jhgHSuTdE/CQOX1s9j0z+rFLF34X3UP+m9EU8keNU/ZBDT/als1z9iwJ+V89LYP0XpLXgcYds/+nlslBMG3j8=",
          "dtype": "f8"
         }
        },
        {
         "mode": "lines+markers",
         "name": "XSyn-TS",
         "type": "scatter",
         "visible": "legendonly",
         "x": {
          "bdata": "mpmZmZmZqT8zMzMzMzPDPwAAAAAAANA/ZmZmZmZm1j/NzMzMzMzcP5uZmZmZmeE/zszMzMzM5D8CAAAAAADoPzUzMzMzM+s/aGZmZmZm7j8=",
          "dtype": "f8"
         },
         "y": {
          "bdata": "AAAAAAAAAABSS+i3sU5uP+Yg2366dIg/tNYE5wk4mj83CB1qO1CtP56y9jdMkLE/pzMHQM2guT8RERERERHBP6zovRFPJMg/5G8xStaX0D8=",
          "dtype": "f8"
         }
        }
       ],
       "layout": {
        "template": {
         "data": {
          "bar": [
           {
            "error_x": {
             "color": "#2a3f5f"
            },
            "error_y": {
             "color": "#2a3f5f"
            },
            "marker": {
             "line": {
              "color": "#E5ECF6",
              "width": 0.5
             },
             "pattern": {
              "fillmode": "overlay",
              "size": 10,
              "solidity": 0.2
             }
            },
            "type": "bar"
           }
          ],
          "barpolar": [
           {
            "marker": {
             "line": {
              "color": "#E5ECF6",
              "width": 0.5
             },
             "pattern": {
              "fillmode": "overlay",
              "size": 10,
              "solidity": 0.2
             }
            },
            "type": "barpolar"
           }
          ],
          "carpet": [
           {
            "aaxis": {
             "endlinecolor": "#2a3f5f",
             "gridcolor": "white",
             "linecolor": "white",
             "minorgridcolor": "white",
             "startlinecolor": "#2a3f5f"
            },
            "baxis": {
             "endlinecolor": "#2a3f5f",
             "gridcolor": "white",
             "linecolor": "white",
             "minorgridcolor": "white",
             "startlinecolor": "#2a3f5f"
            },
            "type": "carpet"
           }
          ],
          "choropleth": [
           {
            "colorbar": {
             "outlinewidth": 0,
             "ticks": ""
            },
            "type": "choropleth"
           }
          ],
          "contour": [
           {
            "colorbar": {
             "outlinewidth": 0,
             "ticks": ""
            },
            "colorscale": [
             [
              0,
              "#0d0887"
             ],
             [
              0.1111111111111111,
              "#46039f"
             ],
             [
              0.2222222222222222,
              "#7201a8"
             ],
             [
              0.3333333333333333,
              "#9c179e"
             ],
             [
              0.4444444444444444,
              "#bd3786"
             ],
             [
              0.5555555555555556,
              "#d8576b"
             ],
             [
              0.6666666666666666,
              "#ed7953"
             ],
             [
              0.7777777777777778,
              "#fb9f3a"
             ],
             [
              0.8888888888888888,
              "#fdca26"
             ],
             [
              1,
              "#f0f921"
             ]
            ],
            "type": "contour"
           }
          ],
          "contourcarpet": [
           {
            "colorbar": {
             "outlinewidth": 0,
             "ticks": ""
            },
            "type": "contourcarpet"
           }
          ],
          "heatmap": [
           {
            "colorbar": {
             "outlinewidth": 0,
             "ticks": ""
            },
            "colorscale": [
             [
              0,
              "#0d0887"
             ],
             [
              0.1111111111111111,
              "#46039f"
             ],
             [
              0.2222222222222222,
              "#7201a8"
             ],
             [
              0.3333333333333333,
              "#9c179e"
             ],
             [
              0.4444444444444444,
              "#bd3786"
             ],
             [
              0.5555555555555556,
              "#d8576b"
             ],
             [
              0.6666666666666666,
              "#ed7953"
             ],
             [
              0.7777777777777778,
              "#fb9f3a"
             ],
             [
              0.8888888888888888,
              "#fdca26"
             ],
             [
              1,
              "#f0f921"
             ]
            ],
            "type": "heatmap"
           }
          ],
          "histogram": [
           {
            "marker": {
             "pattern": {
              "fillmode": "overlay",
              "size": 10,
              "solidity": 0.2
             }
            },
            "type": "histogram"
           }
          ],
          "histogram2d": [
           {
            "colorbar": {
             "outlinewidth": 0,
             "ticks": ""
            },
            "colorscale": [
             [
              0,
              "#0d0887"
             ],
             [
              0.1111111111111111,
              "#46039f"
             ],
             [
              0.2222222222222222,
              "#7201a8"
             ],
             [
              0.3333333333333333,
              "#9c179e"
             ],
             [
              0.4444444444444444,
              "#bd3786"
             ],
             [
              0.5555555555555556,
              "#d8576b"
             ],
             [
              0.6666666666666666,
              "#ed7953"
             ],
             [
              0.7777777777777778,
              "#fb9f3a"
             ],
             [
              0.8888888888888888,
              "#fdca26"
             ],
             [
              1,
              "#f0f921"
             ]
            ],
            "type": "histogram2d"
           }
          ],
          "histogram2dcontour": [
           {
            "colorbar": {
             "outlinewidth": 0,
             "ticks": ""
            },
            "colorscale": [
             [
              0,
              "#0d0887"
             ],
             [
              0.1111111111111111,
              "#46039f"
             ],
             [
              0.2222222222222222,
              "#7201a8"
             ],
             [
              0.3333333333333333,
              "#9c179e"
             ],
             [
              0.4444444444444444,
              "#bd3786"
             ],
             [
              0.5555555555555556,
              "#d8576b"
             ],
             [
              0.6666666666666666,
              "#ed7953"
             ],
             [
              0.7777777777777778,
              "#fb9f3a"
             ],
             [
              0.8888888888888888,
              "#fdca26"
             ],
             [
              1,
              "#f0f921"
             ]
            ],
            "type": "histogram2dcontour"
           }
          ],
          "mesh3d": [
           {
            "colorbar": {
             "outlinewidth": 0,
             "ticks": ""
            },
            "type": "mesh3d"
           }
          ],
          "parcoords": [
           {
            "line": {
             "colorbar": {
              "outlinewidth": 0,
              "ticks": ""
             }
            },
            "type": "parcoords"
           }
          ],
          "pie": [
           {
            "automargin": true,
            "type": "pie"
           }
          ],
          "scatter": [
           {
            "fillpattern": {
             "fillmode": "overlay",
             "size": 10,
             "solidity": 0.2
            },
            "type": "scatter"
           }
          ],
          "scatter3d": [
           {
            "line": {
             "colorbar": {
              "outlinewidth": 0,
              "ticks": ""
             }
            },
            "marker": {
             "colorbar": {
              "outlinewidth": 0,
              "ticks": ""
             }
            },
            "type": "scatter3d"
           }
          ],
          "scattercarpet": [
           {
            "marker": {
             "colorbar": {
              "outlinewidth": 0,
              "ticks": ""
             }
            },
            "type": "scattercarpet"
           }
          ],
          "scattergeo": [
           {
            "marker": {
             "colorbar": {
              "outlinewidth": 0,
              "ticks": ""
             }
            },
            "type": "scattergeo"
           }
          ],
          "scattergl": [
           {
            "marker": {
             "colorbar": {
              "outlinewidth": 0,
              "ticks": ""
             }
            },
            "type": "scattergl"
           }
          ],
          "scattermap": [
           {
            "marker": {
             "colorbar": {
              "outlinewidth": 0,
              "ticks": ""
             }
            },
            "type": "scattermap"
           }
          ],
          "scattermapbox": [
           {
            "marker": {
             "colorbar": {
              "outlinewidth": 0,
              "ticks": ""
             }
            },
            "type": "scattermapbox"
           }
          ],
          "scatterpolar": [
           {
            "marker": {
             "colorbar": {
              "outlinewidth": 0,
              "ticks": ""
             }
            },
            "type": "scatterpolar"
           }
          ],
          "scatterpolargl": [
           {
            "marker": {
             "colorbar": {
              "outlinewidth": 0,
              "ticks": ""
             }
            },
            "type": "scatterpolargl"
           }
          ],
          "scatterternary": [
           {
            "marker": {
             "colorbar": {
              "outlinewidth": 0,
              "ticks": ""
             }
            },
            "type": "scatterternary"
           }
          ],
          "surface": [
           {
            "colorbar": {
             "outlinewidth": 0,
             "ticks": ""
            },
            "colorscale": [
             [
              0,
              "#0d0887"
             ],
             [
              0.1111111111111111,
              "#46039f"
             ],
             [
              0.2222222222222222,
              "#7201a8"
             ],
             [
              0.3333333333333333,
              "#9c179e"
             ],
             [
              0.4444444444444444,
              "#bd3786"
             ],
             [
              0.5555555555555556,
              "#d8576b"
             ],
             [
              0.6666666666666666,
              "#ed7953"
             ],
             [
              0.7777777777777778,
              "#fb9f3a"
             ],
             [
              0.8888888888888888,
              "#fdca26"
             ],
             [
              1,
              "#f0f921"
             ]
            ],
            "type": "surface"
           }
          ],
          "table": [
           {
            "cells": {
             "fill": {
              "color": "#EBF0F8"
             },
             "line": {
              "color": "white"
             }
            },
            "header": {
             "fill": {
              "color": "#C8D4E3"
             },
             "line": {
              "color": "white"
             }
            },
            "type": "table"
           }
          ]
         },
         "layout": {
          "annotationdefaults": {
           "arrowcolor": "#2a3f5f",
           "arrowhead": 0,
           "arrowwidth": 1
          },
          "autotypenumbers": "strict",
          "coloraxis": {
           "colorbar": {
            "outlinewidth": 0,
            "ticks": ""
           }
          },
          "colorscale": {
           "diverging": [
            [
             0,
             "#8e0152"
            ],
            [
             0.1,
             "#c51b7d"
            ],
            [
             0.2,
             "#de77ae"
            ],
            [
             0.3,
             "#f1b6da"
            ],
            [
             0.4,
             "#fde0ef"
            ],
            [
             0.5,
             "#f7f7f7"
            ],
            [
             0.6,
             "#e6f5d0"
            ],
            [
             0.7,
             "#b8e186"
            ],
            [
             0.8,
             "#7fbc41"
            ],
            [
             0.9,
             "#4d9221"
            ],
            [
             1,
             "#276419"
            ]
           ],
           "sequential": [
            [
             0,
             "#0d0887"
            ],
            [
             0.1111111111111111,
             "#46039f"
            ],
            [
             0.2222222222222222,
             "#7201a8"
            ],
            [
             0.3333333333333333,
             "#9c179e"
            ],
            [
             0.4444444444444444,
             "#bd3786"
            ],
            [
             0.5555555555555556,
             "#d8576b"
            ],
            [
             0.6666666666666666,
             "#ed7953"
            ],
            [
             0.7777777777777778,
             "#fb9f3a"
            ],
            [
             0.8888888888888888,
             "#fdca26"
            ],
            [
             1,
             "#f0f921"
            ]
           ],
           "sequentialminus": [
            [
             0,
             "#0d0887"
            ],
            [
             0.1111111111111111,
             "#46039f"
            ],
            [
             0.2222222222222222,
             "#7201a8"
            ],
            [
             0.3333333333333333,
             "#9c179e"
            ],
            [
             0.4444444444444444,
             "#bd3786"
            ],
            [
             0.5555555555555556,
             "#d8576b"
            ],
            [
             0.6666666666666666,
             "#ed7953"
            ],
            [
             0.7777777777777778,
             "#fb9f3a"
            ],
            [
             0.8888888888888888,
             "#fdca26"
            ],
            [
             1,
             "#f0f921"
            ]
           ]
          },
          "colorway": [
           "#636efa",
           "#EF553B",
           "#00cc96",
           "#ab63fa",
           "#FFA15A",
           "#19d3f3",
           "#FF6692",
           "#B6E880",
           "#FF97FF",
           "#FECB52"
          ],
          "font": {
           "color": "#2a3f5f"
          },
          "geo": {
           "bgcolor": "white",
           "lakecolor": "white",
           "landcolor": "#E5ECF6",
           "showlakes": true,
           "showland": true,
           "subunitcolor": "white"
          },
          "hoverlabel": {
           "align": "left"
          },
          "hovermode": "closest",
          "mapbox": {
           "style": "light"
          },
          "paper_bgcolor": "white",
          "plot_bgcolor": "#E5ECF6",
          "polar": {
           "angularaxis": {
            "gridcolor": "white",
            "linecolor": "white",
            "ticks": ""
           },
           "bgcolor": "#E5ECF6",
           "radialaxis": {
            "gridcolor": "white",
            "linecolor": "white",
            "ticks": ""
           }
          },
          "scene": {
           "xaxis": {
            "backgroundcolor": "#E5ECF6",
            "gridcolor": "white",
            "gridwidth": 2,
            "linecolor": "white",
            "showbackground": true,
            "ticks": "",
            "zerolinecolor": "white"
           },
           "yaxis": {
            "backgroundcolor": "#E5ECF6",
            "gridcolor": "white",
            "gridwidth": 2,
            "linecolor": "white",
            "showbackground": true,
            "ticks": "",
            "zerolinecolor": "white"
           },
           "zaxis": {
            "backgroundcolor": "#E5ECF6",
            "gridcolor": "white",
            "gridwidth": 2,
            "linecolor": "white",
            "showbackground": true,
            "ticks": "",
            "zerolinecolor": "white"
           }
          },
          "shapedefaults": {
           "line": {
            "color": "#2a3f5f"
           }
          },
          "ternary": {
           "aaxis": {
            "gridcolor": "white",
            "linecolor": "white",
            "ticks": ""
           },
           "baxis": {
            "gridcolor": "white",
            "linecolor": "white",
            "ticks": ""
           },
           "bgcolor": "#E5ECF6",
           "caxis": {
            "gridcolor": "white",
            "linecolor": "white",
            "ticks": ""
           }
          },
          "title": {
           "x": 0.05
          },
          "xaxis": {
           "automargin": true,
           "gridcolor": "white",
           "linecolor": "white",
           "ticks": "",
           "title": {
            "standoff": 15
           },
           "zerolinecolor": "white",
           "zerolinewidth": 2
          },
          "yaxis": {
           "automargin": true,
           "gridcolor": "white",
           "linecolor": "white",
           "ticks": "",
           "title": {
            "standoff": 15
           },
           "zerolinecolor": "white",
           "zerolinewidth": 2
          }
         }
        },
        "title": {
         "text": "MAE vs MFte for MFtr = 0.95"
        },
        "xaxis": {
         "title": {
          "text": "MFte"
         }
        },
        "yaxis": {
         "title": {
          "text": "MAE"
         }
        }
       }
      }
     },
     "metadata": {},
     "output_type": "display_data"
    },
    {
     "data": {
      "application/vnd.jupyter.widget-view+json": {
       "model_id": "d8960c83176349c694bae1ca69e759fb",
       "version_major": 2,
       "version_minor": 0
      },
      "text/plain": [
       "Dropdown(description='MFtr:', index=9, options=(np.float64(0.05), np.float64(0.15), np.float64(0.25), np.float…"
      ]
     },
     "metadata": {},
     "output_type": "display_data"
    }
   ],
   "source": [
    "line_plot(grouped_rafael)"
   ]
  },
  {
   "cell_type": "code",
   "execution_count": 5,
   "metadata": {},
   "outputs": [
    {
     "data": {
      "application/vnd.plotly.v1+json": {
       "config": {
        "plotlyServerURL": "https://plot.ly"
       },
       "data": [
        {
         "mode": "lines+markers",
         "name": "ACC",
         "type": "scatter",
         "visible": "legendonly",
         "x": [
          0.05,
          0.15,
          0.25,
          0.35,
          0.45,
          0.5500000000000002,
          0.6500000000000001,
          0.7500000000000002,
          0.8500000000000002,
          0.9500000000000002,
          "0.05",
          "0.15000000000000002",
          "0.25000000000000006",
          "0.35000000000000003",
          "0.45000000000000007",
          "0.5500000000000002",
          "0.6500000000000001",
          "0.7500000000000002",
          "0.8500000000000002",
          "0.9500000000000002"
         ],
         "y": {
          "bdata": "txe82QQVuz91HEgFORm6P1diJVZiJbY/LpLepAlWrD8yvWxl8J+oPzweSgjrFrU/9fg5Sk6Pvz8VUiEVUiHFP2rTevFbA8o/Ekz0d7Jazj+amZmZmZmZP5qZmZmZmZk/HtRBHdRBnT8e1EEd1EGdP+DJanljBJM/VVVVVVVVtT8yvWxl8J/IP6EO6qAO6tA/wvUoXI/C1T8VJA6vvafYPw==",
          "dtype": "f8"
         }
        },
        {
         "mode": "lines+markers",
         "name": "CC",
         "type": "scatter",
         "visible": "legendonly",
         "x": [
          0.05,
          0.15,
          0.25,
          0.35,
          0.45,
          0.5500000000000002,
          0.6500000000000001,
          0.7500000000000002,
          0.8500000000000002,
          0.9500000000000002,
          "0.05",
          "0.15000000000000002",
          "0.25000000000000006",
          "0.35000000000000003",
          "0.45000000000000007",
          "0.5500000000000002",
          "0.6500000000000001",
          "0.7500000000000002",
          "0.8500000000000002",
          "0.9500000000000002"
         ],
         "y": {
          "bdata": "AAAAAAAAAADtWIEw0o51P1Nc+LjCXp8/L35rQI98sT8FrBWwVsC6P/SwhuKfdcE/L4ksYrxfxT9EiNntMoTIP/uxH/uxH8s/nD+CrFCTzT8AAAAAAAAAADvfT42XboI/xGvvKdJVsD+KOTK9bGXAP84HsDNuFso/wQmcwAmc0D9bGfwn5sjUP3UVJA6vvdc/yEMJYd2i2j9AMUeml63cPw==",
          "dtype": "f8"
         }
        },
        {
         "mode": "lines+markers",
         "name": "DyS-TS",
         "type": "scatter",
         "visible": "legendonly",
         "x": [
          0.05,
          0.15,
          0.25,
          0.35,
          0.45,
          0.5500000000000002,
          0.6500000000000001,
          0.7500000000000002,
          0.8500000000000002,
          0.9500000000000002,
          "0.05",
          "0.15000000000000002",
          "0.25000000000000006",
          "0.35000000000000003",
          "0.45000000000000007",
          "0.5500000000000002",
          "0.6500000000000001",
          "0.7500000000000002",
          "0.8500000000000002",
          "0.9500000000000002"
         ],
         "y": {
          "bdata": "/l2o6gk8lT9NkWRNPlKjPyUD7pt6ZaM/QYS7L3Oqnj/sjJuFJjWfP2INxT/roq0/jQR882riuT/Vz3TEvmPDP/mKr/iKr8g/f21Pblw+zT+4HoXrUbiOP1pkO99PjZc/GIZhGIZhmD97FK5H4XqUP96i+nY8lIA/RX8nq+WNsT/mjRFM9HfCP3RketnK4M8/BU7gBE7g1D9AbCoNOffZPw==",
          "dtype": "f8"
         }
        },
        {
         "mode": "lines+markers",
         "name": "MAX",
         "type": "scatter",
         "visible": "legendonly",
         "x": [
          0.05,
          0.15,
          0.25,
          0.35,
          0.45,
          0.5500000000000002,
          0.6500000000000001,
          0.7500000000000002,
          0.8500000000000002,
          0.9500000000000002,
          "0.05",
          "0.15000000000000002",
          "0.25000000000000006",
          "0.35000000000000003",
          "0.45000000000000007",
          "0.5500000000000002",
          "0.6500000000000001",
          "0.7500000000000002",
          "0.8500000000000002",
          "0.9500000000000002"
         ],
         "y": {
          "bdata": "txe82QQVuz8AEl8CxhW6P2ctkt6kCbY/6mUrg//ErD+UMyhyEQawP7TSs8XjxLY/5g6ZO2TuwD9BYWnrCxTGP+nZ4nFia8o/JbKI8X5Vzj+amZmZmZmZP5qZmZmZmZk/HtRBHdRBnT8e1EEd1EGdP3sUrkfhepQ/OffZBcSmsj+dNtBpA53GP+NmoUnNB9A/tUZrtEZr1D+lIec+u4DYPw==",
          "dtype": "f8"
         }
        },
        {
         "mode": "lines+markers",
         "name": "MS2",
         "type": "scatter",
         "visible": "legendonly",
         "x": [
          0.05,
          0.15,
          0.25,
          0.35,
          0.45,
          0.5500000000000002,
          0.6500000000000001,
          0.7500000000000002,
          0.8500000000000002,
          0.9500000000000002,
          "0.05",
          "0.15000000000000002",
          "0.25000000000000006",
          "0.35000000000000003",
          "0.45000000000000007",
          "0.5500000000000002",
          "0.6500000000000001",
          "0.7500000000000002",
          "0.8500000000000002",
          "0.9500000000000002"
         ],
         "y": {
          "bdata": "txe82QQVuz9miiRr8pG6P57EJ1qA47U/6mUrg//ErD9mK4P/xBypP9mEPLdiGrU/DM7xLfATwD//wg26fsnFP9qczdmczck/Ra06EXoHzj+amZmZmZmZP5qZmZmZmZk/HtRBHdRBnT8e1EEd1EGdPxiGYRiGYZg/rFtU346Hsj+SroLE4bXHP8EJnMAJnNA/roLE4bX31D9xeO09RbraPw==",
          "dtype": "f8"
         }
        },
        {
         "mode": "lines+markers",
         "name": "SMM",
         "type": "scatter",
         "visible": "legendonly",
         "x": [
          0.05,
          0.15,
          0.25,
          0.35,
          0.45,
          0.5500000000000002,
          0.6500000000000001,
          0.7500000000000002,
          0.8500000000000002,
          0.9500000000000002,
          "0.05",
          "0.15000000000000002",
          "0.25000000000000006",
          "0.35000000000000003",
          "0.45000000000000007",
          "0.5500000000000002",
          "0.6500000000000001",
          "0.7500000000000002",
          "0.8500000000000002",
          "0.9500000000000002"
         ],
         "y": {
          "bdata": "pq0jI3aIwj9a/8ni+K2+P8Jn0WsSfLY/CLv0j0N9qD9Is2euGc6kP3n6DUbH2rI/Ce0ltJfQvj/35Mbl07XEPzw22yolysk/32s1zlokzT+amZmZmZmZP5qZmZmZmZk/HtRBHdRBnT8e1EEd1EGdP7X3FOkqSIw/2I/92I/9uD/RpOYD2BnHP56sljdGMNE/xVd8xVd81T9aozVaozXaPw==",
          "dtype": "f8"
         }
        },
        {
         "mode": "lines+markers",
         "name": "T50",
         "type": "scatter",
         "visible": "legendonly",
         "x": [
          0.05,
          0.15,
          0.25,
          0.35,
          0.45,
          0.5500000000000002,
          0.6500000000000001,
          0.7500000000000002,
          0.8500000000000002,
          0.9500000000000002,
          "0.05",
          "0.15000000000000002",
          "0.25000000000000006",
          "0.35000000000000003",
          "0.45000000000000007",
          "0.5500000000000002",
          "0.6500000000000001",
          "0.7500000000000002",
          "0.8500000000000002",
          "0.9500000000000002"
         ],
         "y": {
          "bdata": "1e+5JU79zj9P4Kloo0zPP0V/J6vljdE/oeDWOnpw1D/SeOJ8I43XP1Wmuv9QZdo/TP841IfB3D8XVj/TEfvePwodSPkLN+A/ilyEAdT74D+amZmZmZmZP5qZmZmZmZk/HtRBHdRBnT8e1EEd1EGdPx7UQR3UQZ0/HtRBHdRBnT8e1EEd1EGdPx7UQR3UQZ0/HtRBHdRBnT9RQli3qL6dPw==",
          "dtype": "f8"
         }
        },
        {
         "mode": "lines+markers",
         "name": "X",
         "type": "scatter",
         "visible": "legendonly",
         "x": [
          0.05,
          0.15,
          0.25,
          0.35,
          0.45,
          0.5500000000000002,
          0.6500000000000001,
          0.7500000000000002,
          0.8500000000000002,
          0.9500000000000002,
          "0.05",
          "0.15000000000000002",
          "0.25000000000000006",
          "0.35000000000000003",
          "0.45000000000000007",
          "0.5500000000000002",
          "0.6500000000000001",
          "0.7500000000000002",
          "0.8500000000000002",
          "0.9500000000000002"
         ],
         "y": {
          "bdata": "YVELMX98uz8mPJ6clcy6Pw3zUlE3l7U/kS371HE/qT/lJBt/vrSYP4zUWa72e7A/7qhKZiDCvT/5ch7WUPzDP1skvUkTrMg/ezcAjEgRzT+amZmZmZmZP5qZmZmZmZk/HtRBHdRBnT+39xTpKkicP0eml60M/pM/YPEVX/EVvz9PG+i0gU7LP9RBHdRBHdQ/lzdGMNHf2T8JYd2i+nbcPw==",
          "dtype": "f8"
         }
        }
       ],
       "layout": {
        "template": {
         "data": {
          "bar": [
           {
            "error_x": {
             "color": "#2a3f5f"
            },
            "error_y": {
             "color": "#2a3f5f"
            },
            "marker": {
             "line": {
              "color": "#E5ECF6",
              "width": 0.5
             },
             "pattern": {
              "fillmode": "overlay",
              "size": 10,
              "solidity": 0.2
             }
            },
            "type": "bar"
           }
          ],
          "barpolar": [
           {
            "marker": {
             "line": {
              "color": "#E5ECF6",
              "width": 0.5
             },
             "pattern": {
              "fillmode": "overlay",
              "size": 10,
              "solidity": 0.2
             }
            },
            "type": "barpolar"
           }
          ],
          "carpet": [
           {
            "aaxis": {
             "endlinecolor": "#2a3f5f",
             "gridcolor": "white",
             "linecolor": "white",
             "minorgridcolor": "white",
             "startlinecolor": "#2a3f5f"
            },
            "baxis": {
             "endlinecolor": "#2a3f5f",
             "gridcolor": "white",
             "linecolor": "white",
             "minorgridcolor": "white",
             "startlinecolor": "#2a3f5f"
            },
            "type": "carpet"
           }
          ],
          "choropleth": [
           {
            "colorbar": {
             "outlinewidth": 0,
             "ticks": ""
            },
            "type": "choropleth"
           }
          ],
          "contour": [
           {
            "colorbar": {
             "outlinewidth": 0,
             "ticks": ""
            },
            "colorscale": [
             [
              0,
              "#0d0887"
             ],
             [
              0.1111111111111111,
              "#46039f"
             ],
             [
              0.2222222222222222,
              "#7201a8"
             ],
             [
              0.3333333333333333,
              "#9c179e"
             ],
             [
              0.4444444444444444,
              "#bd3786"
             ],
             [
              0.5555555555555556,
              "#d8576b"
             ],
             [
              0.6666666666666666,
              "#ed7953"
             ],
             [
              0.7777777777777778,
              "#fb9f3a"
             ],
             [
              0.8888888888888888,
              "#fdca26"
             ],
             [
              1,
              "#f0f921"
             ]
            ],
            "type": "contour"
           }
          ],
          "contourcarpet": [
           {
            "colorbar": {
             "outlinewidth": 0,
             "ticks": ""
            },
            "type": "contourcarpet"
           }
          ],
          "heatmap": [
           {
            "colorbar": {
             "outlinewidth": 0,
             "ticks": ""
            },
            "colorscale": [
             [
              0,
              "#0d0887"
             ],
             [
              0.1111111111111111,
              "#46039f"
             ],
             [
              0.2222222222222222,
              "#7201a8"
             ],
             [
              0.3333333333333333,
              "#9c179e"
             ],
             [
              0.4444444444444444,
              "#bd3786"
             ],
             [
              0.5555555555555556,
              "#d8576b"
             ],
             [
              0.6666666666666666,
              "#ed7953"
             ],
             [
              0.7777777777777778,
              "#fb9f3a"
             ],
             [
              0.8888888888888888,
              "#fdca26"
             ],
             [
              1,
              "#f0f921"
             ]
            ],
            "type": "heatmap"
           }
          ],
          "histogram": [
           {
            "marker": {
             "pattern": {
              "fillmode": "overlay",
              "size": 10,
              "solidity": 0.2
             }
            },
            "type": "histogram"
           }
          ],
          "histogram2d": [
           {
            "colorbar": {
             "outlinewidth": 0,
             "ticks": ""
            },
            "colorscale": [
             [
              0,
              "#0d0887"
             ],
             [
              0.1111111111111111,
              "#46039f"
             ],
             [
              0.2222222222222222,
              "#7201a8"
             ],
             [
              0.3333333333333333,
              "#9c179e"
             ],
             [
              0.4444444444444444,
              "#bd3786"
             ],
             [
              0.5555555555555556,
              "#d8576b"
             ],
             [
              0.6666666666666666,
              "#ed7953"
             ],
             [
              0.7777777777777778,
              "#fb9f3a"
             ],
             [
              0.8888888888888888,
              "#fdca26"
             ],
             [
              1,
              "#f0f921"
             ]
            ],
            "type": "histogram2d"
           }
          ],
          "histogram2dcontour": [
           {
            "colorbar": {
             "outlinewidth": 0,
             "ticks": ""
            },
            "colorscale": [
             [
              0,
              "#0d0887"
             ],
             [
              0.1111111111111111,
              "#46039f"
             ],
             [
              0.2222222222222222,
              "#7201a8"
             ],
             [
              0.3333333333333333,
              "#9c179e"
             ],
             [
              0.4444444444444444,
              "#bd3786"
             ],
             [
              0.5555555555555556,
              "#d8576b"
             ],
             [
              0.6666666666666666,
              "#ed7953"
             ],
             [
              0.7777777777777778,
              "#fb9f3a"
             ],
             [
              0.8888888888888888,
              "#fdca26"
             ],
             [
              1,
              "#f0f921"
             ]
            ],
            "type": "histogram2dcontour"
           }
          ],
          "mesh3d": [
           {
            "colorbar": {
             "outlinewidth": 0,
             "ticks": ""
            },
            "type": "mesh3d"
           }
          ],
          "parcoords": [
           {
            "line": {
             "colorbar": {
              "outlinewidth": 0,
              "ticks": ""
             }
            },
            "type": "parcoords"
           }
          ],
          "pie": [
           {
            "automargin": true,
            "type": "pie"
           }
          ],
          "scatter": [
           {
            "fillpattern": {
             "fillmode": "overlay",
             "size": 10,
             "solidity": 0.2
            },
            "type": "scatter"
           }
          ],
          "scatter3d": [
           {
            "line": {
             "colorbar": {
              "outlinewidth": 0,
              "ticks": ""
             }
            },
            "marker": {
             "colorbar": {
              "outlinewidth": 0,
              "ticks": ""
             }
            },
            "type": "scatter3d"
           }
          ],
          "scattercarpet": [
           {
            "marker": {
             "colorbar": {
              "outlinewidth": 0,
              "ticks": ""
             }
            },
            "type": "scattercarpet"
           }
          ],
          "scattergeo": [
           {
            "marker": {
             "colorbar": {
              "outlinewidth": 0,
              "ticks": ""
             }
            },
            "type": "scattergeo"
           }
          ],
          "scattergl": [
           {
            "marker": {
             "colorbar": {
              "outlinewidth": 0,
              "ticks": ""
             }
            },
            "type": "scattergl"
           }
          ],
          "scattermap": [
           {
            "marker": {
             "colorbar": {
              "outlinewidth": 0,
              "ticks": ""
             }
            },
            "type": "scattermap"
           }
          ],
          "scattermapbox": [
           {
            "marker": {
             "colorbar": {
              "outlinewidth": 0,
              "ticks": ""
             }
            },
            "type": "scattermapbox"
           }
          ],
          "scatterpolar": [
           {
            "marker": {
             "colorbar": {
              "outlinewidth": 0,
              "ticks": ""
             }
            },
            "type": "scatterpolar"
           }
          ],
          "scatterpolargl": [
           {
            "marker": {
             "colorbar": {
              "outlinewidth": 0,
              "ticks": ""
             }
            },
            "type": "scatterpolargl"
           }
          ],
          "scatterternary": [
           {
            "marker": {
             "colorbar": {
              "outlinewidth": 0,
              "ticks": ""
             }
            },
            "type": "scatterternary"
           }
          ],
          "surface": [
           {
            "colorbar": {
             "outlinewidth": 0,
             "ticks": ""
            },
            "colorscale": [
             [
              0,
              "#0d0887"
             ],
             [
              0.1111111111111111,
              "#46039f"
             ],
             [
              0.2222222222222222,
              "#7201a8"
             ],
             [
              0.3333333333333333,
              "#9c179e"
             ],
             [
              0.4444444444444444,
              "#bd3786"
             ],
             [
              0.5555555555555556,
              "#d8576b"
             ],
             [
              0.6666666666666666,
              "#ed7953"
             ],
             [
              0.7777777777777778,
              "#fb9f3a"
             ],
             [
              0.8888888888888888,
              "#fdca26"
             ],
             [
              1,
              "#f0f921"
             ]
            ],
            "type": "surface"
           }
          ],
          "table": [
           {
            "cells": {
             "fill": {
              "color": "#EBF0F8"
             },
             "line": {
              "color": "white"
             }
            },
            "header": {
             "fill": {
              "color": "#C8D4E3"
             },
             "line": {
              "color": "white"
             }
            },
            "type": "table"
           }
          ]
         },
         "layout": {
          "annotationdefaults": {
           "arrowcolor": "#2a3f5f",
           "arrowhead": 0,
           "arrowwidth": 1
          },
          "autotypenumbers": "strict",
          "coloraxis": {
           "colorbar": {
            "outlinewidth": 0,
            "ticks": ""
           }
          },
          "colorscale": {
           "diverging": [
            [
             0,
             "#8e0152"
            ],
            [
             0.1,
             "#c51b7d"
            ],
            [
             0.2,
             "#de77ae"
            ],
            [
             0.3,
             "#f1b6da"
            ],
            [
             0.4,
             "#fde0ef"
            ],
            [
             0.5,
             "#f7f7f7"
            ],
            [
             0.6,
             "#e6f5d0"
            ],
            [
             0.7,
             "#b8e186"
            ],
            [
             0.8,
             "#7fbc41"
            ],
            [
             0.9,
             "#4d9221"
            ],
            [
             1,
             "#276419"
            ]
           ],
           "sequential": [
            [
             0,
             "#0d0887"
            ],
            [
             0.1111111111111111,
             "#46039f"
            ],
            [
             0.2222222222222222,
             "#7201a8"
            ],
            [
             0.3333333333333333,
             "#9c179e"
            ],
            [
             0.4444444444444444,
             "#bd3786"
            ],
            [
             0.5555555555555556,
             "#d8576b"
            ],
            [
             0.6666666666666666,
             "#ed7953"
            ],
            [
             0.7777777777777778,
             "#fb9f3a"
            ],
            [
             0.8888888888888888,
             "#fdca26"
            ],
            [
             1,
             "#f0f921"
            ]
           ],
           "sequentialminus": [
            [
             0,
             "#0d0887"
            ],
            [
             0.1111111111111111,
             "#46039f"
            ],
            [
             0.2222222222222222,
             "#7201a8"
            ],
            [
             0.3333333333333333,
             "#9c179e"
            ],
            [
             0.4444444444444444,
             "#bd3786"
            ],
            [
             0.5555555555555556,
             "#d8576b"
            ],
            [
             0.6666666666666666,
             "#ed7953"
            ],
            [
             0.7777777777777778,
             "#fb9f3a"
            ],
            [
             0.8888888888888888,
             "#fdca26"
            ],
            [
             1,
             "#f0f921"
            ]
           ]
          },
          "colorway": [
           "#636efa",
           "#EF553B",
           "#00cc96",
           "#ab63fa",
           "#FFA15A",
           "#19d3f3",
           "#FF6692",
           "#B6E880",
           "#FF97FF",
           "#FECB52"
          ],
          "font": {
           "color": "#2a3f5f"
          },
          "geo": {
           "bgcolor": "white",
           "lakecolor": "white",
           "landcolor": "#E5ECF6",
           "showlakes": true,
           "showland": true,
           "subunitcolor": "white"
          },
          "hoverlabel": {
           "align": "left"
          },
          "hovermode": "closest",
          "mapbox": {
           "style": "light"
          },
          "paper_bgcolor": "white",
          "plot_bgcolor": "#E5ECF6",
          "polar": {
           "angularaxis": {
            "gridcolor": "white",
            "linecolor": "white",
            "ticks": ""
           },
           "bgcolor": "#E5ECF6",
           "radialaxis": {
            "gridcolor": "white",
            "linecolor": "white",
            "ticks": ""
           }
          },
          "scene": {
           "xaxis": {
            "backgroundcolor": "#E5ECF6",
            "gridcolor": "white",
            "gridwidth": 2,
            "linecolor": "white",
            "showbackground": true,
            "ticks": "",
            "zerolinecolor": "white"
           },
           "yaxis": {
            "backgroundcolor": "#E5ECF6",
            "gridcolor": "white",
            "gridwidth": 2,
            "linecolor": "white",
            "showbackground": true,
            "ticks": "",
            "zerolinecolor": "white"
           },
           "zaxis": {
            "backgroundcolor": "#E5ECF6",
            "gridcolor": "white",
            "gridwidth": 2,
            "linecolor": "white",
            "showbackground": true,
            "ticks": "",
            "zerolinecolor": "white"
           }
          },
          "shapedefaults": {
           "line": {
            "color": "#2a3f5f"
           }
          },
          "ternary": {
           "aaxis": {
            "gridcolor": "white",
            "linecolor": "white",
            "ticks": ""
           },
           "baxis": {
            "gridcolor": "white",
            "linecolor": "white",
            "ticks": ""
           },
           "bgcolor": "#E5ECF6",
           "caxis": {
            "gridcolor": "white",
            "linecolor": "white",
            "ticks": ""
           }
          },
          "title": {
           "x": 0.05
          },
          "xaxis": {
           "automargin": true,
           "gridcolor": "white",
           "linecolor": "white",
           "ticks": "",
           "title": {
            "standoff": 15
           },
           "zerolinecolor": "white",
           "zerolinewidth": 2
          },
          "yaxis": {
           "automargin": true,
           "gridcolor": "white",
           "linecolor": "white",
           "ticks": "",
           "title": {
            "standoff": 15
           },
           "zerolinecolor": "white",
           "zerolinewidth": 2
          }
         }
        },
        "title": {
         "text": "MAE vs MFte for MFtr = 0.45"
        },
        "xaxis": {
         "title": {
          "text": "MFte"
         }
        },
        "yaxis": {
         "title": {
          "text": "MAE"
         }
        }
       }
      }
     },
     "metadata": {},
     "output_type": "display_data"
    },
    {
     "data": {
      "application/vnd.jupyter.widget-view+json": {
       "model_id": "73c0f409053145bfa9c65cfef55fa9da",
       "version_major": 2,
       "version_minor": 0
      },
      "text/plain": [
       "Dropdown(description='MFtr:', index=3, options=(0.05, 0.25, 0.35, 0.45, 0.55, 0.65, 0.95, '0.05', '0.15', '0.2…"
      ]
     },
     "metadata": {},
     "output_type": "display_data"
    }
   ],
   "source": [
    "line_plot(grouped_luiz)"
   ]
  },
  {
   "cell_type": "code",
   "execution_count": 6,
   "metadata": {},
   "outputs": [
    {
     "data": {
      "application/vnd.plotly.v1+json": {
       "config": {
        "plotlyServerURL": "https://plot.ly"
       },
       "data": [
        {
         "mode": "lines+markers",
         "name": "ACCSyn-TS",
         "type": "scatter",
         "visible": "legendonly",
         "x": [
          0.05,
          0.15,
          0.25,
          0.35,
          0.45,
          0.5500000000000002,
          0.6500000000000001,
          0.7500000000000002,
          0.8500000000000002,
          0.9500000000000002
         ],
         "y": {
          "bdata": "AAAAAAAAAAATLMESLMFyP4KMLk9Z+4s/twCl6TPYnD/QAi3QAi2wP5RFWZRFWbQ/zhnQNIA2uz+g1jY6cNDDP5h7uZd7ucc/YQM2YAM20D8=",
          "dtype": "f8"
         }
        },
        {
         "mode": "lines+markers",
         "name": "MAXSyn-TS",
         "type": "scatter",
         "visible": "legendonly",
         "x": [
          0.05,
          0.15,
          0.25,
          0.35,
          0.45,
          0.5500000000000002,
          0.6500000000000001,
          0.7500000000000002,
          0.8500000000000002,
          0.9500000000000002
         ],
         "y": {
          "bdata": "AAAAAAAAAAASIAESIAFyP9/DCnldpJI/Sb4XryR+pT+KzyvwNZK2P2tE4J13E8E/6tJhUDnIxj+PFHz0euLKP4tF8r14JdE/F6aUfQz70z8=",
          "dtype": "f8"
         }
        },
        {
         "mode": "lines+markers",
         "name": "MS2Syn-TS",
         "type": "scatter",
         "visible": "legendonly",
         "x": [
          0.05,
          0.15,
          0.25,
          0.35,
          0.45,
          0.5500000000000002,
          0.6500000000000001,
          0.7500000000000002,
          0.8500000000000002,
          0.9500000000000002
         ],
         "y": {
          "bdata": "AAAAAAAAAACsVfTeiCdyPx7aoR3aoY0/6V/LgvlknD9ROci2ny6tP/CT2CLHC7Y/dxPRqkYEvj+B4eQae37EP9TU5gYIGso/COW21LGD0T8=",
          "dtype": "f8"
         }
        },
        {
         "mode": "lines+markers",
         "name": "SMMSyn-TS",
         "type": "scatter",
         "visible": "legendonly",
         "x": [
          0.05,
          0.15,
          0.25,
          0.35,
          0.45,
          0.5500000000000002,
          0.6500000000000001,
          0.7500000000000002,
          0.8500000000000002,
          0.9500000000000002
         ],
         "y": {
          "bdata": "5iybf8Y0ST+5IbXrVOh+P1JRSLi3ro4/TxvotIFOmz8anuEZnuGpP0i4t64eHrU/TfrXsmA+uT9kcUnK16/AP+rVkVA8+MY/Rs9aE5wn0D8=",
          "dtype": "f8"
         }
        },
        {
         "mode": "lines+markers",
         "name": "T50Syn-TS",
         "type": "scatter",
         "visible": "legendonly",
         "x": [
          0.05,
          0.15,
          0.25,
          0.35,
          0.45,
          0.5500000000000002,
          0.6500000000000001,
          0.7500000000000002,
          0.8500000000000002,
          0.9500000000000002
         ],
         "y": {
          "bdata": "hrn+UYbLzj+/7uu+7uvOP2+vwwdJXdE/Yc6y+WdM0z+YrQz+E3PUP6ZcyqVcytU/S9z3sEJe1z85lmM5lmPZPybrS1gef9s/vdALvdAL3T8=",
          "dtype": "f8"
         }
        },
        {
         "mode": "lines+markers",
         "name": "XSyn-TS",
         "type": "scatter",
         "visible": "legendonly",
         "x": [
          0.05,
          0.15,
          0.25,
          0.35,
          0.45,
          0.5500000000000002,
          0.6500000000000001,
          0.7500000000000002,
          0.8500000000000002,
          0.9500000000000002
         ],
         "y": {
          "bdata": "AAAAAAAAAADqdBuEDrVtP39KDksX24c/TyFItYeumz9L3PewQl6nP/oG1sbTorM/sak05Nxntz9sVgCfiTPCP19Y7Cslucg/n/Zpn/Zpzz8=",
          "dtype": "f8"
         }
        },
        {
         "mode": "lines+markers",
         "name": "ACC",
         "type": "scatter",
         "visible": "legendonly",
         "x": [
          0.05,
          0.15,
          0.25,
          0.35,
          0.45,
          0.5500000000000002,
          0.6500000000000001,
          0.7500000000000002,
          0.8500000000000002,
          0.9500000000000002
         ],
         "y": {
          "bdata": "J6vljRFMxD+bD2Bn3CzEPzYbqboG+8I/NWLRXb5gwD8LFp7rkLK5P2hWChae67A/eSghrFtUrz/78Bl2Bci9P9IexOXMC8c/0mHVdNISzz8=",
          "dtype": "f8"
         }
        },
        {
         "mode": "lines+markers",
         "name": "CC",
         "type": "scatter",
         "visible": "legendonly",
         "x": [
          0.05,
          0.15,
          0.25,
          0.35,
          0.45,
          0.5500000000000002,
          0.6500000000000001,
          0.7500000000000002,
          0.8500000000000002,
          0.9500000000000002
         ],
         "y": {
          "bdata": "AAAAAAAAAADbd3NgY8V4P2OGHgf3W6E/b01mJ2zrsj8588LxEUi9P4r+TlbLG8M/QxWmGbkWxz/8pdq+mwPLP/xq91f6uc0/bw5srBhD0D8=",
          "dtype": "f8"
         }
        },
        {
         "mode": "lines+markers",
         "name": "DyS-TS",
         "type": "scatter",
         "visible": "legendonly",
         "x": [
          0.05,
          0.15,
          0.25,
          0.35,
          0.45,
          0.5500000000000002,
          0.6500000000000001,
          0.7500000000000002,
          0.8500000000000002,
          0.9500000000000002
         ],
         "y": {
          "bdata": "okW28/3UuD/pcXC/FeG8Pz3P8zzP87w/biLfEJMcuz+xqTTk3Ge3Pyw81yFlM7E/+r1kN8g7qz+x6C5fMBC6P90sNKn5AMY/TexJivYgzj8=",
          "dtype": "f8"
         }
        },
        {
         "mode": "lines+markers",
         "name": "MAX",
         "type": "scatter",
         "visible": "legendonly",
         "x": [
          0.05,
          0.15,
          0.25,
          0.35,
          0.45,
          0.5500000000000002,
          0.6500000000000001,
          0.7500000000000002,
          0.8500000000000002,
          0.9500000000000002
         ],
         "y": {
          "bdata": "7ngoIaxbxD/vbOPklT/EP23fzYGNFcM/F9W346GEwD8JbSLfEJO8PzcLTWo+gL0/wUiWO11Ewz/kXnMhaUrFP7y7u7u7u8s/MgB+9PWm0D8=",
          "dtype": "f8"
         }
        },
        {
         "mode": "lines+markers",
         "name": "MS2",
         "type": "scatter",
         "visible": "legendonly",
         "x": [
          0.05,
          0.15,
          0.25,
          0.35,
          0.45,
          0.5500000000000002,
          0.6500000000000001,
          0.7500000000000002,
          0.8500000000000002,
          0.9500000000000002
         ],
         "y": {
          "bdata": "Yt2i+nY8xD/UQR3UQR3EP23fzYGNFcM/oJQMvxn4wD/V8sYIJvq7PwSVCKgFRrI/WLu/0s9tqj/qZSuD/8S8P8eKMQSVCMg/fIp0FSQOzz8=",
          "dtype": "f8"
         }
        },
        {
         "mode": "lines+markers",
         "name": "SMM",
         "type": "scatter",
         "visible": "legendonly",
         "x": [
          0.05,
          0.15,
          0.25,
          0.35,
          0.45,
          0.5500000000000002,
          0.6500000000000001,
          0.7500000000000002,
          0.8500000000000002,
          0.9500000000000002
         ],
         "y": {
          "bdata": "Q4+D+60Ixz8dF1Os2UjFP79U23dzYMM/MgB+9PWmwD+2uBpu15+5P5f0NKHL2LE/kXe2cfLKrz8NPQ7utyK8P4EXT5XFlsY/l7U6Jngwzz8=",
          "dtype": "f8"
         }
        },
        {
         "mode": "lines+markers",
         "name": "T50",
         "type": "scatter",
         "visible": "legendonly",
         "x": [
          0.05,
          0.15,
          0.25,
          0.35,
          0.45,
          0.5500000000000002,
          0.6500000000000001,
          0.7500000000000002,
          0.8500000000000002,
          0.9500000000000002
         ],
         "y": {
          "bdata": "88YIJvo7yT9lN8g72zjJP7es1THBg8k/BVL3GAA/yj8zLxwfgdTNPxcUsl71LNM/tnkg84P31j9ftjL4T8zZPwoezBP1b9w//OTUOe+r3T8=",
          "dtype": "f8"
         }
        },
        {
         "mode": "lines+markers",
         "name": "X",
         "type": "scatter",
         "visible": "legendonly",
         "x": [
          0.05,
          0.15,
          0.25,
          0.35,
          0.45,
          0.5500000000000002,
          0.6500000000000001,
          0.7500000000000002,
          0.8500000000000002,
          0.9500000000000002
         ],
         "y": {
          "bdata": "J6vljRFMxD+3LuE7GjPEP29NZids68I/+UeeaYWowD8jWe50EQ26Pw18CGkLy64/trgabtefqT/Cf2KOTC+7Pw2z1Lv6tcY/1bfjoYSwzj8=",
          "dtype": "f8"
         }
        }
       ],
       "layout": {
        "template": {
         "data": {
          "bar": [
           {
            "error_x": {
             "color": "#2a3f5f"
            },
            "error_y": {
             "color": "#2a3f5f"
            },
            "marker": {
             "line": {
              "color": "#E5ECF6",
              "width": 0.5
             },
             "pattern": {
              "fillmode": "overlay",
              "size": 10,
              "solidity": 0.2
             }
            },
            "type": "bar"
           }
          ],
          "barpolar": [
           {
            "marker": {
             "line": {
              "color": "#E5ECF6",
              "width": 0.5
             },
             "pattern": {
              "fillmode": "overlay",
              "size": 10,
              "solidity": 0.2
             }
            },
            "type": "barpolar"
           }
          ],
          "carpet": [
           {
            "aaxis": {
             "endlinecolor": "#2a3f5f",
             "gridcolor": "white",
             "linecolor": "white",
             "minorgridcolor": "white",
             "startlinecolor": "#2a3f5f"
            },
            "baxis": {
             "endlinecolor": "#2a3f5f",
             "gridcolor": "white",
             "linecolor": "white",
             "minorgridcolor": "white",
             "startlinecolor": "#2a3f5f"
            },
            "type": "carpet"
           }
          ],
          "choropleth": [
           {
            "colorbar": {
             "outlinewidth": 0,
             "ticks": ""
            },
            "type": "choropleth"
           }
          ],
          "contour": [
           {
            "colorbar": {
             "outlinewidth": 0,
             "ticks": ""
            },
            "colorscale": [
             [
              0,
              "#0d0887"
             ],
             [
              0.1111111111111111,
              "#46039f"
             ],
             [
              0.2222222222222222,
              "#7201a8"
             ],
             [
              0.3333333333333333,
              "#9c179e"
             ],
             [
              0.4444444444444444,
              "#bd3786"
             ],
             [
              0.5555555555555556,
              "#d8576b"
             ],
             [
              0.6666666666666666,
              "#ed7953"
             ],
             [
              0.7777777777777778,
              "#fb9f3a"
             ],
             [
              0.8888888888888888,
              "#fdca26"
             ],
             [
              1,
              "#f0f921"
             ]
            ],
            "type": "contour"
           }
          ],
          "contourcarpet": [
           {
            "colorbar": {
             "outlinewidth": 0,
             "ticks": ""
            },
            "type": "contourcarpet"
           }
          ],
          "heatmap": [
           {
            "colorbar": {
             "outlinewidth": 0,
             "ticks": ""
            },
            "colorscale": [
             [
              0,
              "#0d0887"
             ],
             [
              0.1111111111111111,
              "#46039f"
             ],
             [
              0.2222222222222222,
              "#7201a8"
             ],
             [
              0.3333333333333333,
              "#9c179e"
             ],
             [
              0.4444444444444444,
              "#bd3786"
             ],
             [
              0.5555555555555556,
              "#d8576b"
             ],
             [
              0.6666666666666666,
              "#ed7953"
             ],
             [
              0.7777777777777778,
              "#fb9f3a"
             ],
             [
              0.8888888888888888,
              "#fdca26"
             ],
             [
              1,
              "#f0f921"
             ]
            ],
            "type": "heatmap"
           }
          ],
          "histogram": [
           {
            "marker": {
             "pattern": {
              "fillmode": "overlay",
              "size": 10,
              "solidity": 0.2
             }
            },
            "type": "histogram"
           }
          ],
          "histogram2d": [
           {
            "colorbar": {
             "outlinewidth": 0,
             "ticks": ""
            },
            "colorscale": [
             [
              0,
              "#0d0887"
             ],
             [
              0.1111111111111111,
              "#46039f"
             ],
             [
              0.2222222222222222,
              "#7201a8"
             ],
             [
              0.3333333333333333,
              "#9c179e"
             ],
             [
              0.4444444444444444,
              "#bd3786"
             ],
             [
              0.5555555555555556,
              "#d8576b"
             ],
             [
              0.6666666666666666,
              "#ed7953"
             ],
             [
              0.7777777777777778,
              "#fb9f3a"
             ],
             [
              0.8888888888888888,
              "#fdca26"
             ],
             [
              1,
              "#f0f921"
             ]
            ],
            "type": "histogram2d"
           }
          ],
          "histogram2dcontour": [
           {
            "colorbar": {
             "outlinewidth": 0,
             "ticks": ""
            },
            "colorscale": [
             [
              0,
              "#0d0887"
             ],
             [
              0.1111111111111111,
              "#46039f"
             ],
             [
              0.2222222222222222,
              "#7201a8"
             ],
             [
              0.3333333333333333,
              "#9c179e"
             ],
             [
              0.4444444444444444,
              "#bd3786"
             ],
             [
              0.5555555555555556,
              "#d8576b"
             ],
             [
              0.6666666666666666,
              "#ed7953"
             ],
             [
              0.7777777777777778,
              "#fb9f3a"
             ],
             [
              0.8888888888888888,
              "#fdca26"
             ],
             [
              1,
              "#f0f921"
             ]
            ],
            "type": "histogram2dcontour"
           }
          ],
          "mesh3d": [
           {
            "colorbar": {
             "outlinewidth": 0,
             "ticks": ""
            },
            "type": "mesh3d"
           }
          ],
          "parcoords": [
           {
            "line": {
             "colorbar": {
              "outlinewidth": 0,
              "ticks": ""
             }
            },
            "type": "parcoords"
           }
          ],
          "pie": [
           {
            "automargin": true,
            "type": "pie"
           }
          ],
          "scatter": [
           {
            "fillpattern": {
             "fillmode": "overlay",
             "size": 10,
             "solidity": 0.2
            },
            "type": "scatter"
           }
          ],
          "scatter3d": [
           {
            "line": {
             "colorbar": {
              "outlinewidth": 0,
              "ticks": ""
             }
            },
            "marker": {
             "colorbar": {
              "outlinewidth": 0,
              "ticks": ""
             }
            },
            "type": "scatter3d"
           }
          ],
          "scattercarpet": [
           {
            "marker": {
             "colorbar": {
              "outlinewidth": 0,
              "ticks": ""
             }
            },
            "type": "scattercarpet"
           }
          ],
          "scattergeo": [
           {
            "marker": {
             "colorbar": {
              "outlinewidth": 0,
              "ticks": ""
             }
            },
            "type": "scattergeo"
           }
          ],
          "scattergl": [
           {
            "marker": {
             "colorbar": {
              "outlinewidth": 0,
              "ticks": ""
             }
            },
            "type": "scattergl"
           }
          ],
          "scattermap": [
           {
            "marker": {
             "colorbar": {
              "outlinewidth": 0,
              "ticks": ""
             }
            },
            "type": "scattermap"
           }
          ],
          "scattermapbox": [
           {
            "marker": {
             "colorbar": {
              "outlinewidth": 0,
              "ticks": ""
             }
            },
            "type": "scattermapbox"
           }
          ],
          "scatterpolar": [
           {
            "marker": {
             "colorbar": {
              "outlinewidth": 0,
              "ticks": ""
             }
            },
            "type": "scatterpolar"
           }
          ],
          "scatterpolargl": [
           {
            "marker": {
             "colorbar": {
              "outlinewidth": 0,
              "ticks": ""
             }
            },
            "type": "scatterpolargl"
           }
          ],
          "scatterternary": [
           {
            "marker": {
             "colorbar": {
              "outlinewidth": 0,
              "ticks": ""
             }
            },
            "type": "scatterternary"
           }
          ],
          "surface": [
           {
            "colorbar": {
             "outlinewidth": 0,
             "ticks": ""
            },
            "colorscale": [
             [
              0,
              "#0d0887"
             ],
             [
              0.1111111111111111,
              "#46039f"
             ],
             [
              0.2222222222222222,
              "#7201a8"
             ],
             [
              0.3333333333333333,
              "#9c179e"
             ],
             [
              0.4444444444444444,
              "#bd3786"
             ],
             [
              0.5555555555555556,
              "#d8576b"
             ],
             [
              0.6666666666666666,
              "#ed7953"
             ],
             [
              0.7777777777777778,
              "#fb9f3a"
             ],
             [
              0.8888888888888888,
              "#fdca26"
             ],
             [
              1,
              "#f0f921"
             ]
            ],
            "type": "surface"
           }
          ],
          "table": [
           {
            "cells": {
             "fill": {
              "color": "#EBF0F8"
             },
             "line": {
              "color": "white"
             }
            },
            "header": {
             "fill": {
              "color": "#C8D4E3"
             },
             "line": {
              "color": "white"
             }
            },
            "type": "table"
           }
          ]
         },
         "layout": {
          "annotationdefaults": {
           "arrowcolor": "#2a3f5f",
           "arrowhead": 0,
           "arrowwidth": 1
          },
          "autotypenumbers": "strict",
          "coloraxis": {
           "colorbar": {
            "outlinewidth": 0,
            "ticks": ""
           }
          },
          "colorscale": {
           "diverging": [
            [
             0,
             "#8e0152"
            ],
            [
             0.1,
             "#c51b7d"
            ],
            [
             0.2,
             "#de77ae"
            ],
            [
             0.3,
             "#f1b6da"
            ],
            [
             0.4,
             "#fde0ef"
            ],
            [
             0.5,
             "#f7f7f7"
            ],
            [
             0.6,
             "#e6f5d0"
            ],
            [
             0.7,
             "#b8e186"
            ],
            [
             0.8,
             "#7fbc41"
            ],
            [
             0.9,
             "#4d9221"
            ],
            [
             1,
             "#276419"
            ]
           ],
           "sequential": [
            [
             0,
             "#0d0887"
            ],
            [
             0.1111111111111111,
             "#46039f"
            ],
            [
             0.2222222222222222,
             "#7201a8"
            ],
            [
             0.3333333333333333,
             "#9c179e"
            ],
            [
             0.4444444444444444,
             "#bd3786"
            ],
            [
             0.5555555555555556,
             "#d8576b"
            ],
            [
             0.6666666666666666,
             "#ed7953"
            ],
            [
             0.7777777777777778,
             "#fb9f3a"
            ],
            [
             0.8888888888888888,
             "#fdca26"
            ],
            [
             1,
             "#f0f921"
            ]
           ],
           "sequentialminus": [
            [
             0,
             "#0d0887"
            ],
            [
             0.1111111111111111,
             "#46039f"
            ],
            [
             0.2222222222222222,
             "#7201a8"
            ],
            [
             0.3333333333333333,
             "#9c179e"
            ],
            [
             0.4444444444444444,
             "#bd3786"
            ],
            [
             0.5555555555555556,
             "#d8576b"
            ],
            [
             0.6666666666666666,
             "#ed7953"
            ],
            [
             0.7777777777777778,
             "#fb9f3a"
            ],
            [
             0.8888888888888888,
             "#fdca26"
            ],
            [
             1,
             "#f0f921"
            ]
           ]
          },
          "colorway": [
           "#636efa",
           "#EF553B",
           "#00cc96",
           "#ab63fa",
           "#FFA15A",
           "#19d3f3",
           "#FF6692",
           "#B6E880",
           "#FF97FF",
           "#FECB52"
          ],
          "font": {
           "color": "#2a3f5f"
          },
          "geo": {
           "bgcolor": "white",
           "lakecolor": "white",
           "landcolor": "#E5ECF6",
           "showlakes": true,
           "showland": true,
           "subunitcolor": "white"
          },
          "hoverlabel": {
           "align": "left"
          },
          "hovermode": "closest",
          "mapbox": {
           "style": "light"
          },
          "paper_bgcolor": "white",
          "plot_bgcolor": "#E5ECF6",
          "polar": {
           "angularaxis": {
            "gridcolor": "white",
            "linecolor": "white",
            "ticks": ""
           },
           "bgcolor": "#E5ECF6",
           "radialaxis": {
            "gridcolor": "white",
            "linecolor": "white",
            "ticks": ""
           }
          },
          "scene": {
           "xaxis": {
            "backgroundcolor": "#E5ECF6",
            "gridcolor": "white",
            "gridwidth": 2,
            "linecolor": "white",
            "showbackground": true,
            "ticks": "",
            "zerolinecolor": "white"
           },
           "yaxis": {
            "backgroundcolor": "#E5ECF6",
            "gridcolor": "white",
            "gridwidth": 2,
            "linecolor": "white",
            "showbackground": true,
            "ticks": "",
            "zerolinecolor": "white"
           },
           "zaxis": {
            "backgroundcolor": "#E5ECF6",
            "gridcolor": "white",
            "gridwidth": 2,
            "linecolor": "white",
            "showbackground": true,
            "ticks": "",
            "zerolinecolor": "white"
           }
          },
          "shapedefaults": {
           "line": {
            "color": "#2a3f5f"
           }
          },
          "ternary": {
           "aaxis": {
            "gridcolor": "white",
            "linecolor": "white",
            "ticks": ""
           },
           "baxis": {
            "gridcolor": "white",
            "linecolor": "white",
            "ticks": ""
           },
           "bgcolor": "#E5ECF6",
           "caxis": {
            "gridcolor": "white",
            "linecolor": "white",
            "ticks": ""
           }
          },
          "title": {
           "x": 0.05
          },
          "xaxis": {
           "automargin": true,
           "gridcolor": "white",
           "linecolor": "white",
           "ticks": "",
           "title": {
            "standoff": 15
           },
           "zerolinecolor": "white",
           "zerolinewidth": 2
          },
          "yaxis": {
           "automargin": true,
           "gridcolor": "white",
           "linecolor": "white",
           "ticks": "",
           "title": {
            "standoff": 15
           },
           "zerolinecolor": "white",
           "zerolinewidth": 2
          }
         }
        },
        "title": {
         "text": "MAE vs MFte for MFtr = 0.65"
        },
        "xaxis": {
         "title": {
          "text": "MFte"
         }
        },
        "yaxis": {
         "title": {
          "text": "MAE"
         }
        }
       }
      }
     },
     "metadata": {},
     "output_type": "display_data"
    },
    {
     "data": {
      "application/vnd.jupyter.widget-view+json": {
       "model_id": "cd1f9366a50e41b7aae16514947900da",
       "version_major": 2,
       "version_minor": 0
      },
      "text/plain": [
       "Dropdown(description='MFtr:', index=6, options=(0.05, 0.15, 0.25, 0.35, 0.45, 0.55, 0.65, 0.75, 0.85, 0.95, '0…"
      ]
     },
     "metadata": {},
     "output_type": "display_data"
    }
   ],
   "source": [
    "line_plot(grouped)"
   ]
  }
 ],
 "metadata": {
  "kernelspec": {
   "display_name": "venv",
   "language": "python",
   "name": "python3"
  },
  "language_info": {
   "codemirror_mode": {
    "name": "ipython",
    "version": 3
   },
   "file_extension": ".py",
   "mimetype": "text/x-python",
   "name": "python",
   "nbconvert_exporter": "python",
   "pygments_lexer": "ipython3",
   "version": "3.11.2"
  }
 },
 "nbformat": 4,
 "nbformat_minor": 2
}
